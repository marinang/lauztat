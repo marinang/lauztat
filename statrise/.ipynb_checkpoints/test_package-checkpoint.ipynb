{
 "cells": [
  {
   "cell_type": "code",
   "execution_count": 1,
   "metadata": {},
   "outputs": [],
   "source": [
    " class Animal:\n",
    "    def __init__(self, animalName):\n",
    "        print(animalName, 'is an animal.');"
   ]
  },
  {
   "cell_type": "code",
   "execution_count": 3,
   "metadata": {},
   "outputs": [],
   "source": [
    "class Mammal(Animal):\n",
    "    def __init__(self, mammalName):\n",
    "        print(mammalName, 'is a warm-blooded animal.')\n",
    "        super().__init__(mammalName)"
   ]
  },
  {
   "cell_type": "code",
   "execution_count": 4,
   "metadata": {},
   "outputs": [],
   "source": [
    "class NonWingedMammal(Mammal):\n",
    "    def __init__(self, NonWingedMammalName):\n",
    "        print(NonWingedMammalName, \"can't fly.\")\n",
    "        super().__init__(NonWingedMammalName)"
   ]
  },
  {
   "cell_type": "code",
   "execution_count": 6,
   "metadata": {},
   "outputs": [],
   "source": [
    "class NonMarineMammal(Mammal):\n",
    "    def __init__(self, NonMarineMammalName):\n",
    "        ret = NonMarineMammalName + \" can't swimm\"\n",
    "        print(ret)\n",
    "        super().__init__(ret)"
   ]
  },
  {
   "cell_type": "code",
   "execution_count": 10,
   "metadata": {},
   "outputs": [],
   "source": [
    "class Dog(NonMarineMammal, NonWingedMammal):\n",
    "    def __init__(self):\n",
    "        ret = 'Dog has 4 legs,'\n",
    "        print(ret);\n",
    "        super().__init__(ret)"
   ]
  },
  {
   "cell_type": "code",
   "execution_count": 11,
   "metadata": {},
   "outputs": [
    {
     "name": "stdout",
     "output_type": "stream",
     "text": [
      "Dog has 4 legs,\n",
      "Dog has 4 legs, can't swim.\n",
      "Dog has 4 legs, can't fly.\n",
      "Dog has 4 legs, is a warm-blooded animal.\n",
      "Dog has 4 legs, is an animal.\n"
     ]
    }
   ],
   "source": [
    "d = Dog()"
   ]
  },
  {
   "cell_type": "code",
   "execution_count": null,
   "metadata": {},
   "outputs": [],
   "source": []
  }
 ],
 "metadata": {
  "kernelspec": {
   "display_name": "Python 3",
   "language": "python",
   "name": "python3"
  },
  "language_info": {
   "codemirror_mode": {
    "name": "ipython",
    "version": 3
   },
   "file_extension": ".py",
   "mimetype": "text/x-python",
   "name": "python",
   "nbconvert_exporter": "python",
   "pygments_lexer": "ipython3",
   "version": "3.7.0"
  }
 },
 "nbformat": 4,
 "nbformat_minor": 2
}
