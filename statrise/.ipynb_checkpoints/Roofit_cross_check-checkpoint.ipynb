{
 "cells": [
  {
   "cell_type": "code",
   "execution_count": 1,
   "metadata": {},
   "outputs": [
    {
     "name": "stdout",
     "output_type": "stream",
     "text": [
      "Welcome to JupyROOT 6.14/00\n"
     ]
    },
    {
     "name": "stderr",
     "output_type": "stream",
     "text": [
      "/usr/local/Cellar/python/3.7.0/Frameworks/Python.framework/Versions/3.7/lib/python3.7/inspect.py:341: RuntimeWarning: creating converter for unknown type \"_Atomic(bool)\"\n",
      "  value = getattr(object, key)\n"
     ]
    }
   ],
   "source": [
    "import numpy as np\n",
    "import matplotlib.pyplot as plt\n",
    "from skhep.dataset.numpydataset import *\n",
    "import uproot\n",
    "from skhep.dataset.selection import Selection\n",
    "import ROOT\n",
    "from Utilities.utilities import destruct_objects\n",
    "from Utilities.RooFit import RooDataset, RemoveEmptyBins\n",
    "from PyLHCb.Root.RooFitUtils import ResidualPlot"
   ]
  },
  {
   "cell_type": "code",
   "execution_count": 2,
   "metadata": {},
   "outputs": [],
   "source": [
    "# Proxies for RooFit classes\n",
    "RooFit        = ROOT.RooFit\n",
    "RooRealVar    = ROOT.RooRealVar\n",
    "RooArgList    = ROOT.RooArgList\n",
    "RooArgSet     = ROOT.RooArgSet\n",
    "RooDataSet    = ROOT.RooDataSet\n",
    "RooAddPdf     = ROOT.RooAddPdf\n",
    "RooExtendPdf  = ROOT.RooExtendPdf\n",
    "RooConst      = ROOT.RooFit.RooConst\n",
    "RooConst      = ROOT.RooFit.RooConst\n",
    "RooExponential= ROOT.RooExponential\n",
    "RooStats      = ROOT.RooStats\n",
    "RooGaussian   = ROOT.RooGaussian\n",
    "RooWorkspace  = ROOT.RooWorkspace\n",
    "RooWorkspace.rfimport = getattr(RooWorkspace,'import')"
   ]
  },
  {
   "cell_type": "code",
   "execution_count": 3,
   "metadata": {},
   "outputs": [
    {
     "data": {
      "image/png": "[encoded data removed]",
      "text/plain": [
       "<Figure size 432x288 with 1 Axes>"
      ]
     },
     "metadata": {},
     "output_type": "display_data"
    }
   ],
   "source": [
    "np.random.seed(0)\n",
    "tau = -2.0\n",
    "beta = -1/tau\n",
    "data = np.random.exponential(beta, 300)\n",
    "peak = np.random.normal(1.2, 0.1, 4)\n",
    "data = np.concatenate((data,peak))\n",
    "data = data[(data > 0.1) & (data < 3)]\n",
    "\n",
    "plt.hist(data, bins=100, histtype='step');"
   ]
  },
  {
   "cell_type": "code",
   "execution_count": 4,
   "metadata": {},
   "outputs": [
    {
     "data": {
      "text/plain": [
       "False"
      ]
     },
     "execution_count": 4,
     "metadata": {},
     "output_type": "execute_result"
    },
    {
     "name": "stdout",
     "output_type": "stream",
     "text": [
      "[#1] INFO:ObjectHandling -- RooWorkspace::import(ws) importing RooRealVar::x\n"
     ]
    }
   ],
   "source": [
    "ws = RooWorkspace(\"ws\")\n",
    "x = RooRealVar(\"x\",\"x\",0.1,3.0)\n",
    "ws.rfimport(x)"
   ]
  },
  {
   "cell_type": "code",
   "execution_count": 5,
   "metadata": {},
   "outputs": [
    {
     "name": "stdout",
     "output_type": "stream",
     "text": [
      "DataStore data (data)\n",
      "  Contains 250 entries\n",
      "  Observables: \n",
      "    1)  x = 1.17621  L(0.1 - 3)  \"x\"\n",
      "[#1] INFO:ObjectHandling -- RooWorkspace::import(ws) importing dataset data\n"
     ]
    }
   ],
   "source": [
    "roodataset = RooDataset( \"data\", x) \n",
    "roodataset.fill( data )\n",
    "roodataset.Print('v')\n",
    "roodataset.to_wspace( ws )"
   ]
  },
  {
   "cell_type": "code",
   "execution_count": 6,
   "metadata": {},
   "outputs": [
    {
     "data": {
      "text/plain": [
       "False"
      ]
     },
     "execution_count": 6,
     "metadata": {},
     "output_type": "execute_result"
    },
    {
     "name": "stdout",
     "output_type": "stream",
     "text": [
      "[#1] INFO:ObjectHandling -- RooWorkspace::import(ws) importing RooAddPdf::totpdf\n",
      "[#1] INFO:ObjectHandling -- RooWorkspace::import(ws) importing RooExtendPdf::gauss_norm\n",
      "[#1] INFO:ObjectHandling -- RooWorkspace::import(ws) importing RooGaussian::signal\n",
      "[#1] INFO:ObjectHandling -- RooWorkspace::import(ws) importing RooConstVar::1.2\n",
      "[#1] INFO:ObjectHandling -- RooWorkspace::import(ws) importing RooConstVar::0.1\n",
      "[#1] INFO:ObjectHandling -- RooWorkspace::import(ws) importing RooRealVar::nsig\n",
      "[#1] INFO:ObjectHandling -- RooWorkspace::import(ws) importing RooExtendPdf::exp_norm\n",
      "[#1] INFO:ObjectHandling -- RooWorkspace::import(ws) importing RooExponential::bkg\n",
      "[#1] INFO:ObjectHandling -- RooWorkspace::import(ws) importing RooRealVar::tau\n",
      "[#1] INFO:ObjectHandling -- RooWorkspace::import(ws) importing RooRealVar::nbkg\n"
     ]
    }
   ],
   "source": [
    "### signal\n",
    "mean = RooConst(1.2)\n",
    "sigma = RooConst(0.1)\n",
    "gauss = RooGaussian(\"signal\",\"signal\", x, mean, sigma)\n",
    "nsig  = RooRealVar(\"nsig\", \"nsig\", 0, -10, len((data)))\n",
    "gauss_norm = RooExtendPdf(\"gauss_norm\", \"gauss_norm\", gauss, nsig)\n",
    "\n",
    "### background\n",
    "tau = RooRealVar(\"tau\", \"tau\", -0.5, -5, -0.1)\n",
    "exp = RooExponential(\"bkg\",\"bkg\", x, tau)\n",
    "nbkg  = RooRealVar(\"nbkg\", \"nbkg\", len(data), 0, len((data))*1.1)\n",
    "exp_norm = RooExtendPdf(\"exp_norm\", \"exp_norm\", exp, nbkg)\n",
    "\n",
    "### total\n",
    "totpdf = RooAddPdf(\"totpdf\",\"totpdf\",RooArgList(gauss_norm,exp_norm))\n",
    "\n",
    "ws.rfimport(totpdf)"
   ]
  },
  {
   "cell_type": "code",
   "execution_count": 7,
   "metadata": {},
   "outputs": [
    {
     "name": "stdout",
     "output_type": "stream",
     "text": [
      "\n",
      "RooWorkspace(ws) ws contents\n",
      "\n",
      "variables\n",
      "---------\n",
      "(nbkg,nsig,tau,x)\n",
      "\n",
      "p.d.f.s\n",
      "-------\n",
      "RooExponential::bkg[ x=x c=tau ] = 0.460704\n",
      "RooExtendPdf::exp_norm[ pdf=bkg n=nbkg ] = 0.460704\n",
      "RooExtendPdf::gauss_norm[ pdf=signal n=nsig ] = 0.00218749\n",
      "RooGaussian::signal[ x=x mean=1.2 sigma=0.1 ] = 0.00218749\n",
      "RooAddPdf::totpdf[ gauss_norm + exp_norm ] = 0.460704\n",
      "\n",
      "datasets\n",
      "--------\n",
      "RooDataSet::data(x)\n",
      "\n"
     ]
    }
   ],
   "source": [
    "ws.Print('V')"
   ]
  },
  {
   "cell_type": "code",
   "execution_count": 8,
   "metadata": {},
   "outputs": [
    {
     "name": "stdout",
     "output_type": "stream",
     "text": [
      "[#1] INFO:Minization -- RooMinimizer::optimizeConst: activating const optimization\n",
      "[#1] INFO:Minization --  The following expressions have been identified as constant and will be precalculated and cached: (signal)\n",
      "[#1] INFO:Minization --  The following expressions will be evaluated in cache-and-track mode: (gauss_norm,exp_norm)\n",
      " **********\n",
      " **    1 **SET PRINT           1\n",
      " **********\n",
      " **********\n",
      " **    2 **SET NOGRAD\n",
      " **********\n",
      " PARAMETER DEFINITIONS:\n",
      "    NO.   NAME         VALUE      STEP SIZE      LIMITS\n",
      "     1 nbkg         2.50000e+02  1.25000e+01    0.00000e+00  2.75000e+02\n",
      "     2 nsig         0.00000e+00  5.00000e+00   -1.00000e+01  2.50000e+02\n",
      "     3 tau         -5.00000e-01  2.00000e-01   -5.00000e+00 -1.00000e-01\n",
      " **********\n",
      " **    3 **SET ERR         0.5\n",
      " **********\n",
      " **********\n",
      " **    4 **SET PRINT           1\n",
      " **********\n",
      " **********\n",
      " **    5 **SET STR           1\n",
      " **********\n",
      " NOW USING STRATEGY  1: TRY TO BALANCE SPEED AGAINST RELIABILITY\n",
      " **********\n",
      " **    6 **MIGRAD        1500           1\n",
      " **********\n",
      " FIRST CALL TO USER FUNCTION AT NEW START POINT, WITH IFLAG=4.\n",
      " START MIGRAD MINIMIZATION.  STRATEGY  1.  CONVERGENCE WHEN EDM .LT. 1.00e-03\n",
      " FCN=-1052.18 FROM MIGRAD    STATUS=INITIATE       27 CALLS          28 TOTAL\n",
      "                     EDM= unknown      STRATEGY= 1      NO ERROR MATRIX       \n",
      "  EXT PARAMETER               CURRENT GUESS       STEP         FIRST   \n",
      "  NO.   NAME      VALUE            ERROR          SIZE      DERIVATIVE \n",
      "   1  nbkg         2.50000e+02   1.25000e+01   0.00000e+00  -4.10054e-04\n",
      "   2  nsig        -7.10543e-15   5.00000e+00   0.00000e+00   2.85901e+00\n",
      "   3  tau         -1.94662e+00   2.00000e-01  -7.42454e-01  -7.33424e-01\n",
      "                               ERR DEF= 0.5\n",
      " MIGRAD MINIMIZATION HAS CONVERGED.\n",
      " MIGRAD WILL VERIFY CONVERGENCE AND ERROR MATRIX.\n",
      " COVARIANCE MATRIX CALCULATED SUCCESSFULLY\n",
      " FCN=-1052.23 FROM MIGRAD    STATUS=CONVERGED      72 CALLS          73 TOTAL\n",
      "                     EDM=1.23952e-07    STRATEGY= 1      ERROR MATRIX ACCURATE \n",
      "  EXT PARAMETER                                   STEP         FIRST   \n",
      "  NO.   NAME      VALUE            ERROR          SIZE      DERIVATIVE \n",
      "   1  nbkg         2.51618e+02   1.65431e+01   4.59962e-03  -1.35451e-03\n",
      "   2  nsig        -1.62213e+00   5.01411e+00   2.16359e-03   1.22445e-03\n",
      "   3  tau         -1.92510e+00   1.38842e-01   1.21582e-03   8.28513e-04\n",
      "                               ERR DEF= 0.5\n",
      " EXTERNAL ERROR MATRIX.    NDIM=  25    NPAR=  3    ERR DEF=0.5\n",
      "  2.780e+02 -2.666e+01  2.624e-01 \n",
      " -2.666e+01  2.524e+01 -2.645e-01 \n",
      "  2.624e-01 -2.645e-01  1.930e-02 \n",
      " PARAMETER  CORRELATION COEFFICIENTS  \n",
      "       NO.  GLOBAL      1      2      3\n",
      "        1  0.31838   1.000 -0.318  0.113\n",
      "        2  0.46948  -0.318  1.000 -0.379\n",
      "        3  0.37904   0.113 -0.379  1.000\n",
      " **********\n",
      " **    7 **SET ERR         0.5\n",
      " **********\n",
      " **********\n",
      " **    8 **SET PRINT           1\n",
      " **********\n",
      " **********\n",
      " **    9 **HESSE        1500\n",
      " **********\n",
      " COVARIANCE MATRIX CALCULATED SUCCESSFULLY\n",
      " FCN=-1052.23 FROM HESSE     STATUS=OK             16 CALLS          89 TOTAL\n",
      "                     EDM=1.24217e-07    STRATEGY= 1      ERROR MATRIX ACCURATE \n",
      "  EXT PARAMETER                                INTERNAL      INTERNAL  \n",
      "  NO.   NAME      VALUE            ERROR       STEP SIZE       VALUE   \n",
      "   1  nbkg         2.51618e+02   1.65571e+01   1.83985e-04   9.79012e-01\n",
      "   2  nsig        -1.62213e+00   5.02133e+00   8.65437e-05  -1.20983e+00\n",
      "   3  tau         -1.92510e+00   1.38948e-01   4.86329e-05   2.57909e-01\n",
      "                               ERR DEF= 0.5\n",
      " EXTERNAL ERROR MATRIX.    NDIM=  25    NPAR=  3    ERR DEF=0.5\n",
      "  2.785e+02 -2.693e+01  2.662e-01 \n",
      " -2.693e+01  2.531e+01 -2.663e-01 \n",
      "  2.662e-01 -2.663e-01  1.933e-02 \n",
      " PARAMETER  CORRELATION COEFFICIENTS  \n",
      "       NO.  GLOBAL      1      2      3\n",
      "        1  0.32077   1.000 -0.321  0.115\n",
      "        2  0.47188  -0.321  1.000 -0.381\n",
      "        3  0.38076   0.115 -0.381  1.000\n",
      "[#1] INFO:Minization -- RooMinimizer::optimizeConst: deactivating const optimization\n"
     ]
    }
   ],
   "source": [
    "dataset = ws.data(\"data\")\n",
    "fitResult = totpdf.fitTo( dataset, ROOT.RooFit.Extended(), ROOT.RooFit.Minos(ROOT.kFALSE), ROOT.RooFit.Save(ROOT.kTRUE) )"
   ]
  },
  {
   "cell_type": "code",
   "execution_count": 9,
   "metadata": {},
   "outputs": [
    {
     "data": {
      "image/png": "[encoded data removed]",
      "text/plain": [
       "<IPython.core.display.Image object>"
      ]
     },
     "metadata": {},
     "output_type": "display_data"
    }
   ],
   "source": [
    "c = ROOT.TCanvas()\n",
    "frame = x.frame(50)\n",
    "dataset.plotOn( frame, ROOT.RooFit.Name('data_print'))\n",
    "RemoveEmptyBins( frame, 'data_print')\n",
    "totpdf.plotOn( frame, ROOT.RooFit.Name('model_print'))\n",
    "frame.Draw()\n",
    "Plot = ResidualPlot('title1', frame)\n",
    "Plot.addResidual( 'data_print', 'model_print', 0.1, 3.0)\n",
    "Plot.plot()\n",
    "Plot.canvas.GetListOfPrimitives().At(0).cd()\n",
    "c.Draw()"
   ]
  },
  {
   "cell_type": "code",
   "execution_count": 10,
   "metadata": {},
   "outputs": [
    {
     "data": {
      "text/plain": [
       "False"
      ]
     },
     "execution_count": 10,
     "metadata": {},
     "output_type": "execute_result"
    }
   ],
   "source": [
    "ws.defineSet('POI', \"nsig\")\n",
    "ws.defineSet('OBS', 'x')\n",
    "ws.defineSet('NUI', 'nbkg,tau')\n",
    "\n",
    "conf = RooStats.ModelConfig('model', ws)\n",
    "conf.SetPdf(ws.pdf('totpdf'))\n",
    "conf.SetParametersOfInterest(ws.set('POI'))\n",
    "conf.SetObservables(ws.set('OBS'))\n",
    "conf.SetNuisanceParameters(ws.set('NUI'))\n",
    "\n",
    "POI = ws.set('POI')\n",
    "    \n",
    "poi = POI.first()\n",
    "\n",
    "    \n",
    "#S+B model\n",
    "model_sb = conf\n",
    "model_sb.SetName(\"MODEL_SB\")\n",
    "poi.setVal(35)\n",
    "model_sb.SetSnapshot(RooArgSet(poi))\n",
    "    \n",
    "#BKG only \n",
    "model_b = conf.Clone()\n",
    "model_b.SetName(\"MODEL_B\")\n",
    "oldval = poi.getVal()\n",
    "poi.setVal(0)\n",
    "model_b.SetSnapshot( RooArgSet(poi) )\n",
    "\n",
    "#poi.setVal(oldval)\n",
    "    \n",
    "ws.rfimport(model_sb)\n",
    "ws.rfimport(model_b)"
   ]
  },
  {
   "cell_type": "code",
   "execution_count": 11,
   "metadata": {},
   "outputs": [
    {
     "name": "stderr",
     "output_type": "stream",
     "text": [
      "WARNING:ROOT.TROOT.Append] Replacing existing TH1: CLs_observed (Potential memory leak).\n",
      "WARNING:ROOT.TROOT.Append] Replacing existing TH1: CLb_observed (Potential memory leak).\n",
      "WARNING:ROOT.TROOT.Append] Replacing existing TH1: CLs+b_observed (Potential memory leak).\n"
     ]
    },
    {
     "name": "stdout",
     "output_type": "stream",
     "text": [
      "RooDataSet::data[x] = 250 entries\n",
      "\n",
      "=== Using the following for MODEL_B ===\n",
      "Observables:             RooArgSet:: = (x)\n",
      "Parameters of Interest:  RooArgSet:: = (nsig)\n",
      "Nuisance Parameters:     RooArgSet:: = (nbkg,tau)\n",
      "PDF:                     RooAddPdf::totpdf[ gauss_norm + exp_norm ] = 0.460704\n",
      "Snapshot:                \n",
      "  1) 0x7fb784ac6950 RooRealVar:: nsig = 0  L(-10 - 250)  \"nsig\"\n",
      "\n",
      "\n",
      "=== Using the following for MODEL_SB ===\n",
      "Observables:             RooArgSet:: = (x)\n",
      "Parameters of Interest:  RooArgSet:: = (nsig)\n",
      "Nuisance Parameters:     RooArgSet:: = (nbkg,tau)\n",
      "PDF:                     RooAddPdf::totpdf[ gauss_norm + exp_norm ] = 0.460704\n",
      "Snapshot:                \n",
      "  1) 0x7fb784ac6920 RooRealVar:: nsig = 35  L(-10 - 250)  \"nsig\"\n",
      "\n",
      "[#0] PROGRESS:Eval -- AsymptoticCalculator::Initialize....\n",
      "[#0] PROGRESS:Eval -- AsymptoticCalculator::Initialize - Find  best unconditional NLL on observed data\n",
      "AsymptoticCalculator::EvaluateNLL  ........ using Minuit / Migrad with strategy  1 and tolerance 1\n",
      " **********\n",
      " **   10 **SET PRINT           0\n",
      " **********\n",
      " **********\n",
      " **   11 **SET NOGRAD\n",
      " **********\n",
      " PARAMETER DEFINITIONS:\n",
      "    NO.   NAME         VALUE      STEP SIZE      LIMITS\n",
      "     1 nbkg         2.50000e+02  1.25000e+01    0.00000e+00  2.75000e+02\n",
      "     2 nsig         0.00000e+00  5.00000e+00   -1.00000e+01  2.50000e+02\n",
      "     3 tau         -5.00000e-01  2.00000e-01   -5.00000e+00 -1.00000e-01\n",
      " **********\n",
      " **   12 **SET ERR         0.5\n",
      " **********\n",
      " **********\n",
      " **   13 **SET PRINT           0\n",
      " **********\n",
      " **********\n",
      " **   14 **SET STR           1\n",
      " **********\n",
      " **********\n",
      " **   15 **MIGRAD        1500           1\n",
      " **********\n",
      " MIGRAD MINIMIZATION HAS CONVERGED.\n",
      " MIGRAD WILL VERIFY CONVERGENCE AND ERROR MATRIX.\n",
      " FCN=-1052.23 FROM MIGRAD    STATUS=CONVERGED      65 CALLS          66 TOTAL\n",
      "                     EDM=6.92908e-07    STRATEGY= 1      ERROR MATRIX ACCURATE \n",
      "  EXT PARAMETER                                   STEP         FIRST   \n",
      "  NO.   NAME      VALUE            ERROR          SIZE      DERIVATIVE \n",
      "   1  nbkg         2.51614e+02   1.65427e+01   4.61591e-03  -1.72086e-03\n",
      "   2  nsig        -1.62004e+00   5.01419e+00   2.16267e-03   2.99812e-03\n",
      "   3  tau         -1.92519e+00   1.38847e-01   1.21596e-03  -7.87568e-03\n",
      "                               ERR DEF= 0.5\n",
      "AsymptoticCalculator::EvaluateNLL -  value = -1052.23\tfit time : Real time 0:00:00, CP time 0.010\n",
      "[#0] PROGRESS:Eval -- Best fitted POI value = -1.62004 +/- 5.01419\n",
      "[#0] PROGRESS:Eval -- AsymptoticCalculator: Building Asimov data Set\n",
      "[#1] INFO:InputArguments -- AsymptoticCalculator: Asimov data will be generated using fitted nuisance parameter values\n",
      "MakeAsimov: Setting poi nsig to a constant value = 35\n",
      "MakeAsimov: doing a conditional fit for finding best nuisance values \n",
      " **********\n",
      " **    1 **SET PRINT           0\n",
      " **********\n",
      " **********\n",
      " **    2 **SET NOGRAD\n",
      " **********\n",
      " PARAMETER DEFINITIONS:\n",
      "    NO.   NAME         VALUE      STEP SIZE      LIMITS\n",
      "     1 nbkg         2.51614e+02  1.65427e+01    0.00000e+00  2.75000e+02\n",
      "     2 tau         -1.92519e+00  1.38847e-01   -5.00000e+00 -1.00000e-01\n",
      " **********\n",
      " **    3 **SET ERR         0.5\n",
      " **********\n",
      " **********\n",
      " **    4 **SET PRINT           0\n",
      " **********\n",
      " **********\n",
      " **    5 **SET STR           1\n",
      " **********\n",
      " **********\n",
      " **    6 **MIGRAD        1000           1\n",
      " **********\n",
      " MIGRAD MINIMIZATION HAS CONVERGED.\n",
      " MIGRAD WILL VERIFY CONVERGENCE AND ERROR MATRIX.\n",
      " FCN=-1038.59 FROM MIGRAD    STATUS=CONVERGED      36 CALLS          37 TOTAL\n",
      "                     EDM=6.80767e-06    STRATEGY= 1      ERROR MATRIX ACCURATE \n",
      "  EXT PARAMETER                                   STEP         FIRST   \n",
      "  NO.   NAME      VALUE            ERROR          SIZE      DERIVATIVE \n",
      "   1  nbkg         2.35056e+02   1.55063e+01   3.65699e-03   1.02615e-02\n",
      "   2  tau         -2.11272e+00   1.48222e-01   1.36346e-03  -3.39816e-02\n",
      "                               ERR DEF= 0.5\n",
      "fit time Real time 0:00:00, CP time 0.000\n",
      "RooDataSet::AsimovData[x,weight:binWeightAsimov] = 100 entries (270.019 weighted)\n",
      "Generated Asimov data for observables RooArgSet:: = (x)\n",
      "[#0] PROGRESS:Eval -- AsymptoticCalculator::Initialize Find  best conditional NLL on ASIMOV data set for given alt POI ( nsig ) = 35\n",
      "AsymptoticCalculator::EvaluateNLL  ........ using Minuit / Migrad with strategy  1 and tolerance 1\n",
      " **********\n",
      " **    7 **SET PRINT           0\n",
      " **********\n",
      " **********\n",
      " **    8 **SET NOGRAD\n",
      " **********\n",
      " PARAMETER DEFINITIONS:\n",
      "    NO.   NAME         VALUE      STEP SIZE      LIMITS\n",
      "     1 nbkg         2.35056e+02  1.55063e+01    0.00000e+00  2.75000e+02\n",
      "     2 tau         -2.11272e+00  1.48222e-01   -5.00000e+00 -1.00000e-01\n",
      " **********\n",
      " **    9 **SET ERR         0.5\n",
      " **********\n",
      " **********\n",
      " **   10 **SET PRINT           0\n",
      " **********\n",
      " **********\n",
      " **   11 **SET STR           1\n",
      " **********\n",
      " **********\n",
      " **   12 **MIGRAD        1000           1\n",
      " **********\n",
      " MIGRAD MINIMIZATION HAS CONVERGED.\n",
      " MIGRAD WILL VERIFY CONVERGENCE AND ERROR MATRIX.\n",
      " FCN=-1150.71 FROM MIGRAD    STATUS=CONVERGED      23 CALLS          24 TOTAL\n",
      "                     EDM=1.65429e-07    STRATEGY= 1      ERROR MATRIX ACCURATE \n",
      "  EXT PARAMETER                                   STEP         FIRST   \n",
      "  NO.   NAME      VALUE            ERROR          SIZE      DERIVATIVE \n",
      "   1  nbkg         2.35018e+02   1.57477e+01   3.81366e-03  -2.30436e-03\n",
      "   2  tau         -2.11192e+00   1.52540e-01   1.47918e-03   2.97651e-03\n",
      "                               ERR DEF= 0.5\n",
      "AsymptoticCalculator::EvaluateNLL -  value = -1150.71 for poi fixed at = 35\tfit time : Real time 0:00:00, CP time 0.000\n",
      "\n",
      "Results HypoTestAsymptotic_result: \n",
      " - Null p-value = 0.376079\n",
      " - Significance = 0.315796\n",
      " - CL_b: 0.376079\n",
      " - CL_s+b: 1\n",
      " - CL_s: 2.65902\n",
      "[#1] INFO:InputArguments -- HypoTestInverter ---- Input models: \n",
      "\t\t using as S+B (null) model     : MODEL_B\n",
      "\t\t using as B (alternate) model  : MODEL_SB\n",
      "\n",
      "[#0] WARNING:InputArguments -- HypoTestInverter - using a B model  with POI nsig not equal to zero  user must check input model configurations \n",
      "[#1] INFO:Eval -- HypoTestInverter::GetInterval - run a fixed scan\n",
      "[#1] INFO:ObjectHandling -- RooWorkspace::saveSnaphot(ws) replacing previous snapshot with name MODEL_B__snapshot\n",
      "[#1] INFO:ObjectHandling -- RooWorkspace::saveSnaphot(ws) replacing previous snapshot with name MODEL_B__snapshot\n",
      "[#1] INFO:ObjectHandling -- RooWorkspace::saveSnaphot(ws) replacing previous snapshot with name MODEL_B__snapshot\n",
      "[#1] INFO:ObjectHandling -- RooWorkspace::saveSnaphot(ws) replacing previous snapshot with name MODEL_B__snapshot\n",
      "[#1] INFO:ObjectHandling -- RooWorkspace::saveSnaphot(ws) replacing previous snapshot with name MODEL_B__snapshot\n",
      "[#1] INFO:ObjectHandling -- RooWorkspace::saveSnaphot(ws) replacing previous snapshot with name MODEL_B__snapshot\n",
      "[#1] INFO:ObjectHandling -- RooWorkspace::saveSnaphot(ws) replacing previous snapshot with name MODEL_B__snapshot\n",
      "[#1] INFO:ObjectHandling -- RooWorkspace::saveSnaphot(ws) replacing previous snapshot with name MODEL_B__snapshot\n",
      "[#1] INFO:ObjectHandling -- RooWorkspace::saveSnaphot(ws) replacing previous snapshot with name MODEL_B__snapshot\n",
      "[#1] INFO:ObjectHandling -- RooWorkspace::saveSnaphot(ws) replacing previous snapshot with name MODEL_B__snapshot\n",
      "[#1] INFO:ObjectHandling -- RooWorkspace::saveSnaphot(ws) replacing previous snapshot with name MODEL_B__snapshot\n",
      "[#1] INFO:ObjectHandling -- RooWorkspace::saveSnaphot(ws) replacing previous snapshot with name MODEL_B__snapshot\n",
      "[#1] INFO:ObjectHandling -- RooWorkspace::saveSnaphot(ws) replacing previous snapshot with name MODEL_B__snapshot\n",
      "[#1] INFO:ObjectHandling -- RooWorkspace::saveSnaphot(ws) replacing previous snapshot with name MODEL_B__snapshot\n",
      "[#1] INFO:ObjectHandling -- RooWorkspace::saveSnaphot(ws) replacing previous snapshot with name MODEL_B__snapshot\n",
      "[#1] INFO:ObjectHandling -- RooWorkspace::saveSnaphot(ws) replacing previous snapshot with name MODEL_B__snapshot\n",
      "[#1] INFO:ObjectHandling -- RooWorkspace::saveSnaphot(ws) replacing previous snapshot with name MODEL_B__snapshot\n",
      "[#1] INFO:ObjectHandling -- RooWorkspace::saveSnaphot(ws) replacing previous snapshot with name MODEL_B__snapshot\n",
      "[#1] INFO:ObjectHandling -- RooWorkspace::saveSnaphot(ws) replacing previous snapshot with name MODEL_B__snapshot\n",
      "[#1] INFO:ObjectHandling -- RooWorkspace::saveSnaphot(ws) replacing previous snapshot with name MODEL_B__snapshot\n",
      "[#1] INFO:ObjectHandling -- RooWorkspace::saveSnaphot(ws) replacing previous snapshot with name MODEL_B__snapshot\n",
      "[#1] INFO:ObjectHandling -- RooWorkspace::saveSnaphot(ws) replacing previous snapshot with name MODEL_B__snapshot\n",
      "[#1] INFO:ObjectHandling -- RooWorkspace::saveSnaphot(ws) replacing previous snapshot with name MODEL_B__snapshot\n",
      "[#1] INFO:ObjectHandling -- RooWorkspace::saveSnaphot(ws) replacing previous snapshot with name MODEL_B__snapshot\n",
      "[#1] INFO:ObjectHandling -- RooWorkspace::saveSnaphot(ws) replacing previous snapshot with name MODEL_B__snapshot\n",
      "[#1] INFO:ObjectHandling -- RooWorkspace::saveSnaphot(ws) replacing previous snapshot with name MODEL_B__snapshot\n",
      "[#1] INFO:ObjectHandling -- RooWorkspace::saveSnaphot(ws) replacing previous snapshot with name MODEL_B__snapshot\n",
      "[#1] INFO:ObjectHandling -- RooWorkspace::saveSnaphot(ws) replacing previous snapshot with name MODEL_B__snapshot\n",
      "[#1] INFO:ObjectHandling -- RooWorkspace::saveSnaphot(ws) replacing previous snapshot with name MODEL_B__snapshot\n",
      "[#1] INFO:ObjectHandling -- RooWorkspace::saveSnaphot(ws) replacing previous snapshot with name MODEL_B__snapshot\n",
      "[#1] INFO:ObjectHandling -- RooWorkspace::saveSnaphot(ws) replacing previous snapshot with name MODEL_B__snapshot\n",
      "[#1] INFO:ObjectHandling -- RooWorkspace::saveSnaphot(ws) replacing previous snapshot with name MODEL_B__snapshot\n",
      "[#1] INFO:ObjectHandling -- RooWorkspace::saveSnaphot(ws) replacing previous snapshot with name MODEL_B__snapshot\n",
      "[#1] INFO:ObjectHandling -- RooWorkspace::saveSnaphot(ws) replacing previous snapshot with name MODEL_B__snapshot\n",
      "[#1] INFO:ObjectHandling -- RooWorkspace::saveSnaphot(ws) replacing previous snapshot with name MODEL_B__snapshot\n",
      "[#1] INFO:ObjectHandling -- RooWorkspace::saveSnaphot(ws) replacing previous snapshot with name MODEL_B__snapshot\n",
      "[#1] INFO:ObjectHandling -- RooWorkspace::saveSnaphot(ws) replacing previous snapshot with name MODEL_B__snapshot\n",
      "[#1] INFO:ObjectHandling -- RooWorkspace::saveSnaphot(ws) replacing previous snapshot with name MODEL_B__snapshot\n",
      "[#1] INFO:ObjectHandling -- RooWorkspace::saveSnaphot(ws) replacing previous snapshot with name MODEL_B__snapshot\n",
      "[#1] INFO:ObjectHandling -- RooWorkspace::saveSnaphot(ws) replacing previous snapshot with name MODEL_B__snapshot\n",
      "[#1] INFO:ObjectHandling -- RooWorkspace::saveSnaphot(ws) replacing previous snapshot with name MODEL_B__snapshot\n",
      "[#1] INFO:ObjectHandling -- RooWorkspace::saveSnaphot(ws) replacing previous snapshot with name MODEL_B__snapshot\n",
      "[#1] INFO:ObjectHandling -- RooWorkspace::saveSnaphot(ws) replacing previous snapshot with name MODEL_B__snapshot\n",
      "[#1] INFO:ObjectHandling -- RooWorkspace::saveSnaphot(ws) replacing previous snapshot with name MODEL_B__snapshot\n",
      "[#1] INFO:ObjectHandling -- RooWorkspace::saveSnaphot(ws) replacing previous snapshot with name MODEL_B__snapshot\n",
      "[#1] INFO:ObjectHandling -- RooWorkspace::saveSnaphot(ws) replacing previous snapshot with name MODEL_B__snapshot\n",
      "[#1] INFO:ObjectHandling -- RooWorkspace::saveSnaphot(ws) replacing previous snapshot with name MODEL_B__snapshot\n",
      "[#1] INFO:ObjectHandling -- RooWorkspace::saveSnaphot(ws) replacing previous snapshot with name MODEL_B__snapshot\n",
      "[#1] INFO:ObjectHandling -- RooWorkspace::saveSnaphot(ws) replacing previous snapshot with name MODEL_B__snapshot\n",
      "[#1] INFO:ObjectHandling -- RooWorkspace::saveSnaphot(ws) replacing previous snapshot with name MODEL_B__snapshot\n",
      "[#1] INFO:ObjectHandling -- RooWorkspace::saveSnaphot(ws) replacing previous snapshot with name MODEL_B__snapshot\n",
      "[#1] INFO:ObjectHandling -- RooWorkspace::saveSnaphot(ws) replacing previous snapshot with name MODEL_B__snapshot\n",
      "[#1] INFO:ObjectHandling -- RooWorkspace::saveSnaphot(ws) replacing previous snapshot with name MODEL_B__snapshot\n",
      "[#1] INFO:ObjectHandling -- RooWorkspace::saveSnaphot(ws) replacing previous snapshot with name MODEL_B__snapshot\n",
      "[#1] INFO:ObjectHandling -- RooWorkspace::saveSnaphot(ws) replacing previous snapshot with name MODEL_B__snapshot\n",
      "[#1] INFO:ObjectHandling -- RooWorkspace::saveSnaphot(ws) replacing previous snapshot with name MODEL_B__snapshot\n",
      "[#1] INFO:ObjectHandling -- RooWorkspace::saveSnaphot(ws) replacing previous snapshot with name MODEL_B__snapshot\n",
      "[#1] INFO:ObjectHandling -- RooWorkspace::saveSnaphot(ws) replacing previous snapshot with name MODEL_B__snapshot\n",
      "[#1] INFO:ObjectHandling -- RooWorkspace::saveSnaphot(ws) replacing previous snapshot with name MODEL_B__snapshot\n",
      "[#1] INFO:ObjectHandling -- RooWorkspace::saveSnaphot(ws) replacing previous snapshot with name MODEL_B__snapshot\n",
      "OBJ: RooStats::HypoTestInverterResult\tresult_nsig\tHypoTestInverter Result For nsig\n"
     ]
    },
    {
     "data": {
      "image/png": "[encoded data removed]",
      "text/plain": [
       "<IPython.core.display.Image object>"
      ]
     },
     "metadata": {},
     "output_type": "display_data"
    }
   ],
   "source": [
    "#Execution\n",
    "\n",
    "data = ws.data(\"data\")\n",
    "model_sb = ws.obj('MODEL_SB')\n",
    "model_b = ws.obj('MODEL_B')\n",
    "    \n",
    "data.Print()\n",
    "model_b.Print()\n",
    "model_sb.Print()\n",
    "\n",
    "#calc = ROOT.RooStats.AsymptoticCalculator(data, model_b, model_sb)\n",
    "calc = ROOT.RooStats.AsymptoticCalculator(data, model_sb, model_b)\n",
    "calc.SetOneSided(True)\n",
    "calc.SetQTilde(False)\n",
    "calc.SetPrintLevel(0)\n",
    "#calc.SetOneSidedDiscovery(True) \n",
    "\n",
    "res = calc.GetHypoTest()\n",
    "res.Print()\n",
    "\n",
    "test = RooStats.HypoTestInverter(calc)\n",
    "test.SetConfidenceLevel(0.95)\n",
    "test.UseCLs(True)\n",
    "    \n",
    "#toysmc = test.GetHypoTestCalculator().GetTestStatSampler()\n",
    "#RooStats.ProfileLikelihoodTestStat.SetAlwaysReuseNLL(True)\n",
    "#profil = RooStats.ProfileLikelihoodTestStat(model_sb.GetPdf())\n",
    "#profil.SetOneSided(True)\n",
    "#toysmc.SetTestStatistic(profil)\n",
    "    \n",
    "test.SetFixedScan(60, 0.1, 12)\n",
    "r = test.GetInterval()\n",
    "    \n",
    "r.Print()\n",
    "        \n",
    "plot = RooStats.HypoTestInverterPlot(\"alla\",\"blabal\", r)\n",
    "c = ROOT.TCanvas(\"Scan\")\n",
    "plot.Draw(\"CLb 2CL\")\n",
    "c.Draw()"
   ]
  },
  {
   "cell_type": "code",
   "execution_count": 12,
   "metadata": {},
   "outputs": [
    {
     "name": "stdout",
     "output_type": "stream",
     "text": [
      "\n",
      " \n",
      "\n",
      "Obs upper limit 39.34736850108585\n",
      "Exp upper limit 51.740021925751584\n",
      "Exp upper limit 1sigma 58.99554775584471\n",
      "Exp upper limit 2sigma 68.36110547626633\n",
      "Exp upper limit -1sigma 46.81401891772912\n",
      "Exp upper limit -2sigma 43.681136361130584\n"
     ]
    }
   ],
   "source": [
    "print(\"\\n \\n\")\n",
    "print(\"Obs upper limit {0}\".format(r.UpperLimit()))\n",
    "print(\"Exp upper limit {0}\".format(r.GetExpectedUpperLimit(0)))\n",
    "print(\"Exp upper limit 1sigma {0}\".format(r.GetExpectedUpperLimit(1)))\n",
    "print(\"Exp upper limit 2sigma {0}\".format(r.GetExpectedUpperLimit(2)))\n",
    "print(\"Exp upper limit -1sigma {0}\".format(r.GetExpectedUpperLimit(-1)))\n",
    "print(\"Exp upper limit -2sigma {0}\".format(r.GetExpectedUpperLimit(-2)))"
   ]
  },
  {
   "cell_type": "code",
   "execution_count": 13,
   "metadata": {},
   "outputs": [],
   "source": [
    "fAsimovGlobObs = RooArgSet()\n",
    "asymov_data = calc.MakeAsimovData(calc.GetNullModel(), RooArgSet(RooConst(0)), fAsimovGlobObs)"
   ]
  },
  {
   "cell_type": "code",
   "execution_count": 14,
   "metadata": {},
   "outputs": [
    {
     "name": "stdout",
     "output_type": "stream",
     "text": [
      "[#1] INFO:InputArguments -- RooAbsData::plotOn(AsimovData) INFO: dataset has non-integer weights, auto-selecting SumW2 errors instead of Poisson errors\n"
     ]
    },
    {
     "data": {
      "image/png": "[encoded data removed]",
      "text/plain": [
       "<IPython.core.display.Image object>"
      ]
     },
     "metadata": {},
     "output_type": "display_data"
    }
   ],
   "source": [
    "c = ROOT.TCanvas()\n",
    "frame = x.frame(50)\n",
    "asymov_data.plotOn( frame )\n",
    "frame.Draw()\n",
    "c.Draw()"
   ]
  },
  {
   "cell_type": "code",
   "execution_count": 15,
   "metadata": {},
   "outputs": [],
   "source": [
    "zero = asymov_data.get(0)"
   ]
  },
  {
   "cell_type": "code",
   "execution_count": 16,
   "metadata": {},
   "outputs": [
    {
     "data": {
      "text/plain": [
       "0.1145"
      ]
     },
     "execution_count": 16,
     "metadata": {},
     "output_type": "execute_result"
    }
   ],
   "source": [
    "zero.getRealValue(\"x\")"
   ]
  },
  {
   "cell_type": "code",
   "execution_count": 17,
   "metadata": {},
   "outputs": [
    {
     "name": "stdout",
     "output_type": "stream",
     "text": [
      "  1) RooRealVar:: x = 0.1145\n"
     ]
    }
   ],
   "source": [
    "zero.Print('V')"
   ]
  },
  {
   "cell_type": "code",
   "execution_count": null,
   "metadata": {},
   "outputs": [],
   "source": []
  },
  {
   "cell_type": "code",
   "execution_count": null,
   "metadata": {},
   "outputs": [],
   "source": []
  },
  {
   "cell_type": "code",
   "execution_count": null,
   "metadata": {},
   "outputs": [],
   "source": []
  }
 ],
 "metadata": {
  "kernelspec": {
   "display_name": "Python 3",
   "language": "python",
   "name": "python3"
  },
  "language_info": {
   "codemirror_mode": {
    "name": "ipython",
    "version": 3
   },
   "file_extension": ".py",
   "mimetype": "text/x-python",
   "name": "python",
   "nbconvert_exporter": "python",
   "pygments_lexer": "ipython3",
   "version": "3.7.0"
  }
 },
 "nbformat": 4,
 "nbformat_minor": 2
}
