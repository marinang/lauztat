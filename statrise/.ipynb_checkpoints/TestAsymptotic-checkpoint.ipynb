{
 "cells": [
  {
   "cell_type": "code",
   "execution_count": 1,
   "metadata": {},
   "outputs": [
    {
     "name": "stdout",
     "output_type": "stream",
     "text": [
      "/Users/matthieumarinangeli/statrise\n"
     ]
    }
   ],
   "source": [
    "cd .."
   ]
  },
  {
   "cell_type": "code",
   "execution_count": 2,
   "metadata": {},
   "outputs": [],
   "source": [
    "from statrise import AsymptoticCalculator, Hypothesis, Observable, Model, Constant, Variable\n",
    "import numpy as np\n",
    "import matplotlib.pyplot as plt\n",
    "import probfit\n",
    "import iminuit\n",
    "import math"
   ]
  },
  {
   "cell_type": "code",
   "execution_count": 3,
   "metadata": {},
   "outputs": [
    {
     "data": {
      "image/png": "[encoded data removed]",
      "text/plain": [
       "<Figure size 432x288 with 1 Axes>"
      ]
     },
     "metadata": {},
     "output_type": "display_data"
    }
   ],
   "source": [
    "# First let's make some example data\n",
    "\n",
    "np.random.seed(0)\n",
    "tau = -2.0\n",
    "beta = -1/tau\n",
    "data = np.random.exponential(beta, 300)\n",
    "peak = np.random.normal(1.2, 0.1, 4)\n",
    "data = np.concatenate((data,peak))\n",
    "data = data[(data > 0.1) & (data < 3)]\n",
    "\n",
    "plt.hist(data, bins=100, histtype='step');"
   ]
  },
  {
   "cell_type": "code",
   "execution_count": 4,
   "metadata": {},
   "outputs": [],
   "source": [
    "exp_n = probfit.Normalized(probfit.exponential, (0.1,3.))\n",
    "gauss_n = probfit.Normalized(probfit.gaussian, (0.1,3.))\n",
    "exp = probfit.Extended(exp_n, extname='Nbkg')\n",
    "gauss = probfit.Extended(gauss_n, extname='Nsig')\n",
    "totpdf = probfit.AddPdf(gauss, exp)\n",
    "UL = probfit.UnbinnedLH(totpdf, data, extended=True, extended_bound = (0.1,3.))"
   ]
  },
  {
   "cell_type": "code",
   "execution_count": 5,
   "metadata": {},
   "outputs": [
    {
     "data": {
      "text/plain": [
       "['x', 'mean', 'sigma', 'Nsig', 'tau', 'Nbkg']"
      ]
     },
     "execution_count": 5,
     "metadata": {},
     "output_type": "execute_result"
    }
   ],
   "source": [
    "iminuit.describe(totpdf)"
   ]
  },
  {
   "cell_type": "code",
   "execution_count": 6,
   "metadata": {},
   "outputs": [],
   "source": [
    "initial_params = {\"tau\":  -0.5,  \"limit_tau\":    (-5.0, -0.1) , \"error_tau\"   : 0.05,\n",
    "                  \"mean\":  1.2,  \"limit_mean\":    (0.8, 1.7) , \"error_mean\"   : 0.01, \"fix_mean\": True,\n",
    "                  \"sigma\": 0.1, \"limit_sigma\":   (0.02, 0.12), \"error_sigma\" : 0.0001, \"fix_sigma\": True,\n",
    "                  \"Nsig\":  0,    \"limit_Nsig\": (-10,len((data))), \"error_Nsig\"  : 1.0,\n",
    "                  \"Nbkg\":  len(data),    \"limit_Nbkg\": (0,len(data)*1.1), \"error_Nbkg\"  : 1.0\n",
    "                 }\n",
    "\n",
    "minuit = iminuit.Minuit(UL, **initial_params, pedantic=True)"
   ]
  },
  {
   "cell_type": "code",
   "execution_count": 7,
   "metadata": {},
   "outputs": [
    {
     "data": {
      "text/html": [
       "<hr>"
      ]
     },
     "metadata": {},
     "output_type": "display_data"
    },
    {
     "data": {
      "text/html": [
       "<table>\n",
       "    <tr>\n",
       "        <td title=\"Minimum value of function\">FCN = -1052.228966534879</td>\n",
       "        <td title=\"Total number of call to FCN so far\">TOTAL NCALL = 60</td>\n",
       "        <td title=\"Number of call in last migrad\">NCALLS = 60</td>\n",
       "    </tr>\n",
       "    <tr>\n",
       "        <td title=\"Estimated distance to minimum\">EDM = 4.4192656280447616e-05</td>\n",
       "        <td title=\"Maximum EDM definition of convergence\">GOAL EDM = 5e-06</td>\n",
       "        <td title=\"Error def. Amount of increase in FCN to be defined as 1 standard deviation\">\n",
       "        UP = 0.5</td>\n",
       "    </tr>\n",
       "</table>\n",
       "<table>\n",
       "    <tr>\n",
       "        <td align=\"center\" title=\"Validity of the migrad call\">Valid</td>\n",
       "        <td align=\"center\" title=\"Validity of parameters\">Valid Param</td>\n",
       "        <td align=\"center\" title=\"Is Covariance matrix accurate?\">Accurate Covar</td>\n",
       "        <td align=\"center\" title=\"Positive definiteness of covariance matrix\">PosDef</td>\n",
       "        <td align=\"center\" title=\"Was covariance matrix made posdef by adding diagonal element\">Made PosDef</td>\n",
       "    </tr>\n",
       "    <tr>\n",
       "        <td align=\"center\" style=\"background-color:#92CCA6\">True</td>\n",
       "        <td align=\"center\" style=\"background-color:#92CCA6\">True</td>\n",
       "        <td align=\"center\" style=\"background-color:#92CCA6\">True</td>\n",
       "        <td align=\"center\" style=\"background-color:#92CCA6\">True</td>\n",
       "        <td align=\"center\" style=\"background-color:#92CCA6\">False</td>\n",
       "    </tr>\n",
       "    <tr>\n",
       "        <td align=\"center\" title=\"Was last hesse call fail?\">Hesse Fail</td>\n",
       "        <td align=\"center\" title=\"Validity of covariance\">HasCov</td>\n",
       "        <td align=\"center\" title=\"Is EDM above goal EDM?\">Above EDM</td>\n",
       "        <td align=\"center\"></td>\n",
       "        <td align=\"center\" title=\"Did last migrad call reach max call limit?\">Reach calllim</td>\n",
       "    </tr>\n",
       "    <tr>\n",
       "        <td align=\"center\" style=\"background-color:#92CCA6\">False</td>\n",
       "        <td align=\"center\" style=\"background-color:#92CCA6\">True</td>\n",
       "        <td align=\"center\" style=\"background-color:#92CCA6\">False</td>\n",
       "        <td align=\"center\"></td>\n",
       "        <td align=\"center\" style=\"background-color:#92CCA6\">False</td>\n",
       "    </tr>\n",
       "</table>"
      ]
     },
     "metadata": {},
     "output_type": "display_data"
    },
    {
     "data": {
      "text/html": [
       "<table>\n",
       "    <tr>\n",
       "        <td><a href=\"#\" onclick=\"$('#GBLLlepWXt').toggle()\">+</a></td>\n",
       "        <td title=\"Variable name\">Name</td>\n",
       "        <td title=\"Value of parameter\">Value</td>\n",
       "        <td title=\"Hesse error\">Hesse Error</td>\n",
       "        <td title=\"Minos lower error\">Minos Error-</td>\n",
       "        <td title=\"Minos upper error\">Minos Error+</td>\n",
       "        <td title=\"Lower limit of the parameter\">Limit-</td>\n",
       "        <td title=\"Upper limit of the parameter\">Limit+</td>\n",
       "        <td title=\"Is the parameter fixed in the fit\">Fixed?</td>\n",
       "    </tr>\n",
       "    <tr>\n",
       "        <td>0</td>\n",
       "        <td>mean</td>\n",
       "        <td>1.2</td>\n",
       "        <td>0.01</td>\n",
       "        <td></td>\n",
       "        <td></td>\n",
       "        <td>0.8</td>\n",
       "        <td>1.7</td>\n",
       "        <td>Yes</td>\n",
       "    </tr>\n",
       "    <tr>\n",
       "        <td>1</td>\n",
       "        <td>sigma</td>\n",
       "        <td>0.1</td>\n",
       "        <td>0.0001</td>\n",
       "        <td></td>\n",
       "        <td></td>\n",
       "        <td>0.02</td>\n",
       "        <td>0.12</td>\n",
       "        <td>Yes</td>\n",
       "    </tr>\n",
       "    <tr>\n",
       "        <td>2</td>\n",
       "        <td>Nsig</td>\n",
       "        <td>-1.60582</td>\n",
       "        <td>5.01428</td>\n",
       "        <td></td>\n",
       "        <td></td>\n",
       "        <td>-10</td>\n",
       "        <td>250</td>\n",
       "        <td>No</td>\n",
       "    </tr>\n",
       "    <tr>\n",
       "        <td>3</td>\n",
       "        <td>tau</td>\n",
       "        <td>-1.92458</td>\n",
       "        <td>0.1388</td>\n",
       "        <td></td>\n",
       "        <td></td>\n",
       "        <td>-5</td>\n",
       "        <td>-0.1</td>\n",
       "        <td>No</td>\n",
       "    </tr>\n",
       "    <tr>\n",
       "        <td>4</td>\n",
       "        <td>Nbkg</td>\n",
       "        <td>251.495</td>\n",
       "        <td>16.5174</td>\n",
       "        <td></td>\n",
       "        <td></td>\n",
       "        <td>0</td>\n",
       "        <td>275</td>\n",
       "        <td>No</td>\n",
       "    </tr>\n",
       "</table>\n",
       "<pre id=\"GBLLlepWXt\" style=\"display:none;\">\n",
       "<textarea rows=\"16\" cols=\"50\" onclick=\"this.select()\" readonly>\n",
       "\\begin{tabular}{|c|r|r|r|r|r|r|r|c|}\n",
       "\\hline\n",
       " & Name & Value & Hesse Error & Minos Error- & Minos Error+ & Limit- & Limit+ & Fixed?\\\\\n",
       "\\hline\n",
       "0 & mean & 1.2 & 0.01 &  &  & 0.8 & 1.7 & Yes\\\\\n",
       "\\hline\n",
       "1 & $\\sigma$ & 0.1 & 0.0001 &  &  & 0.02 & 0.12 & Yes\\\\\n",
       "\\hline\n",
       "2 & Nsig & -1.60582 & 5.01428 &  &  & -10.0 & 250 & No\\\\\n",
       "\\hline\n",
       "3 & $\\tau$ & -1.92458 & 0.1388 &  &  & -5.0 & -0.1 & No\\\\\n",
       "\\hline\n",
       "4 & Nbkg & 251.495 & 16.5174 &  &  & 0.0 & 275 & No\\\\\n",
       "\\hline\n",
       "\\end{tabular}\n",
       "</textarea>\n",
       "</pre>"
      ]
     },
     "metadata": {},
     "output_type": "display_data"
    },
    {
     "data": {
      "text/html": [
       "<hr>"
      ]
     },
     "metadata": {},
     "output_type": "display_data"
    }
   ],
   "source": [
    "minuit.migrad();"
   ]
  },
  {
   "cell_type": "code",
   "execution_count": 8,
   "metadata": {},
   "outputs": [
    {
     "data": {
      "image/png": "[encoded data removed]",
      "text/plain": [
       "<Figure size 432x288 with 1 Axes>"
      ]
     },
     "metadata": {},
     "output_type": "display_data"
    }
   ],
   "source": [
    "UL.show(minuit);"
   ]
  },
  {
   "cell_type": "code",
   "execution_count": 9,
   "metadata": {},
   "outputs": [
    {
     "data": {
      "image/png": "[encoded data removed]",
      "text/plain": [
       "<Figure size 432x288 with 1 Axes>"
      ]
     },
     "metadata": {},
     "output_type": "display_data"
    }
   ],
   "source": [
    "minuit.draw_mnprofile(\"Nsig\",subtract_min=True);"
   ]
  },
  {
   "cell_type": "code",
   "execution_count": 10,
   "metadata": {},
   "outputs": [
    {
     "data": {
      "text/plain": [
       "15.811388300841896"
      ]
     },
     "execution_count": 10,
     "metadata": {},
     "output_type": "execute_result"
    }
   ],
   "source": [
    "math.sqrt(len(data))"
   ]
  },
  {
   "cell_type": "code",
   "execution_count": 11,
   "metadata": {},
   "outputs": [],
   "source": [
    "model = Model(totpdf)\n",
    "model.add_obs(Observable(\"x\", range = (0.1,3.0)))\n",
    "#mean  = Variable(\"mean\",  range=(0.8,1.7),            initvalue= 1.2,       initstep=0.01)\n",
    "mean  = Constant(\"mean\",  value=1.2)\n",
    "#sigma = Variable(\"sigma\", range= (0.02, 0.12),        initvalue= 0.06,       initstep=0.0001)\n",
    "sigma = Constant(\"sigma\", value= 0.1)\n",
    "Nsig  = Variable(\"Nsig\",  range=(-10,len((data))),   initvalue= 0.0,       initstep=1.0)\n",
    "tau   = Variable(\"tau\",   range=(-5.0, -0.1),        initvalue=-0.5,       initstep=0.05)\n",
    "Nbkg  = Variable(\"Nbkg\",  range=(0,len((data))*1.1), initvalue= len(data), initstep=1.0)\n",
    "model.add_vars([mean, sigma, Nsig, tau, Nbkg])\n",
    "model.ext_pars = [\"Nsig\",\"Nbkg\"]"
   ]
  },
  {
   "cell_type": "code",
   "execution_count": 12,
   "metadata": {},
   "outputs": [],
   "source": [
    "model_bkg = Model(exp)\n",
    "model_bkg.add_obs(Observable(\"x\", range = (0.1,3.0)))\n",
    "model_bkg.add_vars([tau, Nbkg])\n",
    "model_bkg.ext_pars = [\"Nbkg\"]"
   ]
  },
  {
   "cell_type": "code",
   "execution_count": 13,
   "metadata": {},
   "outputs": [
    {
     "data": {
      "text/plain": [
       "[Observable('x', range=(0.1, 3.0))]"
      ]
     },
     "execution_count": 13,
     "metadata": {},
     "output_type": "execute_result"
    }
   ],
   "source": [
    "model.obs"
   ]
  },
  {
   "cell_type": "code",
   "execution_count": 14,
   "metadata": {},
   "outputs": [
    {
     "data": {
      "text/plain": [
       "[Constant('mean', value=1.2),\n",
       " Constant('sigma', value=0.1),\n",
       " Variable('Nsig', initvalue=0.0, range=(-10, 250), initstep=1.0),\n",
       " Variable('tau', initvalue=-0.5, range=(-5.0, -0.1), initstep=0.05),\n",
       " Variable('Nbkg', initvalue=250, range=(0, 275.0), initstep=1.0)]"
      ]
     },
     "execution_count": 14,
     "metadata": {},
     "output_type": "execute_result"
    }
   ],
   "source": [
    "model.vars"
   ]
  },
  {
   "cell_type": "code",
   "execution_count": 15,
   "metadata": {},
   "outputs": [],
   "source": [
    "null_hypothesis = model.create_hypothesis({\"Nsig\":np.linspace(0.1, 12, 60)})"
   ]
  },
  {
   "cell_type": "code",
   "execution_count": 16,
   "metadata": {},
   "outputs": [
    {
     "data": {
      "text/plain": [
       "{'Nsig': array([ 0.1       ,  0.30169492,  0.50338983,  0.70508475,  0.90677966,\n",
       "         1.10847458,  1.31016949,  1.51186441,  1.71355932,  1.91525424,\n",
       "         2.11694915,  2.31864407,  2.52033898,  2.7220339 ,  2.92372881,\n",
       "         3.12542373,  3.32711864,  3.52881356,  3.73050847,  3.93220339,\n",
       "         4.13389831,  4.33559322,  4.53728814,  4.73898305,  4.94067797,\n",
       "         5.14237288,  5.3440678 ,  5.54576271,  5.74745763,  5.94915254,\n",
       "         6.15084746,  6.35254237,  6.55423729,  6.7559322 ,  6.95762712,\n",
       "         7.15932203,  7.36101695,  7.56271186,  7.76440678,  7.96610169,\n",
       "         8.16779661,  8.36949153,  8.57118644,  8.77288136,  8.97457627,\n",
       "         9.17627119,  9.3779661 ,  9.57966102,  9.78135593,  9.98305085,\n",
       "        10.18474576, 10.38644068, 10.58813559, 10.78983051, 10.99152542,\n",
       "        11.19322034, 11.39491525, 11.59661017, 11.79830508, 12.        ])}"
      ]
     },
     "execution_count": 16,
     "metadata": {},
     "output_type": "execute_result"
    }
   ],
   "source": [
    "null_hypothesis.pois"
   ]
  },
  {
   "cell_type": "code",
   "execution_count": 17,
   "metadata": {},
   "outputs": [
    {
     "data": {
      "text/plain": [
       "{'Nsig': 0}"
      ]
     },
     "execution_count": 17,
     "metadata": {},
     "output_type": "execute_result"
    }
   ],
   "source": [
    "alt_hypothesis = model.create_hypothesis({\"Nsig\":0})\n",
    "#alt_hypothesis = model_bkg.create_hypothesis()\n",
    "alt_hypothesis.pois"
   ]
  },
  {
   "cell_type": "code",
   "execution_count": 18,
   "metadata": {},
   "outputs": [
    {
     "data": {
      "text/plain": [
       "['Nsig']"
      ]
     },
     "execution_count": 18,
     "metadata": {},
     "output_type": "execute_result"
    }
   ],
   "source": [
    "null_hypothesis.poinames()"
   ]
  },
  {
   "cell_type": "code",
   "execution_count": 19,
   "metadata": {},
   "outputs": [
    {
     "data": {
      "text/plain": [
       "Hypothesis object: \n",
       "Observables: ['x']\n",
       "Paramaters of interest: {'Nsig': 0}\n",
       "Nuisance parameters: ['mean', 'sigma', 'tau', 'Nbkg']\n",
       "Extended parameters: ['Nsig', 'Nbkg']"
      ]
     },
     "execution_count": 19,
     "metadata": {},
     "output_type": "execute_result"
    }
   ],
   "source": [
    "alt_hypothesis"
   ]
  },
  {
   "cell_type": "code",
   "execution_count": 20,
   "metadata": {},
   "outputs": [],
   "source": [
    "calc = AsymptoticCalculator(null_hypothesis, alt_hypothesis, data)"
   ]
  },
  {
   "cell_type": "code",
   "execution_count": 21,
   "metadata": {},
   "outputs": [],
   "source": [
    "calc.qtilde = False"
   ]
  },
  {
   "cell_type": "code",
   "execution_count": 22,
   "metadata": {},
   "outputs": [
    {
     "data": {
      "text/plain": [
       "<statrise.calculators.asymptotic_calculator.AsymptoticCalculator at 0x10725eb38>"
      ]
     },
     "execution_count": 22,
     "metadata": {},
     "output_type": "execute_result"
    }
   ],
   "source": [
    "calc.bestfitpoi = minuit.values[\"Nsig\"]"
   ]
  },
  {
   "cell_type": "code",
   "execution_count": 23,
   "metadata": {},
   "outputs": [
    {
     "data": {
      "text/plain": [
       "Hypothesis object: \n",
       "Observables: ['x']\n",
       "Paramaters of interest: {'Nsig': array([ 0.1       ,  0.30169492,  0.50338983,  0.70508475,  0.90677966,\n",
       "        1.10847458,  1.31016949,  1.51186441,  1.71355932,  1.91525424,\n",
       "        2.11694915,  2.31864407,  2.52033898,  2.7220339 ,  2.92372881,\n",
       "        3.12542373,  3.32711864,  3.52881356,  3.73050847,  3.93220339,\n",
       "        4.13389831,  4.33559322,  4.53728814,  4.73898305,  4.94067797,\n",
       "        5.14237288,  5.3440678 ,  5.54576271,  5.74745763,  5.94915254,\n",
       "        6.15084746,  6.35254237,  6.55423729,  6.7559322 ,  6.95762712,\n",
       "        7.15932203,  7.36101695,  7.56271186,  7.76440678,  7.96610169,\n",
       "        8.16779661,  8.36949153,  8.57118644,  8.77288136,  8.97457627,\n",
       "        9.17627119,  9.3779661 ,  9.57966102,  9.78135593,  9.98305085,\n",
       "       10.18474576, 10.38644068, 10.58813559, 10.78983051, 10.99152542,\n",
       "       11.19322034, 11.39491525, 11.59661017, 11.79830508, 12.        ])}\n",
       "Nuisance parameters: ['mean', 'sigma', 'tau', 'Nbkg']\n",
       "Extended parameters: ['Nsig', 'Nbkg']"
      ]
     },
     "execution_count": 23,
     "metadata": {},
     "output_type": "execute_result"
    }
   ],
   "source": [
    "calc.null_hypothesis"
   ]
  },
  {
   "cell_type": "code",
   "execution_count": 24,
   "metadata": {},
   "outputs": [
    {
     "data": {
      "text/plain": [
       "Hypothesis object: \n",
       "Observables: ['x']\n",
       "Paramaters of interest: {'Nsig': 0}\n",
       "Nuisance parameters: ['mean', 'sigma', 'tau', 'Nbkg']\n",
       "Extended parameters: ['Nsig', 'Nbkg']"
      ]
     },
     "execution_count": 24,
     "metadata": {},
     "output_type": "execute_result"
    }
   ],
   "source": [
    "calc.alt_hypothesis"
   ]
  },
  {
   "cell_type": "code",
   "execution_count": 25,
   "metadata": {},
   "outputs": [
    {
     "data": {
      "text/plain": [
       "<probfit.costfunc.UnbinnedLH at 0x106fc9c48>"
      ]
     },
     "execution_count": 25,
     "metadata": {},
     "output_type": "execute_result"
    }
   ],
   "source": [
    "calc.null_likelihood()"
   ]
  },
  {
   "cell_type": "code",
   "execution_count": 26,
   "metadata": {},
   "outputs": [
    {
     "data": {
      "text/plain": [
       "['mean', 'sigma', 'Nsig', 'tau', 'Nbkg']"
      ]
     },
     "execution_count": 26,
     "metadata": {},
     "output_type": "execute_result"
    }
   ],
   "source": [
    "iminuit.describe(calc.null_likelihood())"
   ]
  },
  {
   "cell_type": "code",
   "execution_count": 27,
   "metadata": {},
   "outputs": [
    {
     "name": "stdout",
     "output_type": "stream",
     "text": [
      "Get fit best value for parameter interest!\n"
     ]
    },
    {
     "data": {
      "text/html": [
       "<hr>"
      ]
     },
     "metadata": {},
     "output_type": "display_data"
    },
    {
     "data": {
      "text/html": [
       "<table>\n",
       "    <tr>\n",
       "        <td title=\"Minimum value of function\">FCN = -1052.228966534879</td>\n",
       "        <td title=\"Total number of call to FCN so far\">TOTAL NCALL = 60</td>\n",
       "        <td title=\"Number of call in last migrad\">NCALLS = 60</td>\n",
       "    </tr>\n",
       "    <tr>\n",
       "        <td title=\"Estimated distance to minimum\">EDM = 4.4192656280447616e-05</td>\n",
       "        <td title=\"Maximum EDM definition of convergence\">GOAL EDM = 5e-06</td>\n",
       "        <td title=\"Error def. Amount of increase in FCN to be defined as 1 standard deviation\">\n",
       "        UP = 0.5</td>\n",
       "    </tr>\n",
       "</table>\n",
       "<table>\n",
       "    <tr>\n",
       "        <td align=\"center\" title=\"Validity of the migrad call\">Valid</td>\n",
       "        <td align=\"center\" title=\"Validity of parameters\">Valid Param</td>\n",
       "        <td align=\"center\" title=\"Is Covariance matrix accurate?\">Accurate Covar</td>\n",
       "        <td align=\"center\" title=\"Positive definiteness of covariance matrix\">PosDef</td>\n",
       "        <td align=\"center\" title=\"Was covariance matrix made posdef by adding diagonal element\">Made PosDef</td>\n",
       "    </tr>\n",
       "    <tr>\n",
       "        <td align=\"center\" style=\"background-color:#92CCA6\">True</td>\n",
       "        <td align=\"center\" style=\"background-color:#92CCA6\">True</td>\n",
       "        <td align=\"center\" style=\"background-color:#92CCA6\">True</td>\n",
       "        <td align=\"center\" style=\"background-color:#92CCA6\">True</td>\n",
       "        <td align=\"center\" style=\"background-color:#92CCA6\">False</td>\n",
       "    </tr>\n",
       "    <tr>\n",
       "        <td align=\"center\" title=\"Was last hesse call fail?\">Hesse Fail</td>\n",
       "        <td align=\"center\" title=\"Validity of covariance\">HasCov</td>\n",
       "        <td align=\"center\" title=\"Is EDM above goal EDM?\">Above EDM</td>\n",
       "        <td align=\"center\"></td>\n",
       "        <td align=\"center\" title=\"Did last migrad call reach max call limit?\">Reach calllim</td>\n",
       "    </tr>\n",
       "    <tr>\n",
       "        <td align=\"center\" style=\"background-color:#92CCA6\">False</td>\n",
       "        <td align=\"center\" style=\"background-color:#92CCA6\">True</td>\n",
       "        <td align=\"center\" style=\"background-color:#92CCA6\">False</td>\n",
       "        <td align=\"center\"></td>\n",
       "        <td align=\"center\" style=\"background-color:#92CCA6\">False</td>\n",
       "    </tr>\n",
       "</table>"
      ]
     },
     "metadata": {},
     "output_type": "display_data"
    },
    {
     "data": {
      "text/html": [
       "<table>\n",
       "    <tr>\n",
       "        <td><a href=\"#\" onclick=\"$('#avSVEWVBCq').toggle()\">+</a></td>\n",
       "        <td title=\"Variable name\">Name</td>\n",
       "        <td title=\"Value of parameter\">Value</td>\n",
       "        <td title=\"Hesse error\">Hesse Error</td>\n",
       "        <td title=\"Minos lower error\">Minos Error-</td>\n",
       "        <td title=\"Minos upper error\">Minos Error+</td>\n",
       "        <td title=\"Lower limit of the parameter\">Limit-</td>\n",
       "        <td title=\"Upper limit of the parameter\">Limit+</td>\n",
       "        <td title=\"Is the parameter fixed in the fit\">Fixed?</td>\n",
       "    </tr>\n",
       "    <tr>\n",
       "        <td>0</td>\n",
       "        <td>mean</td>\n",
       "        <td>1.2</td>\n",
       "        <td>1</td>\n",
       "        <td></td>\n",
       "        <td></td>\n",
       "        <td></td>\n",
       "        <td></td>\n",
       "        <td>Yes</td>\n",
       "    </tr>\n",
       "    <tr>\n",
       "        <td>1</td>\n",
       "        <td>sigma</td>\n",
       "        <td>0.1</td>\n",
       "        <td>1</td>\n",
       "        <td></td>\n",
       "        <td></td>\n",
       "        <td></td>\n",
       "        <td></td>\n",
       "        <td>Yes</td>\n",
       "    </tr>\n",
       "    <tr>\n",
       "        <td>2</td>\n",
       "        <td>Nsig</td>\n",
       "        <td>-1.60582</td>\n",
       "        <td>5.01428</td>\n",
       "        <td></td>\n",
       "        <td></td>\n",
       "        <td>-10</td>\n",
       "        <td>250</td>\n",
       "        <td>No</td>\n",
       "    </tr>\n",
       "    <tr>\n",
       "        <td>3</td>\n",
       "        <td>tau</td>\n",
       "        <td>-1.92458</td>\n",
       "        <td>0.1388</td>\n",
       "        <td></td>\n",
       "        <td></td>\n",
       "        <td>-5</td>\n",
       "        <td>-0.1</td>\n",
       "        <td>No</td>\n",
       "    </tr>\n",
       "    <tr>\n",
       "        <td>4</td>\n",
       "        <td>Nbkg</td>\n",
       "        <td>251.495</td>\n",
       "        <td>16.5174</td>\n",
       "        <td></td>\n",
       "        <td></td>\n",
       "        <td>0</td>\n",
       "        <td>275</td>\n",
       "        <td>No</td>\n",
       "    </tr>\n",
       "</table>\n",
       "<pre id=\"avSVEWVBCq\" style=\"display:none;\">\n",
       "<textarea rows=\"16\" cols=\"50\" onclick=\"this.select()\" readonly>\n",
       "\\begin{tabular}{|c|r|r|r|r|r|r|r|c|}\n",
       "\\hline\n",
       " & Name & Value & Hesse Error & Minos Error- & Minos Error+ & Limit- & Limit+ & Fixed?\\\\\n",
       "\\hline\n",
       "0 & mean & 1.2 & 1 &  &  &  &  & Yes\\\\\n",
       "\\hline\n",
       "1 & $\\sigma$ & 0.1 & 1 &  &  &  &  & Yes\\\\\n",
       "\\hline\n",
       "2 & Nsig & -1.60582 & 5.01428 &  &  & -10.0 & 250 & No\\\\\n",
       "\\hline\n",
       "3 & $\\tau$ & -1.92458 & 0.1388 &  &  & -5.0 & -0.1 & No\\\\\n",
       "\\hline\n",
       "4 & Nbkg & 251.495 & 16.5174 &  &  & 0.0 & 275 & No\\\\\n",
       "\\hline\n",
       "\\end{tabular}\n",
       "</textarea>\n",
       "</pre>"
      ]
     },
     "metadata": {},
     "output_type": "display_data"
    },
    {
     "data": {
      "text/html": [
       "<hr>"
      ]
     },
     "metadata": {},
     "output_type": "display_data"
    },
    {
     "data": {
      "text/plain": [
       "{'value': -1.6058229972335383, 'error': 5.014277924523525}"
      ]
     },
     "execution_count": 27,
     "metadata": {},
     "output_type": "execute_result"
    }
   ],
   "source": [
    "calc.bestfitpoi()"
   ]
  },
  {
   "cell_type": "code",
   "execution_count": 28,
   "metadata": {},
   "outputs": [
    {
     "name": "stdout",
     "output_type": "stream",
     "text": [
      "0\n"
     ]
    },
    {
     "data": {
      "text/html": [
       "<hr>"
      ]
     },
     "metadata": {},
     "output_type": "display_data"
    },
    {
     "data": {
      "text/html": [
       "<table>\n",
       "    <tr>\n",
       "        <td title=\"Minimum value of function\">FCN = -1052.1791626264346</td>\n",
       "        <td title=\"Total number of call to FCN so far\">TOTAL NCALL = 41</td>\n",
       "        <td title=\"Number of call in last migrad\">NCALLS = 41</td>\n",
       "    </tr>\n",
       "    <tr>\n",
       "        <td title=\"Estimated distance to minimum\">EDM = 4.333773370389959e-09</td>\n",
       "        <td title=\"Maximum EDM definition of convergence\">GOAL EDM = 5e-06</td>\n",
       "        <td title=\"Error def. Amount of increase in FCN to be defined as 1 standard deviation\">\n",
       "        UP = 0.5</td>\n",
       "    </tr>\n",
       "</table>\n",
       "<table>\n",
       "    <tr>\n",
       "        <td align=\"center\" title=\"Validity of the migrad call\">Valid</td>\n",
       "        <td align=\"center\" title=\"Validity of parameters\">Valid Param</td>\n",
       "        <td align=\"center\" title=\"Is Covariance matrix accurate?\">Accurate Covar</td>\n",
       "        <td align=\"center\" title=\"Positive definiteness of covariance matrix\">PosDef</td>\n",
       "        <td align=\"center\" title=\"Was covariance matrix made posdef by adding diagonal element\">Made PosDef</td>\n",
       "    </tr>\n",
       "    <tr>\n",
       "        <td align=\"center\" style=\"background-color:#92CCA6\">True</td>\n",
       "        <td align=\"center\" style=\"background-color:#92CCA6\">True</td>\n",
       "        <td align=\"center\" style=\"background-color:#92CCA6\">True</td>\n",
       "        <td align=\"center\" style=\"background-color:#92CCA6\">True</td>\n",
       "        <td align=\"center\" style=\"background-color:#92CCA6\">False</td>\n",
       "    </tr>\n",
       "    <tr>\n",
       "        <td align=\"center\" title=\"Was last hesse call fail?\">Hesse Fail</td>\n",
       "        <td align=\"center\" title=\"Validity of covariance\">HasCov</td>\n",
       "        <td align=\"center\" title=\"Is EDM above goal EDM?\">Above EDM</td>\n",
       "        <td align=\"center\"></td>\n",
       "        <td align=\"center\" title=\"Did last migrad call reach max call limit?\">Reach calllim</td>\n",
       "    </tr>\n",
       "    <tr>\n",
       "        <td align=\"center\" style=\"background-color:#92CCA6\">False</td>\n",
       "        <td align=\"center\" style=\"background-color:#92CCA6\">True</td>\n",
       "        <td align=\"center\" style=\"background-color:#92CCA6\">False</td>\n",
       "        <td align=\"center\"></td>\n",
       "        <td align=\"center\" style=\"background-color:#92CCA6\">False</td>\n",
       "    </tr>\n",
       "</table>"
      ]
     },
     "metadata": {},
     "output_type": "display_data"
    },
    {
     "data": {
      "text/html": [
       "<table>\n",
       "    <tr>\n",
       "        <td><a href=\"#\" onclick=\"$('#QTeJbkgrmN').toggle()\">+</a></td>\n",
       "        <td title=\"Variable name\">Name</td>\n",
       "        <td title=\"Value of parameter\">Value</td>\n",
       "        <td title=\"Hesse error\">Hesse Error</td>\n",
       "        <td title=\"Minos lower error\">Minos Error-</td>\n",
       "        <td title=\"Minos upper error\">Minos Error+</td>\n",
       "        <td title=\"Lower limit of the parameter\">Limit-</td>\n",
       "        <td title=\"Upper limit of the parameter\">Limit+</td>\n",
       "        <td title=\"Is the parameter fixed in the fit\">Fixed?</td>\n",
       "    </tr>\n",
       "    <tr>\n",
       "        <td>0</td>\n",
       "        <td>mean</td>\n",
       "        <td>1.2</td>\n",
       "        <td>1</td>\n",
       "        <td></td>\n",
       "        <td></td>\n",
       "        <td></td>\n",
       "        <td></td>\n",
       "        <td>Yes</td>\n",
       "    </tr>\n",
       "    <tr>\n",
       "        <td>1</td>\n",
       "        <td>sigma</td>\n",
       "        <td>0.1</td>\n",
       "        <td>1</td>\n",
       "        <td></td>\n",
       "        <td></td>\n",
       "        <td></td>\n",
       "        <td></td>\n",
       "        <td>Yes</td>\n",
       "    </tr>\n",
       "    <tr>\n",
       "        <td>2</td>\n",
       "        <td>Nsig</td>\n",
       "        <td>0</td>\n",
       "        <td>1</td>\n",
       "        <td></td>\n",
       "        <td></td>\n",
       "        <td>-10</td>\n",
       "        <td>250</td>\n",
       "        <td>Yes</td>\n",
       "    </tr>\n",
       "    <tr>\n",
       "        <td>3</td>\n",
       "        <td>tau</td>\n",
       "        <td>-1.94134</td>\n",
       "        <td>0.130418</td>\n",
       "        <td></td>\n",
       "        <td></td>\n",
       "        <td>-5</td>\n",
       "        <td>-0.1</td>\n",
       "        <td>No</td>\n",
       "    </tr>\n",
       "    <tr>\n",
       "        <td>4</td>\n",
       "        <td>Nbkg</td>\n",
       "        <td>250.001</td>\n",
       "        <td>15.7063</td>\n",
       "        <td></td>\n",
       "        <td></td>\n",
       "        <td>0</td>\n",
       "        <td>275</td>\n",
       "        <td>No</td>\n",
       "    </tr>\n",
       "</table>\n",
       "<pre id=\"QTeJbkgrmN\" style=\"display:none;\">\n",
       "<textarea rows=\"16\" cols=\"50\" onclick=\"this.select()\" readonly>\n",
       "\\begin{tabular}{|c|r|r|r|r|r|r|r|c|}\n",
       "\\hline\n",
       " & Name & Value & Hesse Error & Minos Error- & Minos Error+ & Limit- & Limit+ & Fixed?\\\\\n",
       "\\hline\n",
       "0 & mean & 1.2 & 1 &  &  &  &  & Yes\\\\\n",
       "\\hline\n",
       "1 & $\\sigma$ & 0.1 & 1 &  &  &  &  & Yes\\\\\n",
       "\\hline\n",
       "2 & Nsig & 0 & 1 &  &  & -10.0 & 250 & Yes\\\\\n",
       "\\hline\n",
       "3 & $\\tau$ & -1.94134 & 0.130418 &  &  & -5.0 & -0.1 & No\\\\\n",
       "\\hline\n",
       "4 & Nbkg & 250.001 & 15.7063 &  &  & 0.0 & 275 & No\\\\\n",
       "\\hline\n",
       "\\end{tabular}\n",
       "</textarea>\n",
       "</pre>"
      ]
     },
     "metadata": {},
     "output_type": "display_data"
    },
    {
     "data": {
      "text/html": [
       "<hr>"
      ]
     },
     "metadata": {},
     "output_type": "display_data"
    }
   ],
   "source": [
    "asy_data = calc.asymov_dataset()"
   ]
  },
  {
   "cell_type": "code",
   "execution_count": 29,
   "metadata": {},
   "outputs": [
    {
     "data": {
      "image/png": "[encoded data removed]",
      "text/plain": [
       "<Figure size 432x288 with 1 Axes>"
      ]
     },
     "metadata": {},
     "output_type": "display_data"
    }
   ],
   "source": [
    "plt.plot(asy_data[0], asy_data[1], \"o\");"
   ]
  },
  {
   "cell_type": "code",
   "execution_count": 30,
   "metadata": {},
   "outputs": [
    {
     "data": {
      "text/plain": [
       "array([13.73523041, 12.98331642, 12.2725648 , 11.60072218, 10.96565855,\n",
       "       10.3653605 ,  9.79792483,  9.26155256,  8.75454316,  8.2752892 ,\n",
       "        7.82227127,  7.3940531 ,  6.98927707,  6.60665989,  6.24498849,\n",
       "        5.90311623,  5.57995925,  5.27449299,  4.98574901,  4.71281188,\n",
       "        4.45481626,  4.21094422,  3.98042258,  3.76252049,  3.55654711,\n",
       "        3.36184943,  3.17781017,  3.00384586,  2.83940495,  2.68396611,\n",
       "        2.53703653,  2.39815038,  2.26686734,  2.14277118,  2.02546848,\n",
       "        1.91458734,  1.80977621,  1.7107028 ,  1.61705302,  1.52852995,\n",
       "        1.44485293,  1.36575669,  1.29099045,  1.22031717,  1.15351279,\n",
       "        1.09036551,  1.03067513,  0.97425241,  0.92091847,  0.87050421,\n",
       "        0.8228498 ,  0.77780416,  0.73522447,  0.69497574,  0.65693037,\n",
       "        0.62096773,  0.58697381,  0.55484083,  0.52446693,  0.49575579,\n",
       "        0.46861641,  0.44296273,  0.41871342,  0.3957916 ,  0.3741246 ,\n",
       "        0.35364372,  0.33428404,  0.31598418,  0.29868611,  0.282335  ,\n",
       "        0.26687901,  0.25226913,  0.23845904,  0.22540497,  0.21306552,\n",
       "        0.20140158,  0.19037616,  0.17995431,  0.17010299,  0.16079097,\n",
       "        0.15198871,  0.14366833,  0.13580342,  0.12836908,  0.12134171,\n",
       "        0.11469904,  0.10842002,  0.10248474,  0.09687437,  0.09157113,\n",
       "        0.08655821,  0.08181971,  0.07734062,  0.07310673,  0.06910461,\n",
       "        0.06532159,  0.06174566,  0.05836549,  0.05517036,  0.05215014])"
      ]
     },
     "execution_count": 30,
     "metadata": {},
     "output_type": "execute_result"
    }
   ],
   "source": [
    "asy_data[1]"
   ]
  },
  {
   "cell_type": "code",
   "execution_count": 31,
   "metadata": {},
   "outputs": [
    {
     "data": {
      "text/plain": [
       "{'clsb': array([0.45570467, 0.42128745, 0.39619946, 0.37487704, 0.35566821,\n",
       "        0.33794388, 0.32134675, 0.30566533, 0.29076455, 0.27655308,\n",
       "        0.26296635, 0.24995688, 0.23748847, 0.22553262, 0.2140661 ,\n",
       "        0.20306941, 0.19252565, 0.18241982, 0.17273818, 0.16346797,\n",
       "        0.15459708, 0.14611384, 0.13800691, 0.13026517, 0.12287766,\n",
       "        0.11583352, 0.10912197, 0.1027323 , 0.09665385, 0.09087603,\n",
       "        0.08538833, 0.08018032, 0.07524076, 0.07056115, 0.06613054,\n",
       "        0.06193897, 0.05797663, 0.05423388, 0.05070126, 0.04736953,\n",
       "        0.04422963, 0.04127275, 0.03849028, 0.03587387, 0.03341541,\n",
       "        0.03110862, 0.02894274, 0.026912  , 0.02500929, 0.0232278 ,\n",
       "        0.02156094, 0.02000241, 0.01854616, 0.01718638, 0.01591753,\n",
       "        0.0147343 , 0.01363164, 0.01260472, 0.01164895, 0.01075996]),\n",
       " 'clb': array([0.46398866, 0.44516865, 0.43532091, 0.42889515, 0.42423673,\n",
       "        0.42071431, 0.41796631, 0.41577683, 0.4140067 , 0.41256113,\n",
       "        0.41133946, 0.41034953, 0.40953387, 0.40885433, 0.40829277,\n",
       "        0.40783123, 0.40745518, 0.40715274, 0.40691409, 0.40673103,\n",
       "        0.40659667, 0.40650516, 0.40643723, 0.4064161 , 0.40642482,\n",
       "        0.40646018, 0.40651936, 0.40659992, 0.40669968, 0.40681673,\n",
       "        0.40694938, 0.40709611, 0.40725317, 0.40742394, 0.40760514,\n",
       "        0.4077958 , 0.40799505, 0.40820209, 0.4084162 , 0.40863673,\n",
       "        0.40886308, 0.40909475, 0.40933119, 0.40957197, 0.40981668,\n",
       "        0.41007369, 0.41032579, 0.41058081, 0.41083845, 0.41109846,\n",
       "        0.41136057, 0.41162456, 0.41189022, 0.41215736, 0.41242579,\n",
       "        0.41269534, 0.41296587, 0.41323723, 0.41350928, 0.4137819 ]),\n",
       " 'exp': array([0.98334849, 0.95157937, 0.92006372, 0.88883704, 0.85794141,\n",
       "        0.82741762, 0.79730441, 0.76763824, 0.7384532 , 0.70978089,\n",
       "        0.68171334, 0.654168  , 0.62720788, 0.60087179, 0.57517042,\n",
       "        0.55012007, 0.52573457, 0.50202533, 0.47900138, 0.45666951,\n",
       "        0.43503429, 0.41409819, 0.39388212, 0.37434465, 0.35550209,\n",
       "        0.33734954, 0.31988057, 0.30308728, 0.28696045, 0.27148962,\n",
       "        0.25666323, 0.24246873, 0.22889268, 0.21592083, 0.20353829,\n",
       "        0.19172955, 0.18047862, 0.16976911, 0.15958433, 0.14990734,\n",
       "        0.14072105, 0.13200826, 0.12375179, 0.11593448, 0.10853926,\n",
       "        0.10154921, 0.09494763, 0.08871804, 0.08284424, 0.07731034,\n",
       "        0.0721008 , 0.06720044, 0.06259446, 0.05826849, 0.05420857,\n",
       "        0.05040118, 0.04683325, 0.04349214, 0.0403657 , 0.03744221]),\n",
       " 'exp_p1': array([0.99393484, 0.982006  , 0.96969264, 0.95700037, 0.94393911,\n",
       "        0.93052032, 0.91675669, 0.90266207, 0.88825139, 0.87354058,\n",
       "        0.85858069, 0.84333188, 0.82783267, 0.81211241, 0.79618652,\n",
       "        0.78007553, 0.76380041, 0.74738249, 0.73084338, 0.71420483,\n",
       "        0.69748869, 0.68071682, 0.66392823, 0.64711136, 0.63030345,\n",
       "        0.61352554, 0.59679823, 0.5801417 , 0.56357557, 0.54711892,\n",
       "        0.53079014, 0.51460696, 0.49858639, 0.48274463, 0.4670971 ,\n",
       "        0.45165838, 0.43644218, 0.42146135, 0.40672781, 0.39225262,\n",
       "        0.37804588, 0.36411681, 0.35047372, 0.33712401, 0.32407418,\n",
       "        0.31132986, 0.29889583, 0.28677601, 0.27497352, 0.26349066,\n",
       "        0.252329  , 0.24148934, 0.2309718 , 0.2207758 , 0.21090015,\n",
       "        0.20134303, 0.19210205, 0.18317429, 0.17455632, 0.16624427]),\n",
       " 'exp_p2': array([0.9988226 , 0.99643519, 0.99387094, 0.99112122, 0.98817811,\n",
       "        0.98503383, 0.98168077, 0.97811152, 0.97431889, 0.97029597,\n",
       "        0.96604604, 0.96154665, 0.95679739, 0.95179593, 0.946536  ,\n",
       "        0.94101321, 0.93522367, 0.92916406, 0.92283162, 0.9162242 ,\n",
       "        0.90934028, 0.90217897, 0.89474782, 0.88703263, 0.87904145,\n",
       "        0.87077609, 0.86223904, 0.8534335 , 0.84436335, 0.83503314,\n",
       "        0.82544811, 0.81561415, 0.8055378 , 0.79522621, 0.78468716,\n",
       "        0.77392899, 0.7629606 , 0.75179141, 0.74043135, 0.72889079,\n",
       "        0.71718054, 0.70531179, 0.69329611, 0.68114536, 0.66887167,\n",
       "        0.65648743, 0.6440052 , 0.63143771, 0.61879781, 0.60609839,\n",
       "        0.59335242, 0.58057282, 0.56777249, 0.55496424, 0.54216076,\n",
       "        0.52937458, 0.51661806, 0.50390331, 0.4912422 , 0.47864633]),\n",
       " 'exp_m1': array([0.96850092, 0.91019851, 0.85461447, 0.80167426, 0.75131472,\n",
       "        0.70346983, 0.65807015, 0.6150432 , 0.57431392, 0.53580524,\n",
       "        0.49951831, 0.46523132, 0.43291645, 0.40251384, 0.37393292,\n",
       "        0.34709356, 0.32191646, 0.29832344, 0.27623766, 0.25558387,\n",
       "        0.23628857, 0.21828022, 0.20150597, 0.18586532, 0.17130974,\n",
       "        0.15777657, 0.14520555, 0.13353883, 0.12272104, 0.11269921,\n",
       "        0.10342286, 0.09484386, 0.08691649, 0.07959736, 0.07284535,\n",
       "        0.06662156, 0.06088926, 0.05561379, 0.05076254, 0.04630481,\n",
       "        0.04221179, 0.03845646, 0.03501349, 0.03185922, 0.02897151,\n",
       "        0.02632972, 0.0239146 , 0.02170823, 0.01969395, 0.01785628,\n",
       "        0.01618086, 0.01465437, 0.01326447, 0.01199976, 0.0108497 ,\n",
       "        0.00980454, 0.00885532, 0.00799375, 0.00721222, 0.00650371]),\n",
       " 'exp_m2': array([0.95149144, 0.86437787, 0.78456161, 0.71148774, 0.64465602,\n",
       "        0.58359721, 0.52787048, 0.47706222, 0.43078503, 0.38867668,\n",
       "        0.35048151, 0.31573406, 0.28419891, 0.25562421, 0.22974761,\n",
       "        0.20633548, 0.18517189, 0.16605757, 0.14880893, 0.13325705,\n",
       "        0.11924667, 0.10663537, 0.09530363, 0.08510955, 0.07595525,\n",
       "        0.067741  , 0.06037589, 0.05377706, 0.04786916, 0.04258369,\n",
       "        0.03785845, 0.03363705, 0.02986838, 0.02650621, 0.02350871,\n",
       "        0.02083811, 0.01846033, 0.01634463, 0.01446334, 0.01279152,\n",
       "        0.01130679, 0.00998902, 0.00882014, 0.00778395, 0.00686592,\n",
       "        0.00605306, 0.00533373, 0.00469753, 0.00413516, 0.00363834,\n",
       "        0.00319966, 0.00281253, 0.00247107, 0.00217005, 0.00190482,\n",
       "        0.00167125, 0.00146565, 0.00128477, 0.00112572, 0.00098593]),\n",
       " 'cls': array([0.98214612, 0.94635471, 0.91013195, 0.87405287, 0.83837204,\n",
       "        0.80326215, 0.76883409, 0.73516682, 0.70231846, 0.67033237,\n",
       "        0.63929279, 0.60913164, 0.57989947, 0.55162096, 0.52429559,\n",
       "        0.4979251 , 0.47250756, 0.4480378 , 0.42450774, 0.40190682,\n",
       "        0.38022219, 0.35943907, 0.33955281, 0.32052168, 0.30233799,\n",
       "        0.28498123, 0.26842995, 0.25266187, 0.2376541 , 0.22338322,\n",
       "        0.20982544, 0.19695672, 0.1847518 , 0.17318852, 0.16224168,\n",
       "        0.15188722, 0.14210131, 0.13286036, 0.12414116, 0.11592087,\n",
       "        0.10817711, 0.10088799, 0.09403211, 0.08758868, 0.08153746,\n",
       "        0.07586104, 0.07053601, 0.06554617, 0.06087379, 0.05650178,\n",
       "        0.05241372, 0.04859382, 0.04502694, 0.04169859, 0.03859489,\n",
       "        0.03570262, 0.03300913, 0.03050239, 0.02817095, 0.02600393])}"
      ]
     },
     "execution_count": 31,
     "metadata": {},
     "output_type": "execute_result"
    }
   ],
   "source": [
    "calc._scan_nll()"
   ]
  },
  {
   "cell_type": "code",
   "execution_count": 32,
   "metadata": {},
   "outputs": [
    {
     "data": {
      "text/plain": [
       "{'Nsig': array([ 0.1       ,  0.30169492,  0.50338983,  0.70508475,  0.90677966,\n",
       "         1.10847458,  1.31016949,  1.51186441,  1.71355932,  1.91525424,\n",
       "         2.11694915,  2.31864407,  2.52033898,  2.7220339 ,  2.92372881,\n",
       "         3.12542373,  3.32711864,  3.52881356,  3.73050847,  3.93220339,\n",
       "         4.13389831,  4.33559322,  4.53728814,  4.73898305,  4.94067797,\n",
       "         5.14237288,  5.3440678 ,  5.54576271,  5.74745763,  5.94915254,\n",
       "         6.15084746,  6.35254237,  6.55423729,  6.7559322 ,  6.95762712,\n",
       "         7.15932203,  7.36101695,  7.56271186,  7.76440678,  7.96610169,\n",
       "         8.16779661,  8.36949153,  8.57118644,  8.77288136,  8.97457627,\n",
       "         9.17627119,  9.3779661 ,  9.57966102,  9.78135593,  9.98305085,\n",
       "        10.18474576, 10.38644068, 10.58813559, 10.78983051, 10.99152542,\n",
       "        11.19322034, 11.39491525, 11.59661017, 11.79830508, 12.        ])}"
      ]
     },
     "execution_count": 32,
     "metadata": {},
     "output_type": "execute_result"
    }
   ],
   "source": [
    "calc.null_hypothesis.pois"
   ]
  },
  {
   "cell_type": "code",
   "execution_count": 33,
   "metadata": {},
   "outputs": [
    {
     "data": {
      "text/plain": [
       "'Nsig'"
      ]
     },
     "execution_count": 33,
     "metadata": {},
     "output_type": "execute_result"
    }
   ],
   "source": [
    "calc._poi.name"
   ]
  },
  {
   "cell_type": "code",
   "execution_count": 34,
   "metadata": {},
   "outputs": [
    {
     "data": {
      "text/plain": [
       "{0: array([-1052.11923784]),\n",
       " 0.1: array([-1052.11902004]),\n",
       " 0.3016949152542373: array([-1052.11739417]),\n",
       " 0.5033898305084746: array([-1052.11420244]),\n",
       " 0.7050847457627119: array([-1052.10946919]),\n",
       " 0.9067796610169492: array([-1052.10321819]),\n",
       " 1.1084745762711865: array([-1052.09547263]),\n",
       " 1.3101694915254238: array([-1052.08625516]),\n",
       " 1.5118644067796612: array([-1052.07558789]),\n",
       " 1.7135593220338985: array([-1052.06349243]),\n",
       " 1.9152542372881358: array([-1052.04998989]),\n",
       " 2.116949152542373: array([-1052.03513607]),\n",
       " 2.3186440677966105: array([-1052.01889503]),\n",
       " 2.5203389830508476: array([-1052.00130477]),\n",
       " 2.722033898305085: array([-1051.98239632]),\n",
       " 2.9237288135593222: array([-1051.962184]),\n",
       " 3.12542372881356: array([-1051.94068679]),\n",
       " 3.327118644067797: array([-1051.91792327]),\n",
       " 3.528813559322034: array([-1051.89391167]),\n",
       " 3.7305084745762715: array([-1051.86866983]),\n",
       " 3.9322033898305087: array([-1051.84221523]),\n",
       " 4.133898305084745: array([-1051.81456501]),\n",
       " 4.335593220338983: array([-1051.78573597]),\n",
       " 4.53728813559322: array([-1051.75577594]),\n",
       " 4.738983050847458: array([-1051.724642]),\n",
       " 4.940677966101695: array([-1051.69237783]),\n",
       " 5.142372881355932: array([-1051.65899893]),\n",
       " 5.34406779661017: array([-1051.62452048]),\n",
       " 5.545762711864406: array([-1051.58895738]),\n",
       " 5.747457627118644: array([-1051.55232422]),\n",
       " 5.9491525423728815: array([-1051.51463532]),\n",
       " 6.150847457627119: array([-1051.47590473]),\n",
       " 6.352542372881356: array([-1051.43614621]),\n",
       " 6.554237288135593: array([-1051.39537326]),\n",
       " 6.755932203389831: array([-1051.35359916]),\n",
       " 6.9576271186440675: array([-1051.31083688]),\n",
       " 7.159322033898305: array([-1051.26709919]),\n",
       " 7.361016949152543: array([-1051.2223986]),\n",
       " 7.56271186440678: array([-1051.17674739]),\n",
       " 7.764406779661017: array([-1051.13015762]),\n",
       " 7.966101694915254: array([-1051.08264112]),\n",
       " 8.167796610169491: array([-1051.0342095]),\n",
       " 8.36949152542373: array([-1050.98487416]),\n",
       " 8.571186440677966: array([-1050.9346463]),\n",
       " 8.772881355932203: array([-1050.8835369]),\n",
       " 8.974576271186441: array([-1050.83155675]),\n",
       " 9.176271186440678: array([-1050.77871646]),\n",
       " 9.377966101694916: array([-1050.72502643]),\n",
       " 9.579661016949153: array([-1050.67049689]),\n",
       " 9.78135593220339: array([-1050.61513787]),\n",
       " 9.983050847457628: array([-1050.55895925]),\n",
       " 10.184745762711865: array([-1050.50197071]),\n",
       " 10.386440677966101: array([-1050.44418178]),\n",
       " 10.58813559322034: array([-1050.38560181]),\n",
       " 10.789830508474576: array([-1050.32624002]),\n",
       " 10.991525423728813: array([-1050.26610542]),\n",
       " 11.193220338983052: array([-1050.20520691]),\n",
       " 11.394915254237288: array([-1050.14355322]),\n",
       " 11.596610169491525: array([-1050.08115294]),\n",
       " 11.798305084745763: array([-1050.01801451]),\n",
       " 12.0: array([-1049.95414622])}"
      ]
     },
     "execution_count": 34,
     "metadata": {},
     "output_type": "execute_result"
    }
   ],
   "source": [
    "calc._asy_nll"
   ]
  },
  {
   "cell_type": "code",
   "execution_count": 35,
   "metadata": {},
   "outputs": [
    {
     "name": "stdout",
     "output_type": "stream",
     "text": [
      "Observed upper limit: Nsig = 10.310582174678128\n",
      "Expected upper limit: Nsig = 11.113475577293972\n",
      "Expected upper limit +1 sigma: Nsig = 15.463805574461208\n",
      "Expected upper limit -1 sigma: Nsig = 8.006353870088851\n",
      "Expected upper limit +2 sigma: Nsig = 20.73032626099135\n",
      "Expected upper limit -2 sigma: Nsig = 5.963756146385858\n"
     ]
    }
   ],
   "source": [
    "ul = calc.upperlimit(CLs=True)"
   ]
  },
  {
   "cell_type": "code",
   "execution_count": 36,
   "metadata": {},
   "outputs": [
    {
     "data": {
      "image/png": "[encoded data removed]",
      "text/plain": [
       "<Figure size 720x576 with 1 Axes>"
      ]
     },
     "metadata": {},
     "output_type": "display_data"
    }
   ],
   "source": [
    "calc.plot()"
   ]
  },
  {
   "cell_type": "code",
   "execution_count": null,
   "metadata": {},
   "outputs": [],
   "source": []
  },
  {
   "cell_type": "code",
   "execution_count": 37,
   "metadata": {},
   "outputs": [
    {
     "data": {
      "text/plain": [
       "True"
      ]
     },
     "execution_count": 37,
     "metadata": {},
     "output_type": "execute_result"
    }
   ],
   "source": [
    "calc.onesided"
   ]
  },
  {
   "cell_type": "code",
   "execution_count": 38,
   "metadata": {},
   "outputs": [
    {
     "data": {
      "text/plain": [
       "False"
      ]
     },
     "execution_count": 38,
     "metadata": {},
     "output_type": "execute_result"
    }
   ],
   "source": [
    "calc.onesideddiscovery"
   ]
  },
  {
   "cell_type": "code",
   "execution_count": null,
   "metadata": {},
   "outputs": [],
   "source": []
  }
 ],
 "metadata": {
  "kernelspec": {
   "display_name": "Python 3",
   "language": "python",
   "name": "python3"
  },
  "language_info": {
   "codemirror_mode": {
    "name": "ipython",
    "version": 3
   },
   "file_extension": ".py",
   "mimetype": "text/x-python",
   "name": "python",
   "nbconvert_exporter": "python",
   "pygments_lexer": "ipython3",
   "version": "3.7.0"
  }
 },
 "nbformat": 4,
 "nbformat_minor": 2
}
