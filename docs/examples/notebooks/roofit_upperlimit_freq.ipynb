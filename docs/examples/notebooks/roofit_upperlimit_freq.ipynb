{
 "cells": [
  {
   "cell_type": "code",
   "execution_count": 1,
   "metadata": {},
   "outputs": [
    {
     "name": "stdout",
     "output_type": "stream",
     "text": [
      "Welcome to JupyROOT 6.14/06\n"
     ]
    },
    {
     "name": "stderr",
     "output_type": "stream",
     "text": [
      "/usr/local/Cellar/python/3.7.1/Frameworks/Python.framework/Versions/3.7/lib/python3.7/inspect.py:341: RuntimeWarning: creating converter for unknown type \"_Atomic(bool)\"\n",
      "  value = getattr(object, key)\n"
     ]
    }
   ],
   "source": [
    "import numpy as np\n",
    "import matplotlib.pyplot as plt\n",
    "from skhep.dataset.numpydataset import *\n",
    "import uproot\n",
    "from skhep.dataset.selection import Selection\n",
    "import ROOT\n",
    "from Utilities.utilities import destruct_objects\n",
    "from Utilities.RooFit import RooDataset, RemoveEmptyBins\n",
    "from PyLHCb.Root.RooFitUtils import ResidualPlot\n",
    "import probfit\n",
    "import iminuit\n"
   ]
  },
  {
   "cell_type": "code",
   "execution_count": 2,
   "metadata": {},
   "outputs": [],
   "source": [
    "# Proxies for RooFit classes\n",
    "RooFit        = ROOT.RooFit\n",
    "RooRealVar    = ROOT.RooRealVar\n",
    "RooArgList    = ROOT.RooArgList\n",
    "RooArgSet     = ROOT.RooArgSet\n",
    "RooDataSet    = ROOT.RooDataSet\n",
    "RooAddPdf     = ROOT.RooAddPdf\n",
    "RooProdPdf    = ROOT.RooProdPdf\n",
    "RooExtendPdf  = ROOT.RooExtendPdf\n",
    "RooConst      = ROOT.RooFit.RooConst\n",
    "RooConst      = ROOT.RooFit.RooConst\n",
    "RooExponential= ROOT.RooExponential\n",
    "RooStats      = ROOT.RooStats\n",
    "RooGaussian   = ROOT.RooGaussian\n",
    "RooWorkspace  = ROOT.RooWorkspace\n",
    "RooWorkspace.rfimport = getattr(RooWorkspace,'import')"
   ]
  },
  {
   "cell_type": "code",
   "execution_count": 3,
   "metadata": {},
   "outputs": [
    {
     "data": {
      "image/png": "[encoded data removed]",
      "text/plain": [
       "<Figure size 432x288 with 1 Axes>"
      ]
     },
     "metadata": {},
     "output_type": "display_data"
    }
   ],
   "source": [
    "#background only\n",
    "np.random.seed(10)\n",
    "tau = -2.0\n",
    "beta = -1/tau\n",
    "data = np.random.exponential(beta, 1000)\n",
    "data = data[(data > 0.1) & (data < 3)]\n",
    "plt.hist(data, bins=100, histtype='step');"
   ]
  },
  {
   "cell_type": "code",
   "execution_count": 4,
   "metadata": {},
   "outputs": [
    {
     "data": {
      "text/html": [
       "<hr>"
      ]
     },
     "metadata": {},
     "output_type": "display_data"
    },
    {
     "data": {
      "text/html": [
       "<table>\n",
       "    <tr>\n",
       "        <td title=\"Minimum value of function\">FCN = 222.38872101313802</td>\n",
       "        <td title=\"Total number of call to FCN so far\">TOTAL NCALL = 13</td>\n",
       "        <td title=\"Number of call in last migrad\">NCALLS = 13</td>\n",
       "    </tr>\n",
       "    <tr>\n",
       "        <td title=\"Estimated distance to minimum\">EDM = 1.5280688492127692e-06</td>\n",
       "        <td title=\"Maximum EDM definition of convergence\">GOAL EDM = 5e-06</td>\n",
       "        <td title=\"Error def. Amount of increase in FCN to be defined as 1 standard deviation\">\n",
       "        UP = 0.5</td>\n",
       "    </tr>\n",
       "</table>\n",
       "<table>\n",
       "    <tr>\n",
       "        <td align=\"center\" title=\"Validity of the migrad call\">Valid</td>\n",
       "        <td align=\"center\" title=\"Validity of parameters\">Valid Param</td>\n",
       "        <td align=\"center\" title=\"Is Covariance matrix accurate?\">Accurate Covar</td>\n",
       "        <td align=\"center\" title=\"Positive definiteness of covariance matrix\">PosDef</td>\n",
       "        <td align=\"center\" title=\"Was covariance matrix made posdef by adding diagonal element\">Made PosDef</td>\n",
       "    </tr>\n",
       "    <tr>\n",
       "        <td align=\"center\" style=\"background-color:#92CCA6\">True</td>\n",
       "        <td align=\"center\" style=\"background-color:#92CCA6\">True</td>\n",
       "        <td align=\"center\" style=\"background-color:#92CCA6\">True</td>\n",
       "        <td align=\"center\" style=\"background-color:#92CCA6\">True</td>\n",
       "        <td align=\"center\" style=\"background-color:#92CCA6\">False</td>\n",
       "    </tr>\n",
       "    <tr>\n",
       "        <td align=\"center\" title=\"Was last hesse call fail?\">Hesse Fail</td>\n",
       "        <td align=\"center\" title=\"Validity of covariance\">HasCov</td>\n",
       "        <td align=\"center\" title=\"Is EDM above goal EDM?\">Above EDM</td>\n",
       "        <td align=\"center\"></td>\n",
       "        <td align=\"center\" title=\"Did last migrad call reach max call limit?\">Reach calllim</td>\n",
       "    </tr>\n",
       "    <tr>\n",
       "        <td align=\"center\" style=\"background-color:#92CCA6\">False</td>\n",
       "        <td align=\"center\" style=\"background-color:#92CCA6\">True</td>\n",
       "        <td align=\"center\" style=\"background-color:#92CCA6\">False</td>\n",
       "        <td align=\"center\"></td>\n",
       "        <td align=\"center\" style=\"background-color:#92CCA6\">False</td>\n",
       "    </tr>\n",
       "</table>"
      ]
     },
     "metadata": {},
     "output_type": "display_data"
    },
    {
     "data": {
      "text/html": [
       "<table>\n",
       "    <tr>\n",
       "        <td><a href=\"#\" onclick=\"$('#DGtZZyjifq').toggle()\">+</a></td>\n",
       "        <td title=\"Variable name\">Name</td>\n",
       "        <td title=\"Value of parameter\">Value</td>\n",
       "        <td title=\"Hesse error\">Hesse Error</td>\n",
       "        <td title=\"Minos lower error\">Minos Error-</td>\n",
       "        <td title=\"Minos upper error\">Minos Error+</td>\n",
       "        <td title=\"Lower limit of the parameter\">Limit-</td>\n",
       "        <td title=\"Upper limit of the parameter\">Limit+</td>\n",
       "        <td title=\"Is the parameter fixed in the fit\">Fixed?</td>\n",
       "    </tr>\n",
       "    <tr>\n",
       "        <td>0</td>\n",
       "        <td>lambda</td>\n",
       "        <td>2.02211</td>\n",
       "        <td>0.0750389</td>\n",
       "        <td></td>\n",
       "        <td></td>\n",
       "        <td>0</td>\n",
       "        <td>5</td>\n",
       "        <td>No</td>\n",
       "    </tr>\n",
       "</table>\n",
       "<pre id=\"DGtZZyjifq\" style=\"display:none;\">\n",
       "<textarea rows=\"8\" cols=\"50\" onclick=\"this.select()\" readonly>\n",
       "\\begin{tabular}{|c|r|r|r|r|r|r|r|c|}\n",
       "\\hline\n",
       " & Name & Value & Hesse Error & Minos Error- & Minos Error+ & Limit- & Limit+ & Fixed?\\\\\n",
       "\\hline\n",
       "0 & $\\lambda$ & 2.02211 & 0.0750389 &  &  & 0.0 & 5 & No\\\\\n",
       "\\hline\n",
       "\\end{tabular}\n",
       "</textarea>\n",
       "</pre>"
      ]
     },
     "metadata": {},
     "output_type": "display_data"
    },
    {
     "data": {
      "text/html": [
       "<hr>"
      ]
     },
     "metadata": {},
     "output_type": "display_data"
    }
   ],
   "source": [
    "exp_n = probfit.Normalized(probfit.exponential, (0.1,3.))\n",
    "UL_exp = probfit.UnbinnedLH(exp_n, data)\n",
    "\n",
    "initial_params = {\"lambda\":  2.0,  \"limit_lambda\":    (0.0, 5.0) , \"error_lambda\"   : 0.05,}\n",
    "\n",
    "minuit_exp = iminuit.Minuit(UL_exp, **initial_params, pedantic=True)\n",
    "minuit_exp.migrad();"
   ]
  },
  {
   "cell_type": "code",
   "execution_count": 5,
   "metadata": {},
   "outputs": [
    {
     "data": {
      "image/png": "[encoded data removed]",
      "text/plain": [
       "<Figure size 432x288 with 1 Axes>"
      ]
     },
     "metadata": {},
     "output_type": "display_data"
    }
   ],
   "source": [
    "np.random.seed(0)\n",
    "tau = -2.0\n",
    "beta = -1/tau\n",
    "data = np.random.exponential(beta, 300)\n",
    "peak = np.random.normal(1.2, 0.1, 10)\n",
    "data = np.concatenate((data,peak))\n",
    "data = data[(data > 0.1) & (data < 3)]\n",
    "\n",
    "plt.hist(data, bins=100, histtype='step');"
   ]
  },
  {
   "cell_type": "code",
   "execution_count": 6,
   "metadata": {},
   "outputs": [
    {
     "data": {
      "text/plain": [
       "False"
      ]
     },
     "execution_count": 6,
     "metadata": {},
     "output_type": "execute_result"
    },
    {
     "name": "stdout",
     "output_type": "stream",
     "text": [
      "[#1] INFO:ObjectHandling -- RooWorkspace::import(ws) importing RooRealVar::x\n"
     ]
    }
   ],
   "source": [
    "ws = RooWorkspace(\"ws\")\n",
    "x = RooRealVar(\"x\",\"x\",0.1,3.0)\n",
    "ws.rfimport(x)"
   ]
  },
  {
   "cell_type": "code",
   "execution_count": 7,
   "metadata": {},
   "outputs": [
    {
     "name": "stdout",
     "output_type": "stream",
     "text": [
      "DataStore data (data)\n",
      "  Contains 256 entries\n",
      "  Observables: \n",
      "    1)  x = 1.27812  L(0.1 - 3)  \"x\"\n",
      "[#1] INFO:ObjectHandling -- RooWorkspace::import(ws) importing dataset data\n"
     ]
    }
   ],
   "source": [
    "roodataset = RooDataset( \"data\", x) \n",
    "roodataset.fill( data )\n",
    "roodataset.Print('v')\n",
    "roodataset.to_wspace( ws )"
   ]
  },
  {
   "cell_type": "code",
   "execution_count": 8,
   "metadata": {},
   "outputs": [
    {
     "data": {
      "text/plain": [
       "False"
      ]
     },
     "execution_count": 8,
     "metadata": {},
     "output_type": "execute_result"
    },
    {
     "name": "stdout",
     "output_type": "stream",
     "text": [
      "[#1] INFO:ObjectHandling -- RooWorkspace::import(ws) importing RooProdPdf::totpdf_c\n",
      "[#1] INFO:ObjectHandling -- RooWorkspace::import(ws) importing RooAddPdf::totpdf\n",
      "[#1] INFO:ObjectHandling -- RooWorkspace::import(ws) importing RooExtendPdf::gauss_norm\n",
      "[#1] INFO:ObjectHandling -- RooWorkspace::import(ws) importing RooGaussian::signal\n",
      "[#1] INFO:ObjectHandling -- RooWorkspace::import(ws) importing RooConstVar::1.2\n",
      "[#1] INFO:ObjectHandling -- RooWorkspace::import(ws) importing RooConstVar::0.1\n",
      "[#1] INFO:ObjectHandling -- RooWorkspace::import(ws) importing RooRealVar::nsig\n",
      "[#1] INFO:ObjectHandling -- RooWorkspace::import(ws) importing RooExtendPdf::exp_norm\n",
      "[#1] INFO:ObjectHandling -- RooWorkspace::import(ws) importing RooExponential::bkg\n",
      "[#1] INFO:ObjectHandling -- RooWorkspace::import(ws) importing RooRealVar::tau\n",
      "[#1] INFO:ObjectHandling -- RooWorkspace::import(ws) importing RooRealVar::nbkg\n",
      "[#1] INFO:ObjectHandling -- RooWorkspace::import(ws) importing RooGaussian::constraint_tau\n",
      "[#1] INFO:ObjectHandling -- RooWorkspace::import(ws) importing RooConstVar::-2.02211\n",
      "[#1] INFO:ObjectHandling -- RooWorkspace::import(ws) importing RooConstVar::0.0750389\n"
     ]
    }
   ],
   "source": [
    "### signal\n",
    "mean = RooConst(1.2)\n",
    "sigma = RooConst(0.1)\n",
    "gauss = RooGaussian(\"signal\",\"signal\", x, mean, sigma)\n",
    "nsig  = RooRealVar(\"nsig\", \"nsig\", 0, -10, len((data)))\n",
    "gauss_norm = RooExtendPdf(\"gauss_norm\", \"gauss_norm\", gauss, nsig)\n",
    "\n",
    "### background\n",
    "tau = RooRealVar(\"tau\", \"tau\", -2.0, -5, -0.1)\n",
    "exp = RooExponential(\"bkg\",\"bkg\", x, tau)\n",
    "nbkg  = RooRealVar(\"nbkg\", \"nbkg\", len(data), 0, len((data))*1.1)\n",
    "exp_norm = RooExtendPdf(\"exp_norm\", \"exp_norm\", exp, nbkg)\n",
    "\n",
    "constraint_tau = RooGaussian(\"constraint_tau\", \"constraint_tau\", tau, RooConst(-minuit_exp.values[\"lambda\"]), RooConst(minuit_exp.errors[\"lambda\"]))\n",
    "\n",
    "### total\n",
    "totpdf = RooAddPdf(\"totpdf\",\"totpdf\",RooArgList(gauss_norm,exp_norm))\n",
    "\n",
    "#totpdf_c = RooAddPdf(\"totpdf\",\"totpdf\",RooArgList(gauss_norm,exp_norm))\n",
    "\n",
    "totpdf_c = RooProdPdf(\"totpdf_c\", \"totpdf_c\", RooArgList(totpdf, constraint_tau))\n",
    "\n",
    "#ws.rfimport(totpdf)\n",
    "ws.rfimport(totpdf_c)"
   ]
  },
  {
   "cell_type": "code",
   "execution_count": 9,
   "metadata": {},
   "outputs": [
    {
     "name": "stdout",
     "output_type": "stream",
     "text": [
      "\n",
      "RooWorkspace(ws) ws contents\n",
      "\n",
      "variables\n",
      "---------\n",
      "(nbkg,nsig,tau,x)\n",
      "\n",
      "p.d.f.s\n",
      "-------\n",
      "RooExponential::bkg[ x=x c=tau ] = 0.0450492\n",
      "RooGaussian::constraint_tau[ x=tau mean=-2.02211 sigma=0.0750389 ] = 0.957534\n",
      "RooExtendPdf::exp_norm[ pdf=bkg n=nbkg ] = 0.0450492\n",
      "RooExtendPdf::gauss_norm[ pdf=signal n=nsig ] = 0.00218749\n",
      "RooGaussian::signal[ x=x mean=1.2 sigma=0.1 ] = 0.00218749\n",
      "RooAddPdf::totpdf[ gauss_norm + exp_norm ] = 0.0450492\n",
      "RooProdPdf::totpdf_c[ totpdf * constraint_tau ] = 0.0431361\n",
      "\n",
      "datasets\n",
      "--------\n",
      "RooDataSet::data(x)\n",
      "\n"
     ]
    }
   ],
   "source": [
    "ws.Print('V')"
   ]
  },
  {
   "cell_type": "code",
   "execution_count": 10,
   "metadata": {},
   "outputs": [
    {
     "name": "stdout",
     "output_type": "stream",
     "text": [
      "[#1] INFO:Minization --  Including the following contraint terms in minimization: (constraint_tau)\n",
      "[#1] INFO:Fitting -- RooAddition::defaultErrorLevel(nll_totpdf_c_data_with_constr) Summation contains a RooNLLVar, using its error level\n",
      "[#1] INFO:Minization -- RooMinimizer::optimizeConst: activating const optimization\n",
      "[#1] INFO:Minization --  The following expressions have been identified as constant and will be precalculated and cached: (signal)\n",
      "[#1] INFO:Minization --  The following expressions will be evaluated in cache-and-track mode: (gauss_norm,exp_norm)\n",
      " **********\n",
      " **    1 **SET PRINT           1\n",
      " **********\n",
      " **********\n",
      " **    2 **SET NOGRAD\n",
      " **********\n",
      " PARAMETER DEFINITIONS:\n",
      "    NO.   NAME         VALUE      STEP SIZE      LIMITS\n",
      "     1 nbkg         2.56000e+02  1.28000e+01    0.00000e+00  2.81600e+02\n",
      "     2 nsig         0.00000e+00  5.00000e+00   -1.00000e+01  2.56000e+02\n",
      "     3 tau         -2.00000e+00  4.90000e-01   -5.00000e+00 -1.00000e-01\n",
      " **********\n",
      " **    3 **SET ERR         0.5\n",
      " **********\n",
      " **********\n",
      " **    4 **SET PRINT           1\n",
      " **********\n",
      " **********\n",
      " **    5 **SET STR           1\n",
      " **********\n",
      " NOW USING STRATEGY  1: TRY TO BALANCE SPEED AGAINST RELIABILITY\n",
      " **********\n",
      " **    6 **MIGRAD        1500           1\n",
      " **********\n",
      " FIRST CALL TO USER FUNCTION AT NEW START POINT, WITH IFLAG=4.\n",
      " START MIGRAD MINIMIZATION.  STRATEGY  1.  CONVERGENCE WHEN EDM .LT. 1.00e-03\n",
      " FCN=-1078.37 FROM MIGRAD    STATUS=INITIATE       10 CALLS          11 TOTAL\n",
      "                     EDM= unknown      STRATEGY= 1      NO ERROR MATRIX       \n",
      "  EXT PARAMETER               CURRENT GUESS       STEP         FIRST   \n",
      "  NO.   NAME      VALUE            ERROR          SIZE      DERIVATIVE \n",
      "   1  nbkg         2.56000e+02   1.28000e+01   1.63378e-01  -4.20259e-04\n",
      "   2  nsig         0.00000e+00   5.00000e+00   1.02223e-01  -1.21074e+01\n",
      "   3  tau         -2.00000e+00   4.90000e-01   2.06953e-01  -6.80859e+00\n",
      "                               ERR DEF= 0.5\n",
      " MIGRAD MINIMIZATION HAS CONVERGED.\n",
      " MIGRAD WILL VERIFY CONVERGENCE AND ERROR MATRIX.\n",
      " COVARIANCE MATRIX CALCULATED SUCCESSFULLY\n",
      " FCN=-1078.98 FROM MIGRAD    STATUS=CONVERGED      50 CALLS          51 TOTAL\n",
      "                     EDM=4.31849e-06    STRATEGY= 1      ERROR MATRIX ACCURATE \n",
      "  EXT PARAMETER                                   STEP         FIRST   \n",
      "  NO.   NAME      VALUE            ERROR          SIZE      DERIVATIVE \n",
      "   1  nbkg         2.50449e+02   1.64861e+01   4.07914e-03   1.08066e-02\n",
      "   2  nsig         5.58133e+00   5.48902e+00   1.89660e-03  -1.62485e-03\n",
      "   3  tau         -2.00222e+00   6.66482e-02   6.23816e-04   2.59434e-03\n",
      "                               ERR DEF= 0.5\n",
      " EXTERNAL ERROR MATRIX.    NDIM=  25    NPAR=  3    ERR DEF=0.5\n",
      "  2.750e+02 -2.450e+01  6.302e-02 \n",
      " -2.450e+01  3.021e+01 -6.329e-02 \n",
      "  6.302e-02 -6.329e-02  4.443e-03 \n",
      " PARAMETER  CORRELATION COEFFICIENTS  \n",
      "       NO.  GLOBAL      1      2      3\n",
      "        1  0.26898   1.000 -0.269  0.057\n",
      "        2  0.31162  -0.269  1.000 -0.173\n",
      "        3  0.17312   0.057 -0.173  1.000\n",
      " **********\n",
      " **    7 **SET ERR         0.5\n",
      " **********\n",
      " **********\n",
      " **    8 **SET PRINT           1\n",
      " **********\n",
      " **********\n",
      " **    9 **HESSE        1500\n",
      " **********\n",
      " COVARIANCE MATRIX CALCULATED SUCCESSFULLY\n",
      " FCN=-1078.98 FROM HESSE     STATUS=OK             16 CALLS          67 TOTAL\n",
      "                     EDM=4.33417e-06    STRATEGY= 1      ERROR MATRIX ACCURATE \n",
      "  EXT PARAMETER                                INTERNAL      INTERNAL  \n",
      "  NO.   NAME      VALUE            ERROR       STEP SIZE       VALUE   \n",
      "   1  nbkg         2.50449e+02   1.64925e+01   8.15827e-04   8.92684e-01\n",
      "   2  nsig         5.58133e+00   5.49150e+00   3.79320e-04  -1.08189e+00\n",
      "   3  tau         -2.00222e+00   6.66543e-02   1.24763e-04   2.25492e-01\n",
      "                               ERR DEF= 0.5\n",
      " EXTERNAL ERROR MATRIX.    NDIM=  25    NPAR=  3    ERR DEF=0.5\n",
      "  2.752e+02 -2.464e+01  6.349e-02 \n",
      " -2.464e+01  3.023e+01 -6.352e-02 \n",
      "  6.349e-02 -6.352e-02  4.444e-03 \n",
      " PARAMETER  CORRELATION COEFFICIENTS  \n",
      "       NO.  GLOBAL      1      2      3\n",
      "        1  0.27031   1.000 -0.270  0.057\n",
      "        2  0.31294  -0.270  1.000 -0.173\n",
      "        3  0.17363   0.057 -0.173  1.000\n",
      "[#1] INFO:Minization -- RooMinimizer::optimizeConst: deactivating const optimization\n"
     ]
    }
   ],
   "source": [
    "dataset = ws.data(\"data\")\n",
    "fitResult = totpdf_c.fitTo(dataset, ROOT.RooFit.Extended(), ROOT.RooFit.Minos(ROOT.kFALSE), ROOT.RooFit.Save(ROOT.kTRUE), ROOT.RooFit.Constrain(RooArgSet(tau)))"
   ]
  },
  {
   "cell_type": "code",
   "execution_count": 11,
   "metadata": {},
   "outputs": [
    {
     "data": {
      "image/png": "[encoded data removed]",
      "text/plain": [
       "<IPython.core.display.Image object>"
      ]
     },
     "metadata": {},
     "output_type": "display_data"
    }
   ],
   "source": [
    "c = ROOT.TCanvas()\n",
    "frame = x.frame(50)\n",
    "dataset.plotOn( frame, ROOT.RooFit.Name('data_print'))\n",
    "RemoveEmptyBins( frame, 'data_print')\n",
    "totpdf_c.plotOn( frame, ROOT.RooFit.Name('model_print'))\n",
    "frame.Draw()\n",
    "Plot = ResidualPlot('title1', frame)\n",
    "Plot.addResidual( 'data_print', 'model_print', 0.1, 3.0)\n",
    "Plot.plot()\n",
    "Plot.canvas.GetListOfPrimitives().At(0).cd()\n",
    "c.Draw()"
   ]
  },
  {
   "cell_type": "code",
   "execution_count": 12,
   "metadata": {},
   "outputs": [
    {
     "data": {
      "text/plain": [
       "False"
      ]
     },
     "execution_count": 12,
     "metadata": {},
     "output_type": "execute_result"
    }
   ],
   "source": [
    "ws.defineSet('POI', \"nsig\")\n",
    "ws.defineSet('OBS', 'x')\n",
    "ws.defineSet('NUI', 'nbkg,tau')\n",
    "\n",
    "conf = RooStats.ModelConfig('model', ws)\n",
    "conf.SetPdf(ws.pdf('totpdf_c'))\n",
    "conf.SetParametersOfInterest(ws.set('POI'))\n",
    "conf.SetObservables(ws.set('OBS'))\n",
    "conf.SetNuisanceParameters(ws.set('NUI'))\n",
    "\n",
    "POI = ws.set('POI')\n",
    "    \n",
    "poi = POI.first()\n",
    "\n",
    "    \n",
    "#S+B model\n",
    "model_sb = conf\n",
    "model_sb.SetName(\"MODEL_SB\")\n",
    "#poi.setVal(35)\n",
    "model_sb.SetSnapshot(RooArgSet(poi))\n",
    "    \n",
    "#BKG only \n",
    "model_b = conf.Clone()\n",
    "model_b.SetName(\"MODEL_B\")\n",
    "oldval = poi.getVal()\n",
    "poi.setVal(0)\n",
    "model_b.SetSnapshot( RooArgSet(poi) )\n",
    "\n",
    "#poi.setVal(oldval)\n",
    "    \n",
    "ws.rfimport(model_sb)\n",
    "ws.rfimport(model_b)"
   ]
  },
  {
   "cell_type": "code",
   "execution_count": 13,
   "metadata": {},
   "outputs": [
    {
     "name": "stdout",
     "output_type": "stream",
     "text": [
      "RooDataSet::data[x] = 256 entries\n",
      "\n",
      "=== Using the following for MODEL_B ===\n",
      "Observables:             RooArgSet:: = (x)\n",
      "Parameters of Interest:  RooArgSet:: = (nsig)\n",
      "Nuisance Parameters:     RooArgSet:: = (nbkg,tau)\n",
      "PDF:                     RooProdPdf::totpdf_c[ totpdf * constraint_tau ] = 0.0431361\n",
      "Snapshot:                \n",
      "  1) 0x7f977eee7160 RooRealVar:: nsig = 0  L(-10 - 256)  \"nsig\"\n",
      "\n",
      "\n",
      "=== Using the following for MODEL_SB ===\n",
      "Observables:             RooArgSet:: = (x)\n",
      "Parameters of Interest:  RooArgSet:: = (nsig)\n",
      "Nuisance Parameters:     RooArgSet:: = (nbkg,tau)\n",
      "PDF:                     RooProdPdf::totpdf_c[ totpdf * constraint_tau ] = 0.0431361\n",
      "Snapshot:                \n",
      "  1) 0x7f977ef3ddc0 RooRealVar:: nsig = 0  L(-10 - 256)  \"nsig\"\n",
      "\n"
     ]
    }
   ],
   "source": [
    "data = ws.data(\"data\")\n",
    "model_sb = ws.obj('MODEL_SB')\n",
    "model_b = ws.obj('MODEL_B')\n",
    "    \n",
    "data.Print()\n",
    "model_b.Print()\n",
    "model_sb.Print()"
   ]
  },
  {
   "cell_type": "code",
   "execution_count": 14,
   "metadata": {},
   "outputs": [],
   "source": [
    "#Execution\n",
    "calc = ROOT.RooStats.FrequentistCalculator(data, model_b, model_sb)\n",
    "calc.SetToys(2000,1000)\n",
    "\n",
    "#calc = ROOT.RooStats.AsymptoticCalculator(data, model_b, model_sb)\n",
    "#calc = ROOT.RooStats.AsymptoticCalculator(data, model_sb, model_b)\n",
    "#calc.SetOneSided(True)\n",
    "#calc.SetQTilde(False)\n",
    "#calc.SetPrintLevel(0)\n",
    "#calc.SetOneSidedDiscovery(True) "
   ]
  },
  {
   "cell_type": "code",
   "execution_count": 15,
   "metadata": {},
   "outputs": [
    {
     "name": "stdout",
     "output_type": "stream",
     "text": [
      "\n",
      "=== Using the following for MODEL_SB ===\n",
      "Observables:             RooArgSet:: = (x)\n",
      "Parameters of Interest:  RooArgSet:: = (nsig)\n",
      "Nuisance Parameters:     RooArgSet:: = (nbkg,tau)\n",
      "PDF:                     RooProdPdf::totpdf_c[ totpdf * constraint_tau ] = 0.0431361\n",
      "Snapshot:                \n",
      "  1) 0x7f977d7eeb80 RooRealVar:: nsig = 0  L(-10 - 256)  \"nsig\"\n",
      "\n",
      "\n",
      "=== Using the following for MODEL_B ===\n",
      "Observables:             RooArgSet:: = (x)\n",
      "Parameters of Interest:  RooArgSet:: = (nsig)\n",
      "Nuisance Parameters:     RooArgSet:: = (nbkg,tau)\n",
      "PDF:                     RooProdPdf::totpdf_c[ totpdf * constraint_tau ] = 0.0431361\n",
      "Snapshot:                \n",
      "  1) 0x7f977d7eeb80 RooRealVar:: nsig = 0  L(-10 - 256)  \"nsig\"\n",
      "\n",
      "[#0] PROGRESS:Generation -- Test Statistic on data: -6.41876e-10\n",
      "[#1] INFO:InputArguments -- Profiling conditional MLEs for Null.\n",
      "[#1] INFO:InputArguments -- Using a ToyMCSampler. Now configuring for Null.\n",
      "[#0] PROGRESS:Generation -- generated toys: 500 / 2000\n",
      "[#0] PROGRESS:Generation -- generated toys: 1000 / 2000\n",
      "[#0] PROGRESS:Generation -- generated toys: 1500 / 2000\n",
      "[#1] INFO:InputArguments -- Profiling conditional MLEs for Alt.\n",
      "[#1] INFO:InputArguments -- Using a ToyMCSampler. Now configuring for Alt.\n",
      "[#0] PROGRESS:Generation -- generated toys: 500 / 1000\n",
      "\n",
      "Results HypoTestCalculator_result: \n",
      " - Null p-value = 1 +/- 0\n",
      " - Significance = -inf +/- nan sigma\n",
      " - Number of Alt toys: 1000\n",
      " - Number of Null toys: 2000\n",
      " - Test statistic evaluated on data: -6.41876e-10\n",
      " - CL_b: 1 +/- 0\n",
      " - CL_s+b: 1 +/- 0\n",
      " - CL_s: 1 +/- 0\n"
     ]
    }
   ],
   "source": [
    "res = calc.GetHypoTest()\n",
    "#res = ROOT.RooStats.HypoTestInverter(calc)\n",
    "res.Print()"
   ]
  },
  {
   "cell_type": "code",
   "execution_count": 16,
   "metadata": {},
   "outputs": [
    {
     "name": "stdout",
     "output_type": "stream",
     "text": [
      "[#1] INFO:InputArguments -- HypoTestInverter ---- Input models: \n",
      "\t\t using as S+B (null) model     : MODEL_SB\n",
      "\t\t using as B (alternate) model  : MODEL_B\n",
      "\n",
      "[#1] INFO:Eval -- HypoTestInverter::GetInterval - run a fixed scan\n",
      "[#1] INFO:ObjectHandling -- RooWorkspace::saveSnaphot(ws) replacing previous snapshot with name MODEL_SB__snapshot\n",
      "\n",
      "=== Using the following for MODEL_SB ===\n",
      "Observables:             RooArgSet:: = (x)\n",
      "Parameters of Interest:  RooArgSet:: = (nsig)\n",
      "Nuisance Parameters:     RooArgSet:: = (nbkg,tau)\n",
      "PDF:                     RooProdPdf::totpdf_c[ totpdf * constraint_tau ] = 0.0431201\n",
      "Snapshot:                \n",
      "  1) 0x7f977f37d8e0 RooRealVar:: nsig = 0.1  L(-10 - 256)  \"nsig\"\n",
      "\n",
      "\n",
      "=== Using the following for MODEL_B ===\n",
      "Observables:             RooArgSet:: = (x)\n",
      "Parameters of Interest:  RooArgSet:: = (nsig)\n",
      "Nuisance Parameters:     RooArgSet:: = (nbkg,tau)\n",
      "PDF:                     RooProdPdf::totpdf_c[ totpdf * constraint_tau ] = 0.0431201\n",
      "Snapshot:                \n",
      "  1) 0x7f977f37d8e0 RooRealVar:: nsig = 0  L(-10 - 256)  \"nsig\"\n",
      "\n",
      "[#0] PROGRESS:Generation -- Test Statistic on data: 0\n",
      "[#1] INFO:InputArguments -- Profiling conditional MLEs for Null.\n",
      "[#1] INFO:InputArguments -- Using a ToyMCSampler. Now configuring for Null.\n",
      "[#0] PROGRESS:Generation -- generated toys: 500 / 2000\n",
      "[#0] PROGRESS:Generation -- generated toys: 1000 / 2000\n",
      "[#0] PROGRESS:Generation -- generated toys: 1500 / 2000\n",
      "[#1] INFO:InputArguments -- Profiling conditional MLEs for Alt.\n",
      "[#1] INFO:InputArguments -- Using a ToyMCSampler. Now configuring for Alt.\n",
      "[#0] PROGRESS:Generation -- generated toys: 500 / 1000\n",
      "[#1] INFO:ObjectHandling -- RooWorkspace::saveSnaphot(ws) replacing previous snapshot with name MODEL_SB__snapshot\n",
      "\n",
      "=== Using the following for MODEL_SB ===\n",
      "Observables:             RooArgSet:: = (x)\n",
      "Parameters of Interest:  RooArgSet:: = (nsig)\n",
      "Nuisance Parameters:     RooArgSet:: = (nbkg,tau)\n",
      "PDF:                     RooProdPdf::totpdf_c[ totpdf * constraint_tau ] = 0.0426816\n",
      "Snapshot:                \n",
      "  1) 0x7f977f37d520 RooRealVar:: nsig = 2.86667  L(-10 - 256)  \"nsig\"\n",
      "\n",
      "\n",
      "=== Using the following for MODEL_B ===\n",
      "Observables:             RooArgSet:: = (x)\n",
      "Parameters of Interest:  RooArgSet:: = (nsig)\n",
      "Nuisance Parameters:     RooArgSet:: = (nbkg,tau)\n",
      "PDF:                     RooProdPdf::totpdf_c[ totpdf * constraint_tau ] = 0.0426816\n",
      "Snapshot:                \n",
      "  1) 0x7f977f37d520 RooRealVar:: nsig = 0  L(-10 - 256)  \"nsig\"\n",
      "\n",
      "[#0] PROGRESS:Generation -- Test Statistic on data: 0\n",
      "[#1] INFO:InputArguments -- Profiling conditional MLEs for Null.\n",
      "[#1] INFO:InputArguments -- Using a ToyMCSampler. Now configuring for Null.\n",
      "[#0] PROGRESS:Generation -- generated toys: 500 / 2000\n",
      "[#0] PROGRESS:Generation -- generated toys: 1000 / 2000\n",
      "[#0] PROGRESS:Generation -- generated toys: 1500 / 2000\n",
      "[#1] INFO:InputArguments -- Profiling conditional MLEs for Alt.\n",
      "[#1] INFO:InputArguments -- Using a ToyMCSampler. Now configuring for Alt.\n",
      "[#0] PROGRESS:Generation -- generated toys: 500 / 1000\n",
      "[#1] INFO:ObjectHandling -- RooWorkspace::saveSnaphot(ws) replacing previous snapshot with name MODEL_SB__snapshot\n",
      "\n",
      "=== Using the following for MODEL_SB ===\n",
      "Observables:             RooArgSet:: = (x)\n",
      "Parameters of Interest:  RooArgSet:: = (nsig)\n",
      "Nuisance Parameters:     RooArgSet:: = (nbkg,tau)\n",
      "PDF:                     RooProdPdf::totpdf_c[ totpdf * constraint_tau ] = 0.0422524\n",
      "Snapshot:                \n",
      "  1) 0x7f977f25c150 RooRealVar:: nsig = 5.63333  L(-10 - 256)  \"nsig\"\n",
      "\n",
      "\n",
      "=== Using the following for MODEL_B ===\n",
      "Observables:             RooArgSet:: = (x)\n",
      "Parameters of Interest:  RooArgSet:: = (nsig)\n",
      "Nuisance Parameters:     RooArgSet:: = (nbkg,tau)\n",
      "PDF:                     RooProdPdf::totpdf_c[ totpdf * constraint_tau ] = 0.0422524\n",
      "Snapshot:                \n",
      "  1) 0x7f977f25c150 RooRealVar:: nsig = 0  L(-10 - 256)  \"nsig\"\n",
      "\n",
      "[#0] PROGRESS:Generation -- Test Statistic on data: 3.79714e-05\n",
      "[#1] INFO:InputArguments -- Profiling conditional MLEs for Null.\n",
      "[#1] INFO:InputArguments -- Using a ToyMCSampler. Now configuring for Null.\n",
      "[#0] PROGRESS:Generation -- generated toys: 500 / 2000\n",
      "[#0] PROGRESS:Generation -- generated toys: 1000 / 2000\n",
      "[#0] PROGRESS:Generation -- generated toys: 1500 / 2000\n",
      "[#1] INFO:InputArguments -- Profiling conditional MLEs for Alt.\n",
      "[#1] INFO:InputArguments -- Using a ToyMCSampler. Now configuring for Alt.\n",
      "[#0] PROGRESS:Generation -- generated toys: 500 / 1000\n",
      "[#1] INFO:ObjectHandling -- RooWorkspace::saveSnaphot(ws) replacing previous snapshot with name MODEL_SB__snapshot\n",
      "\n",
      "=== Using the following for MODEL_SB ===\n",
      "Observables:             RooArgSet:: = (x)\n",
      "Parameters of Interest:  RooArgSet:: = (nsig)\n",
      "Nuisance Parameters:     RooArgSet:: = (nbkg,tau)\n",
      "PDF:                     RooProdPdf::totpdf_c[ totpdf * constraint_tau ] = 0.0418322\n",
      "Snapshot:                \n",
      "  1) 0x7f977f220f10 RooRealVar:: nsig = 8.4  L(-10 - 256)  \"nsig\"\n",
      "\n",
      "\n",
      "=== Using the following for MODEL_B ===\n",
      "Observables:             RooArgSet:: = (x)\n",
      "Parameters of Interest:  RooArgSet:: = (nsig)\n",
      "Nuisance Parameters:     RooArgSet:: = (nbkg,tau)\n",
      "PDF:                     RooProdPdf::totpdf_c[ totpdf * constraint_tau ] = 0.0418322\n",
      "Snapshot:                \n",
      "  1) 0x7f977f21b1b0 RooRealVar:: nsig = 0  L(-10 - 256)  \"nsig\"\n",
      "\n",
      "[#0] PROGRESS:Generation -- Test Statistic on data: 0.122879\n",
      "[#1] INFO:InputArguments -- Profiling conditional MLEs for Null.\n",
      "[#1] INFO:InputArguments -- Using a ToyMCSampler. Now configuring for Null.\n",
      "[#0] PROGRESS:Generation -- generated toys: 500 / 2000\n",
      "[#0] PROGRESS:Generation -- generated toys: 1000 / 2000\n",
      "[#0] PROGRESS:Generation -- generated toys: 1500 / 2000\n",
      "[#1] INFO:InputArguments -- Profiling conditional MLEs for Alt.\n",
      "[#1] INFO:InputArguments -- Using a ToyMCSampler. Now configuring for Alt.\n",
      "[#0] PROGRESS:Generation -- generated toys: 500 / 1000\n",
      "[#1] INFO:ObjectHandling -- RooWorkspace::saveSnaphot(ws) replacing previous snapshot with name MODEL_SB__snapshot\n",
      "\n",
      "=== Using the following for MODEL_SB ===\n",
      "Observables:             RooArgSet:: = (x)\n",
      "Parameters of Interest:  RooArgSet:: = (nsig)\n",
      "Nuisance Parameters:     RooArgSet:: = (nbkg,tau)\n",
      "PDF:                     RooProdPdf::totpdf_c[ totpdf * constraint_tau ] = 0.0414207\n",
      "Snapshot:                \n",
      "  1) 0x7f977f37e880 RooRealVar:: nsig = 11.1667  L(-10 - 256)  \"nsig\"\n",
      "\n",
      "\n",
      "=== Using the following for MODEL_B ===\n",
      "Observables:             RooArgSet:: = (x)\n",
      "Parameters of Interest:  RooArgSet:: = (nsig)\n",
      "Nuisance Parameters:     RooArgSet:: = (nbkg,tau)\n",
      "PDF:                     RooProdPdf::totpdf_c[ totpdf * constraint_tau ] = 0.0414207\n",
      "Snapshot:                \n",
      "  1) 0x7f977f37e880 RooRealVar:: nsig = 0  L(-10 - 256)  \"nsig\"\n",
      "\n",
      "[#0] PROGRESS:Generation -- Test Statistic on data: 0.455659\n",
      "[#1] INFO:InputArguments -- Profiling conditional MLEs for Null.\n",
      "[#1] INFO:InputArguments -- Using a ToyMCSampler. Now configuring for Null.\n",
      "[#0] PROGRESS:Generation -- generated toys: 500 / 2000\n",
      "[#0] PROGRESS:Generation -- generated toys: 1000 / 2000\n",
      "[#0] PROGRESS:Generation -- generated toys: 1500 / 2000\n",
      "[#1] INFO:InputArguments -- Profiling conditional MLEs for Alt.\n",
      "[#1] INFO:InputArguments -- Using a ToyMCSampler. Now configuring for Alt.\n",
      "[#0] PROGRESS:Generation -- generated toys: 500 / 1000\n",
      "[#1] INFO:ObjectHandling -- RooWorkspace::saveSnaphot(ws) replacing previous snapshot with name MODEL_SB__snapshot\n",
      "\n",
      "=== Using the following for MODEL_SB ===\n",
      "Observables:             RooArgSet:: = (x)\n",
      "Parameters of Interest:  RooArgSet:: = (nsig)\n",
      "Nuisance Parameters:     RooArgSet:: = (nbkg,tau)\n",
      "PDF:                     RooProdPdf::totpdf_c[ totpdf * constraint_tau ] = 0.0410177\n",
      "Snapshot:                \n",
      "  1) 0x7f977ecfad50 RooRealVar:: nsig = 13.9333  L(-10 - 256)  \"nsig\"\n",
      "\n",
      "\n",
      "=== Using the following for MODEL_B ===\n",
      "Observables:             RooArgSet:: = (x)\n",
      "Parameters of Interest:  RooArgSet:: = (nsig)\n",
      "Nuisance Parameters:     RooArgSet:: = (nbkg,tau)\n",
      "PDF:                     RooProdPdf::totpdf_c[ totpdf * constraint_tau ] = 0.0410177\n",
      "Snapshot:                \n",
      "  1) 0x7f977f21b1b0 RooRealVar:: nsig = 0  L(-10 - 256)  \"nsig\"\n",
      "\n",
      "[#0] PROGRESS:Generation -- Test Statistic on data: 0.965277\n",
      "[#1] INFO:InputArguments -- Profiling conditional MLEs for Null.\n",
      "[#1] INFO:InputArguments -- Using a ToyMCSampler. Now configuring for Null.\n",
      "[#0] PROGRESS:Generation -- generated toys: 500 / 2000\n",
      "[#0] PROGRESS:Generation -- generated toys: 1000 / 2000\n",
      "[#0] PROGRESS:Generation -- generated toys: 1500 / 2000\n",
      "[#1] INFO:InputArguments -- Profiling conditional MLEs for Alt.\n",
      "[#1] INFO:InputArguments -- Using a ToyMCSampler. Now configuring for Alt.\n",
      "[#0] PROGRESS:Generation -- generated toys: 500 / 1000\n",
      "[#1] INFO:ObjectHandling -- RooWorkspace::saveSnaphot(ws) replacing previous snapshot with name MODEL_SB__snapshot\n",
      "\n",
      "=== Using the following for MODEL_SB ===\n",
      "Observables:             RooArgSet:: = (x)\n",
      "Parameters of Interest:  RooArgSet:: = (nsig)\n",
      "Nuisance Parameters:     RooArgSet:: = (nbkg,tau)\n",
      "PDF:                     RooProdPdf::totpdf_c[ totpdf * constraint_tau ] = 0.0406228\n",
      "Snapshot:                \n",
      "  1) 0x7f977f3831d0 RooRealVar:: nsig = 16.7  L(-10 - 256)  \"nsig\"\n",
      "\n",
      "\n",
      "=== Using the following for MODEL_B ===\n",
      "Observables:             RooArgSet:: = (x)\n",
      "Parameters of Interest:  RooArgSet:: = (nsig)\n",
      "Nuisance Parameters:     RooArgSet:: = (nbkg,tau)\n",
      "PDF:                     RooProdPdf::totpdf_c[ totpdf * constraint_tau ] = 0.0406228\n",
      "Snapshot:                \n",
      "  1) 0x7f977f3831d0 RooRealVar:: nsig = 0  L(-10 - 256)  \"nsig\"\n",
      "\n",
      "[#0] PROGRESS:Generation -- Test Statistic on data: 1.6259\n",
      "[#1] INFO:InputArguments -- Profiling conditional MLEs for Null.\n",
      "[#1] INFO:InputArguments -- Using a ToyMCSampler. Now configuring for Null.\n",
      "[#0] PROGRESS:Generation -- generated toys: 500 / 2000\n",
      "[#0] PROGRESS:Generation -- generated toys: 1000 / 2000\n",
      "[#0] PROGRESS:Generation -- generated toys: 1500 / 2000\n",
      "[#1] INFO:InputArguments -- Profiling conditional MLEs for Alt.\n",
      "[#1] INFO:InputArguments -- Using a ToyMCSampler. Now configuring for Alt.\n",
      "[#0] PROGRESS:Generation -- generated toys: 500 / 1000\n",
      "[#1] INFO:ObjectHandling -- RooWorkspace::saveSnaphot(ws) replacing previous snapshot with name MODEL_SB__snapshot\n",
      "\n",
      "=== Using the following for MODEL_SB ===\n",
      "Observables:             RooArgSet:: = (x)\n",
      "Parameters of Interest:  RooArgSet:: = (nsig)\n",
      "Nuisance Parameters:     RooArgSet:: = (nbkg,tau)\n",
      "PDF:                     RooProdPdf::totpdf_c[ totpdf * constraint_tau ] = 0.0402358\n",
      "Snapshot:                \n",
      "  1) 0x7f977f37f950 RooRealVar:: nsig = 19.4667  L(-10 - 256)  \"nsig\"\n",
      "\n",
      "\n",
      "=== Using the following for MODEL_B ===\n",
      "Observables:             RooArgSet:: = (x)\n",
      "Parameters of Interest:  RooArgSet:: = (nsig)\n",
      "Nuisance Parameters:     RooArgSet:: = (nbkg,tau)\n",
      "PDF:                     RooProdPdf::totpdf_c[ totpdf * constraint_tau ] = 0.0402358\n",
      "Snapshot:                \n",
      "  1) 0x7f977f37f950 RooRealVar:: nsig = 0  L(-10 - 256)  \"nsig\"\n",
      "\n",
      "[#0] PROGRESS:Generation -- Test Statistic on data: 2.41708\n",
      "[#1] INFO:InputArguments -- Profiling conditional MLEs for Null.\n",
      "[#1] INFO:InputArguments -- Using a ToyMCSampler. Now configuring for Null.\n",
      "[#0] PROGRESS:Generation -- generated toys: 500 / 2000\n",
      "[#0] PROGRESS:Generation -- generated toys: 1000 / 2000\n",
      "[#0] PROGRESS:Generation -- generated toys: 1500 / 2000\n",
      "[#1] INFO:InputArguments -- Profiling conditional MLEs for Alt.\n",
      "[#1] INFO:InputArguments -- Using a ToyMCSampler. Now configuring for Alt.\n",
      "[#0] PROGRESS:Generation -- generated toys: 500 / 1000\n",
      "[#1] INFO:ObjectHandling -- RooWorkspace::saveSnaphot(ws) replacing previous snapshot with name MODEL_SB__snapshot\n",
      "\n",
      "=== Using the following for MODEL_SB ===\n",
      "Observables:             RooArgSet:: = (x)\n",
      "Parameters of Interest:  RooArgSet:: = (nsig)\n",
      "Nuisance Parameters:     RooArgSet:: = (nbkg,tau)\n",
      "PDF:                     RooProdPdf::totpdf_c[ totpdf * constraint_tau ] = 0.0398565\n",
      "Snapshot:                \n",
      "  1) 0x7f977f25e7e0 RooRealVar:: nsig = 22.2333  L(-10 - 256)  \"nsig\"\n",
      "\n",
      "\n",
      "=== Using the following for MODEL_B ===\n",
      "Observables:             RooArgSet:: = (x)\n",
      "Parameters of Interest:  RooArgSet:: = (nsig)\n",
      "Nuisance Parameters:     RooArgSet:: = (nbkg,tau)\n",
      "PDF:                     RooProdPdf::totpdf_c[ totpdf * constraint_tau ] = 0.0398565\n",
      "Snapshot:                \n",
      "  1) 0x7f977f25e7e0 RooRealVar:: nsig = 0  L(-10 - 256)  \"nsig\"\n",
      "\n",
      "[#0] PROGRESS:Generation -- Test Statistic on data: 3.32227\n",
      "[#1] INFO:InputArguments -- Profiling conditional MLEs for Null.\n",
      "[#1] INFO:InputArguments -- Using a ToyMCSampler. Now configuring for Null.\n",
      "[#0] PROGRESS:Generation -- generated toys: 500 / 2000\n",
      "[#0] PROGRESS:Generation -- generated toys: 1000 / 2000\n",
      "[#0] PROGRESS:Generation -- generated toys: 1500 / 2000\n",
      "[#1] INFO:InputArguments -- Profiling conditional MLEs for Alt.\n",
      "[#1] INFO:InputArguments -- Using a ToyMCSampler. Now configuring for Alt.\n",
      "[#0] PROGRESS:Generation -- generated toys: 500 / 1000\n",
      "[#1] INFO:ObjectHandling -- RooWorkspace::saveSnaphot(ws) replacing previous snapshot with name MODEL_SB__snapshot\n",
      "\n",
      "=== Using the following for MODEL_SB ===\n",
      "Observables:             RooArgSet:: = (x)\n",
      "Parameters of Interest:  RooArgSet:: = (nsig)\n",
      "Nuisance Parameters:     RooArgSet:: = (nbkg,tau)\n",
      "PDF:                     RooProdPdf::totpdf_c[ totpdf * constraint_tau ] = 0.0394847\n",
      "Snapshot:                \n",
      "  1) 0x7f977f220f10 RooRealVar:: nsig = 25  L(-10 - 256)  \"nsig\"\n",
      "\n",
      "\n",
      "=== Using the following for MODEL_B ===\n",
      "Observables:             RooArgSet:: = (x)\n",
      "Parameters of Interest:  RooArgSet:: = (nsig)\n",
      "Nuisance Parameters:     RooArgSet:: = (nbkg,tau)\n",
      "PDF:                     RooProdPdf::totpdf_c[ totpdf * constraint_tau ] = 0.0394847\n",
      "Snapshot:                \n",
      "  1) 0x7f977f21b1b0 RooRealVar:: nsig = 0  L(-10 - 256)  \"nsig\"\n",
      "\n",
      "[#0] PROGRESS:Generation -- Test Statistic on data: 4.32796\n",
      "[#1] INFO:InputArguments -- Profiling conditional MLEs for Null.\n",
      "[#1] INFO:InputArguments -- Using a ToyMCSampler. Now configuring for Null.\n",
      "[#0] PROGRESS:Generation -- generated toys: 500 / 2000\n",
      "[#0] PROGRESS:Generation -- generated toys: 1000 / 2000\n",
      "[#0] PROGRESS:Generation -- generated toys: 1500 / 2000\n",
      "[#1] INFO:InputArguments -- Profiling conditional MLEs for Alt.\n",
      "[#1] INFO:InputArguments -- Using a ToyMCSampler. Now configuring for Alt.\n",
      "[#0] PROGRESS:Generation -- generated toys: 500 / 1000\n",
      "OBJ: RooStats::HypoTestInverterResult\tresult_nsig\tHypoTestInverter Result For nsig\n"
     ]
    }
   ],
   "source": [
    "test = RooStats.HypoTestInverter(calc)\n",
    "test.SetConfidenceLevel(0.95)\n",
    "test.UseCLs(True)\n",
    "    \n",
    "toysmc = test.GetHypoTestCalculator().GetTestStatSampler()\n",
    "#RooStats.ProfileLikelihoodTestStat.SetAlwaysReuseNLL(True)\n",
    "profil = RooStats.ProfileLikelihoodTestStat(model_sb.GetPdf())\n",
    "profil.SetOneSided(True)\n",
    "toysmc.SetTestStatistic(profil)\n",
    "\n",
    "test.SetFixedScan(10, 0.1, 25)\n",
    "r = test.GetInterval()\n",
    "r.Print()"
   ]
  },
  {
   "cell_type": "code",
   "execution_count": 17,
   "metadata": {},
   "outputs": [
    {
     "name": "stderr",
     "output_type": "stream",
     "text": [
      "WARNING:ROOT.TROOT.Append] Replacing existing TH1: CLs_observed (Potential memory leak).\n",
      "WARNING:ROOT.TROOT.Append] Replacing existing TH1: CLb_observed (Potential memory leak).\n",
      "WARNING:ROOT.TROOT.Append] Replacing existing TH1: CLs+b_observed (Potential memory leak).\n"
     ]
    },
    {
     "data": {
      "image/png": "[encoded data removed]",
      "text/plain": [
       "<IPython.core.display.Image object>"
      ]
     },
     "metadata": {},
     "output_type": "display_data"
    }
   ],
   "source": [
    "plot = RooStats.HypoTestInverterPlot(\"alla\",\"blabal\", r)\n",
    "c = ROOT.TCanvas(\"Scan\")\n",
    "plot.Draw(\"CLb 2CL\")\n",
    "c.Draw()"
   ]
  },
  {
   "cell_type": "code",
   "execution_count": 18,
   "metadata": {},
   "outputs": [
    {
     "name": "stdout",
     "output_type": "stream",
     "text": [
      "\n",
      " \n",
      "\n",
      "Obs upper limit 16.382819474974937\n",
      "Exp upper limit 11.011862593926317\n",
      "Exp upper limit 1sigma 15.991908030292118\n",
      "Exp upper limit 2sigma 20.580431964287484\n",
      "Exp upper limit -1sigma 8.06197012259569\n",
      "Exp upper limit -2sigma 7.3961160086804\n"
     ]
    }
   ],
   "source": [
    "print(\"\\n \\n\")\n",
    "print(\"Obs upper limit {0}\".format(r.UpperLimit()))\n",
    "print(\"Exp upper limit {0}\".format(r.GetExpectedUpperLimit(0)))\n",
    "print(\"Exp upper limit 1sigma {0}\".format(r.GetExpectedUpperLimit(1)))\n",
    "print(\"Exp upper limit 2sigma {0}\".format(r.GetExpectedUpperLimit(2)))\n",
    "print(\"Exp upper limit -1sigma {0}\".format(r.GetExpectedUpperLimit(-1)))\n",
    "print(\"Exp upper limit -2sigma {0}\".format(r.GetExpectedUpperLimit(-2)))"
   ]
  },
  {
   "cell_type": "markdown",
   "metadata": {},
   "source": [
    "#### "
   ]
  }
 ],
 "metadata": {
  "kernelspec": {
   "display_name": "Python 3",
   "language": "python",
   "name": "python3"
  },
  "language_info": {
   "codemirror_mode": {
    "name": "ipython",
    "version": 3
   },
   "file_extension": ".py",
   "mimetype": "text/x-python",
   "name": "python",
   "nbconvert_exporter": "python",
   "pygments_lexer": "ipython3",
   "version": "3.6.7"
  }
 },
 "nbformat": 4,
 "nbformat_minor": 2
}
