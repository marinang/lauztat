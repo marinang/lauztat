{
 "cells": [
  {
   "cell_type": "markdown",
   "metadata": {},
   "source": [
    "# Example of upper limit computation."
   ]
  },
  {
   "cell_type": "code",
   "execution_count": 1,
   "metadata": {},
   "outputs": [],
   "source": [
    "import numpy as np\n",
    "import matplotlib.pyplot as plt\n",
    "import probfit\n",
    "import iminuit\n",
    "import math\n",
    "from statnight.utils.wrappers import ModelWrapper, LossFunctionWrapper, MinuitWrapper\n",
    "from statnight.parameters import Observable, Variable, Constant, POI, GaussianConstrained\n",
    "from statnight.utils.stats import integrate1d\n",
    "from statnight.hypothesis import Hypothesis\n",
    "from statnight.hypotest import UpperLimit\n",
    "from statnight.calculators import AsymptoticCalculator"
   ]
  },
  {
   "cell_type": "markdown",
   "metadata": {},
   "source": [
    "## Scenario\n",
    "\n",
    "Let's assume you want to find a resonnance between 0.1 and 3.0 GeV/c$^2$ of invariant mass of a system.\n",
    "\n",
    "You have a signal region and a background only region:"
   ]
  },
  {
   "cell_type": "code",
   "execution_count": 2,
   "metadata": {},
   "outputs": [
    {
     "data": {
      "image/png": "[encoded data removed]",
      "text/plain": [
       "<Figure size 432x288 with 1 Axes>"
      ]
     },
     "metadata": {},
     "output_type": "display_data"
    }
   ],
   "source": [
    "bounds = (0.1,3.0)\n",
    "\n",
    "#background only\n",
    "np.random.seed(10)\n",
    "tau = 2.0\n",
    "beta = 1./tau\n",
    "data = np.random.exponential(beta, 1000)\n",
    "\n",
    "data_bkg = data[(data > bounds[0]) & (data < bounds[1])]\n",
    "plt.hist(data_bkg, bins=100, histtype='step');"
   ]
  },
  {
   "cell_type": "code",
   "execution_count": 3,
   "metadata": {},
   "outputs": [],
   "source": [
    "#signal + background\n",
    "\n",
    "np.random.seed(0)\n",
    "tau = -2.0\n",
    "beta = -1/tau\n",
    "data = np.random.exponential(beta, 300)\n",
    "peak = np.random.normal(1.2, 0.1, 4)\n",
    "data = np.concatenate((data,peak))\n",
    "data = data[(data > 0.1) & (data < 3)]"
   ]
  },
  {
   "cell_type": "markdown",
   "metadata": {},
   "source": [
    "### Background fit, in background only region:\n",
    "\n",
    "The background model is an exponential."
   ]
  },
  {
   "cell_type": "code",
   "execution_count": 4,
   "metadata": {},
   "outputs": [],
   "source": [
    "exp = probfit.Normalized(probfit.exponential, bounds)\n",
    "\n",
    "model_bkg = ModelWrapper(exp)\n",
    "model_bkg.add_obs(Observable(\"x\", range = bounds))\n",
    "tau = Variable(\"tau\", range=(0.1, 5.0), initvalue=0.5,       initstep=0.05)\n",
    "model_bkg.add_vars(tau)\n",
    "\n",
    "LH_bkg = LossFunctionWrapper(probfit.UnbinnedLH(model_bkg, data_bkg))\n",
    "minuit_bkg = MinuitWrapper(LH_bkg)"
   ]
  },
  {
   "cell_type": "code",
   "execution_count": 5,
   "metadata": {},
   "outputs": [
    {
     "data": {
      "text/html": [
       "<hr>"
      ]
     },
     "metadata": {},
     "output_type": "display_data"
    },
    {
     "data": {
      "text/html": [
       "<table>\n",
       "    <tr>\n",
       "        <td title=\"Minimum value of function\">FCN = 222.38871948523126</td>\n",
       "        <td title=\"Total number of call to FCN so far\">TOTAL NCALL = 25</td>\n",
       "        <td title=\"Number of call in last migrad\">NCALLS = 25</td>\n",
       "    </tr>\n",
       "    <tr>\n",
       "        <td title=\"Estimated distance to minimum\">EDM = 1.4889124356544732e-10</td>\n",
       "        <td title=\"Maximum EDM definition of convergence\">GOAL EDM = 5e-06</td>\n",
       "        <td title=\"Error def. Amount of increase in FCN to be defined as 1 standard deviation\">\n",
       "        UP = 0.5</td>\n",
       "    </tr>\n",
       "</table>\n",
       "<table>\n",
       "    <tr>\n",
       "        <td align=\"center\" title=\"Validity of the migrad call\">Valid</td>\n",
       "        <td align=\"center\" title=\"Validity of parameters\">Valid Param</td>\n",
       "        <td align=\"center\" title=\"Is Covariance matrix accurate?\">Accurate Covar</td>\n",
       "        <td align=\"center\" title=\"Positive definiteness of covariance matrix\">PosDef</td>\n",
       "        <td align=\"center\" title=\"Was covariance matrix made posdef by adding diagonal element\">Made PosDef</td>\n",
       "    </tr>\n",
       "    <tr>\n",
       "        <td align=\"center\" style=\"background-color:#92CCA6\">True</td>\n",
       "        <td align=\"center\" style=\"background-color:#92CCA6\">True</td>\n",
       "        <td align=\"center\" style=\"background-color:#92CCA6\">True</td>\n",
       "        <td align=\"center\" style=\"background-color:#92CCA6\">True</td>\n",
       "        <td align=\"center\" style=\"background-color:#92CCA6\">False</td>\n",
       "    </tr>\n",
       "    <tr>\n",
       "        <td align=\"center\" title=\"Was last hesse call fail?\">Hesse Fail</td>\n",
       "        <td align=\"center\" title=\"Validity of covariance\">HasCov</td>\n",
       "        <td align=\"center\" title=\"Is EDM above goal EDM?\">Above EDM</td>\n",
       "        <td align=\"center\"></td>\n",
       "        <td align=\"center\" title=\"Did last migrad call reach max call limit?\">Reach calllim</td>\n",
       "    </tr>\n",
       "    <tr>\n",
       "        <td align=\"center\" style=\"background-color:#92CCA6\">False</td>\n",
       "        <td align=\"center\" style=\"background-color:#92CCA6\">True</td>\n",
       "        <td align=\"center\" style=\"background-color:#92CCA6\">False</td>\n",
       "        <td align=\"center\"></td>\n",
       "        <td align=\"center\" style=\"background-color:#92CCA6\">False</td>\n",
       "    </tr>\n",
       "</table>"
      ]
     },
     "metadata": {},
     "output_type": "display_data"
    },
    {
     "data": {
      "text/html": [
       "<table>\n",
       "    <tr>\n",
       "        <td><a href=\"#\" onclick=\"$('#CRTQPtGWkI').toggle()\">+</a></td>\n",
       "        <td title=\"Variable name\">Name</td>\n",
       "        <td title=\"Value of parameter\">Value</td>\n",
       "        <td title=\"Hesse error\">Hesse Error</td>\n",
       "        <td title=\"Minos lower error\">Minos Error-</td>\n",
       "        <td title=\"Minos upper error\">Minos Error+</td>\n",
       "        <td title=\"Lower limit of the parameter\">Limit-</td>\n",
       "        <td title=\"Upper limit of the parameter\">Limit+</td>\n",
       "        <td title=\"Is the parameter fixed in the fit\">Fixed?</td>\n",
       "    </tr>\n",
       "    <tr>\n",
       "        <td>0</td>\n",
       "        <td>tau</td>\n",
       "        <td>2.02224</td>\n",
       "        <td>0.0750417</td>\n",
       "        <td></td>\n",
       "        <td></td>\n",
       "        <td>0.1</td>\n",
       "        <td>5</td>\n",
       "        <td>No</td>\n",
       "    </tr>\n",
       "</table>\n",
       "<pre id=\"CRTQPtGWkI\" style=\"display:none;\">\n",
       "<textarea rows=\"8\" cols=\"50\" onclick=\"this.select()\" readonly>\n",
       "\\begin{tabular}{|c|r|r|r|r|r|r|r|c|}\n",
       "\\hline\n",
       " & Name & Value & Hesse Error & Minos Error- & Minos Error+ & Limit- & Limit+ & Fixed?\\\\\n",
       "\\hline\n",
       "0 & $\\tau$ & 2.02224 & 0.0750417 &  &  & 0.1 & 5 & No\\\\\n",
       "\\hline\n",
       "\\end{tabular}\n",
       "</textarea>\n",
       "</pre>"
      ]
     },
     "metadata": {},
     "output_type": "display_data"
    },
    {
     "data": {
      "text/html": [
       "<hr>"
      ]
     },
     "metadata": {},
     "output_type": "display_data"
    }
   ],
   "source": [
    "minuit_bkg.migrad();"
   ]
  },
  {
   "cell_type": "code",
   "execution_count": 6,
   "metadata": {},
   "outputs": [],
   "source": [
    "tauval = minuit_bkg.values[\"tau\"]\n",
    "tauerr = minuit_bkg.errors[\"tau\"]"
   ]
  },
  {
   "cell_type": "markdown",
   "metadata": {},
   "source": [
    "### Signal + background fit in signal region:\n",
    "\n",
    "The total model is a sum of a gaussian and an exponential. The tau parameter of the exponential will be constrained to the value obtained in the background only region."
   ]
  },
  {
   "cell_type": "code",
   "execution_count": 7,
   "metadata": {},
   "outputs": [],
   "source": [
    "bkg_pdf = model_bkg\n",
    "sig_pdf = probfit.Normalized(probfit.gaussian, bounds)\n",
    "bkg_pdf_ext = probfit.Extended(bkg_pdf, \"Nbkg\")\n",
    "sig_pdf_ext = probfit.Extended(sig_pdf, \"Nsig\")\n",
    "tot_pdf = probfit.AddPdf(bkg_pdf_ext, sig_pdf_ext)"
   ]
  },
  {
   "cell_type": "markdown",
   "metadata": {},
   "source": [
    "#### Model definition:\n",
    "\n",
    "Construct a model from a given probability density function (pdf) and then assign which parameters of the pdf are observables or variables/constants and initialize them.\n",
    "\n",
    "Observable and Variable require a name and a range. Optional arguments can be given to Variable such as an initial value and initial step for minuit, and constraint wich is a function.\n",
    "Constant only require a name and a value."
   ]
  },
  {
   "cell_type": "code",
   "execution_count": 8,
   "metadata": {},
   "outputs": [],
   "source": [
    "tot_model = ModelWrapper(tot_pdf)\n",
    "\n",
    "tot_model.add_obs(Observable(\"x\", range = bounds))\n",
    "\n",
    "mean  = Constant(\"mean\", value=1.2)\n",
    "sigma = Constant(\"sigma\", value= 0.1)\n",
    "Nsig  = Variable(\"Nsig\", range=(-10,len((data))), initvalue= 20.0, initstep=1.0)\n",
    "tau   = GaussianConstrained(\"tau\", mu=tauval, sigma=tauerr, range=(0.1, 5.0))\n",
    "Nbkg  = Variable(\"Nbkg\", range=(0,len((data))*1.1), initvalue= len(data), initstep=1.0)\n",
    "\n",
    "tot_model.add_vars(mean, sigma, Nsig, tau, Nbkg)\n",
    "\n",
    "tot_model.extended = True"
   ]
  },
  {
   "cell_type": "code",
   "execution_count": 9,
   "metadata": {},
   "outputs": [],
   "source": [
    "LH_sb = LossFunctionWrapper(probfit.UnbinnedLH(tot_model, data, extended=True, extended_bound=bounds))"
   ]
  },
  {
   "cell_type": "code",
   "execution_count": 10,
   "metadata": {},
   "outputs": [],
   "source": [
    "minuit_sb = MinuitWrapper(LH_sb, pedantic=True)"
   ]
  },
  {
   "cell_type": "code",
   "execution_count": 11,
   "metadata": {},
   "outputs": [
    {
     "data": {
      "text/html": [
       "<hr>"
      ]
     },
     "metadata": {},
     "output_type": "display_data"
    },
    {
     "data": {
      "text/html": [
       "<table>\n",
       "    <tr>\n",
       "        <td title=\"Minimum value of function\">FCN = -1053.7145366647233</td>\n",
       "        <td title=\"Total number of call to FCN so far\">TOTAL NCALL = 62</td>\n",
       "        <td title=\"Number of call in last migrad\">NCALLS = 62</td>\n",
       "    </tr>\n",
       "    <tr>\n",
       "        <td title=\"Estimated distance to minimum\">EDM = 8.237299626808698e-06</td>\n",
       "        <td title=\"Maximum EDM definition of convergence\">GOAL EDM = 5e-06</td>\n",
       "        <td title=\"Error def. Amount of increase in FCN to be defined as 1 standard deviation\">\n",
       "        UP = 0.5</td>\n",
       "    </tr>\n",
       "</table>\n",
       "<table>\n",
       "    <tr>\n",
       "        <td align=\"center\" title=\"Validity of the migrad call\">Valid</td>\n",
       "        <td align=\"center\" title=\"Validity of parameters\">Valid Param</td>\n",
       "        <td align=\"center\" title=\"Is Covariance matrix accurate?\">Accurate Covar</td>\n",
       "        <td align=\"center\" title=\"Positive definiteness of covariance matrix\">PosDef</td>\n",
       "        <td align=\"center\" title=\"Was covariance matrix made posdef by adding diagonal element\">Made PosDef</td>\n",
       "    </tr>\n",
       "    <tr>\n",
       "        <td align=\"center\" style=\"background-color:#92CCA6\">True</td>\n",
       "        <td align=\"center\" style=\"background-color:#92CCA6\">True</td>\n",
       "        <td align=\"center\" style=\"background-color:#92CCA6\">True</td>\n",
       "        <td align=\"center\" style=\"background-color:#92CCA6\">True</td>\n",
       "        <td align=\"center\" style=\"background-color:#92CCA6\">False</td>\n",
       "    </tr>\n",
       "    <tr>\n",
       "        <td align=\"center\" title=\"Was last hesse call fail?\">Hesse Fail</td>\n",
       "        <td align=\"center\" title=\"Validity of covariance\">HasCov</td>\n",
       "        <td align=\"center\" title=\"Is EDM above goal EDM?\">Above EDM</td>\n",
       "        <td align=\"center\"></td>\n",
       "        <td align=\"center\" title=\"Did last migrad call reach max call limit?\">Reach calllim</td>\n",
       "    </tr>\n",
       "    <tr>\n",
       "        <td align=\"center\" style=\"background-color:#92CCA6\">False</td>\n",
       "        <td align=\"center\" style=\"background-color:#92CCA6\">True</td>\n",
       "        <td align=\"center\" style=\"background-color:#92CCA6\">False</td>\n",
       "        <td align=\"center\"></td>\n",
       "        <td align=\"center\" style=\"background-color:#92CCA6\">False</td>\n",
       "    </tr>\n",
       "</table>"
      ]
     },
     "metadata": {},
     "output_type": "display_data"
    },
    {
     "data": {
      "text/html": [
       "<table>\n",
       "    <tr>\n",
       "        <td><a href=\"#\" onclick=\"$('#fRSIdeGdaB').toggle()\">+</a></td>\n",
       "        <td title=\"Variable name\">Name</td>\n",
       "        <td title=\"Value of parameter\">Value</td>\n",
       "        <td title=\"Hesse error\">Hesse Error</td>\n",
       "        <td title=\"Minos lower error\">Minos Error-</td>\n",
       "        <td title=\"Minos upper error\">Minos Error+</td>\n",
       "        <td title=\"Lower limit of the parameter\">Limit-</td>\n",
       "        <td title=\"Upper limit of the parameter\">Limit+</td>\n",
       "        <td title=\"Is the parameter fixed in the fit\">Fixed?</td>\n",
       "    </tr>\n",
       "    <tr>\n",
       "        <td>0</td>\n",
       "        <td>tau</td>\n",
       "        <td>2.00097</td>\n",
       "        <td>0.0665918</td>\n",
       "        <td></td>\n",
       "        <td></td>\n",
       "        <td>0.1</td>\n",
       "        <td>5</td>\n",
       "        <td>No</td>\n",
       "    </tr>\n",
       "    <tr>\n",
       "        <td>1</td>\n",
       "        <td>Nbkg</td>\n",
       "        <td>250.627</td>\n",
       "        <td>16.4224</td>\n",
       "        <td></td>\n",
       "        <td></td>\n",
       "        <td>0</td>\n",
       "        <td>275</td>\n",
       "        <td>No</td>\n",
       "    </tr>\n",
       "    <tr>\n",
       "        <td>2</td>\n",
       "        <td>mean</td>\n",
       "        <td>1.2</td>\n",
       "        <td>1</td>\n",
       "        <td></td>\n",
       "        <td></td>\n",
       "        <td></td>\n",
       "        <td></td>\n",
       "        <td>Yes</td>\n",
       "    </tr>\n",
       "    <tr>\n",
       "        <td>3</td>\n",
       "        <td>sigma</td>\n",
       "        <td>0.1</td>\n",
       "        <td>1</td>\n",
       "        <td></td>\n",
       "        <td></td>\n",
       "        <td></td>\n",
       "        <td></td>\n",
       "        <td>Yes</td>\n",
       "    </tr>\n",
       "    <tr>\n",
       "        <td>4</td>\n",
       "        <td>Nsig</td>\n",
       "        <td>-0.597441</td>\n",
       "        <td>4.75289</td>\n",
       "        <td></td>\n",
       "        <td></td>\n",
       "        <td>-10</td>\n",
       "        <td>250</td>\n",
       "        <td>No</td>\n",
       "    </tr>\n",
       "</table>\n",
       "<pre id=\"fRSIdeGdaB\" style=\"display:none;\">\n",
       "<textarea rows=\"16\" cols=\"50\" onclick=\"this.select()\" readonly>\n",
       "\\begin{tabular}{|c|r|r|r|r|r|r|r|c|}\n",
       "\\hline\n",
       " & Name & Value & Hesse Error & Minos Error- & Minos Error+ & Limit- & Limit+ & Fixed?\\\\\n",
       "\\hline\n",
       "0 & $\\tau$ & 2.00097 & 0.0665918 &  &  & 0.1 & 5 & No\\\\\n",
       "\\hline\n",
       "1 & Nbkg & 250.627 & 16.4224 &  &  & 0.0 & 275 & No\\\\\n",
       "\\hline\n",
       "2 & mean & 1.2 & 1 &  &  &  &  & Yes\\\\\n",
       "\\hline\n",
       "3 & $\\sigma$ & 0.1 & 1 &  &  &  &  & Yes\\\\\n",
       "\\hline\n",
       "4 & Nsig & -0.597441 & 4.75289 &  &  & -10.0 & 250 & No\\\\\n",
       "\\hline\n",
       "\\end{tabular}\n",
       "</textarea>\n",
       "</pre>"
      ]
     },
     "metadata": {},
     "output_type": "display_data"
    },
    {
     "data": {
      "text/html": [
       "<hr>"
      ]
     },
     "metadata": {},
     "output_type": "display_data"
    }
   ],
   "source": [
    "minuit_sb.migrad();"
   ]
  },
  {
   "cell_type": "code",
   "execution_count": 12,
   "metadata": {},
   "outputs": [],
   "source": [
    "def plotfitresult(pdf, bounds, nbins, *args):\n",
    "    x = np.linspace(bounds[0], bounds[1], nbins)\n",
    "    bin_centers = x[:-1] + np.diff(x)/2.\n",
    "    y = np.zeros(bin_centers.shape)\n",
    "    \n",
    "    for i in range(nbins-1):\n",
    "        y[i] = integrate1d(pdf, (x[i],x[i+1]), 100, *args)\n",
    "        \n",
    "    plt.plot(bin_centers, y, \"-r\")     "
   ]
  },
  {
   "cell_type": "code",
   "execution_count": 13,
   "metadata": {},
   "outputs": [
    {
     "data": {
      "image/png": "[encoded data removed]",
      "text/plain": [
       "<Figure size 432x288 with 1 Axes>"
      ]
     },
     "metadata": {},
     "output_type": "display_data"
    }
   ],
   "source": [
    "nbins = 100\n",
    "fit_result = minuit_sb.values.values()\n",
    "plt.hist(data, bins=nbins, histtype='step', range=bounds);\n",
    "plotfitresult(tot_model, bounds, nbins, *fit_result)"
   ]
  },
  {
   "cell_type": "markdown",
   "metadata": {},
   "source": [
    "## Upper limit:"
   ]
  },
  {
   "cell_type": "code",
   "execution_count": 14,
   "metadata": {},
   "outputs": [],
   "source": [
    "null_hypothesis = Hypothesis(LH_sb, POI(\"Nsig\"))\n",
    "alt_hypothesis = Hypothesis(LH_sb, POI(\"Nsig\", 0.0))"
   ]
  },
  {
   "cell_type": "code",
   "execution_count": 15,
   "metadata": {},
   "outputs": [],
   "source": [
    "calc = AsymptoticCalculator()"
   ]
  },
  {
   "cell_type": "code",
   "execution_count": 16,
   "metadata": {},
   "outputs": [],
   "source": [
    "ul_test = UpperLimit(null_hypothesis, alt_hypothesis, calc, CLs=True, qtilde=True)"
   ]
  },
  {
   "cell_type": "code",
   "execution_count": 17,
   "metadata": {},
   "outputs": [],
   "source": [
    "#ul_test.bestfitpoi = POI(\"Nsig\", minuit_sb.values[\"Nsig\"])\n",
    "ul_test.scanvalues = np.linspace(0.1, 12, 60)"
   ]
  },
  {
   "cell_type": "code",
   "execution_count": 18,
   "metadata": {},
   "outputs": [
    {
     "name": "stdout",
     "output_type": "stream",
     "text": [
      "Get fit best values for nuisance parameters for the alternative hypothesis!\n"
     ]
    },
    {
     "data": {
      "text/html": [
       "<hr>"
      ]
     },
     "metadata": {},
     "output_type": "display_data"
    },
    {
     "data": {
      "text/html": [
       "<table>\n",
       "    <tr>\n",
       "        <td title=\"Minimum value of function\">FCN = -1056.5388382521423</td>\n",
       "        <td title=\"Total number of call to FCN so far\">TOTAL NCALL = 30</td>\n",
       "        <td title=\"Number of call in last migrad\">NCALLS = 30</td>\n",
       "    </tr>\n",
       "    <tr>\n",
       "        <td title=\"Estimated distance to minimum\">EDM = 5.406210869109502e-07</td>\n",
       "        <td title=\"Maximum EDM definition of convergence\">GOAL EDM = 5e-06</td>\n",
       "        <td title=\"Error def. Amount of increase in FCN to be defined as 1 standard deviation\">\n",
       "        UP = 0.5</td>\n",
       "    </tr>\n",
       "</table>\n",
       "<table>\n",
       "    <tr>\n",
       "        <td align=\"center\" title=\"Validity of the migrad call\">Valid</td>\n",
       "        <td align=\"center\" title=\"Validity of parameters\">Valid Param</td>\n",
       "        <td align=\"center\" title=\"Is Covariance matrix accurate?\">Accurate Covar</td>\n",
       "        <td align=\"center\" title=\"Positive definiteness of covariance matrix\">PosDef</td>\n",
       "        <td align=\"center\" title=\"Was covariance matrix made posdef by adding diagonal element\">Made PosDef</td>\n",
       "    </tr>\n",
       "    <tr>\n",
       "        <td align=\"center\" style=\"background-color:#92CCA6\">True</td>\n",
       "        <td align=\"center\" style=\"background-color:#92CCA6\">True</td>\n",
       "        <td align=\"center\" style=\"background-color:#92CCA6\">True</td>\n",
       "        <td align=\"center\" style=\"background-color:#92CCA6\">True</td>\n",
       "        <td align=\"center\" style=\"background-color:#92CCA6\">False</td>\n",
       "    </tr>\n",
       "    <tr>\n",
       "        <td align=\"center\" title=\"Was last hesse call fail?\">Hesse Fail</td>\n",
       "        <td align=\"center\" title=\"Validity of covariance\">HasCov</td>\n",
       "        <td align=\"center\" title=\"Is EDM above goal EDM?\">Above EDM</td>\n",
       "        <td align=\"center\"></td>\n",
       "        <td align=\"center\" title=\"Did last migrad call reach max call limit?\">Reach calllim</td>\n",
       "    </tr>\n",
       "    <tr>\n",
       "        <td align=\"center\" style=\"background-color:#92CCA6\">False</td>\n",
       "        <td align=\"center\" style=\"background-color:#92CCA6\">True</td>\n",
       "        <td align=\"center\" style=\"background-color:#92CCA6\">False</td>\n",
       "        <td align=\"center\"></td>\n",
       "        <td align=\"center\" style=\"background-color:#92CCA6\">False</td>\n",
       "    </tr>\n",
       "</table>"
      ]
     },
     "metadata": {},
     "output_type": "display_data"
    },
    {
     "data": {
      "text/html": [
       "<table>\n",
       "    <tr>\n",
       "        <td><a href=\"#\" onclick=\"$('#NRRlscMLFq').toggle()\">+</a></td>\n",
       "        <td title=\"Variable name\">Name</td>\n",
       "        <td title=\"Value of parameter\">Value</td>\n",
       "        <td title=\"Hesse error\">Hesse Error</td>\n",
       "        <td title=\"Minos lower error\">Minos Error-</td>\n",
       "        <td title=\"Minos upper error\">Minos Error+</td>\n",
       "        <td title=\"Lower limit of the parameter\">Limit-</td>\n",
       "        <td title=\"Upper limit of the parameter\">Limit+</td>\n",
       "        <td title=\"Is the parameter fixed in the fit\">Fixed?</td>\n",
       "    </tr>\n",
       "    <tr>\n",
       "        <td>0</td>\n",
       "        <td>tau</td>\n",
       "        <td>1.98414</td>\n",
       "        <td>0.0665648</td>\n",
       "        <td></td>\n",
       "        <td></td>\n",
       "        <td>0.1</td>\n",
       "        <td>5</td>\n",
       "        <td>No</td>\n",
       "    </tr>\n",
       "    <tr>\n",
       "        <td>1</td>\n",
       "        <td>Nbkg</td>\n",
       "        <td>252.88</td>\n",
       "        <td>15.8731</td>\n",
       "        <td></td>\n",
       "        <td></td>\n",
       "        <td>0</td>\n",
       "        <td>275</td>\n",
       "        <td>No</td>\n",
       "    </tr>\n",
       "    <tr>\n",
       "        <td>2</td>\n",
       "        <td>mean</td>\n",
       "        <td>1.2</td>\n",
       "        <td>1</td>\n",
       "        <td></td>\n",
       "        <td></td>\n",
       "        <td></td>\n",
       "        <td></td>\n",
       "        <td>Yes</td>\n",
       "    </tr>\n",
       "    <tr>\n",
       "        <td>3</td>\n",
       "        <td>sigma</td>\n",
       "        <td>0.1</td>\n",
       "        <td>1</td>\n",
       "        <td></td>\n",
       "        <td></td>\n",
       "        <td></td>\n",
       "        <td></td>\n",
       "        <td>Yes</td>\n",
       "    </tr>\n",
       "    <tr>\n",
       "        <td>4</td>\n",
       "        <td>Nsig</td>\n",
       "        <td>0</td>\n",
       "        <td>1</td>\n",
       "        <td></td>\n",
       "        <td></td>\n",
       "        <td></td>\n",
       "        <td></td>\n",
       "        <td>Yes</td>\n",
       "    </tr>\n",
       "</table>\n",
       "<pre id=\"NRRlscMLFq\" style=\"display:none;\">\n",
       "<textarea rows=\"16\" cols=\"50\" onclick=\"this.select()\" readonly>\n",
       "\\begin{tabular}{|c|r|r|r|r|r|r|r|c|}\n",
       "\\hline\n",
       " & Name & Value & Hesse Error & Minos Error- & Minos Error+ & Limit- & Limit+ & Fixed?\\\\\n",
       "\\hline\n",
       "0 & $\\tau$ & 1.98414 & 0.0665648 &  &  & 0.1 & 5 & No\\\\\n",
       "\\hline\n",
       "1 & Nbkg & 252.88 & 15.8731 &  &  & 0.0 & 275 & No\\\\\n",
       "\\hline\n",
       "2 & mean & 1.2 & 1 &  &  &  &  & Yes\\\\\n",
       "\\hline\n",
       "3 & $\\sigma$ & 0.1 & 1 &  &  &  &  & Yes\\\\\n",
       "\\hline\n",
       "4 & Nsig & 0 & 1 &  &  &  &  & Yes\\\\\n",
       "\\hline\n",
       "\\end{tabular}\n",
       "</textarea>\n",
       "</pre>"
      ]
     },
     "metadata": {},
     "output_type": "display_data"
    },
    {
     "data": {
      "text/html": [
       "<hr>"
      ]
     },
     "metadata": {},
     "output_type": "display_data"
    },
    {
     "name": "stdout",
     "output_type": "stream",
     "text": [
      "Observed upper limit: Nsig = 10.432620467948835\n",
      "Expected upper limit: Nsig = 10.742806856369416\n",
      "Expected upper limit +1 sigma: Nsig = 14.948039917440058\n",
      "Expected upper limit -1 sigma: Nsig = 7.739317250657344\n",
      "Expected upper limit +2 sigma: Nsig = 20.03890587984526\n",
      "Expected upper limit -2 sigma: Nsig = 5.764846467112954\n"
     ]
    }
   ],
   "source": [
    "ul_test.upperlimit();"
   ]
  },
  {
   "cell_type": "code",
   "execution_count": 19,
   "metadata": {},
   "outputs": [
    {
     "data": {
      "image/png": "[encoded data removed]",
      "text/plain": [
       "<Figure size 720x576 with 1 Axes>"
      ]
     },
     "metadata": {},
     "output_type": "display_data"
    }
   ],
   "source": [
    "ul_test.plot()"
   ]
  },
  {
   "cell_type": "code",
   "execution_count": 21,
   "metadata": {},
   "outputs": [
    {
     "data": {
      "text/plain": [
       "{'clsb': array([0.47074726, 0.44553795, 0.42536383, 0.40703245, 0.38974941,\n",
       "        0.37320334, 0.3572472 , 0.34180422, 0.32683204, 0.31230648,\n",
       "        0.29821352, 0.28454493, 0.27133199, 0.25850614, 0.24609472,\n",
       "        0.23409559, 0.22250647, 0.21132475, 0.20054727, 0.1901703 ,\n",
       "        0.18018949, 0.1705998 , 0.16139561, 0.15257065, 0.14411807,\n",
       "        0.13603051, 0.12830009, 0.1209185 , 0.11387704, 0.10716668,\n",
       "        0.10077809, 0.09470171, 0.08892779, 0.08344644, 0.07824766,\n",
       "        0.07332142, 0.06865766, 0.06424634, 0.06007749, 0.0561412 ,\n",
       "        0.05242771, 0.04892738, 0.04563074, 0.04252851, 0.03961162,\n",
       "        0.0368712 , 0.03429863, 0.03188553, 0.02962378, 0.0275055 ,\n",
       "        0.02552311, 0.02366928, 0.02193694, 0.02031933, 0.01880994,\n",
       "        0.01740252, 0.01609112, 0.01487003, 0.01373382, 0.01267731]),\n",
       " 'clb': array([0.47114514, 0.46432337, 0.46106649, 0.4591528 , 0.45794772,\n",
       "        0.45716116, 0.45664315, 0.45630786, 0.45610231, 0.45599194,\n",
       "        0.45595316, 0.45596932, 0.45607164, 0.45617419, 0.45630436,\n",
       "        0.45645781, 0.45663002, 0.45681767, 0.4570181 , 0.45722914,\n",
       "        0.45744861, 0.4576759 , 0.45790927, 0.4581477 , 0.45839031,\n",
       "        0.45863637, 0.45888524, 0.45913638, 0.45938931, 0.45964365,\n",
       "        0.45989903, 0.46015516, 0.46041176, 0.46066861, 0.46095016,\n",
       "        0.46120152, 0.46145356, 0.461706  , 0.4619586 , 0.46221113,\n",
       "        0.46246343, 0.46271532, 0.46296666, 0.46321732, 0.46346721,\n",
       "        0.46371622, 0.46396427, 0.46421129, 0.46445722, 0.46470201,\n",
       "        0.46494561, 0.46518797, 0.46542907, 0.46566889, 0.46590739,\n",
       "        0.46614455, 0.46638037, 0.46661483, 0.46684792, 0.46707964]),\n",
       " 'exp': array([0.99920212, 0.96219814, 0.92793533, 0.89449627, 0.86157719,\n",
       "        0.82914928, 0.79723098, 0.76585258, 0.73504697, 0.70484635,\n",
       "        0.675281  , 0.64637863, 0.6181641 , 0.59065931, 0.56388404,\n",
       "        0.53785255, 0.51257844, 0.48807183, 0.46434002, 0.44138768,\n",
       "        0.41921744, 0.39782779, 0.37721686, 0.35737994, 0.33831034,\n",
       "        0.3199995 , 0.30243721, 0.2856117 , 0.2695098 , 0.25411712,\n",
       "        0.23941814, 0.22539636, 0.21203446, 0.19931439, 0.18719675,\n",
       "        0.17570925, 0.16480517, 0.15446498, 0.14466895, 0.13539722,\n",
       "        0.12662992, 0.11834722, 0.11052941, 0.10315699, 0.0962107 ,\n",
       "        0.08967158, 0.08352102, 0.07774083, 0.07231321, 0.06722084,\n",
       "        0.06244689, 0.05797503, 0.05378943, 0.04987483, 0.04621648,\n",
       "        0.04280022, 0.03961242, 0.03663998, 0.0338704 , 0.03129168]),\n",
       " 'exp_p1': array([0.99971226, 0.9860462 , 0.97281401, 0.95933789, 0.9455029 ,\n",
       "        0.93129569, 0.91672247, 0.90179616, 0.88653302, 0.87095141,\n",
       "        0.85507122, 0.83891358, 0.82250059, 0.80585522, 0.78900171,\n",
       "        0.77196323, 0.75476484, 0.7374315 , 0.71998838, 0.70246069,\n",
       "        0.68487407, 0.66725259, 0.64962162, 0.63200563, 0.61442863,\n",
       "        0.59691413, 0.579485  , 0.56216345, 0.54497094, 0.52792811,\n",
       "        0.51105471, 0.4943696 , 0.47789066, 0.46163475, 0.44558976,\n",
       "        0.42983281, 0.41434206, 0.39913034, 0.38420935, 0.3695897 ,\n",
       "        0.35528088, 0.34129131, 0.32762834, 0.31429825, 0.30130631,\n",
       "        0.28865679, 0.276353  , 0.2643973 , 0.25279117, 0.24153521,\n",
       "        0.23062924, 0.22007226, 0.20986255, 0.19999773, 0.19047472,\n",
       "        0.18128988, 0.17243898, 0.16391729, 0.15571962, 0.14784031]),\n",
       " 'exp_p2': array([0.9999447 , 0.99725444, 0.99453058, 0.99163578, 0.98853657,\n",
       "        0.98521886, 0.98167227, 0.97788774, 0.9738569 , 0.96957195,\n",
       "        0.96502559, 0.96021101, 0.95512195, 0.94975272, 0.94409839,\n",
       "        0.93815417, 0.93191636, 0.92538185, 0.91854826, 0.91141394,\n",
       "        0.9039782 , 0.89624052, 0.88820187, 0.87986374, 0.87122848,\n",
       "        0.86229923, 0.85307996, 0.84357541, 0.83379117, 0.82373356,\n",
       "        0.81340969, 0.8028274 , 0.79199526, 0.78092249, 0.76959889,\n",
       "        0.75807919, 0.74634973, 0.73442221, 0.7223088 , 0.71002212,\n",
       "        0.69757518, 0.68498138, 0.6722544 , 0.65940818, 0.64645686,\n",
       "        0.63341478, 0.62029633, 0.60711603, 0.59388835, 0.58062777,\n",
       "        0.56734868, 0.55406534, 0.54079185, 0.52754211, 0.51432977,\n",
       "        0.50116819, 0.48807041, 0.47504913, 0.46211666, 0.44928492]),\n",
       " 'exp_m1': array([0.99847563, 0.92942802, 0.86829186, 0.81111438, 0.7571389 ,\n",
       "        0.70613442, 0.65796158, 0.61250608, 0.5696618 , 0.52932556,\n",
       "        0.4913953 , 0.45576959, 0.42234763, 0.39102944, 0.36171715,\n",
       "        0.33431154, 0.30871771, 0.28484205, 0.26259321, 0.2418823 ,\n",
       "        0.22262358, 0.20473262, 0.1881296 , 0.17273712, 0.15848085,\n",
       "        0.14528963, 0.13309545, 0.12183345, 0.11144192, 0.10186223,\n",
       "        0.09303882, 0.08491911, 0.07745341, 0.07059489, 0.06428882,\n",
       "        0.05851796, 0.05322903, 0.04838575, 0.04395413, 0.03990236,\n",
       "        0.03620078, 0.03282169, 0.02973933, 0.02692972, 0.0243706 ,\n",
       "        0.02204131, 0.01992272, 0.01799711, 0.01624812, 0.01466062,\n",
       "        0.01322067, 0.01191542, 0.01073304, 0.00966265, 0.00869426,\n",
       "        0.00781871, 0.00702757, 0.00631315, 0.0056684 , 0.00508687]),\n",
       " 'exp_m2': array([9.97629156e-01, 8.92726322e-01, 8.03908309e-01, 7.24306912e-01,\n",
       "        6.52251113e-01, 5.86934998e-01, 5.27739809e-01, 4.74127662e-01,\n",
       "        4.25612679e-01, 3.81750071e-01, 3.42130719e-01, 3.06377787e-01,\n",
       "        2.74144203e-01, 2.45110547e-01, 2.18984009e-01, 1.95493346e-01,\n",
       "        1.74392032e-01, 1.55453702e-01, 1.38471347e-01, 1.23255912e-01,\n",
       "        1.09635292e-01, 9.74516879e-02, 8.65626880e-02, 7.68384792e-02,\n",
       "        6.81612655e-02, 6.04242834e-02, 5.35308818e-02, 4.73936635e-02,\n",
       "        4.19336874e-02, 3.70797278e-02, 3.27675885e-02, 2.89394693e-02,\n",
       "        2.55433816e-02, 2.25326104e-02, 1.98608031e-02, 1.75005329e-02,\n",
       "        1.54119560e-02, 1.35650065e-02, 1.19327801e-02, 1.04912243e-02,\n",
       "        9.21885566e-03, 8.09650313e-03, 7.10707365e-03, 6.23534001e-03,\n",
       "        5.46774841e-03, 4.79224431e-03, 4.19811506e-03, 3.67584788e-03,\n",
       "        3.21700184e-03, 2.81409265e-03, 2.46048906e-03, 2.15031977e-03,\n",
       "        1.87838999e-03, 1.64010663e-03, 1.43141132e-03, 1.24872051e-03,\n",
       "        1.08887198e-03, 9.49077057e-04, 8.26878038e-04, 7.20110227e-04]),\n",
       " 'cls': array([0.9991555 , 0.95954239, 0.92256504, 0.88648582, 0.85107839,\n",
       "        0.81634964, 0.78233341, 0.74906495, 0.71657615, 0.68489473,\n",
       "        0.6540442 , 0.62404402, 0.59493281, 0.56668295, 0.53932143,\n",
       "        0.51285262, 0.48727955, 0.46260195, 0.4388169 , 0.41591904,\n",
       "        0.39390104, 0.37275243, 0.35246199, 0.33301629, 0.31440035,\n",
       "        0.29659773, 0.27959079, 0.26336074, 0.24788787, 0.23315166,\n",
       "        0.2191309 , 0.20580387, 0.19314839, 0.18114201, 0.16975298,\n",
       "        0.15897914, 0.14878564, 0.1391499 , 0.1300495 , 0.12146224,\n",
       "        0.11336617, 0.10573969, 0.09856161, 0.09181114, 0.085468  ,\n",
       "        0.07951241, 0.07392515, 0.06868753, 0.06378149, 0.05918955,\n",
       "        0.05489483, 0.0508811 , 0.04713273, 0.04363472, 0.04037269,\n",
       "        0.03733288, 0.03450213, 0.03186789, 0.02941818, 0.02714163])}"
      ]
     },
     "execution_count": 21,
     "metadata": {},
     "output_type": "execute_result"
    }
   ],
   "source": [
    "ul_test.pvalues()"
   ]
  },
  {
   "cell_type": "code",
   "execution_count": null,
   "metadata": {},
   "outputs": [],
   "source": []
  }
 ],
 "metadata": {
  "kernelspec": {
   "display_name": "Python 3",
   "language": "python",
   "name": "python3"
  },
  "language_info": {
   "codemirror_mode": {
    "name": "ipython",
    "version": 3
   },
   "file_extension": ".py",
   "mimetype": "text/x-python",
   "name": "python",
   "nbconvert_exporter": "python",
   "pygments_lexer": "ipython3",
   "version": "3.7.0"
  }
 },
 "nbformat": 4,
 "nbformat_minor": 2
}
