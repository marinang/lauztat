{
 "cells": [
  {
   "cell_type": "markdown",
   "metadata": {},
   "source": [
    "# Example of upper limit computation."
   ]
  },
  {
   "cell_type": "code",
   "execution_count": 1,
   "metadata": {},
   "outputs": [],
   "source": [
    "import numpy as np\n",
    "import matplotlib.pyplot as plt\n",
    "import probfit\n",
    "import iminuit\n",
    "import math\n",
    "from statnight.utils.wrappers import ModelWrapper, LossFunctionWrapper, MinimizerWrapper\n",
    "from statnight.parameters import Observable, Variable, Constant, POI, GaussianConstrained\n",
    "from statnight.utils.stats import integrate1d\n",
    "from statnight.hypothesis import Hypothesis\n",
    "from statnight.hypotest import UpperLimit\n",
    "from statnight.calculators import AsymptoticCalculator\n",
    "from statnight.calculators.config import Config"
   ]
  },
  {
   "cell_type": "markdown",
   "metadata": {},
   "source": [
    "## Scenario\n",
    "\n",
    "Let's assume you want to find a resonnance between 0.1 and 3.0 GeV/c$^2$ of invariant mass of a system.\n",
    "\n",
    "You have a signal region and a background only region:"
   ]
  },
  {
   "cell_type": "code",
   "execution_count": 2,
   "metadata": {},
   "outputs": [
    {
     "data": {
      "image/png": "[encoded data removed]",
      "text/plain": [
       "<Figure size 432x288 with 1 Axes>"
      ]
     },
     "metadata": {},
     "output_type": "display_data"
    }
   ],
   "source": [
    "bounds = (0.1,3.0)\n",
    "\n",
    "#background only\n",
    "np.random.seed(10)\n",
    "tau = 2.0\n",
    "beta = 1./tau\n",
    "data = np.random.exponential(beta, 1000)\n",
    "\n",
    "data_bkg = data[(data > bounds[0]) & (data < bounds[1])]\n",
    "plt.hist(data_bkg, bins=100, histtype='step');"
   ]
  },
  {
   "cell_type": "code",
   "execution_count": 3,
   "metadata": {},
   "outputs": [],
   "source": [
    "#signal + background\n",
    "\n",
    "np.random.seed(0)\n",
    "tau = -2.0\n",
    "beta = -1/tau\n",
    "data = np.random.exponential(beta, 300)\n",
    "peak = np.random.normal(1.2, 0.1, 10)\n",
    "data = np.concatenate((data,peak))\n",
    "data = data[(data > 0.1) & (data < 3)]"
   ]
  },
  {
   "cell_type": "markdown",
   "metadata": {},
   "source": [
    "### Background fit, in background only region:\n",
    "\n",
    "The background model is an exponential."
   ]
  },
  {
   "cell_type": "code",
   "execution_count": 4,
   "metadata": {},
   "outputs": [],
   "source": [
    "exp = probfit.Normalized(probfit.exponential, bounds)\n",
    "\n",
    "model_bkg = ModelWrapper(exp)\n",
    "model_bkg.add_obs(Observable(\"x\", range = bounds))\n",
    "tau = Variable(\"tau\", range=(0.1, 5.0), initvalue=0.5,       initstep=0.05)\n",
    "model_bkg.add_vars(tau)\n",
    "\n",
    "LH_bkg = LossFunctionWrapper(probfit.UnbinnedLH(model_bkg, data_bkg))\n",
    "min_bkg = MinimizerWrapper(LH_bkg)"
   ]
  },
  {
   "cell_type": "code",
   "execution_count": 5,
   "metadata": {},
   "outputs": [
    {
     "data": {
      "text/html": [
       "<hr>"
      ]
     },
     "metadata": {},
     "output_type": "display_data"
    },
    {
     "data": {
      "text/html": [
       "<table>\n",
       "    <tr>\n",
       "        <td title=\"Minimum value of function\">FCN = 222.38871948523126</td>\n",
       "        <td title=\"Total number of call to FCN so far\">TOTAL NCALL = 25</td>\n",
       "        <td title=\"Number of call in last migrad\">NCALLS = 25</td>\n",
       "    </tr>\n",
       "    <tr>\n",
       "        <td title=\"Estimated distance to minimum\">EDM = 1.4889124356544732e-10</td>\n",
       "        <td title=\"Maximum EDM definition of convergence\">GOAL EDM = 5e-06</td>\n",
       "        <td title=\"Error def. Amount of increase in FCN to be defined as 1 standard deviation\">\n",
       "        UP = 0.5</td>\n",
       "    </tr>\n",
       "</table>\n",
       "<table>\n",
       "    <tr>\n",
       "        <td align=\"center\" title=\"Validity of the migrad call\">Valid</td>\n",
       "        <td align=\"center\" title=\"Validity of parameters\">Valid Param</td>\n",
       "        <td align=\"center\" title=\"Is Covariance matrix accurate?\">Accurate Covar</td>\n",
       "        <td align=\"center\" title=\"Positive definiteness of covariance matrix\">PosDef</td>\n",
       "        <td align=\"center\" title=\"Was covariance matrix made posdef by adding diagonal element\">Made PosDef</td>\n",
       "    </tr>\n",
       "    <tr>\n",
       "        <td align=\"center\" style=\"background-color:#92CCA6\">True</td>\n",
       "        <td align=\"center\" style=\"background-color:#92CCA6\">True</td>\n",
       "        <td align=\"center\" style=\"background-color:#92CCA6\">True</td>\n",
       "        <td align=\"center\" style=\"background-color:#92CCA6\">True</td>\n",
       "        <td align=\"center\" style=\"background-color:#92CCA6\">False</td>\n",
       "    </tr>\n",
       "    <tr>\n",
       "        <td align=\"center\" title=\"Was last hesse call fail?\">Hesse Fail</td>\n",
       "        <td align=\"center\" title=\"Validity of covariance\">HasCov</td>\n",
       "        <td align=\"center\" title=\"Is EDM above goal EDM?\">Above EDM</td>\n",
       "        <td align=\"center\"></td>\n",
       "        <td align=\"center\" title=\"Did last migrad call reach max call limit?\">Reach calllim</td>\n",
       "    </tr>\n",
       "    <tr>\n",
       "        <td align=\"center\" style=\"background-color:#92CCA6\">False</td>\n",
       "        <td align=\"center\" style=\"background-color:#92CCA6\">True</td>\n",
       "        <td align=\"center\" style=\"background-color:#92CCA6\">False</td>\n",
       "        <td align=\"center\"></td>\n",
       "        <td align=\"center\" style=\"background-color:#92CCA6\">False</td>\n",
       "    </tr>\n",
       "</table>"
      ]
     },
     "metadata": {},
     "output_type": "display_data"
    },
    {
     "data": {
      "text/html": [
       "<table>\n",
       "    <tr>\n",
       "        <td><a href=\"#\" onclick=\"$('#lYhWDseVKv').toggle()\">+</a></td>\n",
       "        <td title=\"Variable name\">Name</td>\n",
       "        <td title=\"Value of parameter\">Value</td>\n",
       "        <td title=\"Hesse error\">Hesse Error</td>\n",
       "        <td title=\"Minos lower error\">Minos Error-</td>\n",
       "        <td title=\"Minos upper error\">Minos Error+</td>\n",
       "        <td title=\"Lower limit of the parameter\">Limit-</td>\n",
       "        <td title=\"Upper limit of the parameter\">Limit+</td>\n",
       "        <td title=\"Is the parameter fixed in the fit\">Fixed?</td>\n",
       "    </tr>\n",
       "    <tr>\n",
       "        <td>0</td>\n",
       "        <td>tau</td>\n",
       "        <td>2.02224</td>\n",
       "        <td>0.0750417</td>\n",
       "        <td></td>\n",
       "        <td></td>\n",
       "        <td>0.1</td>\n",
       "        <td>5</td>\n",
       "        <td>No</td>\n",
       "    </tr>\n",
       "</table>\n",
       "<pre id=\"lYhWDseVKv\" style=\"display:none;\">\n",
       "<textarea rows=\"8\" cols=\"50\" onclick=\"this.select()\" readonly>\n",
       "\\begin{tabular}{|c|r|r|r|r|r|r|r|c|}\n",
       "\\hline\n",
       " & Name & Value & Hesse Error & Minos Error- & Minos Error+ & Limit- & Limit+ & Fixed?\\\\\n",
       "\\hline\n",
       "0 & $\\tau$ & 2.02224 & 0.0750417 &  &  & 0.1 & 5 & No\\\\\n",
       "\\hline\n",
       "\\end{tabular}\n",
       "</textarea>\n",
       "</pre>"
      ]
     },
     "metadata": {},
     "output_type": "display_data"
    },
    {
     "data": {
      "text/html": [
       "<hr>"
      ]
     },
     "metadata": {},
     "output_type": "display_data"
    }
   ],
   "source": [
    "min_bkg.minimize();"
   ]
  },
  {
   "cell_type": "code",
   "execution_count": 6,
   "metadata": {},
   "outputs": [],
   "source": [
    "tauval = min_bkg.values[\"tau\"]\n",
    "tauerr = min_bkg.errors[\"tau\"]"
   ]
  },
  {
   "cell_type": "markdown",
   "metadata": {},
   "source": [
    "### Signal + background fit in signal region:\n",
    "\n",
    "The total model is a sum of a gaussian and an exponential. The tau parameter of the exponential will be constrained to the value obtained in the background only region."
   ]
  },
  {
   "cell_type": "code",
   "execution_count": 7,
   "metadata": {},
   "outputs": [],
   "source": [
    "bkg_pdf = model_bkg\n",
    "sig_pdf = probfit.Normalized(probfit.gaussian, bounds)\n",
    "bkg_pdf_ext = probfit.Extended(bkg_pdf, \"Nbkg\")\n",
    "sig_pdf_ext = probfit.Extended(sig_pdf, \"Nsig\")\n",
    "tot_pdf = probfit.AddPdf(bkg_pdf_ext, sig_pdf_ext)"
   ]
  },
  {
   "cell_type": "markdown",
   "metadata": {},
   "source": [
    "#### Model definition:\n",
    "\n",
    "Construct a model from a given probability density function (pdf) and then assign which parameters of the pdf are observables or variables/constants and initialize them.\n",
    "\n",
    "Observable and Variable require a name and a range. Optional arguments can be given to Variable such as an initial value and initial step for minuit, and constraint wich is a function.\n",
    "Constant only require a name and a value."
   ]
  },
  {
   "cell_type": "code",
   "execution_count": 8,
   "metadata": {},
   "outputs": [],
   "source": [
    "tot_model = ModelWrapper(tot_pdf)\n",
    "\n",
    "tot_model.add_obs(Observable(\"x\", range = bounds))\n",
    "\n",
    "mean  = Constant(\"mean\", value=1.2)\n",
    "sigma = Constant(\"sigma\", value= 0.1)\n",
    "Nsig  = Variable(\"Nsig\", range=(-10,len((data))), initvalue= 20.0, initstep=1.0)\n",
    "tau   = GaussianConstrained(\"tau\", mu=tauval, sigma=tauerr, range=(0.1, 5.0))\n",
    "Nbkg  = Variable(\"Nbkg\", range=(0,len((data))*1.1), initvalue= len(data), initstep=1.0)\n",
    "\n",
    "tot_model.add_vars(mean, sigma, Nsig, tau, Nbkg)\n",
    "\n",
    "tot_model.extended = True"
   ]
  },
  {
   "cell_type": "code",
   "execution_count": 9,
   "metadata": {},
   "outputs": [],
   "source": [
    "LH_sb = LossFunctionWrapper(probfit.UnbinnedLH(tot_model, data, extended=True, extended_bound=bounds))"
   ]
  },
  {
   "cell_type": "code",
   "execution_count": 10,
   "metadata": {},
   "outputs": [],
   "source": [
    "min_sb = MinimizerWrapper(LH_sb, pedantic=True)"
   ]
  },
  {
   "cell_type": "code",
   "execution_count": 11,
   "metadata": {},
   "outputs": [
    {
     "data": {
      "text/html": [
       "<hr>"
      ]
     },
     "metadata": {},
     "output_type": "display_data"
    },
    {
     "data": {
      "text/html": [
       "<table>\n",
       "    <tr>\n",
       "        <td title=\"Minimum value of function\">FCN = -1078.9808808983041</td>\n",
       "        <td title=\"Total number of call to FCN so far\">TOTAL NCALL = 52</td>\n",
       "        <td title=\"Number of call in last migrad\">NCALLS = 52</td>\n",
       "    </tr>\n",
       "    <tr>\n",
       "        <td title=\"Estimated distance to minimum\">EDM = 1.945210754871885e-05</td>\n",
       "        <td title=\"Maximum EDM definition of convergence\">GOAL EDM = 5e-06</td>\n",
       "        <td title=\"Error def. Amount of increase in FCN to be defined as 1 standard deviation\">\n",
       "        UP = 0.5</td>\n",
       "    </tr>\n",
       "</table>\n",
       "<table>\n",
       "    <tr>\n",
       "        <td align=\"center\" title=\"Validity of the migrad call\">Valid</td>\n",
       "        <td align=\"center\" title=\"Validity of parameters\">Valid Param</td>\n",
       "        <td align=\"center\" title=\"Is Covariance matrix accurate?\">Accurate Covar</td>\n",
       "        <td align=\"center\" title=\"Positive definiteness of covariance matrix\">PosDef</td>\n",
       "        <td align=\"center\" title=\"Was covariance matrix made posdef by adding diagonal element\">Made PosDef</td>\n",
       "    </tr>\n",
       "    <tr>\n",
       "        <td align=\"center\" style=\"background-color:#92CCA6\">True</td>\n",
       "        <td align=\"center\" style=\"background-color:#92CCA6\">True</td>\n",
       "        <td align=\"center\" style=\"background-color:#92CCA6\">True</td>\n",
       "        <td align=\"center\" style=\"background-color:#92CCA6\">True</td>\n",
       "        <td align=\"center\" style=\"background-color:#92CCA6\">False</td>\n",
       "    </tr>\n",
       "    <tr>\n",
       "        <td align=\"center\" title=\"Was last hesse call fail?\">Hesse Fail</td>\n",
       "        <td align=\"center\" title=\"Validity of covariance\">HasCov</td>\n",
       "        <td align=\"center\" title=\"Is EDM above goal EDM?\">Above EDM</td>\n",
       "        <td align=\"center\"></td>\n",
       "        <td align=\"center\" title=\"Did last migrad call reach max call limit?\">Reach calllim</td>\n",
       "    </tr>\n",
       "    <tr>\n",
       "        <td align=\"center\" style=\"background-color:#92CCA6\">False</td>\n",
       "        <td align=\"center\" style=\"background-color:#92CCA6\">True</td>\n",
       "        <td align=\"center\" style=\"background-color:#92CCA6\">False</td>\n",
       "        <td align=\"center\"></td>\n",
       "        <td align=\"center\" style=\"background-color:#92CCA6\">False</td>\n",
       "    </tr>\n",
       "</table>"
      ]
     },
     "metadata": {},
     "output_type": "display_data"
    },
    {
     "data": {
      "text/html": [
       "<table>\n",
       "    <tr>\n",
       "        <td><a href=\"#\" onclick=\"$('#bmLZnBCKrQ').toggle()\">+</a></td>\n",
       "        <td title=\"Variable name\">Name</td>\n",
       "        <td title=\"Value of parameter\">Value</td>\n",
       "        <td title=\"Hesse error\">Hesse Error</td>\n",
       "        <td title=\"Minos lower error\">Minos Error-</td>\n",
       "        <td title=\"Minos upper error\">Minos Error+</td>\n",
       "        <td title=\"Lower limit of the parameter\">Limit-</td>\n",
       "        <td title=\"Upper limit of the parameter\">Limit+</td>\n",
       "        <td title=\"Is the parameter fixed in the fit\">Fixed?</td>\n",
       "    </tr>\n",
       "    <tr>\n",
       "        <td>0</td>\n",
       "        <td>tau</td>\n",
       "        <td>2.00235</td>\n",
       "        <td>0.0666532</td>\n",
       "        <td></td>\n",
       "        <td></td>\n",
       "        <td>0.1</td>\n",
       "        <td>5</td>\n",
       "        <td>No</td>\n",
       "    </tr>\n",
       "    <tr>\n",
       "        <td>1</td>\n",
       "        <td>Nbkg</td>\n",
       "        <td>250.503</td>\n",
       "        <td>16.4973</td>\n",
       "        <td></td>\n",
       "        <td></td>\n",
       "        <td>0</td>\n",
       "        <td>281.6</td>\n",
       "        <td>No</td>\n",
       "    </tr>\n",
       "    <tr>\n",
       "        <td>2</td>\n",
       "        <td>mean</td>\n",
       "        <td>1.2</td>\n",
       "        <td>1</td>\n",
       "        <td></td>\n",
       "        <td></td>\n",
       "        <td></td>\n",
       "        <td></td>\n",
       "        <td>Yes</td>\n",
       "    </tr>\n",
       "    <tr>\n",
       "        <td>3</td>\n",
       "        <td>sigma</td>\n",
       "        <td>0.1</td>\n",
       "        <td>1</td>\n",
       "        <td></td>\n",
       "        <td></td>\n",
       "        <td></td>\n",
       "        <td></td>\n",
       "        <td>Yes</td>\n",
       "    </tr>\n",
       "    <tr>\n",
       "        <td>4</td>\n",
       "        <td>Nsig</td>\n",
       "        <td>5.5952</td>\n",
       "        <td>5.49142</td>\n",
       "        <td></td>\n",
       "        <td></td>\n",
       "        <td>-10</td>\n",
       "        <td>256</td>\n",
       "        <td>No</td>\n",
       "    </tr>\n",
       "</table>\n",
       "<pre id=\"bmLZnBCKrQ\" style=\"display:none;\">\n",
       "<textarea rows=\"16\" cols=\"50\" onclick=\"this.select()\" readonly>\n",
       "\\begin{tabular}{|c|r|r|r|r|r|r|r|c|}\n",
       "\\hline\n",
       " & Name & Value & Hesse Error & Minos Error- & Minos Error+ & Limit- & Limit+ & Fixed?\\\\\n",
       "\\hline\n",
       "0 & $\\tau$ & 2.00235 & 0.0666532 &  &  & 0.1 & 5 & No\\\\\n",
       "\\hline\n",
       "1 & Nbkg & 250.503 & 16.4973 &  &  & 0.0 & 281.6 & No\\\\\n",
       "\\hline\n",
       "2 & mean & 1.2 & 1 &  &  &  &  & Yes\\\\\n",
       "\\hline\n",
       "3 & $\\sigma$ & 0.1 & 1 &  &  &  &  & Yes\\\\\n",
       "\\hline\n",
       "4 & Nsig & 5.5952 & 5.49142 &  &  & -10.0 & 256 & No\\\\\n",
       "\\hline\n",
       "\\end{tabular}\n",
       "</textarea>\n",
       "</pre>"
      ]
     },
     "metadata": {},
     "output_type": "display_data"
    },
    {
     "data": {
      "text/html": [
       "<hr>"
      ]
     },
     "metadata": {},
     "output_type": "display_data"
    }
   ],
   "source": [
    "min_sb.minimize();"
   ]
  },
  {
   "cell_type": "code",
   "execution_count": 12,
   "metadata": {},
   "outputs": [],
   "source": [
    "def plotfitresult(pdf, bounds, nbins, *args):\n",
    "    x = np.linspace(bounds[0], bounds[1], nbins)\n",
    "    bin_centers = x[:-1] + np.diff(x)/2.\n",
    "    y = np.zeros(bin_centers.shape)\n",
    "    \n",
    "    for i in range(nbins-1):\n",
    "        y[i] = integrate1d(pdf, (x[i],x[i+1]), 100, *args)\n",
    "        \n",
    "    plt.plot(bin_centers, y, \"-r\")     "
   ]
  },
  {
   "cell_type": "code",
   "execution_count": 13,
   "metadata": {},
   "outputs": [
    {
     "data": {
      "image/png": "[encoded data removed]",
      "text/plain": [
       "<Figure size 432x288 with 1 Axes>"
      ]
     },
     "metadata": {},
     "output_type": "display_data"
    }
   ],
   "source": [
    "nbins = 100\n",
    "fit_result = min_sb.values.values()\n",
    "plt.hist(data, bins=nbins, histtype='step', range=bounds);\n",
    "plotfitresult(tot_model, bounds, nbins, *fit_result)"
   ]
  },
  {
   "cell_type": "markdown",
   "metadata": {},
   "source": [
    "## Upper limit:"
   ]
  },
  {
   "cell_type": "code",
   "execution_count": 14,
   "metadata": {},
   "outputs": [],
   "source": [
    "def lossbuilder(model, data, weights=None):\n",
    "    loss = LossFunctionWrapper(probfit.UnbinnedLH(model, data, extended=True, extended_bound=bounds, weights=weights))\n",
    "    return loss\n",
    "    \n",
    "config = Config(tot_model, data, lossbuilder, MinimizerWrapper)\n",
    "config.bestfit = min_sb.values"
   ]
  },
  {
   "cell_type": "code",
   "execution_count": 15,
   "metadata": {},
   "outputs": [],
   "source": [
    "calc = AsymptoticCalculator(config)"
   ]
  },
  {
   "cell_type": "code",
   "execution_count": 16,
   "metadata": {},
   "outputs": [],
   "source": [
    "poinull = POI(\"Nsig\", value=np.linspace(0.1, 20, 60))\n",
    "poialt = POI(\"Nsig\", value=0)\n",
    "ul_test = UpperLimit(poinull, poialt, calc, CLs=True, qtilde=False)"
   ]
  },
  {
   "cell_type": "code",
   "execution_count": 17,
   "metadata": {},
   "outputs": [
    {
     "name": "stdout",
     "output_type": "stream",
     "text": [
      "\n",
      "Get fit best values for nuisance parameters for the alternative hypothesis!\n"
     ]
    },
    {
     "data": {
      "text/html": [
       "<hr>"
      ]
     },
     "metadata": {},
     "output_type": "display_data"
    },
    {
     "data": {
      "text/html": [
       "<table>\n",
       "    <tr>\n",
       "        <td title=\"Minimum value of function\">FCN = -1078.384661663993</td>\n",
       "        <td title=\"Total number of call to FCN so far\">TOTAL NCALL = 24</td>\n",
       "        <td title=\"Number of call in last migrad\">NCALLS = 24</td>\n",
       "    </tr>\n",
       "    <tr>\n",
       "        <td title=\"Estimated distance to minimum\">EDM = 3.2418140001082993e-07</td>\n",
       "        <td title=\"Maximum EDM definition of convergence\">GOAL EDM = 5e-06</td>\n",
       "        <td title=\"Error def. Amount of increase in FCN to be defined as 1 standard deviation\">\n",
       "        UP = 0.5</td>\n",
       "    </tr>\n",
       "</table>\n",
       "<table>\n",
       "    <tr>\n",
       "        <td align=\"center\" title=\"Validity of the migrad call\">Valid</td>\n",
       "        <td align=\"center\" title=\"Validity of parameters\">Valid Param</td>\n",
       "        <td align=\"center\" title=\"Is Covariance matrix accurate?\">Accurate Covar</td>\n",
       "        <td align=\"center\" title=\"Positive definiteness of covariance matrix\">PosDef</td>\n",
       "        <td align=\"center\" title=\"Was covariance matrix made posdef by adding diagonal element\">Made PosDef</td>\n",
       "    </tr>\n",
       "    <tr>\n",
       "        <td align=\"center\" style=\"background-color:#92CCA6\">True</td>\n",
       "        <td align=\"center\" style=\"background-color:#92CCA6\">True</td>\n",
       "        <td align=\"center\" style=\"background-color:#92CCA6\">True</td>\n",
       "        <td align=\"center\" style=\"background-color:#92CCA6\">True</td>\n",
       "        <td align=\"center\" style=\"background-color:#92CCA6\">False</td>\n",
       "    </tr>\n",
       "    <tr>\n",
       "        <td align=\"center\" title=\"Was last hesse call fail?\">Hesse Fail</td>\n",
       "        <td align=\"center\" title=\"Validity of covariance\">HasCov</td>\n",
       "        <td align=\"center\" title=\"Is EDM above goal EDM?\">Above EDM</td>\n",
       "        <td align=\"center\"></td>\n",
       "        <td align=\"center\" title=\"Did last migrad call reach max call limit?\">Reach calllim</td>\n",
       "    </tr>\n",
       "    <tr>\n",
       "        <td align=\"center\" style=\"background-color:#92CCA6\">False</td>\n",
       "        <td align=\"center\" style=\"background-color:#92CCA6\">True</td>\n",
       "        <td align=\"center\" style=\"background-color:#92CCA6\">False</td>\n",
       "        <td align=\"center\"></td>\n",
       "        <td align=\"center\" style=\"background-color:#92CCA6\">False</td>\n",
       "    </tr>\n",
       "</table>"
      ]
     },
     "metadata": {},
     "output_type": "display_data"
    },
    {
     "data": {
      "text/html": [
       "<table>\n",
       "    <tr>\n",
       "        <td><a href=\"#\" onclick=\"$('#qPBgLmnyud').toggle()\">+</a></td>\n",
       "        <td title=\"Variable name\">Name</td>\n",
       "        <td title=\"Value of parameter\">Value</td>\n",
       "        <td title=\"Hesse error\">Hesse Error</td>\n",
       "        <td title=\"Minos lower error\">Minos Error-</td>\n",
       "        <td title=\"Minos upper error\">Minos Error+</td>\n",
       "        <td title=\"Lower limit of the parameter\">Limit-</td>\n",
       "        <td title=\"Upper limit of the parameter\">Limit+</td>\n",
       "        <td title=\"Is the parameter fixed in the fit\">Fixed?</td>\n",
       "    </tr>\n",
       "    <tr>\n",
       "        <td>0</td>\n",
       "        <td>tau</td>\n",
       "        <td>1.98803</td>\n",
       "        <td>0.0651466</td>\n",
       "        <td></td>\n",
       "        <td></td>\n",
       "        <td>0.1</td>\n",
       "        <td>5</td>\n",
       "        <td>No</td>\n",
       "    </tr>\n",
       "    <tr>\n",
       "        <td>1</td>\n",
       "        <td>Nbkg</td>\n",
       "        <td>256.001</td>\n",
       "        <td>15.896</td>\n",
       "        <td></td>\n",
       "        <td></td>\n",
       "        <td>0</td>\n",
       "        <td>281.6</td>\n",
       "        <td>No</td>\n",
       "    </tr>\n",
       "    <tr>\n",
       "        <td>2</td>\n",
       "        <td>mean</td>\n",
       "        <td>1.2</td>\n",
       "        <td>1</td>\n",
       "        <td></td>\n",
       "        <td></td>\n",
       "        <td></td>\n",
       "        <td></td>\n",
       "        <td>Yes</td>\n",
       "    </tr>\n",
       "    <tr>\n",
       "        <td>3</td>\n",
       "        <td>sigma</td>\n",
       "        <td>0.1</td>\n",
       "        <td>1</td>\n",
       "        <td></td>\n",
       "        <td></td>\n",
       "        <td></td>\n",
       "        <td></td>\n",
       "        <td>Yes</td>\n",
       "    </tr>\n",
       "    <tr>\n",
       "        <td>4</td>\n",
       "        <td>Nsig</td>\n",
       "        <td>0</td>\n",
       "        <td>1</td>\n",
       "        <td></td>\n",
       "        <td></td>\n",
       "        <td></td>\n",
       "        <td></td>\n",
       "        <td>Yes</td>\n",
       "    </tr>\n",
       "</table>\n",
       "<pre id=\"qPBgLmnyud\" style=\"display:none;\">\n",
       "<textarea rows=\"16\" cols=\"50\" onclick=\"this.select()\" readonly>\n",
       "\\begin{tabular}{|c|r|r|r|r|r|r|r|c|}\n",
       "\\hline\n",
       " & Name & Value & Hesse Error & Minos Error- & Minos Error+ & Limit- & Limit+ & Fixed?\\\\\n",
       "\\hline\n",
       "0 & $\\tau$ & 1.98803 & 0.0651466 &  &  & 0.1 & 5 & No\\\\\n",
       "\\hline\n",
       "1 & Nbkg & 256.001 & 15.896 &  &  & 0.0 & 281.6 & No\\\\\n",
       "\\hline\n",
       "2 & mean & 1.2 & 1 &  &  &  &  & Yes\\\\\n",
       "\\hline\n",
       "3 & $\\sigma$ & 0.1 & 1 &  &  &  &  & Yes\\\\\n",
       "\\hline\n",
       "4 & Nsig & 0 & 1 &  &  &  &  & Yes\\\\\n",
       "\\hline\n",
       "\\end{tabular}\n",
       "</textarea>\n",
       "</pre>"
      ]
     },
     "metadata": {},
     "output_type": "display_data"
    },
    {
     "data": {
      "text/html": [
       "<hr>"
      ]
     },
     "metadata": {},
     "output_type": "display_data"
    },
    {
     "name": "stdout",
     "output_type": "stream",
     "text": [
      "\n",
      "Observed upper limit: Nsig = 16.177679197364544\n",
      "Expected upper limit: Nsig = 11.605778918688326\n",
      "Expected upper limit +1 sigma: Nsig = 16.14881928615135\n",
      "Expected upper limit -1 sigma: Nsig = 8.361018325435602\n",
      "Expected upper limit +2 sigma: Nsig = 21.64863564274159\n",
      "Expected upper limit -2 sigma: Nsig = 6.22793786503069\n"
     ]
    }
   ],
   "source": [
    "ul_test.upperlimit();"
   ]
  },
  {
   "cell_type": "code",
   "execution_count": 18,
   "metadata": {},
   "outputs": [
    {
     "data": {
      "image/png": "[encoded data removed]",
      "text/plain": [
       "<Figure size 720x576 with 1 Axes>"
      ]
     },
     "metadata": {},
     "output_type": "display_data"
    }
   ],
   "source": [
    "ul_test.plot()"
   ]
  },
  {
   "cell_type": "code",
   "execution_count": 19,
   "metadata": {},
   "outputs": [
    {
     "data": {
      "text/plain": [
       "{'clsb': array([0.5       , 0.5       , 0.5       , 0.5       , 0.5       ,\n",
       "        0.5       , 0.5       , 0.5       , 0.5       , 0.5       ,\n",
       "        0.5       , 0.5       , 0.5       , 0.5       , 0.5       ,\n",
       "        0.5       , 0.5       , 0.48212895, 0.45796428, 0.43414476,\n",
       "        0.41074327, 0.38782973, 0.36546804, 0.34371539, 0.32262207,\n",
       "        0.30223133, 0.28257938, 0.26369552, 0.24560229, 0.22831576,\n",
       "        0.21184588, 0.19619666, 0.18136689, 0.16735034, 0.15413633,\n",
       "        0.14171017, 0.13005363, 0.11914541, 0.10896163, 0.09947626,\n",
       "        0.09066151, 0.0824883 , 0.07492655, 0.06794561, 0.06151449,\n",
       "        0.0556022 , 0.05017797, 0.04520968, 0.04067231, 0.0365337 ,\n",
       "        0.03276602, 0.02934248, 0.0262374 , 0.02342626, 0.02088714,\n",
       "        0.01859587, 0.0165325 , 0.01467751, 0.01301264, 0.01152087]),\n",
       " 'clb': array([0.5       , 0.5       , 0.51809025, 0.55493417, 0.58442266,\n",
       "        0.61197318, 0.6382623 , 0.66345429, 0.68752721, 0.71057626,\n",
       "        0.73254503, 0.75341964, 0.77319105, 0.7918569 , 0.80942213,\n",
       "        0.82588227, 0.84128692, 0.84522192, 0.84520452, 0.84518106,\n",
       "        0.84515023, 0.84511242, 0.84506817, 0.84501798, 0.84496231,\n",
       "        0.84490159, 0.84483617, 0.8447664 , 0.84469258, 0.84461499,\n",
       "        0.84453391, 0.8444495 , 0.84436201, 0.84427163, 0.84417855,\n",
       "        0.84408293, 0.84398494, 0.8438847 , 0.84378236, 0.84367805,\n",
       "        0.84357188, 0.84346394, 0.84335437, 0.84324326, 0.84313069,\n",
       "        0.84301675, 0.84290153, 0.84278047, 0.84266523, 0.842548  ,\n",
       "        0.84242889, 0.84230796, 0.84218531, 0.842061  , 0.84194162,\n",
       "        0.84181776, 0.84169321, 0.84156802, 0.84144222, 0.84131585]),\n",
       " 'exp': array([1.        , 1.        , 0.96381951, 0.89013166, 0.83115468,\n",
       "        0.77605365, 0.7234754 , 0.67309142, 0.62494559, 0.57884748,\n",
       "        0.53490995, 0.49316071, 0.45361789, 0.4162862 , 0.38115574,\n",
       "        0.34823546, 0.31742616, 0.28870587, 0.26201369, 0.23727963,\n",
       "        0.21442622, 0.19337009, 0.17402343, 0.15629542, 0.14009349,\n",
       "        0.12532445, 0.11189552, 0.09971522, 0.0886941 , 0.07874537,\n",
       "        0.06978544, 0.06173425, 0.05451566, 0.04805758, 0.04229214,\n",
       "        0.03715576, 0.03258912, 0.02853713, 0.02494881, 0.02177721,\n",
       "        0.01897919, 0.01651532, 0.0143496 , 0.01244934, 0.01078491,\n",
       "        0.00932952, 0.00805907, 0.00695187, 0.00598852, 0.00515166,\n",
       "        0.00442581, 0.00379721, 0.00325366, 0.00278434, 0.00237971,\n",
       "        0.00203135, 0.00173186, 0.00147474, 0.00125429, 0.00106555]),\n",
       " 'exp_p1': array([1.        , 1.        , 0.98665837, 0.95753659, 0.93219149,\n",
       "        0.9067158 , 0.88063699, 0.85386954, 0.82650524, 0.79850169,\n",
       "        0.76999488, 0.74108615, 0.71188348, 0.6824982 , 0.65304252,\n",
       "        0.62365832, 0.59440001, 0.56539676, 0.53674828, 0.50854833,\n",
       "        0.48088395, 0.45383486, 0.42747298, 0.40186212, 0.37705784,\n",
       "        0.35310738, 0.33004972, 0.30791578, 0.28672865, 0.26650399,\n",
       "        0.24725037, 0.22896979, 0.21165815, 0.19530578, 0.17989802,\n",
       "        0.16541574, 0.15183592, 0.13913217, 0.12727532, 0.11623385,\n",
       "        0.10597443, 0.09646237, 0.08766196, 0.079537  , 0.07205102,\n",
       "        0.06516766, 0.05885093, 0.05306543, 0.04777661, 0.04295088,\n",
       "        0.0385558 , 0.03456019, 0.03093421, 0.02764941, 0.02467882,\n",
       "        0.02199691, 0.01957968, 0.01740455, 0.01545045, 0.01369768]),\n",
       " 'exp_p2': array([1.        , 1.        , 0.99737762, 0.99123959, 0.98543211,\n",
       "        0.9791522 , 0.97225582, 0.96467411, 0.95638229, 0.94731286,\n",
       "        0.93745247, 0.92678063, 0.91528311, 0.9029519 , 0.88978526,\n",
       "        0.87580283, 0.8609902 , 0.84537606, 0.82898413, 0.81184415,\n",
       "        0.79399171, 0.77546786, 0.7563187 , 0.73659498, 0.71635151,\n",
       "        0.69564665, 0.6745417 , 0.65310031, 0.6313878 , 0.60947059,\n",
       "        0.58741553, 0.56528932, 0.54315789, 0.52108589, 0.49913615,\n",
       "        0.47736918, 0.45584278, 0.43461167, 0.41372711, 0.39323671,\n",
       "        0.37318412, 0.35360898, 0.33454667, 0.31602837, 0.29808103,\n",
       "        0.28072735, 0.26398587, 0.24787111, 0.23239368, 0.21756046,\n",
       "        0.20337481, 0.18983675, 0.1769432 , 0.16468824, 0.15306336,\n",
       "        0.14205765, 0.13165814, 0.12185   , 0.11261678, 0.10394069]),\n",
       " 'exp_m1': array([1.00000000e+00, 1.00000000e+00, 9.32386776e-01, 8.03827854e-01,\n",
       "        7.09227638e-01, 6.27080138e-01, 5.54014110e-01, 4.88646475e-01,\n",
       "        4.30259982e-01, 3.77956735e-01, 3.31280595e-01, 2.89724299e-01,\n",
       "        2.52819868e-01, 2.20131860e-01, 1.91254417e-01, 1.65834714e-01,\n",
       "        1.43474834e-01, 1.23873590e-01, 1.06733354e-01, 9.17816576e-02,\n",
       "        7.87701730e-02, 6.74735579e-02, 5.76881882e-02, 4.92308125e-02,\n",
       "        4.19371588e-02, 3.56605223e-02, 3.02703605e-02, 2.56509161e-02,\n",
       "        2.16998857e-02, 1.83271471e-02, 1.54535550e-02, 1.30098116e-02,\n",
       "        1.09354164e-02, 9.17769678e-03, 7.69091819e-03, 6.43547407e-03,\n",
       "        5.37715105e-03, 4.48646684e-03, 3.73807615e-03, 3.11024028e-03,\n",
       "        2.58435549e-03, 2.14453610e-03, 1.77724339e-03, 1.47096617e-03,\n",
       "        1.21593433e-03, 1.00387219e-03, 8.27783147e-04, 6.81762897e-04,\n",
       "        5.60837875e-04, 4.60825882e-04, 3.78216188e-04, 3.10066654e-04,\n",
       "        2.53915670e-04, 2.07706959e-04, 1.69725513e-04, 1.38543139e-04,\n",
       "        1.12972262e-04, 9.20268327e-05, 7.48892987e-05, 6.08827587e-05]),\n",
       " 'exp_m2': array([1.00000000e+00, 1.00000000e+00, 8.97121695e-01, 7.14404121e-01,\n",
       "        5.90819014e-01, 4.91078167e-01, 4.08386954e-01, 3.39321437e-01,\n",
       "        2.81659571e-01, 2.33332182e-01, 1.92951873e-01, 1.59266813e-01,\n",
       "        1.31219029e-01, 1.07911008e-01, 8.85807676e-02, 7.25970435e-02,\n",
       "        5.93823989e-02, 4.84887252e-02, 3.95259364e-02, 3.21659507e-02,\n",
       "        2.61335241e-02, 2.11983187e-02, 1.71680531e-02, 1.38826059e-02,\n",
       "        1.12089551e-02, 9.03684916e-03, 7.27511692e-03, 5.84853269e-03,\n",
       "        4.69516117e-03, 3.76411635e-03, 3.01367572e-03, 2.40969801e-03,\n",
       "        1.92429965e-03, 1.53475064e-03, 1.22255595e-03, 9.72693295e-04,\n",
       "        7.72982293e-04, 6.13563501e-04, 4.86469339e-04, 3.85271418e-04,\n",
       "        3.04791321e-04, 2.40864023e-04, 1.90144219e-04, 1.49949402e-04,\n",
       "        1.18131295e-04, 9.29719168e-05, 7.30992574e-05, 5.74190592e-05,\n",
       "        4.50597191e-05, 3.53278632e-05, 2.76725859e-05, 2.16567073e-05,\n",
       "        1.69337081e-05, 1.32292481e-05, 1.03263781e-05, 8.05372564e-06,\n",
       "        6.27606745e-06, 4.88681854e-06, 3.80205498e-06, 2.95576390e-06]),\n",
       " 'cls': array([1.        , 1.        , 0.96508283, 0.90100777, 0.8555452 ,\n",
       "        0.81702927, 0.78337699, 0.75363142, 0.72724395, 0.70365424,\n",
       "        0.6825519 , 0.66364078, 0.6466707 , 0.63142722, 0.61772465,\n",
       "        0.60541317, 0.59432756, 0.57041699, 0.54183842, 0.51367072,\n",
       "        0.4860003 , 0.45890904, 0.43247167, 0.40675512, 0.3818183 ,\n",
       "        0.35771187, 0.33447832, 0.312152  , 0.29075938, 0.27031934,\n",
       "        0.25084355, 0.23233676, 0.21479754, 0.1982186 , 0.18258736,\n",
       "        0.16788655, 0.15409472, 0.14118683, 0.12913476, 0.11790784,\n",
       "        0.10747337, 0.09779707, 0.0888435 , 0.08057652, 0.07295961,\n",
       "        0.06595622, 0.05953006, 0.05364349, 0.04826627, 0.04336097,\n",
       "        0.03889471, 0.03483582, 0.03115395, 0.02782014, 0.0248083 ,\n",
       "        0.02209013, 0.01964195, 0.01744067, 0.01546469, 0.01369387])}"
      ]
     },
     "execution_count": 19,
     "metadata": {},
     "output_type": "execute_result"
    }
   ],
   "source": [
    "ul_test.pvalues()"
   ]
  },
  {
   "cell_type": "code",
   "execution_count": null,
   "metadata": {},
   "outputs": [],
   "source": []
  }
 ],
 "metadata": {
  "kernelspec": {
   "display_name": "Python 3",
   "language": "python",
   "name": "python3"
  },
  "language_info": {
   "codemirror_mode": {
    "name": "ipython",
    "version": 3
   },
   "file_extension": ".py",
   "mimetype": "text/x-python",
   "name": "python",
   "nbconvert_exporter": "python",
   "pygments_lexer": "ipython3",
   "version": "3.7.0"
  }
 },
 "nbformat": 4,
 "nbformat_minor": 2
}
