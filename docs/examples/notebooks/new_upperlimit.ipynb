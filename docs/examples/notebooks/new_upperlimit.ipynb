{
 "cells": [
  {
   "cell_type": "markdown",
   "metadata": {},
   "source": [
    "# Example of upper limit computation."
   ]
  },
  {
   "cell_type": "code",
   "execution_count": 1,
   "metadata": {},
   "outputs": [],
   "source": [
    "import numpy as np\n",
    "import matplotlib.pyplot as plt\n",
    "import probfit\n",
    "import iminuit\n",
    "import math\n",
    "from statnight.utils.wrappers import ModelWrapper, LossFunctionWrapper, MinimizerWrapper\n",
    "from statnight.parameters import Observable, Variable, Constant, POI, GaussianConstrained\n",
    "from statnight.utils.stats import integrate1d\n",
    "from statnight.hypothesis import Hypothesis\n",
    "from statnight.hypotest import UpperLimit\n",
    "from statnight.calculators import AsymptoticCalculator\n",
    "from statnight.config import Config"
   ]
  },
  {
   "cell_type": "markdown",
   "metadata": {},
   "source": [
    "## Scenario\n",
    "\n",
    "Let's assume you want to find a resonnance between 0.1 and 3.0 GeV/c$^2$ of invariant mass of a system.\n",
    "\n",
    "You have a signal region and a background only region:"
   ]
  },
  {
   "cell_type": "code",
   "execution_count": 2,
   "metadata": {},
   "outputs": [
    {
     "data": {
      "image/png": "[encoded data removed]",
      "text/plain": [
       "<Figure size 432x288 with 1 Axes>"
      ]
     },
     "metadata": {
      "needs_background": "light"
     },
     "output_type": "display_data"
    }
   ],
   "source": [
    "bounds = (0.1,3.0)\n",
    "\n",
    "#background only\n",
    "np.random.seed(10)\n",
    "tau = 2.0\n",
    "beta = 1./tau\n",
    "data = np.random.exponential(beta, 1000)\n",
    "\n",
    "data_bkg = data[(data > bounds[0]) & (data < bounds[1])]\n",
    "plt.hist(data_bkg, bins=100, histtype='step');"
   ]
  },
  {
   "cell_type": "code",
   "execution_count": 3,
   "metadata": {},
   "outputs": [],
   "source": [
    "#signal + background\n",
    "\n",
    "np.random.seed(0)\n",
    "tau = -2.0\n",
    "beta = -1/tau\n",
    "data = np.random.exponential(beta, 300)\n",
    "peak = np.random.normal(1.2, 0.1, 10)\n",
    "data = np.concatenate((data,peak))\n",
    "data = data[(data > 0.1) & (data < 3)]"
   ]
  },
  {
   "cell_type": "markdown",
   "metadata": {},
   "source": [
    "### Background fit, in background only region:\n",
    "\n",
    "The background model is an exponential."
   ]
  },
  {
   "cell_type": "code",
   "execution_count": 4,
   "metadata": {},
   "outputs": [],
   "source": [
    "exp = probfit.Normalized(probfit.exponential, bounds)\n",
    "\n",
    "model_bkg = ModelWrapper(exp)\n",
    "model_bkg.add_obs(Observable(\"x\", range = bounds))\n",
    "tau = Variable(\"lambda\", range=(0.1, 5.0), initvalue=0.5,       initstep=0.05)\n",
    "model_bkg.add_vars(tau)\n",
    "\n",
    "LH_bkg = LossFunctionWrapper(probfit.UnbinnedLH(model_bkg, data_bkg))\n",
    "min_bkg = MinimizerWrapper(LH_bkg)"
   ]
  },
  {
   "cell_type": "code",
   "execution_count": 5,
   "metadata": {},
   "outputs": [
    {
     "data": {
      "text/html": [
       "<hr>"
      ]
     },
     "metadata": {},
     "output_type": "display_data"
    },
    {
     "data": {
      "text/html": [
       "<table>\n",
       "    <tr>\n",
       "        <td title=\"Minimum value of function\">FCN = 222.38871948523126</td>\n",
       "        <td title=\"Total number of call to FCN so far\">TOTAL NCALL = 25</td>\n",
       "        <td title=\"Number of call in last migrad\">NCALLS = 25</td>\n",
       "    </tr>\n",
       "    <tr>\n",
       "        <td title=\"Estimated distance to minimum\">EDM = 1.4889124356544732e-10</td>\n",
       "        <td title=\"Maximum EDM definition of convergence\">GOAL EDM = 5e-06</td>\n",
       "        <td title=\"Error def. Amount of increase in FCN to be defined as 1 standard deviation\">\n",
       "        UP = 0.5</td>\n",
       "    </tr>\n",
       "</table>\n",
       "<table>\n",
       "    <tr>\n",
       "        <td align=\"center\" title=\"Validity of the migrad call\">Valid</td>\n",
       "        <td align=\"center\" title=\"Validity of parameters\">Valid Param</td>\n",
       "        <td align=\"center\" title=\"Is Covariance matrix accurate?\">Accurate Covar</td>\n",
       "        <td align=\"center\" title=\"Positive definiteness of covariance matrix\">PosDef</td>\n",
       "        <td align=\"center\" title=\"Was covariance matrix made posdef by adding diagonal element\">Made PosDef</td>\n",
       "    </tr>\n",
       "    <tr>\n",
       "        <td align=\"center\" style=\"background-color:#92CCA6\">True</td>\n",
       "        <td align=\"center\" style=\"background-color:#92CCA6\">True</td>\n",
       "        <td align=\"center\" style=\"background-color:#92CCA6\">True</td>\n",
       "        <td align=\"center\" style=\"background-color:#92CCA6\">True</td>\n",
       "        <td align=\"center\" style=\"background-color:#92CCA6\">False</td>\n",
       "    </tr>\n",
       "    <tr>\n",
       "        <td align=\"center\" title=\"Was last hesse call fail?\">Hesse Fail</td>\n",
       "        <td align=\"center\" title=\"Validity of covariance\">HasCov</td>\n",
       "        <td align=\"center\" title=\"Is EDM above goal EDM?\">Above EDM</td>\n",
       "        <td align=\"center\"></td>\n",
       "        <td align=\"center\" title=\"Did last migrad call reach max call limit?\">Reach calllim</td>\n",
       "    </tr>\n",
       "    <tr>\n",
       "        <td align=\"center\" style=\"background-color:#92CCA6\">False</td>\n",
       "        <td align=\"center\" style=\"background-color:#92CCA6\">True</td>\n",
       "        <td align=\"center\" style=\"background-color:#92CCA6\">False</td>\n",
       "        <td align=\"center\"></td>\n",
       "        <td align=\"center\" style=\"background-color:#92CCA6\">False</td>\n",
       "    </tr>\n",
       "</table>"
      ]
     },
     "metadata": {},
     "output_type": "display_data"
    },
    {
     "data": {
      "text/html": [
       "<table>\n",
       "    <tr>\n",
       "        <td><a href=\"#\" onclick=\"$('#WkVXAsfbiD').toggle()\">+</a></td>\n",
       "        <td title=\"Variable name\">Name</td>\n",
       "        <td title=\"Value of parameter\">Value</td>\n",
       "        <td title=\"Hesse error\">Hesse Error</td>\n",
       "        <td title=\"Minos lower error\">Minos Error-</td>\n",
       "        <td title=\"Minos upper error\">Minos Error+</td>\n",
       "        <td title=\"Lower limit of the parameter\">Limit-</td>\n",
       "        <td title=\"Upper limit of the parameter\">Limit+</td>\n",
       "        <td title=\"Is the parameter fixed in the fit\">Fixed?</td>\n",
       "    </tr>\n",
       "    <tr>\n",
       "        <td>0</td>\n",
       "        <td>lambda</td>\n",
       "        <td>2.02224</td>\n",
       "        <td>0.0750417</td>\n",
       "        <td></td>\n",
       "        <td></td>\n",
       "        <td>0.1</td>\n",
       "        <td>5</td>\n",
       "        <td>No</td>\n",
       "    </tr>\n",
       "</table>\n",
       "<pre id=\"WkVXAsfbiD\" style=\"display:none;\">\n",
       "<textarea rows=\"8\" cols=\"50\" onclick=\"this.select()\" readonly>\n",
       "\\begin{tabular}{|c|r|r|r|r|r|r|r|c|}\n",
       "\\hline\n",
       " & Name & Value & Hesse Error & Minos Error- & Minos Error+ & Limit- & Limit+ & Fixed?\\\\\n",
       "\\hline\n",
       "0 & $\\lambda$ & 2.02224 & 0.0750417 &  &  & 0.1 & 5 & No\\\\\n",
       "\\hline\n",
       "\\end{tabular}\n",
       "</textarea>\n",
       "</pre>"
      ]
     },
     "metadata": {},
     "output_type": "display_data"
    },
    {
     "data": {
      "text/html": [
       "<hr>"
      ]
     },
     "metadata": {},
     "output_type": "display_data"
    }
   ],
   "source": [
    "min_bkg.minimize();"
   ]
  },
  {
   "cell_type": "code",
   "execution_count": 7,
   "metadata": {},
   "outputs": [],
   "source": [
    "tauval = min_bkg.values[\"lambda\"]\n",
    "tauerr = min_bkg.errors[\"lambda\"]"
   ]
  },
  {
   "cell_type": "markdown",
   "metadata": {},
   "source": [
    "### Signal + background fit in signal region:\n",
    "\n",
    "The total model is a sum of a gaussian and an exponential. The tau parameter of the exponential will be constrained to the value obtained in the background only region."
   ]
  },
  {
   "cell_type": "code",
   "execution_count": 8,
   "metadata": {},
   "outputs": [],
   "source": [
    "bkg_pdf = model_bkg\n",
    "sig_pdf = probfit.Normalized(probfit.gaussian, bounds)\n",
    "bkg_pdf_ext = probfit.Extended(bkg_pdf, \"Nbkg\")\n",
    "sig_pdf_ext = probfit.Extended(sig_pdf, \"Nsig\")\n",
    "tot_pdf = probfit.AddPdf(bkg_pdf_ext, sig_pdf_ext)"
   ]
  },
  {
   "cell_type": "markdown",
   "metadata": {},
   "source": [
    "#### Model definition:\n",
    "\n",
    "Construct a model from a given probability density function (pdf) and then assign which parameters of the pdf are observables or variables/constants and initialize them.\n",
    "\n",
    "Observable and Variable require a name and a range. Optional arguments can be given to Variable such as an initial value and initial step for minuit, and constraint wich is a function.\n",
    "Constant only require a name and a value."
   ]
  },
  {
   "cell_type": "code",
   "execution_count": 9,
   "metadata": {},
   "outputs": [],
   "source": [
    "tot_model = ModelWrapper(tot_pdf)\n",
    "\n",
    "tot_model.add_obs(Observable(\"x\", range = bounds))\n",
    "\n",
    "mean  = Constant(\"mean\",  value=1.2)\n",
    "sigma = Constant(\"sigma\", value= 0.1)\n",
    "Nsig  = Variable(\"Nsig\",  range=(-10,len((data))),   initvalue= 20.0,       initstep=1.0, isyield=True)\n",
    "tau   = Variable(\"lambda\",   range=(0.1, 5.0), initvalue=2.0, initstep=0.05)\n",
    "Nbkg  = Variable(\"Nbkg\",  range=(0,len((data))*1.1), initvalue= len(data), initstep=1.0, isyield=True)\n",
    "\n",
    "tot_model.add_vars(mean, sigma, Nsig, tau, Nbkg)\n",
    "\n",
    "tot_model.extended = True"
   ]
  },
  {
   "cell_type": "code",
   "execution_count": 10,
   "metadata": {},
   "outputs": [],
   "source": [
    "LH_sb = LossFunctionWrapper(probfit.UnbinnedLH(tot_model, data, extended=True, extended_bound=bounds))"
   ]
  },
  {
   "cell_type": "code",
   "execution_count": 11,
   "metadata": {},
   "outputs": [],
   "source": [
    "min_sb = MinimizerWrapper(LH_sb, pedantic=True)"
   ]
  },
  {
   "cell_type": "code",
   "execution_count": 12,
   "metadata": {},
   "outputs": [
    {
     "data": {
      "text/html": [
       "<hr>"
      ]
     },
     "metadata": {},
     "output_type": "display_data"
    },
    {
     "data": {
      "text/html": [
       "<table>\n",
       "    <tr>\n",
       "        <td title=\"Minimum value of function\">FCN = -1077.4737655704885</td>\n",
       "        <td title=\"Total number of call to FCN so far\">TOTAL NCALL = 61</td>\n",
       "        <td title=\"Number of call in last migrad\">NCALLS = 61</td>\n",
       "    </tr>\n",
       "    <tr>\n",
       "        <td title=\"Estimated distance to minimum\">EDM = 1.0385248839218665e-05</td>\n",
       "        <td title=\"Maximum EDM definition of convergence\">GOAL EDM = 5e-06</td>\n",
       "        <td title=\"Error def. Amount of increase in FCN to be defined as 1 standard deviation\">\n",
       "        UP = 0.5</td>\n",
       "    </tr>\n",
       "</table>\n",
       "<table>\n",
       "    <tr>\n",
       "        <td align=\"center\" title=\"Validity of the migrad call\">Valid</td>\n",
       "        <td align=\"center\" title=\"Validity of parameters\">Valid Param</td>\n",
       "        <td align=\"center\" title=\"Is Covariance matrix accurate?\">Accurate Covar</td>\n",
       "        <td align=\"center\" title=\"Positive definiteness of covariance matrix\">PosDef</td>\n",
       "        <td align=\"center\" title=\"Was covariance matrix made posdef by adding diagonal element\">Made PosDef</td>\n",
       "    </tr>\n",
       "    <tr>\n",
       "        <td align=\"center\" style=\"background-color:#92CCA6\">True</td>\n",
       "        <td align=\"center\" style=\"background-color:#92CCA6\">True</td>\n",
       "        <td align=\"center\" style=\"background-color:#92CCA6\">True</td>\n",
       "        <td align=\"center\" style=\"background-color:#92CCA6\">True</td>\n",
       "        <td align=\"center\" style=\"background-color:#92CCA6\">False</td>\n",
       "    </tr>\n",
       "    <tr>\n",
       "        <td align=\"center\" title=\"Was last hesse call fail?\">Hesse Fail</td>\n",
       "        <td align=\"center\" title=\"Validity of covariance\">HasCov</td>\n",
       "        <td align=\"center\" title=\"Is EDM above goal EDM?\">Above EDM</td>\n",
       "        <td align=\"center\"></td>\n",
       "        <td align=\"center\" title=\"Did last migrad call reach max call limit?\">Reach calllim</td>\n",
       "    </tr>\n",
       "    <tr>\n",
       "        <td align=\"center\" style=\"background-color:#92CCA6\">False</td>\n",
       "        <td align=\"center\" style=\"background-color:#92CCA6\">True</td>\n",
       "        <td align=\"center\" style=\"background-color:#92CCA6\">False</td>\n",
       "        <td align=\"center\"></td>\n",
       "        <td align=\"center\" style=\"background-color:#92CCA6\">False</td>\n",
       "    </tr>\n",
       "</table>"
      ]
     },
     "metadata": {},
     "output_type": "display_data"
    },
    {
     "data": {
      "text/html": [
       "<table>\n",
       "    <tr>\n",
       "        <td><a href=\"#\" onclick=\"$('#pSmdXNWJWM').toggle()\">+</a></td>\n",
       "        <td title=\"Variable name\">Name</td>\n",
       "        <td title=\"Value of parameter\">Value</td>\n",
       "        <td title=\"Hesse error\">Hesse Error</td>\n",
       "        <td title=\"Minos lower error\">Minos Error-</td>\n",
       "        <td title=\"Minos upper error\">Minos Error+</td>\n",
       "        <td title=\"Lower limit of the parameter\">Limit-</td>\n",
       "        <td title=\"Upper limit of the parameter\">Limit+</td>\n",
       "        <td title=\"Is the parameter fixed in the fit\">Fixed?</td>\n",
       "    </tr>\n",
       "    <tr>\n",
       "        <td>0</td>\n",
       "        <td>lambda</td>\n",
       "        <td>1.93033</td>\n",
       "        <td>0.13977</td>\n",
       "        <td></td>\n",
       "        <td></td>\n",
       "        <td>0.1</td>\n",
       "        <td>5</td>\n",
       "        <td>No</td>\n",
       "    </tr>\n",
       "    <tr>\n",
       "        <td>1</td>\n",
       "        <td>Nbkg</td>\n",
       "        <td>251.514</td>\n",
       "        <td>16.6341</td>\n",
       "        <td></td>\n",
       "        <td></td>\n",
       "        <td>0</td>\n",
       "        <td>281.6</td>\n",
       "        <td>No</td>\n",
       "    </tr>\n",
       "    <tr>\n",
       "        <td>2</td>\n",
       "        <td>mean</td>\n",
       "        <td>1.2</td>\n",
       "        <td>1</td>\n",
       "        <td></td>\n",
       "        <td></td>\n",
       "        <td></td>\n",
       "        <td></td>\n",
       "        <td>Yes</td>\n",
       "    </tr>\n",
       "    <tr>\n",
       "        <td>3</td>\n",
       "        <td>sigma</td>\n",
       "        <td>0.1</td>\n",
       "        <td>1</td>\n",
       "        <td></td>\n",
       "        <td></td>\n",
       "        <td></td>\n",
       "        <td></td>\n",
       "        <td>Yes</td>\n",
       "    </tr>\n",
       "    <tr>\n",
       "        <td>4</td>\n",
       "        <td>Nsig</td>\n",
       "        <td>4.5397</td>\n",
       "        <td>5.74656</td>\n",
       "        <td></td>\n",
       "        <td></td>\n",
       "        <td>-10</td>\n",
       "        <td>256</td>\n",
       "        <td>No</td>\n",
       "    </tr>\n",
       "</table>\n",
       "<pre id=\"pSmdXNWJWM\" style=\"display:none;\">\n",
       "<textarea rows=\"16\" cols=\"50\" onclick=\"this.select()\" readonly>\n",
       "\\begin{tabular}{|c|r|r|r|r|r|r|r|c|}\n",
       "\\hline\n",
       " & Name & Value & Hesse Error & Minos Error- & Minos Error+ & Limit- & Limit+ & Fixed?\\\\\n",
       "\\hline\n",
       "0 & $\\lambda$ & 1.93033 & 0.13977 &  &  & 0.1 & 5 & No\\\\\n",
       "\\hline\n",
       "1 & Nbkg & 251.514 & 16.6341 &  &  & 0.0 & 281.6 & No\\\\\n",
       "\\hline\n",
       "2 & mean & 1.2 & 1 &  &  &  &  & Yes\\\\\n",
       "\\hline\n",
       "3 & $\\sigma$ & 0.1 & 1 &  &  &  &  & Yes\\\\\n",
       "\\hline\n",
       "4 & Nsig & 4.5397 & 5.74656 &  &  & -10.0 & 256 & No\\\\\n",
       "\\hline\n",
       "\\end{tabular}\n",
       "</textarea>\n",
       "</pre>"
      ]
     },
     "metadata": {},
     "output_type": "display_data"
    },
    {
     "data": {
      "text/html": [
       "<hr>"
      ]
     },
     "metadata": {},
     "output_type": "display_data"
    }
   ],
   "source": [
    "min_sb.minimize();"
   ]
  },
  {
   "cell_type": "code",
   "execution_count": 13,
   "metadata": {},
   "outputs": [],
   "source": [
    "def plotfitresult(pdf, bounds, nbins, *args):\n",
    "    x = np.linspace(bounds[0], bounds[1], nbins)\n",
    "    bin_centers = x[:-1] + np.diff(x)/2.\n",
    "    y = np.zeros(bin_centers.shape)\n",
    "    \n",
    "    for i in range(nbins-1):\n",
    "        y[i] = integrate1d(pdf, (x[i],x[i+1]), 100, *args)\n",
    "        \n",
    "    plt.plot(bin_centers, y, \"-r\")     "
   ]
  },
  {
   "cell_type": "code",
   "execution_count": 14,
   "metadata": {},
   "outputs": [
    {
     "data": {
      "image/png": "[encoded data removed]",
      "text/plain": [
       "<Figure size 432x288 with 1 Axes>"
      ]
     },
     "metadata": {
      "needs_background": "light"
     },
     "output_type": "display_data"
    }
   ],
   "source": [
    "nbins = 100\n",
    "fit_result = min_sb.values.values()\n",
    "plt.hist(data, bins=nbins, histtype='step', range=bounds);\n",
    "plotfitresult(tot_model, bounds, nbins, *fit_result)"
   ]
  },
  {
   "cell_type": "markdown",
   "metadata": {},
   "source": [
    "## Upper limit:"
   ]
  },
  {
   "cell_type": "code",
   "execution_count": 17,
   "metadata": {},
   "outputs": [],
   "source": [
    "def lossbuilder(model, data, weights=None):\n",
    "    model = model[0]\n",
    "    data = data[0]\n",
    "    weights = weights[0]\n",
    "    loss = LossFunctionWrapper(probfit.UnbinnedLH(model, data, extended=True, extended_bound=bounds, weights=weights))\n",
    "    return loss\n",
    "    \n",
    "config = Config(tot_model, data, lossbuilder, MinimizerWrapper)\n",
    "config.bestfit = min_sb.values"
   ]
  },
  {
   "cell_type": "code",
   "execution_count": 18,
   "metadata": {},
   "outputs": [],
   "source": [
    "calc = AsymptoticCalculator(config)"
   ]
  },
  {
   "cell_type": "code",
   "execution_count": 19,
   "metadata": {},
   "outputs": [],
   "source": [
    "poinull = POI(\"Nsig\", value=np.linspace(0.1, 20, 60))\n",
    "poialt = POI(\"Nsig\", value=0)\n",
    "ul_test = UpperLimit(poinull, poialt, calc, CLs=True, qtilde=False)"
   ]
  },
  {
   "cell_type": "code",
   "execution_count": 20,
   "metadata": {},
   "outputs": [
    {
     "name": "stdout",
     "output_type": "stream",
     "text": [
      "\n",
      "Get fit best values for nuisance parameters for the alternative hypothesis!\n"
     ]
    },
    {
     "data": {
      "text/html": [
       "<hr>"
      ]
     },
     "metadata": {},
     "output_type": "display_data"
    },
    {
     "data": {
      "text/html": [
       "<table>\n",
       "    <tr>\n",
       "        <td title=\"Minimum value of function\">FCN = -1077.1288614924279</td>\n",
       "        <td title=\"Total number of call to FCN so far\">TOTAL NCALL = 31</td>\n",
       "        <td title=\"Number of call in last migrad\">NCALLS = 31</td>\n",
       "    </tr>\n",
       "    <tr>\n",
       "        <td title=\"Estimated distance to minimum\">EDM = 2.1020788979043285e-07</td>\n",
       "        <td title=\"Maximum EDM definition of convergence\">GOAL EDM = 5e-06</td>\n",
       "        <td title=\"Error def. Amount of increase in FCN to be defined as 1 standard deviation\">\n",
       "        UP = 0.5</td>\n",
       "    </tr>\n",
       "</table>\n",
       "<table>\n",
       "    <tr>\n",
       "        <td align=\"center\" title=\"Validity of the migrad call\">Valid</td>\n",
       "        <td align=\"center\" title=\"Validity of parameters\">Valid Param</td>\n",
       "        <td align=\"center\" title=\"Is Covariance matrix accurate?\">Accurate Covar</td>\n",
       "        <td align=\"center\" title=\"Positive definiteness of covariance matrix\">PosDef</td>\n",
       "        <td align=\"center\" title=\"Was covariance matrix made posdef by adding diagonal element\">Made PosDef</td>\n",
       "    </tr>\n",
       "    <tr>\n",
       "        <td align=\"center\" style=\"background-color:#92CCA6\">True</td>\n",
       "        <td align=\"center\" style=\"background-color:#92CCA6\">True</td>\n",
       "        <td align=\"center\" style=\"background-color:#92CCA6\">True</td>\n",
       "        <td align=\"center\" style=\"background-color:#92CCA6\">True</td>\n",
       "        <td align=\"center\" style=\"background-color:#92CCA6\">False</td>\n",
       "    </tr>\n",
       "    <tr>\n",
       "        <td align=\"center\" title=\"Was last hesse call fail?\">Hesse Fail</td>\n",
       "        <td align=\"center\" title=\"Validity of covariance\">HasCov</td>\n",
       "        <td align=\"center\" title=\"Is EDM above goal EDM?\">Above EDM</td>\n",
       "        <td align=\"center\"></td>\n",
       "        <td align=\"center\" title=\"Did last migrad call reach max call limit?\">Reach calllim</td>\n",
       "    </tr>\n",
       "    <tr>\n",
       "        <td align=\"center\" style=\"background-color:#92CCA6\">False</td>\n",
       "        <td align=\"center\" style=\"background-color:#92CCA6\">True</td>\n",
       "        <td align=\"center\" style=\"background-color:#92CCA6\">False</td>\n",
       "        <td align=\"center\"></td>\n",
       "        <td align=\"center\" style=\"background-color:#92CCA6\">False</td>\n",
       "    </tr>\n",
       "</table>"
      ]
     },
     "metadata": {},
     "output_type": "display_data"
    },
    {
     "data": {
      "text/html": [
       "<table>\n",
       "    <tr>\n",
       "        <td><a href=\"#\" onclick=\"$('#PkyrRMAaFA').toggle()\">+</a></td>\n",
       "        <td title=\"Variable name\">Name</td>\n",
       "        <td title=\"Value of parameter\">Value</td>\n",
       "        <td title=\"Hesse error\">Hesse Error</td>\n",
       "        <td title=\"Minos lower error\">Minos Error-</td>\n",
       "        <td title=\"Minos upper error\">Minos Error+</td>\n",
       "        <td title=\"Lower limit of the parameter\">Limit-</td>\n",
       "        <td title=\"Upper limit of the parameter\">Limit+</td>\n",
       "        <td title=\"Is the parameter fixed in the fit\">Fixed?</td>\n",
       "    </tr>\n",
       "    <tr>\n",
       "        <td>0</td>\n",
       "        <td>lambda</td>\n",
       "        <td>1.88723</td>\n",
       "        <td>0.126167</td>\n",
       "        <td></td>\n",
       "        <td></td>\n",
       "        <td>0.1</td>\n",
       "        <td>5</td>\n",
       "        <td>No</td>\n",
       "    </tr>\n",
       "    <tr>\n",
       "        <td>1</td>\n",
       "        <td>Nbkg</td>\n",
       "        <td>256.001</td>\n",
       "        <td>15.8962</td>\n",
       "        <td></td>\n",
       "        <td></td>\n",
       "        <td>0</td>\n",
       "        <td>281.6</td>\n",
       "        <td>No</td>\n",
       "    </tr>\n",
       "    <tr>\n",
       "        <td>2</td>\n",
       "        <td>mean</td>\n",
       "        <td>1.2</td>\n",
       "        <td>1</td>\n",
       "        <td></td>\n",
       "        <td></td>\n",
       "        <td></td>\n",
       "        <td></td>\n",
       "        <td>Yes</td>\n",
       "    </tr>\n",
       "    <tr>\n",
       "        <td>3</td>\n",
       "        <td>sigma</td>\n",
       "        <td>0.1</td>\n",
       "        <td>1</td>\n",
       "        <td></td>\n",
       "        <td></td>\n",
       "        <td></td>\n",
       "        <td></td>\n",
       "        <td>Yes</td>\n",
       "    </tr>\n",
       "    <tr>\n",
       "        <td>4</td>\n",
       "        <td>Nsig</td>\n",
       "        <td>0</td>\n",
       "        <td>1</td>\n",
       "        <td></td>\n",
       "        <td></td>\n",
       "        <td></td>\n",
       "        <td></td>\n",
       "        <td>Yes</td>\n",
       "    </tr>\n",
       "</table>\n",
       "<pre id=\"PkyrRMAaFA\" style=\"display:none;\">\n",
       "<textarea rows=\"16\" cols=\"50\" onclick=\"this.select()\" readonly>\n",
       "\\begin{tabular}{|c|r|r|r|r|r|r|r|c|}\n",
       "\\hline\n",
       " & Name & Value & Hesse Error & Minos Error- & Minos Error+ & Limit- & Limit+ & Fixed?\\\\\n",
       "\\hline\n",
       "0 & $\\lambda$ & 1.88723 & 0.126167 &  &  & 0.1 & 5 & No\\\\\n",
       "\\hline\n",
       "1 & Nbkg & 256.001 & 15.8962 &  &  & 0.0 & 281.6 & No\\\\\n",
       "\\hline\n",
       "2 & mean & 1.2 & 1 &  &  &  &  & Yes\\\\\n",
       "\\hline\n",
       "3 & $\\sigma$ & 0.1 & 1 &  &  &  &  & Yes\\\\\n",
       "\\hline\n",
       "4 & Nsig & 0 & 1 &  &  &  &  & Yes\\\\\n",
       "\\hline\n",
       "\\end{tabular}\n",
       "</textarea>\n",
       "</pre>"
      ]
     },
     "metadata": {},
     "output_type": "display_data"
    },
    {
     "data": {
      "text/html": [
       "<hr>"
      ]
     },
     "metadata": {},
     "output_type": "display_data"
    },
    {
     "name": "stdout",
     "output_type": "stream",
     "text": [
      "\n",
      "Observed upper limit: Nsig = 15.72570133069052\n",
      "Expected upper limit: Nsig = 11.92768248119218\n",
      "Expected upper limit +1 sigma: Nsig = 16.596730839082312\n",
      "Expected upper limit -1 sigma: Nsig = 8.59292362054542\n",
      "Expected upper limit +2 sigma: Nsig = 22.249092793060463\n",
      "Expected upper limit -2 sigma: Nsig = 6.40067899682821\n"
     ]
    }
   ],
   "source": [
    "ul_test.upperlimit();"
   ]
  },
  {
   "cell_type": "code",
   "execution_count": 21,
   "metadata": {},
   "outputs": [
    {
     "data": {
      "image/png": "[encoded data removed]",
      "text/plain": [
       "<Figure size 720x576 with 1 Axes>"
      ]
     },
     "metadata": {
      "needs_background": "light"
     },
     "output_type": "display_data"
    }
   ],
   "source": [
    "ul_test.plot()"
   ]
  },
  {
   "cell_type": "code",
   "execution_count": 22,
   "metadata": {},
   "outputs": [
    {
     "data": {
      "text/plain": [
       "{'clsb': array([0.5       , 0.5       , 0.5       , 0.5       , 0.5       ,\n",
       "        0.5       , 0.5       , 0.5       , 0.5       , 0.5       ,\n",
       "        0.5       , 0.5       , 0.5       , 0.5       , 0.48169073,\n",
       "        0.45858178, 0.43577995, 0.41334216, 0.39133014, 0.36980176,\n",
       "        0.34880973, 0.32840114, 0.30861731, 0.28949362, 0.27105963,\n",
       "        0.25333909, 0.2363501 , 0.2201054 , 0.20461254, 0.18987423,\n",
       "        0.17588868, 0.16264994, 0.15014821, 0.13837036, 0.12730024,\n",
       "        0.11691902, 0.10720564, 0.09813715, 0.08968903, 0.08183557,\n",
       "        0.07455017, 0.06780569, 0.06157467, 0.05582949, 0.0505426 ,\n",
       "        0.04568687, 0.04123553, 0.03716252, 0.03344252, 0.03005109,\n",
       "        0.0269647 , 0.02416083, 0.02161803, 0.01931589, 0.01723514,\n",
       "        0.01535757, 0.0136661 , 0.01214473, 0.0107785 , 0.00955351]),\n",
       " 'clb': array([0.50809035, 0.53392146, 0.55939154, 0.58441143, 0.60889441,\n",
       "        0.63276173, 0.65594238, 0.67837642, 0.70001119, 0.72080367,\n",
       "        0.7407198 , 0.75973416, 0.7778296 , 0.79499678, 0.79857461,\n",
       "        0.79858885, 0.79860344, 0.79861656, 0.79862434, 0.79862669,\n",
       "        0.79862372, 0.79861563, 0.79860264, 0.79858497, 0.79856281,\n",
       "        0.79853637, 0.79850583, 0.79847137, 0.79843314, 0.79839131,\n",
       "        0.79834602, 0.79829746, 0.79824569, 0.7981909 , 0.79813321,\n",
       "        0.79807275, 0.79800964, 0.79794398, 0.79787586, 0.79780531,\n",
       "        0.79773244, 0.79765742, 0.79758049, 0.79750178, 0.79742128,\n",
       "        0.79733922, 0.79725551, 0.79717024, 0.79708349, 0.79699532,\n",
       "        0.79690583, 0.79681508, 0.79672314, 0.79663007, 0.79653589,\n",
       "        0.79644064, 0.79634435, 0.79624708, 0.79614892, 0.79604982]),\n",
       " 'exp': array([0.98381931, 0.93215707, 0.88121691, 0.83117713, 0.78221117,\n",
       "        0.73447655, 0.68811523, 0.64324716, 0.59997763, 0.55839266,\n",
       "        0.5185604 , 0.48053169, 0.4443408 , 0.41000644, 0.37753276,\n",
       "        0.34691057, 0.31812389, 0.29113   , 0.26589249, 0.24236157,\n",
       "        0.22048053, 0.20018698, 0.18141403, 0.16409138, 0.14814631,\n",
       "        0.13350469, 0.12009173, 0.1078328 , 0.09665406, 0.08648304,\n",
       "        0.07724911, 0.0688839 , 0.06132161, 0.05449927, 0.04835696,\n",
       "        0.04283787, 0.03788844, 0.0334584 , 0.02950068, 0.02597149,\n",
       "        0.02283012, 0.02003895, 0.01756329, 0.01537127, 0.01343367,\n",
       "        0.01172382, 0.01021742, 0.0088924 , 0.00772877, 0.00670847,\n",
       "        0.00581521, 0.00503435, 0.00435277, 0.00375872, 0.00324169,\n",
       "        0.00279235, 0.00240237, 0.00206438, 0.00177185, 0.00151899]),\n",
       " 'exp_p1': array([0.99410808, 0.97447538, 0.95382633, 0.9322015 , 0.90965382,\n",
       "        0.8862445 , 0.86204312, 0.8371238 , 0.81156823, 0.78546236,\n",
       "        0.75889597, 0.73196162, 0.70475364, 0.67736712, 0.6498969 ,\n",
       "        0.62243662, 0.595083  , 0.56791456, 0.54102094, 0.51448263,\n",
       "        0.48837515, 0.46276857, 0.4377271 , 0.41330882, 0.38956545,\n",
       "        0.36654224, 0.34427793, 0.32280482, 0.30214883, 0.28232978,\n",
       "        0.26336152, 0.24525229, 0.22800504, 0.21161776, 0.19608389,\n",
       "        0.18139272, 0.1675298 , 0.15447734, 0.14221466, 0.13071855,\n",
       "        0.11996369, 0.10992303, 0.10056814, 0.09186955, 0.08379707,\n",
       "        0.07632008, 0.06940778, 0.06302944, 0.05715462, 0.05175334,\n",
       "        0.04679625, 0.04225479, 0.03810127, 0.034309  , 0.03085235,\n",
       "        0.02770681, 0.02484902, 0.0222568 , 0.01990915, 0.01778632]),\n",
       " 'exp_p2': array([0.99885657, 0.99487901, 0.99041662, 0.98543449, 0.97989931,\n",
       "        0.97377912, 0.96704405, 0.95966584, 0.95161942, 0.94288264,\n",
       "        0.93343682, 0.9232671 , 0.91236276, 0.90071752, 0.88832971,\n",
       "        0.87520245, 0.8613465 , 0.84676975, 0.83149243, 0.81553728,\n",
       "        0.7989317 , 0.78170763, 0.76390123, 0.74555263, 0.72670553,\n",
       "        0.70740688, 0.68770639, 0.66765615, 0.64731012, 0.62672371,\n",
       "        0.60595323, 0.58505547, 0.56408722, 0.54310481, 0.52216367,\n",
       "        0.50131793, 0.48062003, 0.4601204 , 0.43986709, 0.41990559,\n",
       "        0.40027842, 0.38102514, 0.36218206, 0.34378214, 0.32585493,\n",
       "        0.30842653, 0.29151953, 0.2751531 , 0.25934299, 0.24410165,\n",
       "        0.22943829, 0.21535907, 0.2018672 , 0.18896315, 0.17664478,\n",
       "        0.16490755, 0.15374469, 0.14314739, 0.13310497, 0.12360524]),\n",
       " 'exp_m1': array([9.69382549e-01, 8.75683399e-01, 7.89069547e-01, 7.09262315e-01,\n",
       "        6.35971690e-01, 5.68884800e-01, 5.07673899e-01, 4.51994607e-01,\n",
       "        4.01501548e-01, 3.55846857e-01, 3.14685846e-01, 2.77680576e-01,\n",
       "        2.44502822e-01, 2.14836468e-01, 1.88379375e-01, 1.64844771e-01,\n",
       "        1.43965941e-01, 1.25481679e-01, 1.09159503e-01, 9.47802163e-02,\n",
       "        8.21415251e-02, 7.10575937e-02, 6.13584523e-02, 5.28892865e-02,\n",
       "        4.55096428e-02, 3.90925764e-02, 3.35237661e-02, 2.87006142e-02,\n",
       "        2.45313503e-02, 2.09341503e-02, 1.78362824e-02, 1.51732885e-02,\n",
       "        1.28882066e-02, 1.09308377e-02, 9.25706130e-03, 7.82819979e-03,\n",
       "        6.61043200e-03, 5.57425534e-03, 4.69399515e-03, 3.94735999e-03,\n",
       "        3.31503619e-03, 2.78033047e-03, 2.32884220e-03, 1.94817475e-03,\n",
       "        1.62767797e-03, 1.35822003e-03, 1.13198589e-03, 9.42299837e-04,\n",
       "        7.83469790e-04, 6.50650939e-04, 5.39726803e-04, 4.47205683e-04,\n",
       "        3.70130785e-04, 3.06002362e-04, 2.52710381e-04, 2.08476469e-04,\n",
       "        1.71804038e-04, 1.41435536e-04, 1.16315773e-04, 9.55609507e-05]),\n",
       " 'exp_m2': array([9.52835375e-01, 8.14443442e-01, 6.94514380e-01, 5.90862612e-01,\n",
       "        5.01530464e-01, 4.24751065e-01, 3.58939472e-01, 3.02673165e-01,\n",
       "        2.54691261e-01, 2.13875427e-01, 1.79239299e-01, 1.49916482e-01,\n",
       "        1.25148932e-01, 1.04275890e-01, 8.67234584e-02, 7.19948954e-02,\n",
       "        5.96638008e-02, 4.93571360e-02, 4.07613154e-02, 3.36062795e-02,\n",
       "        2.76618422e-02, 2.27323445e-02, 1.86519182e-02, 1.52803129e-02,\n",
       "        1.24992355e-02, 1.02091541e-02, 8.32651940e-03, 6.78135795e-03,\n",
       "        5.51519613e-03, 4.47927537e-03, 3.63302311e-03, 2.94274721e-03,\n",
       "        2.38052458e-03, 1.92325801e-03, 1.55187801e-03, 1.25066930e-03,\n",
       "        1.00670393e-03, 8.09365432e-04, 6.49950325e-04, 5.21335379e-04,\n",
       "        4.17699665e-04, 3.34294648e-04, 2.67252178e-04, 2.13426130e-04,\n",
       "        1.70261404e-04, 1.35685897e-04, 1.08021574e-04, 8.59114031e-05,\n",
       "        6.82594352e-05, 5.41817465e-05, 4.29663456e-05, 3.40404623e-05,\n",
       "        2.69439024e-05, 2.13073735e-05, 1.68348812e-05, 1.32894534e-05,\n",
       "        1.04815877e-05, 8.25991649e-06, 6.50366427e-06, 5.11659123e-06]),\n",
       " 'cls': array([0.98407695, 0.93646732, 0.89382831, 0.85556163, 0.82116043,\n",
       "        0.79018686, 0.76226207, 0.73705392, 0.7142743 , 0.69367016,\n",
       "        0.67501908, 0.65812495, 0.64281431, 0.62893337, 0.60318814,\n",
       "        0.57424015, 0.54567753, 0.51757273, 0.49000527, 0.46304708,\n",
       "        0.43676354, 0.41121302, 0.38644664, 0.36250823, 0.33943433,\n",
       "        0.31725428, 0.29599045, 0.27565848, 0.25626759, 0.23782102,\n",
       "        0.22031634, 0.20374603, 0.18809774, 0.17335498, 0.15949748,\n",
       "        0.1465017 , 0.13434129, 0.12298752, 0.11240976, 0.10257587,\n",
       "        0.0934526 , 0.08500604, 0.07720183, 0.07000548, 0.06338256,\n",
       "        0.05729917, 0.05172185, 0.04661805, 0.04195611, 0.03770548,\n",
       "        0.03383674, 0.03032176, 0.02713367, 0.024247  , 0.02163761,\n",
       "        0.01928276, 0.01716105, 0.01525247, 0.0135383 , 0.01200114])}"
      ]
     },
     "execution_count": 22,
     "metadata": {},
     "output_type": "execute_result"
    }
   ],
   "source": [
    "ul_test.pvalues()"
   ]
  },
  {
   "cell_type": "code",
   "execution_count": null,
   "metadata": {},
   "outputs": [],
   "source": []
  }
 ],
 "metadata": {
  "kernelspec": {
   "display_name": "Python 3",
   "language": "python",
   "name": "python3"
  },
  "language_info": {
   "codemirror_mode": {
    "name": "ipython",
    "version": 3
   },
   "file_extension": ".py",
   "mimetype": "text/x-python",
   "name": "python",
   "nbconvert_exporter": "python",
   "pygments_lexer": "ipython3",
   "version": "3.6.7"
  }
 },
 "nbformat": 4,
 "nbformat_minor": 2
}
