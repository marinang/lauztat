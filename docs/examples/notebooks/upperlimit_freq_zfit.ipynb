{
 "cells": [
  {
   "cell_type": "markdown",
   "metadata": {},
   "source": [
    "# Example of upper limit computation."
   ]
  },
  {
   "cell_type": "code",
   "execution_count": 1,
   "metadata": {},
   "outputs": [],
   "source": [
    "import numpy as np\n",
    "import matplotlib.pyplot as plt\n",
    "from statnight.parameters import POI\n",
    "from statnight.hypotest import UpperLimit\n",
    "from statnight.calculators import FrequentistCalculator\n",
    "from statnight.config import Config"
   ]
  },
  {
   "cell_type": "code",
   "execution_count": 2,
   "metadata": {},
   "outputs": [
    {
     "name": "stderr",
     "output_type": "stream",
     "text": [
      "/Users/matthieumarinangeli/anaconda3/envs/tfn/lib/python3.6/site-packages/zfit-0.0.0-py3.6.egg/zfit/util/execution.py:53: UserWarning: Not running on Linux. Determining available cpus for thread can failand be overestimated. Workaround (only if too many cpus are used):`zfit.run.set_n_cpu(your_cpu_number)`\n",
      "  warnings.warn(\"Not running on Linux. Determining available cpus for thread can fail\"\n"
     ]
    }
   ],
   "source": [
    "import tensorflow as tf\n",
    "import zfit\n",
    "from zfit import ztf\n",
    "from zfit.core.loss import ExtendedUnbinnedNLL, UnbinnedNLL\n",
    "from zfit.minimizers.minimizer_minuit import MinuitMinimizer"
   ]
  },
  {
   "cell_type": "code",
   "execution_count": null,
   "metadata": {},
   "outputs": [],
   "source": []
  },
  {
   "cell_type": "markdown",
   "metadata": {},
   "source": [
    "## Scenario\n",
    "\n",
    "Let's assume you want to find a resonnance between 0.1 and 3.0 GeV/c$^2$ of invariant mass of a system.\n",
    "\n",
    "You have a signal region and a background only region:"
   ]
  },
  {
   "cell_type": "code",
   "execution_count": 3,
   "metadata": {},
   "outputs": [
    {
     "data": {
      "image/png": "[encoded data removed]",
      "text/plain": [
       "<Figure size 432x288 with 1 Axes>"
      ]
     },
     "metadata": {
      "needs_background": "light"
     },
     "output_type": "display_data"
    }
   ],
   "source": [
    "bounds = (0.1,3.0)\n",
    "\n",
    "#background only\n",
    "np.random.seed(10)\n",
    "tau = 2.0\n",
    "beta = 1./tau\n",
    "data = np.random.exponential(beta, 1000)\n",
    "\n",
    "data_bkg = data[(data > bounds[0]) & (data < bounds[1])]\n",
    "plt.hist(data_bkg, bins=100, histtype='step');"
   ]
  },
  {
   "cell_type": "code",
   "execution_count": 4,
   "metadata": {},
   "outputs": [],
   "source": [
    "#signal + background\n",
    "\n",
    "np.random.seed(0)\n",
    "tau = -2.0\n",
    "beta = -1/tau\n",
    "data = np.random.exponential(beta, 300)\n",
    "peak = np.random.normal(1.2, 0.1, 10)\n",
    "data = np.concatenate((data,peak))\n",
    "data = data[(data > bounds[0]) & (data < bounds[1])]"
   ]
  },
  {
   "cell_type": "markdown",
   "metadata": {},
   "source": [
    "### Background fit, in background only region:\n",
    "\n",
    "The background model is an exponential."
   ]
  },
  {
   "cell_type": "code",
   "execution_count": 5,
   "metadata": {},
   "outputs": [],
   "source": [
    "obs = zfit.Space('x', limits=bounds)"
   ]
  },
  {
   "cell_type": "code",
   "execution_count": 6,
   "metadata": {},
   "outputs": [],
   "source": [
    "lambda_ = zfit.Parameter(\"lambda_\",-2.0, -5.0, -0.1)\n",
    "model_bkg = zfit.pdf.Exponential(obs=obs, lambda_=lambda_)"
   ]
  },
  {
   "cell_type": "code",
   "execution_count": 7,
   "metadata": {},
   "outputs": [],
   "source": [
    "data_bkg_ = zfit.data.Data.from_numpy(obs=obs, array=data_bkg)\n",
    "nll_bkg = UnbinnedNLL(model=[model_bkg], data=[data_bkg_], fit_range=[obs]) "
   ]
  },
  {
   "cell_type": "code",
   "execution_count": 8,
   "metadata": {},
   "outputs": [],
   "source": [
    "minimizer = MinuitMinimizer()"
   ]
  },
  {
   "cell_type": "code",
   "execution_count": 9,
   "metadata": {},
   "outputs": [
    {
     "data": {
      "text/html": [
       "<hr>"
      ]
     },
     "metadata": {},
     "output_type": "display_data"
    },
    {
     "data": {
      "text/html": [
       "<table>\n",
       "    <tr>\n",
       "        <td title=\"Minimum value of function\">FCN = 222.38872008604355</td>\n",
       "        <td title=\"Total number of call to FCN so far\">TOTAL NCALL = 18</td>\n",
       "        <td title=\"Number of call in last migrad\">NCALLS = 18</td>\n",
       "    </tr>\n",
       "    <tr>\n",
       "        <td title=\"Estimated distance to minimum\">EDM = 5.955503885843458e-07</td>\n",
       "        <td title=\"Maximum EDM definition of convergence\">GOAL EDM = 5e-06</td>\n",
       "        <td title=\"Error def. Amount of increase in FCN to be defined as 1 standard deviation\">\n",
       "        UP = 0.5</td>\n",
       "    </tr>\n",
       "</table>\n",
       "<table>\n",
       "    <tr>\n",
       "        <td align=\"center\" title=\"Validity of the migrad call\">Valid</td>\n",
       "        <td align=\"center\" title=\"Validity of parameters\">Valid Param</td>\n",
       "        <td align=\"center\" title=\"Is Covariance matrix accurate?\">Accurate Covar</td>\n",
       "        <td align=\"center\" title=\"Positive definiteness of covariance matrix\">PosDef</td>\n",
       "        <td align=\"center\" title=\"Was covariance matrix made posdef by adding diagonal element\">Made PosDef</td>\n",
       "    </tr>\n",
       "    <tr>\n",
       "        <td align=\"center\" style=\"background-color:#92CCA6\">True</td>\n",
       "        <td align=\"center\" style=\"background-color:#92CCA6\">True</td>\n",
       "        <td align=\"center\" style=\"background-color:#92CCA6\">True</td>\n",
       "        <td align=\"center\" style=\"background-color:#92CCA6\">True</td>\n",
       "        <td align=\"center\" style=\"background-color:#92CCA6\">False</td>\n",
       "    </tr>\n",
       "    <tr>\n",
       "        <td align=\"center\" title=\"Was last hesse call fail?\">Hesse Fail</td>\n",
       "        <td align=\"center\" title=\"Validity of covariance\">HasCov</td>\n",
       "        <td align=\"center\" title=\"Is EDM above goal EDM?\">Above EDM</td>\n",
       "        <td align=\"center\"></td>\n",
       "        <td align=\"center\" title=\"Did last migrad call reach max call limit?\">Reach calllim</td>\n",
       "    </tr>\n",
       "    <tr>\n",
       "        <td align=\"center\" style=\"background-color:#92CCA6\">False</td>\n",
       "        <td align=\"center\" style=\"background-color:#92CCA6\">True</td>\n",
       "        <td align=\"center\" style=\"background-color:#92CCA6\">False</td>\n",
       "        <td align=\"center\"></td>\n",
       "        <td align=\"center\" style=\"background-color:#92CCA6\">False</td>\n",
       "    </tr>\n",
       "</table>"
      ]
     },
     "metadata": {},
     "output_type": "display_data"
    },
    {
     "data": {
      "text/html": [
       "<table>\n",
       "    <tr>\n",
       "        <td><a href=\"#\" onclick=\"$('#uNwjmTucOK').toggle()\">+</a></td>\n",
       "        <td title=\"Variable name\">Name</td>\n",
       "        <td title=\"Value of parameter\">Value</td>\n",
       "        <td title=\"Hesse error\">Hesse Error</td>\n",
       "        <td title=\"Minos lower error\">Minos Error-</td>\n",
       "        <td title=\"Minos upper error\">Minos Error+</td>\n",
       "        <td title=\"Lower limit of the parameter\">Limit-</td>\n",
       "        <td title=\"Upper limit of the parameter\">Limit+</td>\n",
       "        <td title=\"Is the parameter fixed in the fit\">Fixed?</td>\n",
       "    </tr>\n",
       "    <tr>\n",
       "        <td>0</td>\n",
       "        <td>lambda_</td>\n",
       "        <td>-2.02216</td>\n",
       "        <td>0.0748696</td>\n",
       "        <td></td>\n",
       "        <td></td>\n",
       "        <td>-5</td>\n",
       "        <td>-0.1</td>\n",
       "        <td>No</td>\n",
       "    </tr>\n",
       "</table>\n",
       "<pre id=\"uNwjmTucOK\" style=\"display:none;\">\n",
       "<textarea rows=\"8\" cols=\"50\" onclick=\"this.select()\" readonly>\n",
       "\\begin{tabular}{|c|r|r|r|r|r|r|r|c|}\n",
       "\\hline\n",
       " & Name & Value & Hesse Error & Minos Error- & Minos Error+ & Limit- & Limit+ & Fixed?\\\\\n",
       "\\hline\n",
       "0 & $\\lambda_{}$ & -2.02216 & 0.0748696 &  &  & -5.0 & -0.1 & No\\\\\n",
       "\\hline\n",
       "\\end{tabular}\n",
       "</textarea>\n",
       "</pre>"
      ]
     },
     "metadata": {},
     "output_type": "display_data"
    },
    {
     "data": {
      "text/html": [
       "<hr>"
      ]
     },
     "metadata": {},
     "output_type": "display_data"
    }
   ],
   "source": [
    "min_bkg = minimizer.minimize(loss=nll_bkg)"
   ]
  },
  {
   "cell_type": "code",
   "execution_count": 10,
   "metadata": {},
   "outputs": [
    {
     "data": {
      "text/plain": [
       "{'value': -2.0221553460278447}"
      ]
     },
     "execution_count": 10,
     "metadata": {},
     "output_type": "execute_result"
    }
   ],
   "source": [
    "min_bkg.params[lambda_]"
   ]
  },
  {
   "cell_type": "code",
   "execution_count": 11,
   "metadata": {},
   "outputs": [
    {
     "data": {
      "text/html": [
       "<span>Minos status for lambda_: <span style=\"background-color:#92CCA6\">VALID</span></span>\n",
       "<table>\n",
       "    <tr>\n",
       "        <td title=\"lower and upper minos error of the parameter\">Error</td>\n",
       "        <td>-0.0758734282816623</td>\n",
       "        <td>0.07424582735713346</td>\n",
       "    </tr>\n",
       "    <tr>\n",
       "        <td title=\"Validity of minos error\">Valid</td>\n",
       "        <td style=\"background-color:#92CCA6\">True</td>\n",
       "        <td style=\"background-color:#92CCA6\">True</td>\n",
       "    </tr>\n",
       "    <tr>\n",
       "        <td title=\"Did minos error search hit limit of any parameter?\">At Limit</td>\n",
       "        <td style=\"background-color:#92CCA6\">False</td>\n",
       "        <td style=\"background-color:#92CCA6\">False</td>\n",
       "    </tr>\n",
       "    <tr>\n",
       "        <td title=\"I don't really know what this one means... Post it in issue if you know\">Max FCN</td>\n",
       "        <td style=\"background-color:#92CCA6\">False</td>\n",
       "        <td style=\"background-color:#92CCA6\">False</td>\n",
       "    </tr>\n",
       "    <tr>\n",
       "        <td title=\"New minimum found when doing minos scan.\">New Min</td>\n",
       "        <td style=\"background-color:#92CCA6\">False</td>\n",
       "        <td style=\"background-color:#92CCA6\">False</td>\n",
       "    </tr>\n",
       "</table>"
      ]
     },
     "metadata": {},
     "output_type": "display_data"
    }
   ],
   "source": [
    "min_bkg.error();"
   ]
  },
  {
   "cell_type": "code",
   "execution_count": 12,
   "metadata": {},
   "outputs": [
    {
     "name": "stdout",
     "output_type": "stream",
     "text": [
      "-2.0221553460278447 0.0748696\n"
     ]
    }
   ],
   "source": [
    "lambda_mu = min_bkg.params[lambda_][\"value\"]\n",
    "lambda_sigma = 0.0748696\n",
    "print(lambda_mu, lambda_sigma)"
   ]
  },
  {
   "cell_type": "markdown",
   "metadata": {},
   "source": [
    "### Signal + background fit in signal region:\n",
    "\n",
    "The total model is a sum of a gaussian and an exponential. The tau parameter of the exponential will be constrained to the value obtained in the background only region."
   ]
  },
  {
   "cell_type": "code",
   "execution_count": 13,
   "metadata": {},
   "outputs": [],
   "source": [
    "mean = zfit.Parameter(\"mean\", 1.2, 0.1, 2., floating=False)\n",
    "sigma = zfit.Parameter(\"sigma\", 0.1, floating=False)\n",
    "Nsig = zfit.Parameter(\"Nsig\", 1., -20., len(data))\n",
    "Nbkg = zfit.Parameter(\"Nbkg\", len(data), 0., len(data)*1.1)"
   ]
  },
  {
   "cell_type": "code",
   "execution_count": 14,
   "metadata": {},
   "outputs": [],
   "source": [
    "signal = Nsig * zfit.pdf.Gauss(obs=obs, mu=mean, sigma=sigma)\n",
    "background =  Nbkg * model_bkg\n",
    "tot_model = signal + background"
   ]
  },
  {
   "cell_type": "code",
   "execution_count": 15,
   "metadata": {},
   "outputs": [],
   "source": [
    "constraint = zfit.constraint.nll_gaussian(params=[lambda_], mu=[lambda_mu], sigma=[lambda_sigma])"
   ]
  },
  {
   "cell_type": "code",
   "execution_count": 16,
   "metadata": {},
   "outputs": [],
   "source": [
    "data_ = zfit.data.Data.from_numpy(obs=obs, array=data)\n",
    "nll = ExtendedUnbinnedNLL(model=[tot_model], data=[data_], fit_range=[obs], constraints=constraint) "
   ]
  },
  {
   "cell_type": "code",
   "execution_count": 17,
   "metadata": {},
   "outputs": [
    {
     "data": {
      "text/html": [
       "<hr>"
      ]
     },
     "metadata": {},
     "output_type": "display_data"
    },
    {
     "data": {
      "text/html": [
       "<table>\n",
       "    <tr>\n",
       "        <td title=\"Minimum value of function\">FCN = -1077.3102158175611</td>\n",
       "        <td title=\"Total number of call to FCN so far\">TOTAL NCALL = 68</td>\n",
       "        <td title=\"Number of call in last migrad\">NCALLS = 68</td>\n",
       "    </tr>\n",
       "    <tr>\n",
       "        <td title=\"Estimated distance to minimum\">EDM = 3.616396431133066e-05</td>\n",
       "        <td title=\"Maximum EDM definition of convergence\">GOAL EDM = 5e-06</td>\n",
       "        <td title=\"Error def. Amount of increase in FCN to be defined as 1 standard deviation\">\n",
       "        UP = 0.5</td>\n",
       "    </tr>\n",
       "</table>\n",
       "<table>\n",
       "    <tr>\n",
       "        <td align=\"center\" title=\"Validity of the migrad call\">Valid</td>\n",
       "        <td align=\"center\" title=\"Validity of parameters\">Valid Param</td>\n",
       "        <td align=\"center\" title=\"Is Covariance matrix accurate?\">Accurate Covar</td>\n",
       "        <td align=\"center\" title=\"Positive definiteness of covariance matrix\">PosDef</td>\n",
       "        <td align=\"center\" title=\"Was covariance matrix made posdef by adding diagonal element\">Made PosDef</td>\n",
       "    </tr>\n",
       "    <tr>\n",
       "        <td align=\"center\" style=\"background-color:#92CCA6\">True</td>\n",
       "        <td align=\"center\" style=\"background-color:#92CCA6\">True</td>\n",
       "        <td align=\"center\" style=\"background-color:#92CCA6\">True</td>\n",
       "        <td align=\"center\" style=\"background-color:#92CCA6\">True</td>\n",
       "        <td align=\"center\" style=\"background-color:#92CCA6\">False</td>\n",
       "    </tr>\n",
       "    <tr>\n",
       "        <td align=\"center\" title=\"Was last hesse call fail?\">Hesse Fail</td>\n",
       "        <td align=\"center\" title=\"Validity of covariance\">HasCov</td>\n",
       "        <td align=\"center\" title=\"Is EDM above goal EDM?\">Above EDM</td>\n",
       "        <td align=\"center\"></td>\n",
       "        <td align=\"center\" title=\"Did last migrad call reach max call limit?\">Reach calllim</td>\n",
       "    </tr>\n",
       "    <tr>\n",
       "        <td align=\"center\" style=\"background-color:#92CCA6\">False</td>\n",
       "        <td align=\"center\" style=\"background-color:#92CCA6\">True</td>\n",
       "        <td align=\"center\" style=\"background-color:#92CCA6\">False</td>\n",
       "        <td align=\"center\"></td>\n",
       "        <td align=\"center\" style=\"background-color:#92CCA6\">False</td>\n",
       "    </tr>\n",
       "</table>"
      ]
     },
     "metadata": {},
     "output_type": "display_data"
    },
    {
     "data": {
      "text/html": [
       "<table>\n",
       "    <tr>\n",
       "        <td><a href=\"#\" onclick=\"$('#ojERpPWVfx').toggle()\">+</a></td>\n",
       "        <td title=\"Variable name\">Name</td>\n",
       "        <td title=\"Value of parameter\">Value</td>\n",
       "        <td title=\"Hesse error\">Hesse Error</td>\n",
       "        <td title=\"Minos lower error\">Minos Error-</td>\n",
       "        <td title=\"Minos upper error\">Minos Error+</td>\n",
       "        <td title=\"Lower limit of the parameter\">Limit-</td>\n",
       "        <td title=\"Upper limit of the parameter\">Limit+</td>\n",
       "        <td title=\"Is the parameter fixed in the fit\">Fixed?</td>\n",
       "    </tr>\n",
       "    <tr>\n",
       "        <td>0</td>\n",
       "        <td>Nbkg</td>\n",
       "        <td>250.491</td>\n",
       "        <td>16.5058</td>\n",
       "        <td></td>\n",
       "        <td></td>\n",
       "        <td>0</td>\n",
       "        <td>281.6</td>\n",
       "        <td>No</td>\n",
       "    </tr>\n",
       "    <tr>\n",
       "        <td>1</td>\n",
       "        <td>lambda_</td>\n",
       "        <td>-2.00252</td>\n",
       "        <td>0.0665394</td>\n",
       "        <td></td>\n",
       "        <td></td>\n",
       "        <td>-5</td>\n",
       "        <td>-0.1</td>\n",
       "        <td>No</td>\n",
       "    </tr>\n",
       "    <tr>\n",
       "        <td>2</td>\n",
       "        <td>Nsig</td>\n",
       "        <td>5.54879</td>\n",
       "        <td>5.48997</td>\n",
       "        <td></td>\n",
       "        <td></td>\n",
       "        <td>-20</td>\n",
       "        <td>256</td>\n",
       "        <td>No</td>\n",
       "    </tr>\n",
       "</table>\n",
       "<pre id=\"ojERpPWVfx\" style=\"display:none;\">\n",
       "<textarea rows=\"12\" cols=\"50\" onclick=\"this.select()\" readonly>\n",
       "\\begin{tabular}{|c|r|r|r|r|r|r|r|c|}\n",
       "\\hline\n",
       " & Name & Value & Hesse Error & Minos Error- & Minos Error+ & Limit- & Limit+ & Fixed?\\\\\n",
       "\\hline\n",
       "0 & Nbkg & 250.491 & 16.5058 &  &  & 0.0 & 281.6 & No\\\\\n",
       "\\hline\n",
       "1 & $\\lambda_{}$ & -2.00252 & 0.0665394 &  &  & -5.0 & -0.1 & No\\\\\n",
       "\\hline\n",
       "2 & Nsig & 5.54879 & 5.48997 &  &  & -20.0 & 256 & No\\\\\n",
       "\\hline\n",
       "\\end{tabular}\n",
       "</textarea>\n",
       "</pre>"
      ]
     },
     "metadata": {},
     "output_type": "display_data"
    },
    {
     "data": {
      "text/html": [
       "<hr>"
      ]
     },
     "metadata": {},
     "output_type": "display_data"
    }
   ],
   "source": [
    "minimum = minimizer.minimize(loss=nll)"
   ]
  },
  {
   "cell_type": "code",
   "execution_count": 18,
   "metadata": {},
   "outputs": [],
   "source": [
    "def plotfitresult(pdf, bounds, nbins, data):\n",
    "    x = np.linspace(*bounds, num=1000)\n",
    "    pdf = zfit.run(tot_model.pdf(x, norm_range=bounds))\n",
    "    _ = plt.plot(x, ((bounds[1] - bounds[0])/nbins)*(pdf), \"-r\")  "
   ]
  },
  {
   "cell_type": "code",
   "execution_count": 19,
   "metadata": {},
   "outputs": [
    {
     "data": {
      "image/png": "[encoded data removed]",
      "text/plain": [
       "<Figure size 432x288 with 1 Axes>"
      ]
     },
     "metadata": {
      "needs_background": "light"
     },
     "output_type": "display_data"
    }
   ],
   "source": [
    "nbins = 80\n",
    "plt.hist(data, bins=nbins, histtype='step', range=bounds);\n",
    "plotfitresult(tot_model, bounds, nbins, data)"
   ]
  },
  {
   "cell_type": "markdown",
   "metadata": {},
   "source": [
    "## Upper limit:"
   ]
  },
  {
   "cell_type": "code",
   "execution_count": 20,
   "metadata": {},
   "outputs": [],
   "source": [
    "from scipy.stats import norm"
   ]
  },
  {
   "cell_type": "code",
   "execution_count": 21,
   "metadata": {},
   "outputs": [],
   "source": [
    "from contextlib import ExitStack\n",
    "\n",
    "def profileLikelihood(loss, var, value):\n",
    "    with var.set_value(value) as value:\n",
    "        var.floating = False\n",
    "        mini = minimizer\n",
    "        mini.verbosity = 0\n",
    "        minimum = mini.minimize(loss=loss)\n",
    "    var.floating = True\n",
    "    return minimum.fmin\n",
    "\n",
    "def samplers(constraints):\n",
    "    def s(ntoys, param, value, models, nsamples=\"extended\"):\n",
    "    \n",
    "        to_set = {param: value}\n",
    "\n",
    "        fixed_params = [lambda_, Nbkg]\n",
    "        samplers = [m.create_sampler(n=nsamples, fixed_params=fixed_params) for m in models]\n",
    "    \n",
    "        def iterate():\n",
    "            for i in range(ntoys):            \n",
    "                values_to_set = dict(to_set)\n",
    "            \n",
    "                for k, v in constraints.items():\n",
    "                    values_to_set[k] = v()\n",
    "\n",
    "                with ExitStack() as stack:\n",
    "                    items = values_to_set.items()\n",
    "                    [stack.enter_context(k.set_value(v)) for k, v in items]\n",
    "                    for s in samplers:\n",
    "                        s.resample()\n",
    "                \n",
    "                yield i\n",
    "    \n",
    "        return samplers, iterate()\n",
    "    return s\n",
    "\n",
    "def lossbuilder(model, data, weights=None):\n",
    "    constraint = zfit.constraint.nll_gaussian(params=[lambda_], mu=[lambda_mu], sigma=[lambda_sigma])\n",
    "    loss = ExtendedUnbinnedNLL(model=model, data=data, fit_range=[obs], constraints=constraint) \n",
    "    return loss\n",
    "\n",
    "constraints = {lambda_: lambda: norm.rvs(loc=lambda_mu, scale=lambda_sigma)}\n",
    "    \n",
    "config = Config(tot_model, data_, lossbuilder, MinuitMinimizer(), profileLikelihood, samplers(constraints))"
   ]
  },
  {
   "cell_type": "code",
   "execution_count": 22,
   "metadata": {},
   "outputs": [
    {
     "name": "stdout",
     "output_type": "stream",
     "text": [
      "Get fit best values!\n"
     ]
    },
    {
     "data": {
      "text/html": [
       "<hr>"
      ]
     },
     "metadata": {},
     "output_type": "display_data"
    },
    {
     "data": {
      "text/html": [
       "<table>\n",
       "    <tr>\n",
       "        <td title=\"Minimum value of function\">FCN = -1077.3102191386088</td>\n",
       "        <td title=\"Total number of call to FCN so far\">TOTAL NCALL = 36</td>\n",
       "        <td title=\"Number of call in last migrad\">NCALLS = 36</td>\n",
       "    </tr>\n",
       "    <tr>\n",
       "        <td title=\"Estimated distance to minimum\">EDM = 3.284304874885505e-05</td>\n",
       "        <td title=\"Maximum EDM definition of convergence\">GOAL EDM = 5e-06</td>\n",
       "        <td title=\"Error def. Amount of increase in FCN to be defined as 1 standard deviation\">\n",
       "        UP = 0.5</td>\n",
       "    </tr>\n",
       "</table>\n",
       "<table>\n",
       "    <tr>\n",
       "        <td align=\"center\" title=\"Validity of the migrad call\">Valid</td>\n",
       "        <td align=\"center\" title=\"Validity of parameters\">Valid Param</td>\n",
       "        <td align=\"center\" title=\"Is Covariance matrix accurate?\">Accurate Covar</td>\n",
       "        <td align=\"center\" title=\"Positive definiteness of covariance matrix\">PosDef</td>\n",
       "        <td align=\"center\" title=\"Was covariance matrix made posdef by adding diagonal element\">Made PosDef</td>\n",
       "    </tr>\n",
       "    <tr>\n",
       "        <td align=\"center\" style=\"background-color:#92CCA6\">True</td>\n",
       "        <td align=\"center\" style=\"background-color:#92CCA6\">True</td>\n",
       "        <td align=\"center\" style=\"background-color:#92CCA6\">True</td>\n",
       "        <td align=\"center\" style=\"background-color:#92CCA6\">True</td>\n",
       "        <td align=\"center\" style=\"background-color:#92CCA6\">False</td>\n",
       "    </tr>\n",
       "    <tr>\n",
       "        <td align=\"center\" title=\"Was last hesse call fail?\">Hesse Fail</td>\n",
       "        <td align=\"center\" title=\"Validity of covariance\">HasCov</td>\n",
       "        <td align=\"center\" title=\"Is EDM above goal EDM?\">Above EDM</td>\n",
       "        <td align=\"center\"></td>\n",
       "        <td align=\"center\" title=\"Did last migrad call reach max call limit?\">Reach calllim</td>\n",
       "    </tr>\n",
       "    <tr>\n",
       "        <td align=\"center\" style=\"background-color:#92CCA6\">False</td>\n",
       "        <td align=\"center\" style=\"background-color:#92CCA6\">True</td>\n",
       "        <td align=\"center\" style=\"background-color:#92CCA6\">False</td>\n",
       "        <td align=\"center\"></td>\n",
       "        <td align=\"center\" style=\"background-color:#92CCA6\">False</td>\n",
       "    </tr>\n",
       "</table>"
      ]
     },
     "metadata": {},
     "output_type": "display_data"
    },
    {
     "data": {
      "text/html": [
       "<table>\n",
       "    <tr>\n",
       "        <td><a href=\"#\" onclick=\"$('#SDBNQwAyON').toggle()\">+</a></td>\n",
       "        <td title=\"Variable name\">Name</td>\n",
       "        <td title=\"Value of parameter\">Value</td>\n",
       "        <td title=\"Hesse error\">Hesse Error</td>\n",
       "        <td title=\"Minos lower error\">Minos Error-</td>\n",
       "        <td title=\"Minos upper error\">Minos Error+</td>\n",
       "        <td title=\"Lower limit of the parameter\">Limit-</td>\n",
       "        <td title=\"Upper limit of the parameter\">Limit+</td>\n",
       "        <td title=\"Is the parameter fixed in the fit\">Fixed?</td>\n",
       "    </tr>\n",
       "    <tr>\n",
       "        <td>0</td>\n",
       "        <td>Nbkg</td>\n",
       "        <td>250.491</td>\n",
       "        <td>16.5058</td>\n",
       "        <td></td>\n",
       "        <td></td>\n",
       "        <td>0</td>\n",
       "        <td>281.6</td>\n",
       "        <td>No</td>\n",
       "    </tr>\n",
       "    <tr>\n",
       "        <td>1</td>\n",
       "        <td>lambda_</td>\n",
       "        <td>-2.00246</td>\n",
       "        <td>0.0665391</td>\n",
       "        <td></td>\n",
       "        <td></td>\n",
       "        <td>-5</td>\n",
       "        <td>-0.1</td>\n",
       "        <td>No</td>\n",
       "    </tr>\n",
       "    <tr>\n",
       "        <td>2</td>\n",
       "        <td>Nsig</td>\n",
       "        <td>5.5488</td>\n",
       "        <td>5.48997</td>\n",
       "        <td></td>\n",
       "        <td></td>\n",
       "        <td>-20</td>\n",
       "        <td>256</td>\n",
       "        <td>No</td>\n",
       "    </tr>\n",
       "</table>\n",
       "<pre id=\"SDBNQwAyON\" style=\"display:none;\">\n",
       "<textarea rows=\"12\" cols=\"50\" onclick=\"this.select()\" readonly>\n",
       "\\begin{tabular}{|c|r|r|r|r|r|r|r|c|}\n",
       "\\hline\n",
       " & Name & Value & Hesse Error & Minos Error- & Minos Error+ & Limit- & Limit+ & Fixed?\\\\\n",
       "\\hline\n",
       "0 & Nbkg & 250.491 & 16.5058 &  &  & 0.0 & 281.6 & No\\\\\n",
       "\\hline\n",
       "1 & $\\lambda_{}$ & -2.00246 & 0.0665391 &  &  & -5.0 & -0.1 & No\\\\\n",
       "\\hline\n",
       "2 & Nsig & 5.5488 & 5.48997 &  &  & -20.0 & 256 & No\\\\\n",
       "\\hline\n",
       "\\end{tabular}\n",
       "</textarea>\n",
       "</pre>"
      ]
     },
     "metadata": {},
     "output_type": "display_data"
    },
    {
     "data": {
      "text/html": [
       "<hr>"
      ]
     },
     "metadata": {},
     "output_type": "display_data"
    },
    {
     "data": {
      "text/plain": [
       "<zfit.minimizers.fitresult.FitResult at 0x1a3bac67b8>"
      ]
     },
     "execution_count": 22,
     "metadata": {},
     "output_type": "execute_result"
    }
   ],
   "source": [
    "config.bestfit"
   ]
  },
  {
   "cell_type": "code",
   "execution_count": 23,
   "metadata": {},
   "outputs": [],
   "source": [
    "calc = FrequentistCalculator(config, ntoysnull=2000, ntoysalt=4000)"
   ]
  },
  {
   "cell_type": "code",
   "execution_count": 24,
   "metadata": {},
   "outputs": [],
   "source": [
    "poinull = POI(Nsig, value=np.linspace(0.1, 25, 15))\n",
    "poialt = POI(Nsig, value=0)\n",
    "ul_test = UpperLimit(poinull, poialt, calc, CLs=True, qtilde=False)"
   ]
  },
  {
   "cell_type": "code",
   "execution_count": 25,
   "metadata": {},
   "outputs": [
    {
     "name": "stdout",
     "output_type": "stream",
     "text": [
      "Generating null hypothesis toys for POI('Nsig', value=0.1).\n",
      "0 toys generated, fitted and scanned!\n",
      "400 toys generated, fitted and scanned!\n",
      "800 toys generated, fitted and scanned!\n",
      "1200 toys generated, fitted and scanned!\n",
      "1600 toys generated, fitted and scanned!\n",
      "Generating null hypothesis toys for POI('Nsig', value=1.8785714285714286).\n",
      "0 toys generated, fitted and scanned!\n",
      "400 toys generated, fitted and scanned!\n",
      "800 toys generated, fitted and scanned!\n",
      "1200 toys generated, fitted and scanned!\n",
      "1600 toys generated, fitted and scanned!\n",
      "Generating null hypothesis toys for POI('Nsig', value=3.657142857142857).\n",
      "0 toys generated, fitted and scanned!\n",
      "400 toys generated, fitted and scanned!\n",
      "800 toys generated, fitted and scanned!\n",
      "1200 toys generated, fitted and scanned!\n",
      "1600 toys generated, fitted and scanned!\n",
      "Generating null hypothesis toys for POI('Nsig', value=5.435714285714285).\n",
      "0 toys generated, fitted and scanned!\n",
      "400 toys generated, fitted and scanned!\n",
      "800 toys generated, fitted and scanned!\n",
      "1200 toys generated, fitted and scanned!\n",
      "1600 toys generated, fitted and scanned!\n",
      "Generating null hypothesis toys for POI('Nsig', value=7.2142857142857135).\n",
      "0 toys generated, fitted and scanned!\n",
      "400 toys generated, fitted and scanned!\n",
      "800 toys generated, fitted and scanned!\n",
      "1200 toys generated, fitted and scanned!\n",
      "1600 toys generated, fitted and scanned!\n",
      "Generating null hypothesis toys for POI('Nsig', value=8.992857142857142).\n",
      "0 toys generated, fitted and scanned!\n",
      "400 toys generated, fitted and scanned!\n",
      "800 toys generated, fitted and scanned!\n",
      "1200 toys generated, fitted and scanned!\n",
      "1600 toys generated, fitted and scanned!\n",
      "Generating null hypothesis toys for POI('Nsig', value=10.77142857142857).\n",
      "0 toys generated, fitted and scanned!\n",
      "400 toys generated, fitted and scanned!\n",
      "800 toys generated, fitted and scanned!\n",
      "1200 toys generated, fitted and scanned!\n",
      "1600 toys generated, fitted and scanned!\n",
      "Generating null hypothesis toys for POI('Nsig', value=12.549999999999999).\n",
      "0 toys generated, fitted and scanned!\n",
      "400 toys generated, fitted and scanned!\n",
      "800 toys generated, fitted and scanned!\n",
      "1200 toys generated, fitted and scanned!\n",
      "1600 toys generated, fitted and scanned!\n",
      "Generating null hypothesis toys for POI('Nsig', value=14.328571428571427).\n",
      "0 toys generated, fitted and scanned!\n",
      "400 toys generated, fitted and scanned!\n",
      "800 toys generated, fitted and scanned!\n",
      "1200 toys generated, fitted and scanned!\n",
      "1600 toys generated, fitted and scanned!\n",
      "Generating null hypothesis toys for POI('Nsig', value=16.107142857142858).\n",
      "0 toys generated, fitted and scanned!\n",
      "400 toys generated, fitted and scanned!\n",
      "800 toys generated, fitted and scanned!\n",
      "1200 toys generated, fitted and scanned!\n",
      "1600 toys generated, fitted and scanned!\n",
      "Generating null hypothesis toys for POI('Nsig', value=17.885714285714286).\n",
      "0 toys generated, fitted and scanned!\n",
      "400 toys generated, fitted and scanned!\n",
      "800 toys generated, fitted and scanned!\n",
      "1200 toys generated, fitted and scanned!\n",
      "1600 toys generated, fitted and scanned!\n",
      "Generating null hypothesis toys for POI('Nsig', value=19.664285714285715).\n",
      "0 toys generated, fitted and scanned!\n",
      "400 toys generated, fitted and scanned!\n",
      "800 toys generated, fitted and scanned!\n",
      "1200 toys generated, fitted and scanned!\n",
      "1600 toys generated, fitted and scanned!\n",
      "Generating null hypothesis toys for POI('Nsig', value=21.442857142857143).\n",
      "0 toys generated, fitted and scanned!\n",
      "400 toys generated, fitted and scanned!\n",
      "800 toys generated, fitted and scanned!\n",
      "1200 toys generated, fitted and scanned!\n",
      "1600 toys generated, fitted and scanned!\n",
      "Generating null hypothesis toys for POI('Nsig', value=23.22142857142857).\n",
      "0 toys generated, fitted and scanned!\n",
      "400 toys generated, fitted and scanned!\n",
      "800 toys generated, fitted and scanned!\n",
      "1200 toys generated, fitted and scanned!\n",
      "1600 toys generated, fitted and scanned!\n",
      "Generating null hypothesis toys for POI('Nsig', value=25.0).\n",
      "0 toys generated, fitted and scanned!\n",
      "400 toys generated, fitted and scanned!\n",
      "800 toys generated, fitted and scanned!\n",
      "1200 toys generated, fitted and scanned!\n",
      "1600 toys generated, fitted and scanned!\n",
      "Generating alt hypothesis toys for POI('Nsig', value=0).\n",
      "0 toys generated, fitted and scanned!\n",
      "800 toys generated, fitted and scanned!\n",
      "1600 toys generated, fitted and scanned!\n",
      "2400 toys generated, fitted and scanned!\n",
      "3200 toys generated, fitted and scanned!\n",
      "\n",
      "Observed upper limit: Nsig = 16.9614766032379\n",
      "Expected upper limit: Nsig = 11.119969125231785\n",
      "Expected upper limit +1 sigma: Nsig = 17.13985369689047\n",
      "Expected upper limit -1 sigma: Nsig = 5.602850271629936\n",
      "Expected upper limit +2 sigma: Nsig = 21.585171666957073\n",
      "Expected upper limit -2 sigma: Nsig = 1.8175057433852448\n"
     ]
    }
   ],
   "source": [
    "ul_test.upperlimit();"
   ]
  },
  {
   "cell_type": "code",
   "execution_count": 26,
   "metadata": {},
   "outputs": [
    {
     "data": {
      "image/png": "[encoded data removed]",
      "text/plain": [
       "<Figure size 720x576 with 1 Axes>"
      ]
     },
     "metadata": {
      "needs_background": "light"
     },
     "output_type": "display_data"
    }
   ],
   "source": [
    "ul_test.plot()"
   ]
  },
  {
   "cell_type": "code",
   "execution_count": 27,
   "metadata": {},
   "outputs": [
    {
     "data": {
      "image/png": "[encoded data removed]",
      "text/plain": [
       "<Figure size 432x288 with 1 Axes>"
      ]
     },
     "metadata": {
      "needs_background": "light"
     },
     "output_type": "display_data"
    }
   ],
   "source": [
    "ul_test.plot_qdist(poinull[1], log=True)"
   ]
  },
  {
   "cell_type": "code",
   "execution_count": 28,
   "metadata": {},
   "outputs": [
    {
     "data": {
      "image/png": "[encoded data removed]",
      "text/plain": [
       "<Figure size 432x288 with 1 Axes>"
      ]
     },
     "metadata": {
      "needs_background": "light"
     },
     "output_type": "display_data"
    }
   ],
   "source": [
    "ul_test.plot_qdist(poinull[5], log=True)"
   ]
  },
  {
   "cell_type": "code",
   "execution_count": 29,
   "metadata": {},
   "outputs": [
    {
     "data": {
      "image/png": "[encoded data removed]",
      "text/plain": [
       "<Figure size 432x288 with 1 Axes>"
      ]
     },
     "metadata": {
      "needs_background": "light"
     },
     "output_type": "display_data"
    }
   ],
   "source": [
    "ul_test.plot_qdist(poinull[7], log=True)"
   ]
  },
  {
   "cell_type": "code",
   "execution_count": 30,
   "metadata": {},
   "outputs": [
    {
     "data": {
      "image/png": "[encoded data removed]",
      "text/plain": [
       "<Figure size 432x288 with 1 Axes>"
      ]
     },
     "metadata": {
      "needs_background": "light"
     },
     "output_type": "display_data"
    }
   ],
   "source": [
    "ul_test.plot_qdist(poinull[-1], log=True)"
   ]
  },
  {
   "cell_type": "code",
   "execution_count": null,
   "metadata": {},
   "outputs": [],
   "source": []
  }
 ],
 "metadata": {
  "kernelspec": {
   "display_name": "Python 3",
   "language": "python",
   "name": "python3"
  },
  "language_info": {
   "codemirror_mode": {
    "name": "ipython",
    "version": 3
   },
   "file_extension": ".py",
   "mimetype": "text/x-python",
   "name": "python",
   "nbconvert_exporter": "python",
   "pygments_lexer": "ipython3",
   "version": "3.6.7"
  }
 },
 "nbformat": 4,
 "nbformat_minor": 2
}
