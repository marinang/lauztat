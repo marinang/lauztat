{
 "cells": [
  {
   "cell_type": "code",
   "execution_count": 1,
   "metadata": {},
   "outputs": [
    {
     "name": "stdout",
     "output_type": "stream",
     "text": [
      "/Users/matthieumarinangeli/statrise\n"
     ]
    }
   ],
   "source": [
    "cd .."
   ]
  },
  {
   "cell_type": "code",
   "execution_count": 2,
   "metadata": {},
   "outputs": [],
   "source": [
    "from statrise import AsymptoticCalculator, Hypothesis, Observable, Model, Constant, Variable\n",
    "import numpy as np\n",
    "import matplotlib.pyplot as plt\n",
    "import probfit\n",
    "import iminuit\n",
    "import math"
   ]
  },
  {
   "cell_type": "code",
   "execution_count": 3,
   "metadata": {},
   "outputs": [
    {
     "data": {
      "image/png": "[encoded data removed]",
      "text/plain": [
       "<Figure size 432x288 with 1 Axes>"
      ]
     },
     "metadata": {},
     "output_type": "display_data"
    }
   ],
   "source": [
    "# First let's make some example data\n",
    "\n",
    "np.random.seed(0)\n",
    "tau = -2.0\n",
    "beta = -1/tau\n",
    "data = np.random.exponential(beta, 300)\n",
    "peak = np.random.normal(1.2, 0.1, 4)\n",
    "data = np.concatenate((data,peak))\n",
    "data = data[(data > 0.1) & (data < 3)]\n",
    "\n",
    "plt.hist(data, bins=100, histtype='step');"
   ]
  },
  {
   "cell_type": "code",
   "execution_count": 4,
   "metadata": {},
   "outputs": [],
   "source": [
    "exp_n = probfit.Normalized(probfit.exponential, (0.1,3.))\n",
    "gauss_n = probfit.Normalized(probfit.gaussian, (0.1,3.))\n",
    "exp = probfit.Extended(exp_n, extname='Nbkg')\n",
    "gauss = probfit.Extended(gauss_n, extname='Nsig')\n",
    "totpdf = probfit.AddPdf(gauss, exp)\n",
    "UL = probfit.UnbinnedLH(totpdf, data, extended=True, extended_bound = (0.1,3.))"
   ]
  },
  {
   "cell_type": "code",
   "execution_count": 5,
   "metadata": {},
   "outputs": [
    {
     "data": {
      "text/plain": [
       "['x', 'mean', 'sigma', 'Nsig', 'tau', 'Nbkg']"
      ]
     },
     "execution_count": 5,
     "metadata": {},
     "output_type": "execute_result"
    }
   ],
   "source": [
    "iminuit.describe(totpdf)"
   ]
  },
  {
   "cell_type": "code",
   "execution_count": 6,
   "metadata": {},
   "outputs": [],
   "source": [
    "initial_params = {\"tau\":  -0.5,  \"limit_tau\":    (-5.0, -0.1) , \"error_tau\"   : 0.05,\n",
    "                  \"mean\":  1.2,  \"limit_mean\":    (0.8, 1.7) , \"error_mean\"   : 0.01, \"fix_mean\": True,\n",
    "                  \"sigma\": 0.1, \"limit_sigma\":   (0.02, 0.12), \"error_sigma\" : 0.0001, \"fix_sigma\": True,\n",
    "                  \"Nsig\":  0,    \"limit_Nsig\": (-10,len((data))), \"error_Nsig\"  : 1.0,\n",
    "                  \"Nbkg\":  len(data),    \"limit_Nbkg\": (0,len(data)*1.1), \"error_Nbkg\"  : 1.0\n",
    "                 }\n",
    "\n",
    "minuit = iminuit.Minuit(UL, **initial_params, pedantic=True)"
   ]
  },
  {
   "cell_type": "code",
   "execution_count": 7,
   "metadata": {},
   "outputs": [
    {
     "data": {
      "text/html": [
       "<hr>"
      ]
     },
     "metadata": {},
     "output_type": "display_data"
    },
    {
     "data": {
      "text/html": [
       "<table>\n",
       "    <tr>\n",
       "        <td title=\"Minimum value of function\">FCN = -1219.4519138654439</td>\n",
       "        <td title=\"Total number of call to FCN so far\">TOTAL NCALL = 99</td>\n",
       "        <td title=\"Number of call in last migrad\">NCALLS = 99</td>\n",
       "    </tr>\n",
       "    <tr>\n",
       "        <td title=\"Estimated distance to minimum\">EDM = 1.5896462897054049e-06</td>\n",
       "        <td title=\"Maximum EDM definition of convergence\">GOAL EDM = 5e-06</td>\n",
       "        <td title=\"Error def. Amount of increase in FCN to be defined as 1 standard deviation\">\n",
       "        UP = 0.5</td>\n",
       "    </tr>\n",
       "</table>\n",
       "<table>\n",
       "    <tr>\n",
       "        <td align=\"center\" title=\"Validity of the migrad call\">Valid</td>\n",
       "        <td align=\"center\" title=\"Validity of parameters\">Valid Param</td>\n",
       "        <td align=\"center\" title=\"Is Covariance matrix accurate?\">Accurate Covar</td>\n",
       "        <td align=\"center\" title=\"Positive definiteness of covariance matrix\">PosDef</td>\n",
       "        <td align=\"center\" title=\"Was covariance matrix made posdef by adding diagonal element\">Made PosDef</td>\n",
       "    </tr>\n",
       "    <tr>\n",
       "        <td align=\"center\" style=\"background-color:#92CCA6\">True</td>\n",
       "        <td align=\"center\" style=\"background-color:#92CCA6\">True</td>\n",
       "        <td align=\"center\" style=\"background-color:#92CCA6\">True</td>\n",
       "        <td align=\"center\" style=\"background-color:#92CCA6\">True</td>\n",
       "        <td align=\"center\" style=\"background-color:#92CCA6\">False</td>\n",
       "    </tr>\n",
       "    <tr>\n",
       "        <td align=\"center\" title=\"Was last hesse call fail?\">Hesse Fail</td>\n",
       "        <td align=\"center\" title=\"Validity of covariance\">HasCov</td>\n",
       "        <td align=\"center\" title=\"Is EDM above goal EDM?\">Above EDM</td>\n",
       "        <td align=\"center\"></td>\n",
       "        <td align=\"center\" title=\"Did last migrad call reach max call limit?\">Reach calllim</td>\n",
       "    </tr>\n",
       "    <tr>\n",
       "        <td align=\"center\" style=\"background-color:#92CCA6\">False</td>\n",
       "        <td align=\"center\" style=\"background-color:#92CCA6\">True</td>\n",
       "        <td align=\"center\" style=\"background-color:#92CCA6\">False</td>\n",
       "        <td align=\"center\"></td>\n",
       "        <td align=\"center\" style=\"background-color:#92CCA6\">False</td>\n",
       "    </tr>\n",
       "</table>"
      ]
     },
     "metadata": {},
     "output_type": "display_data"
    },
    {
     "data": {
      "text/html": [
       "<table>\n",
       "    <tr>\n",
       "        <td><a href=\"#\" onclick=\"$('#vIBJJVWCuT').toggle()\">+</a></td>\n",
       "        <td title=\"Variable name\">Name</td>\n",
       "        <td title=\"Value of parameter\">Value</td>\n",
       "        <td title=\"Hesse error\">Hesse Error</td>\n",
       "        <td title=\"Minos lower error\">Minos Error-</td>\n",
       "        <td title=\"Minos upper error\">Minos Error+</td>\n",
       "        <td title=\"Lower limit of the parameter\">Limit-</td>\n",
       "        <td title=\"Upper limit of the parameter\">Limit+</td>\n",
       "        <td title=\"Is the parameter fixed in the fit\">Fixed?</td>\n",
       "    </tr>\n",
       "    <tr>\n",
       "        <td>0</td>\n",
       "        <td>mean</td>\n",
       "        <td>1.2</td>\n",
       "        <td>0.01</td>\n",
       "        <td></td>\n",
       "        <td></td>\n",
       "        <td>0.8</td>\n",
       "        <td>1.7</td>\n",
       "        <td>Yes</td>\n",
       "    </tr>\n",
       "    <tr>\n",
       "        <td>1</td>\n",
       "        <td>sigma</td>\n",
       "        <td>0.1</td>\n",
       "        <td>0.0001</td>\n",
       "        <td></td>\n",
       "        <td></td>\n",
       "        <td>0.02</td>\n",
       "        <td>0.12</td>\n",
       "        <td>Yes</td>\n",
       "    </tr>\n",
       "    <tr>\n",
       "        <td>2</td>\n",
       "        <td>Nsig</td>\n",
       "        <td>34.9602</td>\n",
       "        <td>8.22695</td>\n",
       "        <td></td>\n",
       "        <td></td>\n",
       "        <td>-10</td>\n",
       "        <td>286</td>\n",
       "        <td>No</td>\n",
       "    </tr>\n",
       "    <tr>\n",
       "        <td>3</td>\n",
       "        <td>tau</td>\n",
       "        <td>-1.94368</td>\n",
       "        <td>0.14203</td>\n",
       "        <td></td>\n",
       "        <td></td>\n",
       "        <td>-5</td>\n",
       "        <td>-0.1</td>\n",
       "        <td>No</td>\n",
       "    </tr>\n",
       "    <tr>\n",
       "        <td>4</td>\n",
       "        <td>Nbkg</td>\n",
       "        <td>251.011</td>\n",
       "        <td>16.7936</td>\n",
       "        <td></td>\n",
       "        <td></td>\n",
       "        <td>0</td>\n",
       "        <td>314.6</td>\n",
       "        <td>No</td>\n",
       "    </tr>\n",
       "</table>\n",
       "<pre id=\"vIBJJVWCuT\" style=\"display:none;\">\n",
       "<textarea rows=\"16\" cols=\"50\" onclick=\"this.select()\" readonly>\n",
       "\\begin{tabular}{|c|r|r|r|r|r|r|r|c|}\n",
       "\\hline\n",
       " & Name & Value & Hesse Error & Minos Error- & Minos Error+ & Limit- & Limit+ & Fixed?\\\\\n",
       "\\hline\n",
       "0 & mean & 1.2 & 0.01 &  &  & 0.8 & 1.7 & Yes\\\\\n",
       "\\hline\n",
       "1 & $\\sigma$ & 0.1 & 0.0001 &  &  & 0.02 & 0.12 & Yes\\\\\n",
       "\\hline\n",
       "2 & Nsig & 34.9602 & 8.22695 &  &  & -10.0 & 286 & No\\\\\n",
       "\\hline\n",
       "3 & $\\tau$ & -1.94368 & 0.14203 &  &  & -5.0 & -0.1 & No\\\\\n",
       "\\hline\n",
       "4 & Nbkg & 251.011 & 16.7936 &  &  & 0.0 & 314.6 & No\\\\\n",
       "\\hline\n",
       "\\end{tabular}\n",
       "</textarea>\n",
       "</pre>"
      ]
     },
     "metadata": {},
     "output_type": "display_data"
    },
    {
     "data": {
      "text/html": [
       "<hr>"
      ]
     },
     "metadata": {},
     "output_type": "display_data"
    }
   ],
   "source": [
    "minuit.migrad();"
   ]
  },
  {
   "cell_type": "code",
   "execution_count": 8,
   "metadata": {},
   "outputs": [
    {
     "data": {
      "image/png": "[encoded data removed]",
      "text/plain": [
       "<Figure size 432x288 with 1 Axes>"
      ]
     },
     "metadata": {},
     "output_type": "display_data"
    }
   ],
   "source": [
    "UL.show(minuit);"
   ]
  },
  {
   "cell_type": "code",
   "execution_count": 9,
   "metadata": {},
   "outputs": [
    {
     "data": {
      "image/png": "[encoded data removed]",
      "text/plain": [
       "<Figure size 432x288 with 1 Axes>"
      ]
     },
     "metadata": {},
     "output_type": "display_data"
    }
   ],
   "source": [
    "minuit.draw_mnprofile(\"Nsig\",subtract_min=True);"
   ]
  },
  {
   "cell_type": "code",
   "execution_count": 10,
   "metadata": {},
   "outputs": [
    {
     "data": {
      "text/plain": [
       "16.911534525287763"
      ]
     },
     "execution_count": 10,
     "metadata": {},
     "output_type": "execute_result"
    }
   ],
   "source": [
    "math.sqrt(len(data))"
   ]
  },
  {
   "cell_type": "code",
   "execution_count": 11,
   "metadata": {},
   "outputs": [],
   "source": [
    "model = Model(totpdf)\n",
    "model.add_obs(Observable(\"x\", range = (0.1,3.0)))\n",
    "#mean  = Variable(\"mean\",  range=(0.8,1.7),            initvalue= 1.2,       initstep=0.01)\n",
    "mean  = Constant(\"mean\",  value=1.2)\n",
    "#sigma = Variable(\"sigma\", range= (0.02, 0.12),        initvalue= 0.06,       initstep=0.0001)\n",
    "sigma = Constant(\"sigma\", value= 0.1)\n",
    "Nsig  = Variable(\"Nsig\",  range=(-10,len((data))),   initvalue= 0.0,       initstep=1.0)\n",
    "tau   = Variable(\"tau\",   range=(-5.0, -0.1),        initvalue=-0.5,       initstep=0.05)\n",
    "Nbkg  = Variable(\"Nbkg\",  range=(0,len((data))*1.1), initvalue= len(data), initstep=1.0)\n",
    "model.add_vars([mean, sigma, Nsig, tau, Nbkg])\n",
    "model.ext_pars = [\"Nsig\",\"Nbkg\"]"
   ]
  },
  {
   "cell_type": "code",
   "execution_count": 12,
   "metadata": {},
   "outputs": [],
   "source": [
    "model_bkg = Model(exp)\n",
    "model_bkg.add_obs(Observable(\"x\", range = (0.1,3.0)))\n",
    "model_bkg.add_vars([tau, Nbkg])\n",
    "model_bkg.ext_pars = [\"Nbkg\"]"
   ]
  },
  {
   "cell_type": "code",
   "execution_count": 13,
   "metadata": {},
   "outputs": [
    {
     "data": {
      "text/plain": [
       "[Observable('x', range=(0.1, 3.0))]"
      ]
     },
     "execution_count": 13,
     "metadata": {},
     "output_type": "execute_result"
    }
   ],
   "source": [
    "model.obs"
   ]
  },
  {
   "cell_type": "code",
   "execution_count": 14,
   "metadata": {},
   "outputs": [
    {
     "data": {
      "text/plain": [
       "[Constant('mean', value=1.2),\n",
       " Constant('sigma', value=0.1),\n",
       " Variable('Nsig', initvalue=0.0, range=(-10, 286), initstep=1.0),\n",
       " Variable('tau', initvalue=-0.5, range=(-5.0, -0.1), initstep=0.05),\n",
       " Variable('Nbkg', initvalue=286, range=(0, 314.6), initstep=1.0)]"
      ]
     },
     "execution_count": 14,
     "metadata": {},
     "output_type": "execute_result"
    }
   ],
   "source": [
    "model.vars"
   ]
  },
  {
   "cell_type": "code",
   "execution_count": 15,
   "metadata": {},
   "outputs": [],
   "source": [
    "alt_hypothesis = model.create_hypothesis({\"Nsig\":35})"
   ]
  },
  {
   "cell_type": "code",
   "execution_count": 16,
   "metadata": {},
   "outputs": [
    {
     "data": {
      "text/plain": [
       "{'Nsig': 35}"
      ]
     },
     "execution_count": 16,
     "metadata": {},
     "output_type": "execute_result"
    }
   ],
   "source": [
    "alt_hypothesis.pois"
   ]
  },
  {
   "cell_type": "code",
   "execution_count": 17,
   "metadata": {},
   "outputs": [
    {
     "data": {
      "text/plain": [
       "{'Nsig': array([ 0.1       ,  1.28474576,  2.46949153,  3.65423729,  4.83898305,\n",
       "         6.02372881,  7.20847458,  8.39322034,  9.5779661 , 10.76271186,\n",
       "        11.94745763, 13.13220339, 14.31694915, 15.50169492, 16.68644068,\n",
       "        17.87118644, 19.0559322 , 20.24067797, 21.42542373, 22.61016949,\n",
       "        23.79491525, 24.97966102, 26.16440678, 27.34915254, 28.53389831,\n",
       "        29.71864407, 30.90338983, 32.08813559, 33.27288136, 34.45762712,\n",
       "        35.64237288, 36.82711864, 38.01186441, 39.19661017, 40.38135593,\n",
       "        41.56610169, 42.75084746, 43.93559322, 45.12033898, 46.30508475,\n",
       "        47.48983051, 48.67457627, 49.85932203, 51.0440678 , 52.22881356,\n",
       "        53.41355932, 54.59830508, 55.78305085, 56.96779661, 58.15254237,\n",
       "        59.33728814, 60.5220339 , 61.70677966, 62.89152542, 64.07627119,\n",
       "        65.26101695, 66.44576271, 67.63050847, 68.81525424, 70.        ])}"
      ]
     },
     "execution_count": 17,
     "metadata": {},
     "output_type": "execute_result"
    }
   ],
   "source": [
    "null_hypothesis = model.create_hypothesis({\"Nsig\":np.linspace(0.1, 70, 60)})\n",
    "#null_hypothesis = model_bkg.create_hypothesis()\n",
    "null_hypothesis.pois"
   ]
  },
  {
   "cell_type": "code",
   "execution_count": 18,
   "metadata": {},
   "outputs": [
    {
     "data": {
      "text/plain": [
       "['Nsig']"
      ]
     },
     "execution_count": 18,
     "metadata": {},
     "output_type": "execute_result"
    }
   ],
   "source": [
    "null_hypothesis.poinames()"
   ]
  },
  {
   "cell_type": "code",
   "execution_count": 19,
   "metadata": {},
   "outputs": [
    {
     "data": {
      "text/plain": [
       "Hypothesis object: \n",
       "Observables: ['x']\n",
       "Paramaters of interest: {'Nsig': 35}\n",
       "Nuisance parameters: ['mean', 'sigma', 'tau', 'Nbkg']\n",
       "Extended parameters: ['Nsig', 'Nbkg']"
      ]
     },
     "execution_count": 19,
     "metadata": {},
     "output_type": "execute_result"
    }
   ],
   "source": [
    "alt_hypothesis"
   ]
  },
  {
   "cell_type": "code",
   "execution_count": 20,
   "metadata": {},
   "outputs": [],
   "source": [
    "calc = AsymptoticCalculator(null_hypothesis, alt_hypothesis, data, onesideddiscovery=True)"
   ]
  },
  {
   "cell_type": "code",
   "execution_count": 21,
   "metadata": {},
   "outputs": [],
   "source": [
    "calc.onesided = False\n",
    "calc.onesideddiscovery = True"
   ]
  },
  {
   "cell_type": "code",
   "execution_count": 22,
   "metadata": {},
   "outputs": [
    {
     "data": {
      "text/plain": [
       "<statrise.calculators.asymptotic_calculator.AsymptoticCalculator at 0x10ab76588>"
      ]
     },
     "execution_count": 22,
     "metadata": {},
     "output_type": "execute_result"
    }
   ],
   "source": [
    "calc"
   ]
  },
  {
   "cell_type": "code",
   "execution_count": 23,
   "metadata": {},
   "outputs": [
    {
     "data": {
      "text/plain": [
       "Hypothesis object: \n",
       "Observables: ['x']\n",
       "Paramaters of interest: {'Nsig': array([ 0.1       ,  1.28474576,  2.46949153,  3.65423729,  4.83898305,\n",
       "        6.02372881,  7.20847458,  8.39322034,  9.5779661 , 10.76271186,\n",
       "       11.94745763, 13.13220339, 14.31694915, 15.50169492, 16.68644068,\n",
       "       17.87118644, 19.0559322 , 20.24067797, 21.42542373, 22.61016949,\n",
       "       23.79491525, 24.97966102, 26.16440678, 27.34915254, 28.53389831,\n",
       "       29.71864407, 30.90338983, 32.08813559, 33.27288136, 34.45762712,\n",
       "       35.64237288, 36.82711864, 38.01186441, 39.19661017, 40.38135593,\n",
       "       41.56610169, 42.75084746, 43.93559322, 45.12033898, 46.30508475,\n",
       "       47.48983051, 48.67457627, 49.85932203, 51.0440678 , 52.22881356,\n",
       "       53.41355932, 54.59830508, 55.78305085, 56.96779661, 58.15254237,\n",
       "       59.33728814, 60.5220339 , 61.70677966, 62.89152542, 64.07627119,\n",
       "       65.26101695, 66.44576271, 67.63050847, 68.81525424, 70.        ])}\n",
       "Nuisance parameters: ['mean', 'sigma', 'tau', 'Nbkg']\n",
       "Extended parameters: ['Nsig', 'Nbkg']"
      ]
     },
     "execution_count": 23,
     "metadata": {},
     "output_type": "execute_result"
    }
   ],
   "source": [
    "calc.null_hypothesis"
   ]
  },
  {
   "cell_type": "code",
   "execution_count": 24,
   "metadata": {},
   "outputs": [
    {
     "data": {
      "text/plain": [
       "Hypothesis object: \n",
       "Observables: ['x']\n",
       "Paramaters of interest: {'Nsig': 35}\n",
       "Nuisance parameters: ['mean', 'sigma', 'tau', 'Nbkg']\n",
       "Extended parameters: ['Nsig', 'Nbkg']"
      ]
     },
     "execution_count": 24,
     "metadata": {},
     "output_type": "execute_result"
    }
   ],
   "source": [
    "calc.alt_hypothesis"
   ]
  },
  {
   "cell_type": "code",
   "execution_count": 25,
   "metadata": {},
   "outputs": [
    {
     "data": {
      "text/plain": [
       "<probfit.costfunc.UnbinnedLH at 0x10a90bf48>"
      ]
     },
     "execution_count": 25,
     "metadata": {},
     "output_type": "execute_result"
    }
   ],
   "source": [
    "calc.null_likelihood()"
   ]
  },
  {
   "cell_type": "code",
   "execution_count": 26,
   "metadata": {},
   "outputs": [
    {
     "data": {
      "text/plain": [
       "['mean', 'sigma', 'Nsig', 'tau', 'Nbkg']"
      ]
     },
     "execution_count": 26,
     "metadata": {},
     "output_type": "execute_result"
    }
   ],
   "source": [
    "iminuit.describe(calc.null_likelihood())"
   ]
  },
  {
   "cell_type": "code",
   "execution_count": 27,
   "metadata": {},
   "outputs": [],
   "source": [
    "#calc.bestfitpoi()"
   ]
  },
  {
   "cell_type": "code",
   "execution_count": 28,
   "metadata": {},
   "outputs": [
    {
     "data": {
      "text/html": [
       "<hr>"
      ]
     },
     "metadata": {},
     "output_type": "display_data"
    },
    {
     "data": {
      "text/html": [
       "<table>\n",
       "    <tr>\n",
       "        <td title=\"Minimum value of function\">FCN = -1219.4519033153342</td>\n",
       "        <td title=\"Total number of call to FCN so far\">TOTAL NCALL = 58</td>\n",
       "        <td title=\"Number of call in last migrad\">NCALLS = 58</td>\n",
       "    </tr>\n",
       "    <tr>\n",
       "        <td title=\"Estimated distance to minimum\">EDM = 1.1395241069425694e-06</td>\n",
       "        <td title=\"Maximum EDM definition of convergence\">GOAL EDM = 5e-06</td>\n",
       "        <td title=\"Error def. Amount of increase in FCN to be defined as 1 standard deviation\">\n",
       "        UP = 0.5</td>\n",
       "    </tr>\n",
       "</table>\n",
       "<table>\n",
       "    <tr>\n",
       "        <td align=\"center\" title=\"Validity of the migrad call\">Valid</td>\n",
       "        <td align=\"center\" title=\"Validity of parameters\">Valid Param</td>\n",
       "        <td align=\"center\" title=\"Is Covariance matrix accurate?\">Accurate Covar</td>\n",
       "        <td align=\"center\" title=\"Positive definiteness of covariance matrix\">PosDef</td>\n",
       "        <td align=\"center\" title=\"Was covariance matrix made posdef by adding diagonal element\">Made PosDef</td>\n",
       "    </tr>\n",
       "    <tr>\n",
       "        <td align=\"center\" style=\"background-color:#92CCA6\">True</td>\n",
       "        <td align=\"center\" style=\"background-color:#92CCA6\">True</td>\n",
       "        <td align=\"center\" style=\"background-color:#92CCA6\">True</td>\n",
       "        <td align=\"center\" style=\"background-color:#92CCA6\">True</td>\n",
       "        <td align=\"center\" style=\"background-color:#92CCA6\">False</td>\n",
       "    </tr>\n",
       "    <tr>\n",
       "        <td align=\"center\" title=\"Was last hesse call fail?\">Hesse Fail</td>\n",
       "        <td align=\"center\" title=\"Validity of covariance\">HasCov</td>\n",
       "        <td align=\"center\" title=\"Is EDM above goal EDM?\">Above EDM</td>\n",
       "        <td align=\"center\"></td>\n",
       "        <td align=\"center\" title=\"Did last migrad call reach max call limit?\">Reach calllim</td>\n",
       "    </tr>\n",
       "    <tr>\n",
       "        <td align=\"center\" style=\"background-color:#92CCA6\">False</td>\n",
       "        <td align=\"center\" style=\"background-color:#92CCA6\">True</td>\n",
       "        <td align=\"center\" style=\"background-color:#92CCA6\">False</td>\n",
       "        <td align=\"center\"></td>\n",
       "        <td align=\"center\" style=\"background-color:#92CCA6\">False</td>\n",
       "    </tr>\n",
       "</table>"
      ]
     },
     "metadata": {},
     "output_type": "display_data"
    },
    {
     "data": {
      "text/html": [
       "<table>\n",
       "    <tr>\n",
       "        <td><a href=\"#\" onclick=\"$('#VVOinfIMBg').toggle()\">+</a></td>\n",
       "        <td title=\"Variable name\">Name</td>\n",
       "        <td title=\"Value of parameter\">Value</td>\n",
       "        <td title=\"Hesse error\">Hesse Error</td>\n",
       "        <td title=\"Minos lower error\">Minos Error-</td>\n",
       "        <td title=\"Minos upper error\">Minos Error+</td>\n",
       "        <td title=\"Lower limit of the parameter\">Limit-</td>\n",
       "        <td title=\"Upper limit of the parameter\">Limit+</td>\n",
       "        <td title=\"Is the parameter fixed in the fit\">Fixed?</td>\n",
       "    </tr>\n",
       "    <tr>\n",
       "        <td>0</td>\n",
       "        <td>mean</td>\n",
       "        <td>1.2</td>\n",
       "        <td>1</td>\n",
       "        <td></td>\n",
       "        <td></td>\n",
       "        <td></td>\n",
       "        <td></td>\n",
       "        <td>Yes</td>\n",
       "    </tr>\n",
       "    <tr>\n",
       "        <td>1</td>\n",
       "        <td>sigma</td>\n",
       "        <td>0.1</td>\n",
       "        <td>1</td>\n",
       "        <td></td>\n",
       "        <td></td>\n",
       "        <td></td>\n",
       "        <td></td>\n",
       "        <td>Yes</td>\n",
       "    </tr>\n",
       "    <tr>\n",
       "        <td>2</td>\n",
       "        <td>Nsig</td>\n",
       "        <td>35</td>\n",
       "        <td>1</td>\n",
       "        <td></td>\n",
       "        <td></td>\n",
       "        <td>-10</td>\n",
       "        <td>286</td>\n",
       "        <td>Yes</td>\n",
       "    </tr>\n",
       "    <tr>\n",
       "        <td>3</td>\n",
       "        <td>tau</td>\n",
       "        <td>-1.94391</td>\n",
       "        <td>0.136598</td>\n",
       "        <td></td>\n",
       "        <td></td>\n",
       "        <td>-5</td>\n",
       "        <td>-0.1</td>\n",
       "        <td>No</td>\n",
       "    </tr>\n",
       "    <tr>\n",
       "        <td>4</td>\n",
       "        <td>Nbkg</td>\n",
       "        <td>251.041</td>\n",
       "        <td>16.3262</td>\n",
       "        <td></td>\n",
       "        <td></td>\n",
       "        <td>0</td>\n",
       "        <td>314.6</td>\n",
       "        <td>No</td>\n",
       "    </tr>\n",
       "</table>\n",
       "<pre id=\"VVOinfIMBg\" style=\"display:none;\">\n",
       "<textarea rows=\"16\" cols=\"50\" onclick=\"this.select()\" readonly>\n",
       "\\begin{tabular}{|c|r|r|r|r|r|r|r|c|}\n",
       "\\hline\n",
       " & Name & Value & Hesse Error & Minos Error- & Minos Error+ & Limit- & Limit+ & Fixed?\\\\\n",
       "\\hline\n",
       "0 & mean & 1.2 & 1 &  &  &  &  & Yes\\\\\n",
       "\\hline\n",
       "1 & $\\sigma$ & 0.1 & 1 &  &  &  &  & Yes\\\\\n",
       "\\hline\n",
       "2 & Nsig & 35 & 1 &  &  & -10.0 & 286 & Yes\\\\\n",
       "\\hline\n",
       "3 & $\\tau$ & -1.94391 & 0.136598 &  &  & -5.0 & -0.1 & No\\\\\n",
       "\\hline\n",
       "4 & Nbkg & 251.041 & 16.3262 &  &  & 0.0 & 314.6 & No\\\\\n",
       "\\hline\n",
       "\\end{tabular}\n",
       "</textarea>\n",
       "</pre>"
      ]
     },
     "metadata": {},
     "output_type": "display_data"
    },
    {
     "data": {
      "text/html": [
       "<hr>"
      ]
     },
     "metadata": {},
     "output_type": "display_data"
    }
   ],
   "source": [
    "asy_data = calc.asymov_dataset()"
   ]
  },
  {
   "cell_type": "code",
   "execution_count": 29,
   "metadata": {},
   "outputs": [
    {
     "data": {
      "image/png": "[encoded data removed]",
      "text/plain": [
       "<Figure size 432x288 with 1 Axes>"
      ]
     },
     "metadata": {},
     "output_type": "display_data"
    }
   ],
   "source": [
    "plt.plot(asy_data[0], asy_data[1], \"o\");"
   ]
  },
  {
   "cell_type": "code",
   "execution_count": 30,
   "metadata": {},
   "outputs": [
    {
     "data": {
      "text/plain": [
       "array([13.80969369, 13.0527328 , 12.33726376, 11.66101225, 11.02182861,\n",
       "       10.41768101,  9.846649  ,  9.30691739,  8.79677048,  8.31458664,\n",
       "        7.85883308,  7.42806109,  7.02090131,  6.63605949,  6.27231228,\n",
       "        5.92850342,  5.60354002,  5.29638915,  5.00607475,  4.73167533,\n",
       "        4.47232435,  4.227219  ,  3.99565471,  3.77712924,  3.5716124 ,\n",
       "        3.3801566 ,  3.2060914 ,  3.05699025,  2.94722598,  2.9000905 ,\n",
       "        2.94730929,  3.12312242,  3.45122065,  3.92657077,  4.49948642,\n",
       "        5.07266527,  5.51913799,  5.71918847,  5.60217485,  5.17332437,\n",
       "        4.51157812,  3.73963057,  2.98161541,  2.32821061,  1.8217375 ,\n",
       "        1.46152702,  1.22076656,  1.06428516,  0.96063938,  0.88712727,\n",
       "        0.82974655,  0.78090934,  0.73692858,  0.69615746,  0.65788761,\n",
       "        0.62179648,  0.58770612,  0.55549009,  0.52504125,  0.49626171,\n",
       "        0.46905974,  0.44334883,  0.41904722,  0.39607768,  0.37436718,\n",
       "        0.35384672,  0.33445106,  0.31611854,  0.29879091,  0.28241306,\n",
       "        0.26693295,  0.25230135,  0.23847177,  0.22540025,  0.21304522,\n",
       "        0.20136741,  0.19032971,  0.17989703,  0.1700362 ,  0.16071588,\n",
       "        0.15190644,  0.14357988,  0.13570974,  0.12827098,  0.12123997,\n",
       "        0.11459435,  0.10831301,  0.10237597,  0.09676436,  0.09146034,\n",
       "        0.08644706,  0.08170857,  0.07722982,  0.07299656,  0.06899535,\n",
       "        0.06521346,  0.06163886,  0.05826021,  0.05506675,  0.05204833])"
      ]
     },
     "execution_count": 30,
     "metadata": {},
     "output_type": "execute_result"
    }
   ],
   "source": [
    "asy_data[1]"
   ]
  },
  {
   "cell_type": "code",
   "execution_count": 31,
   "metadata": {},
   "outputs": [
    {
     "data": {
      "text/plain": [
       "{'clsb': array([8.02005117e-08, 2.62077318e-07, 7.99623872e-07, 2.28539378e-06,\n",
       "        6.13782426e-06, 1.55364183e-05, 3.71716123e-05, 8.42912901e-05,\n",
       "        1.81631974e-04, 3.72848661e-04, 7.30822452e-04, 1.37091649e-03,\n",
       "        2.46637222e-03, 4.26420675e-03, 7.09891769e-03, 1.14004937e-02,\n",
       "        1.76929028e-02, 2.65797504e-02, 3.87163802e-02, 5.47634999e-02,\n",
       "        7.53341452e-02, 1.00931537e-01, 1.31895632e-01, 1.68325937e-01,\n",
       "        2.10076481e-01, 2.56724956e-01, 3.07587729e-01, 3.61755740e-01,\n",
       "        4.18153164e-01, 4.75634040e-01, 5.00000000e-01, 5.00000000e-01,\n",
       "        5.00000000e-01, 5.00000000e-01, 5.00000000e-01, 5.00000000e-01,\n",
       "        5.00000000e-01, 5.00000000e-01, 5.00000000e-01, 5.00000000e-01,\n",
       "        5.00000000e-01, 5.00000000e-01, 5.00000000e-01, 5.00000000e-01,\n",
       "        5.00000000e-01, 5.00000000e-01, 5.00000000e-01, 5.00000000e-01,\n",
       "        5.00000000e-01, 5.00000000e-01, 5.00000000e-01, 5.00000000e-01,\n",
       "        5.00000000e-01, 5.00000000e-01, 5.00000000e-01, 5.00000000e-01,\n",
       "        5.00000000e-01, 5.00000000e-01, 5.00000000e-01, 5.00000000e-01]),\n",
       " 'clb': array([0.53905983, 0.53709667, 0.53519   , 0.53333811, 0.53153913,\n",
       "        0.52979198, 0.52809432, 0.52644449, 0.52483947, 0.52328151,\n",
       "        0.52176521, 0.52029023, 0.51885514, 0.51745846, 0.51609882,\n",
       "        0.51477488, 0.51348505, 0.51222795, 0.51100537, 0.5098118 ,\n",
       "        0.50864884, 0.5075148 , 0.50640736, 0.50532751, 0.50427348,\n",
       "        0.50324417, 0.50223829, 0.50125371, 0.5002852 , 0.49926926,\n",
       "        0.53423738, 0.59110566, 0.64545003, 0.69641429, 0.74332111,\n",
       "        0.7856988 , 0.82330308, 0.85612478, 0.8842906 , 0.9080743 ,\n",
       "        0.92784582, 0.94403538, 0.95709852, 0.96748971, 0.97564186,\n",
       "        0.98195183, 0.98677259, 0.9904091 , 0.9931186 , 0.99511329,\n",
       "        0.99656467, 0.99760877, 0.9983516 , 0.99887442, 0.99923854,\n",
       "        0.99948954, 0.99966084, 0.99977662, 0.99985413, 0.99990554]),\n",
       " 'exp': array([9.38390392e-08, 3.21519663e-07, 1.02519513e-06, 3.05264992e-06,\n",
       "        8.51640551e-06, 2.23315946e-05, 5.52053333e-05, 1.29030528e-04,\n",
       "        2.85923117e-04, 6.02262886e-04, 1.20887772e-03, 2.31774570e-03,\n",
       "        4.25416060e-03, 7.49128753e-03, 1.26817553e-02, 2.06788891e-02,\n",
       "        3.25391432e-02, 4.94977819e-02, 7.29137972e-02, 1.04179653e-01,\n",
       "        1.44604729e-01, 1.95285912e-01, 2.56988978e-01, 3.29978985e-01,\n",
       "        4.14003795e-01, 5.08222915e-01, 6.11235792e-01, 7.21157466e-01,\n",
       "        8.35748018e-01, 9.52726916e-01, 9.31525247e-01, 8.17788683e-01,\n",
       "        7.09099939e-01, 6.07171418e-01, 5.13357779e-01, 4.28602407e-01,\n",
       "        3.53393845e-01, 2.87750439e-01, 2.31418797e-01, 1.83851409e-01,\n",
       "        1.44308365e-01, 1.11929234e-01, 8.58029631e-02, 6.50205894e-02,\n",
       "        4.87162837e-02, 3.60963369e-02, 2.64548250e-02, 1.91818008e-02,\n",
       "        1.37627972e-02, 9.77342475e-03, 6.87066657e-03, 4.78246108e-03,\n",
       "        3.29679412e-03, 2.25115850e-03, 1.52292708e-03, 1.02092447e-03,\n",
       "        6.78314076e-04, 4.46756523e-04, 2.91737323e-04, 1.88916253e-04]),\n",
       " 'exp_p1': array([8.53457654e-06, 2.34753206e-05, 6.03793008e-05, 1.45705842e-04,\n",
       "        3.30967450e-04, 7.09839092e-04, 1.44174627e-03, 2.78100518e-03,\n",
       "        5.10828066e-03, 8.95835254e-03, 1.50359934e-02, 2.42108661e-02,\n",
       "        3.74836810e-02, 5.59198805e-02, 8.05533513e-02, 1.12269499e-01,\n",
       "        1.51683191e-01, 1.99030317e-01, 2.54094617e-01, 3.16174620e-01,\n",
       "        3.84109805e-01, 4.56363390e-01, 5.31155047e-01, 6.06539753e-01,\n",
       "        6.80639808e-01, 7.51732697e-01, 8.18369242e-01, 8.79444969e-01,\n",
       "        9.34234636e-01, 9.82445211e-01, 9.74227299e-01, 9.26177230e-01,\n",
       "        8.73184299e-01, 8.15926603e-01, 7.55305219e-01, 6.92400276e-01,\n",
       "        6.28385118e-01, 5.64400724e-01, 5.01609394e-01, 4.41057944e-01,\n",
       "        3.83650099e-01, 3.30109299e-01, 2.80966124e-01, 2.36553317e-01,\n",
       "        1.97015092e-01, 1.62328555e-01, 1.32327554e-01, 1.06735585e-01,\n",
       "        8.51964453e-02, 6.73041221e-02, 5.26294028e-02, 4.07421185e-02,\n",
       "        3.12285197e-02, 2.37037944e-02, 1.78201193e-02, 1.32708127e-02,\n",
       "        9.79145269e-03, 7.15860756e-03, 5.18693269e-03, 3.72529683e-03]),\n",
       " 'exp_p2': array([4.31325747e-04, 9.55998302e-04, 1.99158977e-03, 3.91280994e-03,\n",
       "        7.27317539e-03, 1.28307157e-02, 2.15457291e-02, 3.45378836e-02,\n",
       "        5.29966678e-02, 7.80490345e-02, 1.10601102e-01, 1.51179988e-01,\n",
       "        1.99805878e-01, 2.55921608e-01, 3.18397074e-01, 3.85610503e-01,\n",
       "        4.55594066e-01, 5.26219270e-01, 5.95395961e-01, 6.61242962e-01,\n",
       "        7.22226562e-01, 7.77246382e-01, 8.25665964e-01, 8.67247382e-01,\n",
       "        9.02145485e-01, 9.30791395e-01, 9.53809034e-01, 9.71929122e-01,\n",
       "        9.85916453e-01, 9.96524780e-01, 9.94827097e-01, 9.83989827e-01,\n",
       "        9.70196631e-01, 9.53026679e-01, 9.32116045e-01, 9.07194871e-01,\n",
       "        8.78111187e-01, 8.44822675e-01, 8.07465784e-01, 7.66327099e-01,\n",
       "        7.21846535e-01, 6.74597805e-01, 6.25266482e-01, 5.74615998e-01,\n",
       "        5.23449786e-01, 4.72574739e-01, 4.22760161e-01, 3.74708054e-01,\n",
       "        3.29025798e-01, 2.86207466e-01, 2.46623395e-01, 2.10517768e-01,\n",
       "        1.78013348e-01, 1.49122068e-01, 1.23759939e-01, 1.01764416e-01,\n",
       "        8.29131541e-02, 6.69423621e-02, 5.35637008e-02, 4.24791834e-02]),\n",
       " 'exp_m1': array([7.32290473e-10, 3.13248937e-09, 1.24133435e-08, 4.57317462e-08,\n",
       "        1.57164692e-07, 5.05493776e-07, 1.52634689e-06, 4.33967225e-06,\n",
       "        1.16508615e-05, 2.96158456e-05, 7.14602803e-05, 1.64072104e-04,\n",
       "        3.59282155e-04, 7.51998970e-04, 1.50758396e-03, 2.90058079e-03,\n",
       "        5.36588182e-03, 9.56140370e-03, 1.64387896e-02, 2.73137455e-02,\n",
       "        4.39255820e-02, 6.84736967e-02, 1.03623206e-01, 1.52418475e-01,\n",
       "        2.18200490e-01, 3.04406984e-01, 4.14342233e-01, 5.50908576e-01,\n",
       "        7.16342639e-01, 9.12264265e-01, 8.74574677e-01, 6.88760907e-01,\n",
       "        5.34908498e-01, 4.09682658e-01, 3.09492117e-01, 2.30686934e-01,\n",
       "        1.69713369e-01, 1.23242141e-01, 8.83709014e-02, 6.25873317e-02,\n",
       "        4.37939425e-02, 3.02835081e-02, 2.07004637e-02, 1.39910837e-02,\n",
       "        9.35259382e-03, 6.18497821e-03, 4.04739785e-03, 2.62151396e-03,\n",
       "        1.68101445e-03, 1.06742064e-03, 6.71342140e-04, 4.18305000e-04,\n",
       "        2.58271864e-04, 1.58047450e-04, 9.58767966e-05, 5.76688106e-05,\n",
       "        3.43996108e-05, 2.03532157e-05, 1.19469960e-05, 6.95834562e-06]),\n",
       " 'exp_m2': array([4.75319101e-12, 2.54349400e-11, 1.25461794e-10, 5.72852238e-10,\n",
       "        2.42963214e-09, 9.60430556e-09, 3.54991290e-08, 1.23063639e-07,\n",
       "        4.01306964e-07, 1.23443272e-06, 3.59129316e-06, 9.90648571e-06,\n",
       "        2.59723054e-05, 6.48643605e-05, 1.54646041e-04, 3.52689588e-04,\n",
       "        7.70913796e-04, 1.61797322e-03, 3.26627804e-03, 6.35273595e-03,\n",
       "        1.19224523e-02, 2.16233561e-02, 3.79587633e-02, 6.45700587e-02,\n",
       "        1.06580553e-01, 1.70918888e-01, 2.66614074e-01, 4.04999818e-01,\n",
       "        5.99790891e-01, 8.67405119e-01, 8.12859618e-01, 5.65305706e-01,\n",
       "        3.87715354e-01, 2.62265361e-01, 1.75018460e-01, 1.15275154e-01,\n",
       "        7.49712167e-02, 4.81489908e-02, 3.05500645e-02, 1.91562992e-02,\n",
       "        1.18748522e-02, 7.27929037e-03, 4.41390689e-03, 2.64823000e-03,\n",
       "        1.57255435e-03, 9.24476753e-04, 5.38190826e-04, 3.10339114e-04,\n",
       "        1.77297685e-04, 1.00378075e-04, 5.63304805e-05, 3.13410183e-05,\n",
       "        1.72918270e-05, 9.46273744e-06, 5.13722156e-06, 2.76731688e-06,\n",
       "        1.47941357e-06, 7.85054258e-07, 4.13585569e-07, 2.16350912e-07]),\n",
       " 'cls': array([1.48778497e-07, 4.87951860e-07, 1.49409346e-06, 4.28507499e-06,\n",
       "        1.15472671e-05, 2.93255066e-05, 7.03882069e-05, 1.60114298e-04,\n",
       "        3.46071484e-04, 7.12520226e-04, 1.40067303e-03, 2.63490723e-03,\n",
       "        4.75348907e-03, 8.24067458e-03, 1.37549583e-02, 2.21465618e-02,\n",
       "        3.44565103e-02, 5.18904730e-02, 7.57651142e-02, 1.07419051e-01,\n",
       "        1.48106394e-01, 1.98874075e-01, 2.60453624e-01, 3.33102658e-01,\n",
       "        4.16592366e-01, 5.10139947e-01, 6.12433849e-01, 7.21701870e-01,\n",
       "        8.35829573e-01, 9.52660375e-01, 9.35913550e-01, 8.45872464e-01,\n",
       "        7.74653306e-01, 7.17963440e-01, 6.72656800e-01, 6.36376182e-01,\n",
       "        6.07309767e-01, 5.84027015e-01, 5.65424985e-01, 5.50615740e-01,\n",
       "        5.38882636e-01, 5.29641165e-01, 5.22412260e-01, 5.16801365e-01,\n",
       "        5.12483137e-01, 5.09189946e-01, 5.06702361e-01, 5.04841888e-01,\n",
       "        5.03464540e-01, 5.02455355e-01, 5.01723588e-01, 5.01198481e-01,\n",
       "        5.00825559e-01, 5.00563424e-01, 5.00381022e-01, 5.00255361e-01,\n",
       "        5.00169636e-01, 5.00111714e-01, 5.00072945e-01, 5.00047234e-01])}"
      ]
     },
     "execution_count": 31,
     "metadata": {},
     "output_type": "execute_result"
    }
   ],
   "source": [
    "calc._scan_nll()"
   ]
  },
  {
   "cell_type": "code",
   "execution_count": 32,
   "metadata": {},
   "outputs": [
    {
     "data": {
      "text/plain": [
       "{'Nsig': array([ 0.1       ,  1.28474576,  2.46949153,  3.65423729,  4.83898305,\n",
       "         6.02372881,  7.20847458,  8.39322034,  9.5779661 , 10.76271186,\n",
       "        11.94745763, 13.13220339, 14.31694915, 15.50169492, 16.68644068,\n",
       "        17.87118644, 19.0559322 , 20.24067797, 21.42542373, 22.61016949,\n",
       "        23.79491525, 24.97966102, 26.16440678, 27.34915254, 28.53389831,\n",
       "        29.71864407, 30.90338983, 32.08813559, 33.27288136, 34.45762712,\n",
       "        35.64237288, 36.82711864, 38.01186441, 39.19661017, 40.38135593,\n",
       "        41.56610169, 42.75084746, 43.93559322, 45.12033898, 46.30508475,\n",
       "        47.48983051, 48.67457627, 49.85932203, 51.0440678 , 52.22881356,\n",
       "        53.41355932, 54.59830508, 55.78305085, 56.96779661, 58.15254237,\n",
       "        59.33728814, 60.5220339 , 61.70677966, 62.89152542, 64.07627119,\n",
       "        65.26101695, 66.44576271, 67.63050847, 68.81525424, 70.        ])}"
      ]
     },
     "execution_count": 32,
     "metadata": {},
     "output_type": "execute_result"
    }
   ],
   "source": [
    "calc.null_hypothesis.pois"
   ]
  },
  {
   "cell_type": "code",
   "execution_count": 33,
   "metadata": {},
   "outputs": [
    {
     "data": {
      "text/plain": [
       "'Nsig'"
      ]
     },
     "execution_count": 33,
     "metadata": {},
     "output_type": "execute_result"
    }
   ],
   "source": [
    "calc._poi.name"
   ]
  },
  {
   "cell_type": "code",
   "execution_count": 34,
   "metadata": {},
   "outputs": [
    {
     "data": {
      "text/plain": [
       "{35: array([-1219.47810709]),\n",
       " 0: array([-1205.12562595]),\n",
       " 0.1: array([-1205.22955815]),\n",
       " 1.2847457627118646: array([-1206.42013981]),\n",
       " 2.469491525423729: array([-1207.53799483]),\n",
       " 3.6542372881355933: array([-1208.58651833]),\n",
       " 4.838983050847458: array([-1209.56896438]),\n",
       " 6.023728813559322: array([-1210.48843873]),\n",
       " 7.208474576271186: array([-1211.34790023]),\n",
       " 8.39322033898305: array([-1212.15016012]),\n",
       " 9.577966101694916: array([-1212.89789161]),\n",
       " 10.76271186440678: array([-1213.593622]),\n",
       " 11.947457627118645: array([-1214.2397439]),\n",
       " 13.13220338983051: array([-1214.83852265]),\n",
       " 14.316949152542373: array([-1215.39209928]),\n",
       " 15.501694915254237: array([-1215.90249546]),\n",
       " 16.686440677966104: array([-1216.37162115]),\n",
       " 17.87118644067797: array([-1216.80128004]),\n",
       " 19.055932203389833: array([-1217.19317495]),\n",
       " 20.240677966101696: array([-1217.54891171]),\n",
       " 21.425423728813563: array([-1217.87001929]),\n",
       " 22.610169491525426: array([-1218.15792494]),\n",
       " 23.794915254237292: array([-1218.41397658]),\n",
       " 24.979661016949155: array([-1218.63946575]),\n",
       " 26.16440677966102: array([-1218.83565447]),\n",
       " 27.349152542372885: array([-1219.00361693]),\n",
       " 28.533898305084747: array([-1219.14447032]),\n",
       " 29.718644067796614: array([-1219.25924496]),\n",
       " 30.903389830508477: array([-1219.34891744]),\n",
       " 32.08813559322034: array([-1219.41441389]),\n",
       " 33.272881355932206: array([-1219.45661313]),\n",
       " 34.45762711864407: array([-1219.47634987]),\n",
       " 35.64237288135594: array([-1219.47441545]),\n",
       " 36.8271186440678: array([-1219.4515673]),\n",
       " 38.011864406779665: array([-1219.40851828]),\n",
       " 39.19661016949153: array([-1219.34594984]),\n",
       " 40.38135593220339: array([-1219.26449867]),\n",
       " 41.56610169491526: array([-1219.16480329]),\n",
       " 42.750847457627124: array([-1219.04749053]),\n",
       " 43.93559322033899: array([-1218.91304872]),\n",
       " 45.12033898305085: array([-1218.76204719]),\n",
       " 46.30508474576272: array([-1218.59500044]),\n",
       " 47.48983050847458: array([-1218.41240425]),\n",
       " 48.674576271186446: array([-1218.21472287]),\n",
       " 49.85932203389831: array([-1218.00240487]),\n",
       " 51.04406779661017: array([-1217.77587959]),\n",
       " 52.22881355932204: array([-1217.53555575]),\n",
       " 53.413559322033905: array([-1217.28183326]),\n",
       " 54.59830508474577: array([-1217.01508547]),\n",
       " 55.78305084745763: array([-1216.73567457]),\n",
       " 56.96779661016949: array([-1216.44394816]),\n",
       " 58.15254237288136: array([-1216.14024001]),\n",
       " 59.33728813559323: array([-1215.82487078]),\n",
       " 60.52203389830509: array([-1215.49814866]),\n",
       " 61.70677966101695: array([-1215.16036998]),\n",
       " 62.89152542372882: array([-1214.8118198]),\n",
       " 64.07627118644068: array([-1214.45277308]),\n",
       " 65.26101694915255: array([-1214.08349306]),\n",
       " 66.4457627118644: array([-1213.70423363]),\n",
       " 67.63050847457627: array([-1213.3152407]),\n",
       " 68.81525423728813: array([-1212.91675078]),\n",
       " 70.0: array([-1212.50898938])}"
      ]
     },
     "execution_count": 34,
     "metadata": {},
     "output_type": "execute_result"
    }
   ],
   "source": [
    "calc._asy_nll"
   ]
  },
  {
   "cell_type": "code",
   "execution_count": 35,
   "metadata": {},
   "outputs": [
    {
     "name": "stdout",
     "output_type": "stream",
     "text": [
      "Get fit best value for parameter interest!\n"
     ]
    },
    {
     "data": {
      "text/html": [
       "<hr>"
      ]
     },
     "metadata": {},
     "output_type": "display_data"
    },
    {
     "data": {
      "text/html": [
       "<table>\n",
       "    <tr>\n",
       "        <td title=\"Minimum value of function\">FCN = -1219.4519138654439</td>\n",
       "        <td title=\"Total number of call to FCN so far\">TOTAL NCALL = 99</td>\n",
       "        <td title=\"Number of call in last migrad\">NCALLS = 99</td>\n",
       "    </tr>\n",
       "    <tr>\n",
       "        <td title=\"Estimated distance to minimum\">EDM = 1.5896462897054049e-06</td>\n",
       "        <td title=\"Maximum EDM definition of convergence\">GOAL EDM = 5e-06</td>\n",
       "        <td title=\"Error def. Amount of increase in FCN to be defined as 1 standard deviation\">\n",
       "        UP = 0.5</td>\n",
       "    </tr>\n",
       "</table>\n",
       "<table>\n",
       "    <tr>\n",
       "        <td align=\"center\" title=\"Validity of the migrad call\">Valid</td>\n",
       "        <td align=\"center\" title=\"Validity of parameters\">Valid Param</td>\n",
       "        <td align=\"center\" title=\"Is Covariance matrix accurate?\">Accurate Covar</td>\n",
       "        <td align=\"center\" title=\"Positive definiteness of covariance matrix\">PosDef</td>\n",
       "        <td align=\"center\" title=\"Was covariance matrix made posdef by adding diagonal element\">Made PosDef</td>\n",
       "    </tr>\n",
       "    <tr>\n",
       "        <td align=\"center\" style=\"background-color:#92CCA6\">True</td>\n",
       "        <td align=\"center\" style=\"background-color:#92CCA6\">True</td>\n",
       "        <td align=\"center\" style=\"background-color:#92CCA6\">True</td>\n",
       "        <td align=\"center\" style=\"background-color:#92CCA6\">True</td>\n",
       "        <td align=\"center\" style=\"background-color:#92CCA6\">False</td>\n",
       "    </tr>\n",
       "    <tr>\n",
       "        <td align=\"center\" title=\"Was last hesse call fail?\">Hesse Fail</td>\n",
       "        <td align=\"center\" title=\"Validity of covariance\">HasCov</td>\n",
       "        <td align=\"center\" title=\"Is EDM above goal EDM?\">Above EDM</td>\n",
       "        <td align=\"center\"></td>\n",
       "        <td align=\"center\" title=\"Did last migrad call reach max call limit?\">Reach calllim</td>\n",
       "    </tr>\n",
       "    <tr>\n",
       "        <td align=\"center\" style=\"background-color:#92CCA6\">False</td>\n",
       "        <td align=\"center\" style=\"background-color:#92CCA6\">True</td>\n",
       "        <td align=\"center\" style=\"background-color:#92CCA6\">False</td>\n",
       "        <td align=\"center\"></td>\n",
       "        <td align=\"center\" style=\"background-color:#92CCA6\">False</td>\n",
       "    </tr>\n",
       "</table>"
      ]
     },
     "metadata": {},
     "output_type": "display_data"
    },
    {
     "data": {
      "text/html": [
       "<table>\n",
       "    <tr>\n",
       "        <td><a href=\"#\" onclick=\"$('#TsnFYmPhCF').toggle()\">+</a></td>\n",
       "        <td title=\"Variable name\">Name</td>\n",
       "        <td title=\"Value of parameter\">Value</td>\n",
       "        <td title=\"Hesse error\">Hesse Error</td>\n",
       "        <td title=\"Minos lower error\">Minos Error-</td>\n",
       "        <td title=\"Minos upper error\">Minos Error+</td>\n",
       "        <td title=\"Lower limit of the parameter\">Limit-</td>\n",
       "        <td title=\"Upper limit of the parameter\">Limit+</td>\n",
       "        <td title=\"Is the parameter fixed in the fit\">Fixed?</td>\n",
       "    </tr>\n",
       "    <tr>\n",
       "        <td>0</td>\n",
       "        <td>mean</td>\n",
       "        <td>1.2</td>\n",
       "        <td>1</td>\n",
       "        <td></td>\n",
       "        <td></td>\n",
       "        <td></td>\n",
       "        <td></td>\n",
       "        <td>Yes</td>\n",
       "    </tr>\n",
       "    <tr>\n",
       "        <td>1</td>\n",
       "        <td>sigma</td>\n",
       "        <td>0.1</td>\n",
       "        <td>1</td>\n",
       "        <td></td>\n",
       "        <td></td>\n",
       "        <td></td>\n",
       "        <td></td>\n",
       "        <td>Yes</td>\n",
       "    </tr>\n",
       "    <tr>\n",
       "        <td>2</td>\n",
       "        <td>Nsig</td>\n",
       "        <td>34.9602</td>\n",
       "        <td>8.22695</td>\n",
       "        <td></td>\n",
       "        <td></td>\n",
       "        <td>-10</td>\n",
       "        <td>286</td>\n",
       "        <td>No</td>\n",
       "    </tr>\n",
       "    <tr>\n",
       "        <td>3</td>\n",
       "        <td>tau</td>\n",
       "        <td>-1.94368</td>\n",
       "        <td>0.14203</td>\n",
       "        <td></td>\n",
       "        <td></td>\n",
       "        <td>-5</td>\n",
       "        <td>-0.1</td>\n",
       "        <td>No</td>\n",
       "    </tr>\n",
       "    <tr>\n",
       "        <td>4</td>\n",
       "        <td>Nbkg</td>\n",
       "        <td>251.011</td>\n",
       "        <td>16.7936</td>\n",
       "        <td></td>\n",
       "        <td></td>\n",
       "        <td>0</td>\n",
       "        <td>314.6</td>\n",
       "        <td>No</td>\n",
       "    </tr>\n",
       "</table>\n",
       "<pre id=\"TsnFYmPhCF\" style=\"display:none;\">\n",
       "<textarea rows=\"16\" cols=\"50\" onclick=\"this.select()\" readonly>\n",
       "\\begin{tabular}{|c|r|r|r|r|r|r|r|c|}\n",
       "\\hline\n",
       " & Name & Value & Hesse Error & Minos Error- & Minos Error+ & Limit- & Limit+ & Fixed?\\\\\n",
       "\\hline\n",
       "0 & mean & 1.2 & 1 &  &  &  &  & Yes\\\\\n",
       "\\hline\n",
       "1 & $\\sigma$ & 0.1 & 1 &  &  &  &  & Yes\\\\\n",
       "\\hline\n",
       "2 & Nsig & 34.9602 & 8.22695 &  &  & -10.0 & 286 & No\\\\\n",
       "\\hline\n",
       "3 & $\\tau$ & -1.94368 & 0.14203 &  &  & -5.0 & -0.1 & No\\\\\n",
       "\\hline\n",
       "4 & Nbkg & 251.011 & 16.7936 &  &  & 0.0 & 314.6 & No\\\\\n",
       "\\hline\n",
       "\\end{tabular}\n",
       "</textarea>\n",
       "</pre>"
      ]
     },
     "metadata": {},
     "output_type": "display_data"
    },
    {
     "data": {
      "text/html": [
       "<hr>"
      ]
     },
     "metadata": {},
     "output_type": "display_data"
    },
    {
     "name": "stdout",
     "output_type": "stream",
     "text": [
      "Observed upper limit: Nsig = 20.130425901004692\n",
      "Expected upper limit: Nsig = 49.71679554623598\n",
      "Expected upper limit +1 sigma: Nsig = 55.47763217035862\n",
      "Expected upper limit -1 sigma: Nsig = 45.60225238787116\n",
      "Expected upper limit +2 sigma: Nsig = 62.451715808247755\n",
      "Expected upper limit -2 sigma: Nsig = 42.89738361177372\n"
     ]
    }
   ],
   "source": [
    "ul = calc.upperlimit()"
   ]
  },
  {
   "cell_type": "code",
   "execution_count": 36,
   "metadata": {},
   "outputs": [
    {
     "data": {
      "image/png": "[encoded data removed]",
      "text/plain": [
       "<Figure size 720x576 with 1 Axes>"
      ]
     },
     "metadata": {},
     "output_type": "display_data"
    }
   ],
   "source": [
    "calc.plot()"
   ]
  },
  {
   "cell_type": "code",
   "execution_count": 37,
   "metadata": {},
   "outputs": [
    {
     "name": "stdout",
     "output_type": "stream",
     "text": [
      "p_value for the Null hypothesis = 7.233419674346209e-08\n",
      "Significance = 5.385274433508559\n",
      "CL_b = 7.233419674346209e-08\n",
      "CL_s+b = 0.5392252409357086\n",
      "CL_s = 7454637.850588233\n"
     ]
    }
   ],
   "source": [
    "calc.result()"
   ]
  },
  {
   "cell_type": "code",
   "execution_count": null,
   "metadata": {},
   "outputs": [],
   "source": []
  }
 ],
 "metadata": {
  "kernelspec": {
   "display_name": "Python 3",
   "language": "python",
   "name": "python3"
  },
  "language_info": {
   "codemirror_mode": {
    "name": "ipython",
    "version": 3
   },
   "file_extension": ".py",
   "mimetype": "text/x-python",
   "name": "python",
   "nbconvert_exporter": "python",
   "pygments_lexer": "ipython3",
   "version": "3.7.0"
  }
 },
 "nbformat": 4,
 "nbformat_minor": 2
}
