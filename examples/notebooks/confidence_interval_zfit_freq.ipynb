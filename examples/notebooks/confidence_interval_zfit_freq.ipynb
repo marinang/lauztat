{
 "cells": [
  {
   "cell_type": "code",
   "execution_count": 1,
   "metadata": {},
   "outputs": [],
   "source": [
    "import numpy as np\n",
    "import matplotlib.pyplot as plt\n",
    "from lauztat.parameters import POI\n",
    "from lauztat.hypotests import ConfidenceInterval\n",
    "from lauztat.calculators import FrequentistCalculator\n",
    "from lauztat.config import Config"
   ]
  },
  {
   "cell_type": "code",
   "execution_count": 2,
   "metadata": {},
   "outputs": [],
   "source": [
    "import zfit\n",
    "from zfit import ztf\n",
    "from zfit.core.loss import ExtendedUnbinnedNLL, UnbinnedNLL\n",
    "from zfit.minimizers.minimizer_minuit import MinuitMinimizer"
   ]
  },
  {
   "cell_type": "code",
   "execution_count": 3,
   "metadata": {},
   "outputs": [
    {
     "data": {
      "image/png": "[encoded data removed]",
      "text/plain": [
       "<Figure size 432x288 with 1 Axes>"
      ]
     },
     "metadata": {
      "needs_background": "light"
     },
     "output_type": "display_data"
    }
   ],
   "source": [
    "bounds = (0.1, 3.0)\n",
    "\n",
    "# Data and signal\n",
    "\n",
    "np.random.seed(0)\n",
    "tau = -2.0\n",
    "beta = -1/tau\n",
    "data = np.random.exponential(beta, 500)\n",
    "peak = np.random.normal(1.2, 0.1, 80)\n",
    "data = np.concatenate((data,peak))\n",
    "data = data[(data > bounds[0]) & (data < bounds[1])]\n",
    "\n",
    "plt.hist(data, bins=100, histtype='step');"
   ]
  },
  {
   "cell_type": "code",
   "execution_count": 4,
   "metadata": {},
   "outputs": [],
   "source": [
    "obs = zfit.Space('x', limits=bounds)"
   ]
  },
  {
   "cell_type": "code",
   "execution_count": 5,
   "metadata": {},
   "outputs": [],
   "source": [
    "mean = zfit.Parameter(\"mean\", 1.2, 0.5, 2.0)\n",
    "sigma = zfit.Parameter(\"sigma\", 0.1, 0.02, 0.2)\n",
    "lambda_ = zfit.Parameter(\"lambda\",-2.0, -4.0, -1.0)\n",
    "Nsig = zfit.Parameter(\"Nsig\", 20., 0., len(data))\n",
    "Nbkg = zfit.Parameter(\"Nbkg\", len(data), 0., len(data)*1.1)"
   ]
  },
  {
   "cell_type": "code",
   "execution_count": 6,
   "metadata": {},
   "outputs": [],
   "source": [
    "signal = Nsig * zfit.pdf.Gauss(obs=obs, mu=mean, sigma=sigma)\n",
    "background =  Nbkg * zfit.pdf.Exponential(obs=obs, lambda_=lambda_)\n",
    "tot_model = signal + background"
   ]
  },
  {
   "cell_type": "code",
   "execution_count": 7,
   "metadata": {},
   "outputs": [],
   "source": [
    "# Create the negative log likelihood\n",
    "from zfit.core.loss import ExtendedUnbinnedNLL, UnbinnedNLL\n",
    "data_ = zfit.data.Data.from_numpy(obs=obs, array=data)\n",
    "nll = ExtendedUnbinnedNLL(model=[tot_model], data=[data_], fit_range=[obs]) "
   ]
  },
  {
   "cell_type": "code",
   "execution_count": 8,
   "metadata": {},
   "outputs": [],
   "source": [
    "# Load and instantiate a tensorflow minimizer\n",
    "from zfit.minimizers.minimizer_minuit import MinuitMinimizer\n",
    "minimizer = MinuitMinimizer()"
   ]
  },
  {
   "cell_type": "code",
   "execution_count": 9,
   "metadata": {},
   "outputs": [
    {
     "data": {
      "text/html": [
       "<hr>"
      ]
     },
     "metadata": {},
     "output_type": "display_data"
    },
    {
     "data": {
      "text/html": [
       "<table>\n",
       "    <tr>\n",
       "        <td title=\"Minimum value of function\">FCN = -2349.867005048798</td>\n",
       "        <td title=\"Total number of call to FCN so far\">TOTAL NCALL = 143</td>\n",
       "        <td title=\"Number of call in last migrad\">NCALLS = 143</td>\n",
       "    </tr>\n",
       "    <tr>\n",
       "        <td title=\"Estimated distance to minimum\">EDM = 9.918945708411032e-06</td>\n",
       "        <td title=\"Maximum EDM definition of convergence\">GOAL EDM = 5e-06</td>\n",
       "        <td title=\"Error def. Amount of increase in FCN to be defined as 1 standard deviation\">\n",
       "        UP = 0.5</td>\n",
       "    </tr>\n",
       "</table>\n",
       "<table>\n",
       "    <tr>\n",
       "        <td align=\"center\" title=\"Validity of the migrad call\">Valid</td>\n",
       "        <td align=\"center\" title=\"Validity of parameters\">Valid Param</td>\n",
       "        <td align=\"center\" title=\"Is Covariance matrix accurate?\">Accurate Covar</td>\n",
       "        <td align=\"center\" title=\"Positive definiteness of covariance matrix\">PosDef</td>\n",
       "        <td align=\"center\" title=\"Was covariance matrix made posdef by adding diagonal element\">Made PosDef</td>\n",
       "    </tr>\n",
       "    <tr>\n",
       "        <td align=\"center\" style=\"background-color:#92CCA6\">True</td>\n",
       "        <td align=\"center\" style=\"background-color:#92CCA6\">True</td>\n",
       "        <td align=\"center\" style=\"background-color:#92CCA6\">True</td>\n",
       "        <td align=\"center\" style=\"background-color:#92CCA6\">True</td>\n",
       "        <td align=\"center\" style=\"background-color:#92CCA6\">False</td>\n",
       "    </tr>\n",
       "    <tr>\n",
       "        <td align=\"center\" title=\"Was last hesse call fail?\">Hesse Fail</td>\n",
       "        <td align=\"center\" title=\"Validity of covariance\">HasCov</td>\n",
       "        <td align=\"center\" title=\"Is EDM above goal EDM?\">Above EDM</td>\n",
       "        <td align=\"center\"></td>\n",
       "        <td align=\"center\" title=\"Did last migrad call reach max call limit?\">Reach calllim</td>\n",
       "    </tr>\n",
       "    <tr>\n",
       "        <td align=\"center\" style=\"background-color:#92CCA6\">False</td>\n",
       "        <td align=\"center\" style=\"background-color:#92CCA6\">True</td>\n",
       "        <td align=\"center\" style=\"background-color:#92CCA6\">False</td>\n",
       "        <td align=\"center\"></td>\n",
       "        <td align=\"center\" style=\"background-color:#92CCA6\">False</td>\n",
       "    </tr>\n",
       "</table>"
      ]
     },
     "metadata": {},
     "output_type": "display_data"
    },
    {
     "data": {
      "text/html": [
       "<table>\n",
       "    <tr>\n",
       "        <td><a href=\"#\" onclick=\"$('#AvqwhePuca').toggle()\">+</a></td>\n",
       "        <td title=\"Variable name\">Name</td>\n",
       "        <td title=\"Value of parameter\">Value</td>\n",
       "        <td title=\"Hesse error\">Hesse Error</td>\n",
       "        <td title=\"Minos lower error\">Minos Error-</td>\n",
       "        <td title=\"Minos upper error\">Minos Error+</td>\n",
       "        <td title=\"Lower limit of the parameter\">Limit-</td>\n",
       "        <td title=\"Upper limit of the parameter\">Limit+</td>\n",
       "        <td title=\"Is the parameter fixed in the fit\">Fixed?</td>\n",
       "    </tr>\n",
       "    <tr>\n",
       "        <td>0</td>\n",
       "        <td>Nsig</td>\n",
       "        <td>73.9472</td>\n",
       "        <td>13.1696</td>\n",
       "        <td></td>\n",
       "        <td></td>\n",
       "        <td>0</td>\n",
       "        <td>490</td>\n",
       "        <td>No</td>\n",
       "    </tr>\n",
       "    <tr>\n",
       "        <td>1</td>\n",
       "        <td>sigma</td>\n",
       "        <td>0.0995561</td>\n",
       "        <td>0.0208004</td>\n",
       "        <td></td>\n",
       "        <td></td>\n",
       "        <td>0.02</td>\n",
       "        <td>0.2</td>\n",
       "        <td>No</td>\n",
       "    </tr>\n",
       "    <tr>\n",
       "        <td>2</td>\n",
       "        <td>lambda</td>\n",
       "        <td>-1.94354</td>\n",
       "        <td>0.119207</td>\n",
       "        <td></td>\n",
       "        <td></td>\n",
       "        <td>-4</td>\n",
       "        <td>-1</td>\n",
       "        <td>No</td>\n",
       "    </tr>\n",
       "    <tr>\n",
       "        <td>3</td>\n",
       "        <td>Nbkg</td>\n",
       "        <td>416.003</td>\n",
       "        <td>22.6612</td>\n",
       "        <td></td>\n",
       "        <td></td>\n",
       "        <td>0</td>\n",
       "        <td>539</td>\n",
       "        <td>No</td>\n",
       "    </tr>\n",
       "    <tr>\n",
       "        <td>4</td>\n",
       "        <td>mean</td>\n",
       "        <td>1.20665</td>\n",
       "        <td>0.0178914</td>\n",
       "        <td></td>\n",
       "        <td></td>\n",
       "        <td>0.5</td>\n",
       "        <td>2</td>\n",
       "        <td>No</td>\n",
       "    </tr>\n",
       "</table>\n",
       "<pre id=\"AvqwhePuca\" style=\"display:none;\">\n",
       "<textarea rows=\"16\" cols=\"50\" onclick=\"this.select()\" readonly>\n",
       "\\begin{tabular}{|c|r|r|r|r|r|r|r|c|}\n",
       "\\hline\n",
       " & Name & Value & Hesse Error & Minos Error- & Minos Error+ & Limit- & Limit+ & Fixed?\\\\\n",
       "\\hline\n",
       "0 & Nsig & 73.9472 & 13.1696 &  &  & 0.0 & 490 & No\\\\\n",
       "\\hline\n",
       "1 & $\\sigma$ & 0.0995561 & 0.0208004 &  &  & 0.019999999552965164 & 0.2 & No\\\\\n",
       "\\hline\n",
       "2 & $\\lambda$ & -1.94354 & 0.119207 &  &  & -4.0 & -1 & No\\\\\n",
       "\\hline\n",
       "3 & Nbkg & 416.003 & 22.6612 &  &  & 0.0 & 539 & No\\\\\n",
       "\\hline\n",
       "4 & mean & 1.20665 & 0.0178914 &  &  & 0.5 & 2 & No\\\\\n",
       "\\hline\n",
       "\\end{tabular}\n",
       "</textarea>\n",
       "</pre>"
      ]
     },
     "metadata": {},
     "output_type": "display_data"
    },
    {
     "data": {
      "text/html": [
       "<hr>"
      ]
     },
     "metadata": {},
     "output_type": "display_data"
    }
   ],
   "source": [
    "# Create the minimization graph to minimize mu and sigma and run it (minimize does it directly)\n",
    "minimum = minimizer.minimize(loss=nll)"
   ]
  },
  {
   "cell_type": "code",
   "execution_count": 10,
   "metadata": {},
   "outputs": [],
   "source": [
    "def plotfitresult(pdf, bounds, nbins, data):\n",
    "    x = np.linspace(*bounds, num=1000)\n",
    "    pdf = zfit.run(tot_model.pdf(x, norm_range=bounds))\n",
    "    _ = plt.plot(x, ((bounds[1] - bounds[0])/nbins)*(pdf), \"-r\")  "
   ]
  },
  {
   "cell_type": "code",
   "execution_count": 11,
   "metadata": {},
   "outputs": [
    {
     "data": {
      "image/png": "[encoded data removed]",
      "text/plain": [
       "<Figure size 432x288 with 1 Axes>"
      ]
     },
     "metadata": {
      "needs_background": "light"
     },
     "output_type": "display_data"
    }
   ],
   "source": [
    "nbins = 80\n",
    "plt.hist(data, bins=nbins, histtype='step', range=bounds);\n",
    "plotfitresult(tot_model, bounds, nbins, data)"
   ]
  },
  {
   "cell_type": "markdown",
   "metadata": {},
   "source": [
    "## Confidence interval on mean."
   ]
  },
  {
   "cell_type": "code",
   "execution_count": 12,
   "metadata": {},
   "outputs": [],
   "source": [
    "def lossbuilder(model, data, weights=None):\n",
    "    loss = ExtendedUnbinnedNLL(model=model, data=data, fit_range=[obs]) \n",
    "    return loss\n",
    "    \n",
    "config = Config(tot_model, data_, lossbuilder, MinuitMinimizer())"
   ]
  },
  {
   "cell_type": "code",
   "execution_count": 13,
   "metadata": {},
   "outputs": [
    {
     "name": "stdout",
     "output_type": "stream",
     "text": [
      "Get fit best values!\n"
     ]
    },
    {
     "data": {
      "text/html": [
       "<hr>"
      ]
     },
     "metadata": {},
     "output_type": "display_data"
    },
    {
     "data": {
      "text/html": [
       "<table>\n",
       "    <tr>\n",
       "        <td title=\"Minimum value of function\">FCN = -2349.8670096554492</td>\n",
       "        <td title=\"Total number of call to FCN so far\">TOTAL NCALL = 62</td>\n",
       "        <td title=\"Number of call in last migrad\">NCALLS = 62</td>\n",
       "    </tr>\n",
       "    <tr>\n",
       "        <td title=\"Estimated distance to minimum\">EDM = 5.3077258638471205e-06</td>\n",
       "        <td title=\"Maximum EDM definition of convergence\">GOAL EDM = 5e-06</td>\n",
       "        <td title=\"Error def. Amount of increase in FCN to be defined as 1 standard deviation\">\n",
       "        UP = 0.5</td>\n",
       "    </tr>\n",
       "</table>\n",
       "<table>\n",
       "    <tr>\n",
       "        <td align=\"center\" title=\"Validity of the migrad call\">Valid</td>\n",
       "        <td align=\"center\" title=\"Validity of parameters\">Valid Param</td>\n",
       "        <td align=\"center\" title=\"Is Covariance matrix accurate?\">Accurate Covar</td>\n",
       "        <td align=\"center\" title=\"Positive definiteness of covariance matrix\">PosDef</td>\n",
       "        <td align=\"center\" title=\"Was covariance matrix made posdef by adding diagonal element\">Made PosDef</td>\n",
       "    </tr>\n",
       "    <tr>\n",
       "        <td align=\"center\" style=\"background-color:#92CCA6\">True</td>\n",
       "        <td align=\"center\" style=\"background-color:#92CCA6\">True</td>\n",
       "        <td align=\"center\" style=\"background-color:#92CCA6\">True</td>\n",
       "        <td align=\"center\" style=\"background-color:#92CCA6\">True</td>\n",
       "        <td align=\"center\" style=\"background-color:#92CCA6\">False</td>\n",
       "    </tr>\n",
       "    <tr>\n",
       "        <td align=\"center\" title=\"Was last hesse call fail?\">Hesse Fail</td>\n",
       "        <td align=\"center\" title=\"Validity of covariance\">HasCov</td>\n",
       "        <td align=\"center\" title=\"Is EDM above goal EDM?\">Above EDM</td>\n",
       "        <td align=\"center\"></td>\n",
       "        <td align=\"center\" title=\"Did last migrad call reach max call limit?\">Reach calllim</td>\n",
       "    </tr>\n",
       "    <tr>\n",
       "        <td align=\"center\" style=\"background-color:#92CCA6\">False</td>\n",
       "        <td align=\"center\" style=\"background-color:#92CCA6\">True</td>\n",
       "        <td align=\"center\" style=\"background-color:#92CCA6\">False</td>\n",
       "        <td align=\"center\"></td>\n",
       "        <td align=\"center\" style=\"background-color:#92CCA6\">False</td>\n",
       "    </tr>\n",
       "</table>"
      ]
     },
     "metadata": {},
     "output_type": "display_data"
    },
    {
     "data": {
      "text/html": [
       "<table>\n",
       "    <tr>\n",
       "        <td><a href=\"#\" onclick=\"$('#ObEWAUPJgg').toggle()\">+</a></td>\n",
       "        <td title=\"Variable name\">Name</td>\n",
       "        <td title=\"Value of parameter\">Value</td>\n",
       "        <td title=\"Hesse error\">Hesse Error</td>\n",
       "        <td title=\"Minos lower error\">Minos Error-</td>\n",
       "        <td title=\"Minos upper error\">Minos Error+</td>\n",
       "        <td title=\"Lower limit of the parameter\">Limit-</td>\n",
       "        <td title=\"Upper limit of the parameter\">Limit+</td>\n",
       "        <td title=\"Is the parameter fixed in the fit\">Fixed?</td>\n",
       "    </tr>\n",
       "    <tr>\n",
       "        <td>0</td>\n",
       "        <td>Nsig</td>\n",
       "        <td>73.9472</td>\n",
       "        <td>13.1695</td>\n",
       "        <td></td>\n",
       "        <td></td>\n",
       "        <td>0</td>\n",
       "        <td>490</td>\n",
       "        <td>No</td>\n",
       "    </tr>\n",
       "    <tr>\n",
       "        <td>1</td>\n",
       "        <td>sigma</td>\n",
       "        <td>0.0995384</td>\n",
       "        <td>0.020794</td>\n",
       "        <td></td>\n",
       "        <td></td>\n",
       "        <td>0.02</td>\n",
       "        <td>0.2</td>\n",
       "        <td>No</td>\n",
       "    </tr>\n",
       "    <tr>\n",
       "        <td>2</td>\n",
       "        <td>lambda</td>\n",
       "        <td>-1.94355</td>\n",
       "        <td>0.119204</td>\n",
       "        <td></td>\n",
       "        <td></td>\n",
       "        <td>-4</td>\n",
       "        <td>-1</td>\n",
       "        <td>No</td>\n",
       "    </tr>\n",
       "    <tr>\n",
       "        <td>3</td>\n",
       "        <td>Nbkg</td>\n",
       "        <td>416.003</td>\n",
       "        <td>22.686</td>\n",
       "        <td></td>\n",
       "        <td></td>\n",
       "        <td>0</td>\n",
       "        <td>539</td>\n",
       "        <td>No</td>\n",
       "    </tr>\n",
       "    <tr>\n",
       "        <td>4</td>\n",
       "        <td>mean</td>\n",
       "        <td>1.20658</td>\n",
       "        <td>0.0178857</td>\n",
       "        <td></td>\n",
       "        <td></td>\n",
       "        <td>0.5</td>\n",
       "        <td>2</td>\n",
       "        <td>No</td>\n",
       "    </tr>\n",
       "</table>\n",
       "<pre id=\"ObEWAUPJgg\" style=\"display:none;\">\n",
       "<textarea rows=\"16\" cols=\"50\" onclick=\"this.select()\" readonly>\n",
       "\\begin{tabular}{|c|r|r|r|r|r|r|r|c|}\n",
       "\\hline\n",
       " & Name & Value & Hesse Error & Minos Error- & Minos Error+ & Limit- & Limit+ & Fixed?\\\\\n",
       "\\hline\n",
       "0 & Nsig & 73.9472 & 13.1695 &  &  & 0.0 & 490 & No\\\\\n",
       "\\hline\n",
       "1 & $\\sigma$ & 0.0995384 & 0.020794 &  &  & 0.019999999552965164 & 0.2 & No\\\\\n",
       "\\hline\n",
       "2 & $\\lambda$ & -1.94355 & 0.119204 &  &  & -4.0 & -1 & No\\\\\n",
       "\\hline\n",
       "3 & Nbkg & 416.003 & 22.686 &  &  & 0.0 & 539 & No\\\\\n",
       "\\hline\n",
       "4 & mean & 1.20658 & 0.0178857 &  &  & 0.5 & 2 & No\\\\\n",
       "\\hline\n",
       "\\end{tabular}\n",
       "</textarea>\n",
       "</pre>"
      ]
     },
     "metadata": {},
     "output_type": "display_data"
    },
    {
     "data": {
      "text/html": [
       "<hr>"
      ]
     },
     "metadata": {},
     "output_type": "display_data"
    },
    {
     "data": {
      "text/plain": [
       "<zfit.minimizers.fitresult.FitResult at 0x1a3b771cc0>"
      ]
     },
     "execution_count": 13,
     "metadata": {},
     "output_type": "execute_result"
    }
   ],
   "source": [
    "config.bestfit"
   ]
  },
  {
   "cell_type": "code",
   "execution_count": 14,
   "metadata": {},
   "outputs": [],
   "source": [
    "calc = FrequentistCalculator(config, ntoysnull=500, ntoysalt=500)"
   ]
  },
  {
   "cell_type": "code",
   "execution_count": 15,
   "metadata": {},
   "outputs": [],
   "source": [
    "poinull = POI(mean, value=np.linspace(1.15, 1.26, 20))\n",
    "poialt = POI(mean, value=minimum.params[mean][\"value\"])\n",
    "ci_test = ConfidenceInterval(poinull, poialt, calc, qtilde=False)"
   ]
  },
  {
   "cell_type": "code",
   "execution_count": 16,
   "metadata": {},
   "outputs": [
    {
     "name": "stdout",
     "output_type": "stream",
     "text": [
      "Compute qobs for the null hypothesis!\n",
      "Generating null hypothesis toys for POI('mean', value=1.15).\n",
      "0 toys generated, fitted and scanned!\n",
      "100 toys generated, fitted and scanned!\n",
      "200 toys generated, fitted and scanned!\n",
      "300 toys generated, fitted and scanned!\n",
      "400 toys generated, fitted and scanned!\n",
      "Generating null hypothesis toys for POI('mean', value=1.1557894736842105).\n",
      "0 toys generated, fitted and scanned!\n",
      "100 toys generated, fitted and scanned!\n",
      "200 toys generated, fitted and scanned!\n",
      "300 toys generated, fitted and scanned!\n",
      "400 toys generated, fitted and scanned!\n",
      "Generating null hypothesis toys for POI('mean', value=1.161578947368421).\n",
      "0 toys generated, fitted and scanned!\n",
      "100 toys generated, fitted and scanned!\n",
      "200 toys generated, fitted and scanned!\n",
      "300 toys generated, fitted and scanned!\n",
      "400 toys generated, fitted and scanned!\n",
      "Generating null hypothesis toys for POI('mean', value=1.1673684210526316).\n",
      "0 toys generated, fitted and scanned!\n",
      "100 toys generated, fitted and scanned!\n",
      "200 toys generated, fitted and scanned!\n",
      "300 toys generated, fitted and scanned!\n",
      "400 toys generated, fitted and scanned!\n",
      "Generating null hypothesis toys for POI('mean', value=1.173157894736842).\n",
      "0 toys generated, fitted and scanned!\n",
      "100 toys generated, fitted and scanned!\n",
      "200 toys generated, fitted and scanned!\n",
      "300 toys generated, fitted and scanned!\n",
      "400 toys generated, fitted and scanned!\n",
      "Generating null hypothesis toys for POI('mean', value=1.1789473684210525).\n",
      "0 toys generated, fitted and scanned!\n",
      "100 toys generated, fitted and scanned!\n",
      "200 toys generated, fitted and scanned!\n",
      "300 toys generated, fitted and scanned!\n",
      "400 toys generated, fitted and scanned!\n",
      "Generating null hypothesis toys for POI('mean', value=1.184736842105263).\n",
      "0 toys generated, fitted and scanned!\n",
      "100 toys generated, fitted and scanned!\n",
      "200 toys generated, fitted and scanned!\n",
      "300 toys generated, fitted and scanned!\n",
      "400 toys generated, fitted and scanned!\n",
      "Generating null hypothesis toys for POI('mean', value=1.1905263157894737).\n",
      "0 toys generated, fitted and scanned!\n",
      "100 toys generated, fitted and scanned!\n",
      "200 toys generated, fitted and scanned!\n",
      "300 toys generated, fitted and scanned!\n",
      "400 toys generated, fitted and scanned!\n",
      "Generating null hypothesis toys for POI('mean', value=1.1963157894736842).\n",
      "0 toys generated, fitted and scanned!\n",
      "100 toys generated, fitted and scanned!\n",
      "200 toys generated, fitted and scanned!\n",
      "300 toys generated, fitted and scanned!\n",
      "400 toys generated, fitted and scanned!\n",
      "Generating null hypothesis toys for POI('mean', value=1.2021052631578948).\n",
      "0 toys generated, fitted and scanned!\n",
      "100 toys generated, fitted and scanned!\n",
      "200 toys generated, fitted and scanned!\n",
      "300 toys generated, fitted and scanned!\n",
      "400 toys generated, fitted and scanned!\n",
      "Generating null hypothesis toys for POI('mean', value=1.2078947368421051).\n",
      "0 toys generated, fitted and scanned!\n",
      "100 toys generated, fitted and scanned!\n",
      "200 toys generated, fitted and scanned!\n",
      "300 toys generated, fitted and scanned!\n",
      "400 toys generated, fitted and scanned!\n",
      "Generating null hypothesis toys for POI('mean', value=1.2136842105263157).\n",
      "0 toys generated, fitted and scanned!\n",
      "100 toys generated, fitted and scanned!\n",
      "200 toys generated, fitted and scanned!\n",
      "300 toys generated, fitted and scanned!\n",
      "400 toys generated, fitted and scanned!\n",
      "Generating null hypothesis toys for POI('mean', value=1.2194736842105263).\n",
      "0 toys generated, fitted and scanned!\n",
      "100 toys generated, fitted and scanned!\n",
      "200 toys generated, fitted and scanned!\n",
      "300 toys generated, fitted and scanned!\n",
      "400 toys generated, fitted and scanned!\n",
      "Generating null hypothesis toys for POI('mean', value=1.2252631578947368).\n",
      "0 toys generated, fitted and scanned!\n",
      "100 toys generated, fitted and scanned!\n",
      "200 toys generated, fitted and scanned!\n",
      "300 toys generated, fitted and scanned!\n",
      "400 toys generated, fitted and scanned!\n",
      "Generating null hypothesis toys for POI('mean', value=1.2310526315789474).\n",
      "0 toys generated, fitted and scanned!\n",
      "100 toys generated, fitted and scanned!\n",
      "200 toys generated, fitted and scanned!\n",
      "300 toys generated, fitted and scanned!\n",
      "400 toys generated, fitted and scanned!\n",
      "Generating null hypothesis toys for POI('mean', value=1.236842105263158).\n",
      "0 toys generated, fitted and scanned!\n",
      "100 toys generated, fitted and scanned!\n",
      "200 toys generated, fitted and scanned!\n",
      "300 toys generated, fitted and scanned!\n",
      "400 toys generated, fitted and scanned!\n",
      "Generating null hypothesis toys for POI('mean', value=1.2426315789473685).\n",
      "0 toys generated, fitted and scanned!\n",
      "100 toys generated, fitted and scanned!\n",
      "200 toys generated, fitted and scanned!\n",
      "300 toys generated, fitted and scanned!\n",
      "400 toys generated, fitted and scanned!\n",
      "Generating null hypothesis toys for POI('mean', value=1.2484210526315789).\n",
      "0 toys generated, fitted and scanned!\n",
      "100 toys generated, fitted and scanned!\n",
      "200 toys generated, fitted and scanned!\n",
      "300 toys generated, fitted and scanned!\n",
      "400 toys generated, fitted and scanned!\n",
      "Generating null hypothesis toys for POI('mean', value=1.2542105263157894).\n",
      "0 toys generated, fitted and scanned!\n",
      "100 toys generated, fitted and scanned!\n",
      "200 toys generated, fitted and scanned!\n",
      "300 toys generated, fitted and scanned!\n",
      "400 toys generated, fitted and scanned!\n",
      "Generating null hypothesis toys for POI('mean', value=1.26).\n",
      "0 toys generated, fitted and scanned!\n",
      "100 toys generated, fitted and scanned!\n",
      "200 toys generated, fitted and scanned!\n",
      "300 toys generated, fitted and scanned!\n",
      "400 toys generated, fitted and scanned!\n",
      "Generating alt hypothesis toys for POI('mean', value=1.2066471898401296).\n",
      "0 toys generated, fitted and scanned!\n",
      "100 toys generated, fitted and scanned!\n",
      "200 toys generated, fitted and scanned!\n",
      "300 toys generated, fitted and scanned!\n",
      "400 toys generated, fitted and scanned!\n",
      "Confidence interval on mean:\n",
      "\t1.1902933093069308 < mean < 1.2251970495196036 at 0.68% C.L.\n"
     ]
    },
    {
     "data": {
      "text/plain": [
       "{'observed': 1.2066471898401296,\n",
       " 'band_p': 1.2251970495196036,\n",
       " 'band_m': 1.1902933093069308}"
      ]
     },
     "execution_count": 16,
     "metadata": {},
     "output_type": "execute_result"
    }
   ],
   "source": [
    "ci_test.interval()"
   ]
  },
  {
   "cell_type": "code",
   "execution_count": 17,
   "metadata": {},
   "outputs": [
    {
     "data": {
      "image/png": "[encoded data removed]",
      "text/plain": [
       "<Figure size 720x576 with 1 Axes>"
      ]
     },
     "metadata": {
      "needs_background": "light"
     },
     "output_type": "display_data"
    }
   ],
   "source": [
    "ci_test.plot()"
   ]
  },
  {
   "cell_type": "code",
   "execution_count": null,
   "metadata": {},
   "outputs": [],
   "source": []
  }
 ],
 "metadata": {
  "kernelspec": {
   "display_name": "Python 3",
   "language": "python",
   "name": "python3"
  },
  "language_info": {
   "codemirror_mode": {
    "name": "ipython",
    "version": 3
   },
   "file_extension": ".py",
   "mimetype": "text/x-python",
   "name": "python",
   "nbconvert_exporter": "python",
   "pygments_lexer": "ipython3",
   "version": "3.6.7"
  }
 },
 "nbformat": 4,
 "nbformat_minor": 2
}
